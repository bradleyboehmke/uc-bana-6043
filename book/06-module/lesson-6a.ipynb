{
 "cells": [
  {
   "cell_type": "markdown",
   "metadata": {},
   "source": [
    "# Lession 6a: Conditional statements\n",
    "\n",
    "Conditional statements are a key part of any programming language.  Their purpose is to evaluate if some condition holds and then execute a particular task depending on the result.  The most common conditional statements are `if`, `elif`, and `else` statements. In this lesson we'll cover each of these along with a few additional applications of conditional statements."
   ]
  },
  {
   "cell_type": "markdown",
   "metadata": {},
   "source": [
    "```{admonition} Video 🎥:\n",
    "Get introduced to conditional statements with this intro video and then read the lesson that follows to learn more and to get some hands-on practice.\n",
    "\n",
    "<iframe width=\"560\" height=\"315\" src=\"https://www.youtube.com/embed/DZwmZ8Usvnk\" title=\"YouTube video player\" frameborder=\"0\" allow=\"accelerometer; autoplay; clipboard-write; encrypted-media; gyroscope; picture-in-picture\" allowfullscreen></iframe>\n",
    "```"
   ]
  },
  {
   "cell_type": "markdown",
   "metadata": {},
   "source": [
    "## Learning objectives\n",
    "\n",
    "By the end of this lesson you will be able to:\n",
    "\n",
    "1. Apply basic `if` statements along with additional multi-branching statements (i.e. `if...elif...else`).\n",
    "2. Create Pythonic versions of switch statements.\n",
    "3. Apply vectorized conditional statements on Pandas DataFrames."
   ]
  },
  {
   "cell_type": "markdown",
   "metadata": {},
   "source": [
    "## Prerequisites\n",
    "\n",
    "Most of the examples in this lesson use base Python code without any modules; however, we will illustrate some examples of integrating control statements within Pandas. We also illustrate a couple examples that use Numpy."
   ]
  },
  {
   "cell_type": "code",
   "execution_count": 9,
   "metadata": {},
   "outputs": [],
   "source": [
    "import pandas as pd\n",
    "import numpy as np"
   ]
  },
  {
   "cell_type": "markdown",
   "metadata": {},
   "source": [
    "Also, most of the examples use toy data; however, when illustrating concepts integrated with Pandas we will use the  Complete Journey transaction data:"
   ]
  },
  {
   "cell_type": "code",
   "execution_count": 10,
   "metadata": {},
   "outputs": [],
   "source": [
    "from completejourney_py import get_data\n",
    "\n",
    "df = get_data()['transactions']"
   ]
  },
  {
   "cell_type": "markdown",
   "metadata": {},
   "source": [
    "## if statement\n",
    "\n",
    "The conditional `if` statement is used to test an expression. If the `test_expression` is `True`, the statement gets executed. But if it’s `False`, nothing happens.\n",
    "\n",
    "```python\n",
    "if test_expression:\n",
    "    statement\n",
    "```\n",
    "\n",
    "The following is an example that tests if a particular object is negative. Notice that there are no braces or \"begin/end\" delimiters around the block of code. Python uses the indentation to determine blocks of code. Consequently, you can include multiple lines in the if statement as long as they have the same indentation."
   ]
  },
  {
   "cell_type": "code",
   "execution_count": 2,
   "metadata": {},
   "outputs": [
    {
     "name": "stdout",
     "output_type": "stream",
     "text": [
      "x contains a negative number\n"
     ]
    }
   ],
   "source": [
    "x = -8\n",
    "\n",
    "if x < 0:\n",
    "    print('x contains a negative number')"
   ]
  },
  {
   "cell_type": "code",
   "execution_count": 3,
   "metadata": {},
   "outputs": [
    {
     "name": "stdout",
     "output_type": "stream",
     "text": [
      "absolute value of x is 8\n"
     ]
    }
   ],
   "source": [
    "# multiple lines in the statement are fine as long as they have the \n",
    "# same indentation\n",
    "if x < 0:\n",
    "    new_value = abs(x)\n",
    "    print(f'absolute value of x is {new_value}')"
   ]
  },
  {
   "cell_type": "markdown",
   "metadata": {},
   "source": [
    "It is possible to write very short `if` statements on one line. This can be useful in limited situations but as soon as your resulting statement become more verbose it is best practice to switch to a multi-line approach."
   ]
  },
  {
   "cell_type": "code",
   "execution_count": 4,
   "metadata": {},
   "outputs": [
    {
     "name": "stdout",
     "output_type": "stream",
     "text": [
      "x contains a negative number\n"
     ]
    }
   ],
   "source": [
    "# single line approach\n",
    "if x < 0: print('x contains a negative number')"
   ]
  },
  {
   "cell_type": "markdown",
   "metadata": {},
   "source": [
    "Its helpful to remember that everything in Python has some form of truthiness. In fact, any nonzero number or nonempty object is `True`. This allows you to evaluate the object directly:"
   ]
  },
  {
   "cell_type": "code",
   "execution_count": 5,
   "metadata": {},
   "outputs": [],
   "source": [
    "# a conditional statement on an empty object is equivalent to False\n",
    "empty_list = []\n",
    "if empty_list:\n",
    "    print(\"since empty_list is False this won't exectute\")"
   ]
  },
  {
   "cell_type": "code",
   "execution_count": 6,
   "metadata": {},
   "outputs": [
    {
     "name": "stdout",
     "output_type": "stream",
     "text": [
      "This list is not empty\n"
     ]
    }
   ],
   "source": [
    "# a conditional statement on a non-empty object is equivalent to True\n",
    "non_empty_list = ['not', 'empty']\n",
    "if non_empty_list:\n",
    "    print(\"This list is not empty\")"
   ]
  },
  {
   "cell_type": "markdown",
   "metadata": {},
   "source": [
    "Python uses `and` and `or` operators to evaluate multiple expressions. They always return a single `True` or `False`. Moreover, Python will stop evaluating multiple expressions as soon as the result is known."
   ]
  },
  {
   "cell_type": "code",
   "execution_count": 7,
   "metadata": {},
   "outputs": [
    {
     "name": "stdout",
     "output_type": "stream",
     "text": [
      "At least one of these objects are less than zero.\n"
     ]
    }
   ],
   "source": [
    "x = -1\n",
    "y = 4\n",
    "if x < 0 or y < 0:\n",
    "    print('At least one of these objects are less than zero.')"
   ]
  },
  {
   "cell_type": "code",
   "execution_count": 8,
   "metadata": {},
   "outputs": [],
   "source": [
    "if x < 0 and y < 0:\n",
    "    print('Both x and y or less than zero')"
   ]
  },
  {
   "cell_type": "markdown",
   "metadata": {},
   "source": [
    "### Knowledge check\n",
    "\n",
    "```{admonition} Tasks:\n",
    ":class: attention\n",
    "Fill in the following code chunk so that:\n",
    "\n",
    "* If month has value 1-9 the file name printed out will be \"data/Month-0X.csv\"\n",
    "* What happens if the month value is 10-12?\n",
    "\n",
    "    ```python\n",
    "    month = 4\n",
    "\n",
    "    if month ________ :\n",
    "        print(f'data/Month-0{month}.csv')\n",
    "```"
   ]
  },
  {
   "cell_type": "markdown",
   "metadata": {},
   "source": [
    "## Multiway branching\n",
    "\n",
    "Multiway branching is when we want to have multiple return statement options based on the input conditions. The general form of multiway branch `if` statements is as follows.\n",
    "\n",
    "```{note}\n",
    "The `elif` block is not necessary. If you want only two output branches then just use `if` followed by `else`. However, if you have many branches, you can use as many `elif` statements as necessary.\n",
    "```\n",
    "```python\n",
    "if test_1:\n",
    "  statement_1\n",
    "elif test2:\n",
    "  statement_2\n",
    "else:\n",
    "  statement_3\n",
    "```\n",
    "\n",
    "The following illustrates with a simple example. Python will perform this code in sequence and execute the statements nested under the first test that is `True` or the `else` if all tests are `False`."
   ]
  },
  {
   "cell_type": "code",
   "execution_count": 9,
   "metadata": {},
   "outputs": [
    {
     "name": "stdout",
     "output_type": "stream",
     "text": [
      "medium\n"
     ]
    }
   ],
   "source": [
    "x = 22.50\n",
    "\n",
    "if 0 <= x < 10:\n",
    "    print('low')\n",
    "elif 10 <= x < 20:\n",
    "    print('medium-low')\n",
    "elif 20 <= x < 30:\n",
    "    print('medium')\n",
    "else:\n",
    "    print('preferred')"
   ]
  },
  {
   "cell_type": "markdown",
   "metadata": {},
   "source": [
    "### Knowledge check\n",
    "\n",
    "```{admonition} Tasks:\n",
    ":class: attention\n",
    "Fill in the following code chunk so that:\n",
    "\n",
    "* if month has value 1-9 the file name printed out will be \"data/month-0X.csv\"\n",
    "* if month has value 10-12 the file name printed out will be \"data/month-1X.csv\"\n",
    "* if month is an invalid month number (not 1-12), the result printed out is \"Invalid month\"\n",
    "* test it out for when month equals 6, 10, & 13\n",
    "\n",
    "    ```python\n",
    "    month = 4\n",
    "\n",
    "    if month ________:\n",
    "        print(f'data/Month-0{month}.csv')\n",
    "    _____:\n",
    "        print(f'data/Month-{month}.csv')\n",
    "    _____:\n",
    "        print('________')\n",
    "```"
   ]
  },
  {
   "cell_type": "markdown",
   "metadata": {},
   "source": [
    "## Switch statements\n",
    "\n",
    "Many other languages have a `switch` or `case` statement that allows you to evaluate an expression and return the statement that aligns with the value. For example, in R, the `switch` statement looks like the following:\n",
    "\n",
    "```r\n",
    "choice <- 'ham'\n",
    "\n",
    "switch(choice,\n",
    "       'spam'  = 1.25,\n",
    "       'ham'   = 1.99,\n",
    "       'eggs'  = 0.99,\n",
    "       'bacon' = 1.10,\n",
    ")\n",
    "## [1] 1.99\n",
    "```\n",
    "\n",
    "Python does not have `switch` statement but has some handy alternatives. In the most basic approach, you could just use a multiway branch `if` statement:"
   ]
  },
  {
   "cell_type": "code",
   "execution_count": 10,
   "metadata": {},
   "outputs": [
    {
     "name": "stdout",
     "output_type": "stream",
     "text": [
      "1.99\n"
     ]
    }
   ],
   "source": [
    "choice = 'ham'\n",
    "\n",
    "if choice == 'spam':\n",
    "    print(1.25)\n",
    "elif choice == 'ham':\n",
    "    print(1.99)\n",
    "elif choice == 'eggs':\n",
    "    print(0.99)\n",
    "elif choice == 'bacon':\n",
    "    print(1.10)\n",
    "else:\n",
    "    print('Bad choice')"
   ]
  },
  {
   "cell_type": "markdown",
   "metadata": {},
   "source": [
    "However, this approach is a bit verbose. An efficient alternative is to use a dictionary that provides the same key-value matching as a `switch` statement. "
   ]
  },
  {
   "cell_type": "code",
   "execution_count": 11,
   "metadata": {},
   "outputs": [],
   "source": [
    "options = {'spam': 1.25, 'ham': 1.99, 'eggs': 0.99, 'bacon': 1.10}"
   ]
  },
  {
   "cell_type": "markdown",
   "metadata": {},
   "source": [
    "You can either index this dictionary for the matching key:"
   ]
  },
  {
   "cell_type": "code",
   "execution_count": 12,
   "metadata": {},
   "outputs": [
    {
     "data": {
      "text/plain": [
       "1.99"
      ]
     },
     "execution_count": 12,
     "metadata": {},
     "output_type": "execute_result"
    }
   ],
   "source": [
    "options[choice]"
   ]
  },
  {
   "cell_type": "markdown",
   "metadata": {},
   "source": [
    "Or, a more trustworthy approach is to use the `get()` method. This allows you to provide a default response in the case that the key you are looking for is not in the dictionary\n",
    "\n",
    "```{tip}\n",
    "Using the `get()` method allows you to supply a value to provide if there is no matching key (or as in `if` statements if there are no other conditions that equate to `True`).\n",
    "```"
   ]
  },
  {
   "cell_type": "code",
   "execution_count": 13,
   "metadata": {},
   "outputs": [
    {
     "data": {
      "text/plain": [
       "1.99"
      ]
     },
     "execution_count": 13,
     "metadata": {},
     "output_type": "execute_result"
    }
   ],
   "source": [
    "options.get(choice, 'Bad choice')"
   ]
  },
  {
   "cell_type": "code",
   "execution_count": 14,
   "metadata": {},
   "outputs": [
    {
     "data": {
      "text/plain": [
       "'Bad choice'"
      ]
     },
     "execution_count": 14,
     "metadata": {},
     "output_type": "execute_result"
    }
   ],
   "source": [
    "choice = 'broccoli'\n",
    "options.get(choice, 'Bad choice')"
   ]
  },
  {
   "cell_type": "markdown",
   "metadata": {},
   "source": [
    "Dictionaries are good for associating values with keys, but what about the more complicated actions you can code in the statement blocks associated with `if` statements? Fortunately, dictionaries can also hold functions (both named functions and lambda functions) which can allow you to perform more sophisticated switch-like execution.\n",
    "\n",
    "```{note}\n",
    "Don't worry, you will learn more about functions in an upcoming lesson.\n",
    "```"
   ]
  },
  {
   "cell_type": "code",
   "execution_count": 15,
   "metadata": {},
   "outputs": [
    {
     "data": {
      "text/plain": [
       "1379372.75"
      ]
     },
     "execution_count": 15,
     "metadata": {},
     "output_type": "execute_result"
    }
   ],
   "source": [
    "def produce_revenue(sqft, visits, trend):\n",
    "    total = 9.91 * sqft * visits * trend\n",
    "    return round(total, 2)\n",
    "  \n",
    "def frozen_revenue(sqft, visits, trend):\n",
    "    prod = produce_revenue(sqft, visits, trend)\n",
    "    total = 3.28 * sqft * visits * trend - prod * .005 \n",
    "    return round(total, 2)\n",
    "  \n",
    "expected_annual_revenue = {\n",
    "    'produce':    produce_revenue, \n",
    "    'frozen':     frozen_revenue, \n",
    "    'pharmacy':   lambda: 16.11 * visits * trend\n",
    "    }\n",
    "  \n",
    "choice = 'frozen'\n",
    "expected_annual_revenue.get(choice, 'Bad choice')(sqft=937, visits=465, trend=0.98)"
   ]
  },
  {
   "cell_type": "markdown",
   "metadata": {},
   "source": [
    "### Knowledge check\n",
    "\n",
    "```{admonition} Tasks:\n",
    ":class: attention\n",
    "Convert the following multi-branch `if-else` statement into a `dict` where you get the month path file with `path_files.get(month)`. In this case, which approach seems more reasonable?\n",
    "\n",
    "    ```python\n",
    "    month = 4\n",
    "\n",
    "    if month <= 9:\n",
    "        print(f'data/Month-0{month}.csv')\n",
    "    elif month >= 10 and month <= 12:\n",
    "        print(f'data/Month-{month}.csv')\n",
    "    else:\n",
    "        print('Invalid month')\n",
    "\n",
    "```"
   ]
  },
  {
   "cell_type": "markdown",
   "metadata": {},
   "source": [
    "## Applying in Pandas\n",
    "\n",
    "When data mining, we often want to perform conditional statements to not only filter observations, but also to create new variables. For example, say we want to create a new variable that classifies transactions above $10 as “high value” otherwise they are “low value”. There are several methods we can use to perform this but a simple one is to use the `apply` method:"
   ]
  },
  {
   "cell_type": "code",
   "execution_count": 18,
   "metadata": {},
   "outputs": [
    {
     "data": {
      "text/html": [
       "<div>\n",
       "<style scoped>\n",
       "    .dataframe tbody tr th:only-of-type {\n",
       "        vertical-align: middle;\n",
       "    }\n",
       "\n",
       "    .dataframe tbody tr th {\n",
       "        vertical-align: top;\n",
       "    }\n",
       "\n",
       "    .dataframe thead th {\n",
       "        text-align: right;\n",
       "    }\n",
       "</style>\n",
       "<table border=\"1\" class=\"dataframe\">\n",
       "  <thead>\n",
       "    <tr style=\"text-align: right;\">\n",
       "      <th></th>\n",
       "      <th>household_id</th>\n",
       "      <th>store_id</th>\n",
       "      <th>basket_id</th>\n",
       "      <th>product_id</th>\n",
       "      <th>quantity</th>\n",
       "      <th>sales_value</th>\n",
       "      <th>retail_disc</th>\n",
       "      <th>coupon_disc</th>\n",
       "      <th>coupon_match_disc</th>\n",
       "      <th>week</th>\n",
       "      <th>transaction_timestamp</th>\n",
       "      <th>value</th>\n",
       "    </tr>\n",
       "  </thead>\n",
       "  <tbody>\n",
       "    <tr>\n",
       "      <th>0</th>\n",
       "      <td>900</td>\n",
       "      <td>330</td>\n",
       "      <td>31198570044</td>\n",
       "      <td>1095275</td>\n",
       "      <td>1</td>\n",
       "      <td>0.50</td>\n",
       "      <td>0.00</td>\n",
       "      <td>0.0</td>\n",
       "      <td>0.0</td>\n",
       "      <td>1</td>\n",
       "      <td>2017-01-01 11:53:26</td>\n",
       "      <td>low value</td>\n",
       "    </tr>\n",
       "    <tr>\n",
       "      <th>1</th>\n",
       "      <td>900</td>\n",
       "      <td>330</td>\n",
       "      <td>31198570047</td>\n",
       "      <td>9878513</td>\n",
       "      <td>1</td>\n",
       "      <td>0.99</td>\n",
       "      <td>0.10</td>\n",
       "      <td>0.0</td>\n",
       "      <td>0.0</td>\n",
       "      <td>1</td>\n",
       "      <td>2017-01-01 12:10:28</td>\n",
       "      <td>low value</td>\n",
       "    </tr>\n",
       "    <tr>\n",
       "      <th>2</th>\n",
       "      <td>1228</td>\n",
       "      <td>406</td>\n",
       "      <td>31198655051</td>\n",
       "      <td>1041453</td>\n",
       "      <td>1</td>\n",
       "      <td>1.43</td>\n",
       "      <td>0.15</td>\n",
       "      <td>0.0</td>\n",
       "      <td>0.0</td>\n",
       "      <td>1</td>\n",
       "      <td>2017-01-01 12:26:30</td>\n",
       "      <td>low value</td>\n",
       "    </tr>\n",
       "    <tr>\n",
       "      <th>3</th>\n",
       "      <td>906</td>\n",
       "      <td>319</td>\n",
       "      <td>31198705046</td>\n",
       "      <td>1020156</td>\n",
       "      <td>1</td>\n",
       "      <td>1.50</td>\n",
       "      <td>0.29</td>\n",
       "      <td>0.0</td>\n",
       "      <td>0.0</td>\n",
       "      <td>1</td>\n",
       "      <td>2017-01-01 12:30:27</td>\n",
       "      <td>low value</td>\n",
       "    </tr>\n",
       "    <tr>\n",
       "      <th>4</th>\n",
       "      <td>906</td>\n",
       "      <td>319</td>\n",
       "      <td>31198705046</td>\n",
       "      <td>1053875</td>\n",
       "      <td>2</td>\n",
       "      <td>2.78</td>\n",
       "      <td>0.80</td>\n",
       "      <td>0.0</td>\n",
       "      <td>0.0</td>\n",
       "      <td>1</td>\n",
       "      <td>2017-01-01 12:30:27</td>\n",
       "      <td>low value</td>\n",
       "    </tr>\n",
       "  </tbody>\n",
       "</table>\n",
       "</div>"
      ],
      "text/plain": [
       "   household_id  store_id    basket_id  product_id  quantity  sales_value  \\\n",
       "0           900       330  31198570044     1095275         1         0.50   \n",
       "1           900       330  31198570047     9878513         1         0.99   \n",
       "2          1228       406  31198655051     1041453         1         1.43   \n",
       "3           906       319  31198705046     1020156         1         1.50   \n",
       "4           906       319  31198705046     1053875         2         2.78   \n",
       "\n",
       "   retail_disc  coupon_disc  coupon_match_disc  week transaction_timestamp  \\\n",
       "0         0.00          0.0                0.0     1   2017-01-01 11:53:26   \n",
       "1         0.10          0.0                0.0     1   2017-01-01 12:10:28   \n",
       "2         0.15          0.0                0.0     1   2017-01-01 12:26:30   \n",
       "3         0.29          0.0                0.0     1   2017-01-01 12:30:27   \n",
       "4         0.80          0.0                0.0     1   2017-01-01 12:30:27   \n",
       "\n",
       "       value  \n",
       "0  low value  \n",
       "1  low value  \n",
       "2  low value  \n",
       "3  low value  \n",
       "4  low value  "
      ]
     },
     "execution_count": 18,
     "metadata": {},
     "output_type": "execute_result"
    }
   ],
   "source": [
    "df['value'] = df['sales_value'].apply(lambda x: 'high value' if x > 10 else 'low value')\n",
    "df.head()"
   ]
  },
  {
   "cell_type": "code",
   "execution_count": 20,
   "metadata": {},
   "outputs": [
    {
     "data": {
      "text/plain": [
       "value\n",
       "high value      45265\n",
       "low value     1424042\n",
       "dtype: int64"
      ]
     },
     "execution_count": 20,
     "metadata": {},
     "output_type": "execute_result"
    }
   ],
   "source": [
    "df.groupby('value').size()"
   ]
  },
  {
   "cell_type": "markdown",
   "metadata": {},
   "source": [
    "An alternative, and much faster approach is to use `np.where()`, which requires numpy to be loaded. `np.where` has been show to be over 2.5 times faster than `apply()`:"
   ]
  },
  {
   "cell_type": "code",
   "execution_count": 21,
   "metadata": {},
   "outputs": [
    {
     "data": {
      "text/html": [
       "<div>\n",
       "<style scoped>\n",
       "    .dataframe tbody tr th:only-of-type {\n",
       "        vertical-align: middle;\n",
       "    }\n",
       "\n",
       "    .dataframe tbody tr th {\n",
       "        vertical-align: top;\n",
       "    }\n",
       "\n",
       "    .dataframe thead th {\n",
       "        text-align: right;\n",
       "    }\n",
       "</style>\n",
       "<table border=\"1\" class=\"dataframe\">\n",
       "  <thead>\n",
       "    <tr style=\"text-align: right;\">\n",
       "      <th></th>\n",
       "      <th>household_id</th>\n",
       "      <th>store_id</th>\n",
       "      <th>basket_id</th>\n",
       "      <th>product_id</th>\n",
       "      <th>quantity</th>\n",
       "      <th>sales_value</th>\n",
       "      <th>retail_disc</th>\n",
       "      <th>coupon_disc</th>\n",
       "      <th>coupon_match_disc</th>\n",
       "      <th>week</th>\n",
       "      <th>transaction_timestamp</th>\n",
       "      <th>value</th>\n",
       "    </tr>\n",
       "  </thead>\n",
       "  <tbody>\n",
       "    <tr>\n",
       "      <th>0</th>\n",
       "      <td>900</td>\n",
       "      <td>330</td>\n",
       "      <td>31198570044</td>\n",
       "      <td>1095275</td>\n",
       "      <td>1</td>\n",
       "      <td>0.50</td>\n",
       "      <td>0.00</td>\n",
       "      <td>0.0</td>\n",
       "      <td>0.0</td>\n",
       "      <td>1</td>\n",
       "      <td>2017-01-01 11:53:26</td>\n",
       "      <td>low value</td>\n",
       "    </tr>\n",
       "    <tr>\n",
       "      <th>1</th>\n",
       "      <td>900</td>\n",
       "      <td>330</td>\n",
       "      <td>31198570047</td>\n",
       "      <td>9878513</td>\n",
       "      <td>1</td>\n",
       "      <td>0.99</td>\n",
       "      <td>0.10</td>\n",
       "      <td>0.0</td>\n",
       "      <td>0.0</td>\n",
       "      <td>1</td>\n",
       "      <td>2017-01-01 12:10:28</td>\n",
       "      <td>low value</td>\n",
       "    </tr>\n",
       "    <tr>\n",
       "      <th>2</th>\n",
       "      <td>1228</td>\n",
       "      <td>406</td>\n",
       "      <td>31198655051</td>\n",
       "      <td>1041453</td>\n",
       "      <td>1</td>\n",
       "      <td>1.43</td>\n",
       "      <td>0.15</td>\n",
       "      <td>0.0</td>\n",
       "      <td>0.0</td>\n",
       "      <td>1</td>\n",
       "      <td>2017-01-01 12:26:30</td>\n",
       "      <td>low value</td>\n",
       "    </tr>\n",
       "    <tr>\n",
       "      <th>3</th>\n",
       "      <td>906</td>\n",
       "      <td>319</td>\n",
       "      <td>31198705046</td>\n",
       "      <td>1020156</td>\n",
       "      <td>1</td>\n",
       "      <td>1.50</td>\n",
       "      <td>0.29</td>\n",
       "      <td>0.0</td>\n",
       "      <td>0.0</td>\n",
       "      <td>1</td>\n",
       "      <td>2017-01-01 12:30:27</td>\n",
       "      <td>low value</td>\n",
       "    </tr>\n",
       "    <tr>\n",
       "      <th>4</th>\n",
       "      <td>906</td>\n",
       "      <td>319</td>\n",
       "      <td>31198705046</td>\n",
       "      <td>1053875</td>\n",
       "      <td>2</td>\n",
       "      <td>2.78</td>\n",
       "      <td>0.80</td>\n",
       "      <td>0.0</td>\n",
       "      <td>0.0</td>\n",
       "      <td>1</td>\n",
       "      <td>2017-01-01 12:30:27</td>\n",
       "      <td>low value</td>\n",
       "    </tr>\n",
       "  </tbody>\n",
       "</table>\n",
       "</div>"
      ],
      "text/plain": [
       "   household_id  store_id    basket_id  product_id  quantity  sales_value  \\\n",
       "0           900       330  31198570044     1095275         1         0.50   \n",
       "1           900       330  31198570047     9878513         1         0.99   \n",
       "2          1228       406  31198655051     1041453         1         1.43   \n",
       "3           906       319  31198705046     1020156         1         1.50   \n",
       "4           906       319  31198705046     1053875         2         2.78   \n",
       "\n",
       "   retail_disc  coupon_disc  coupon_match_disc  week transaction_timestamp  \\\n",
       "0         0.00          0.0                0.0     1   2017-01-01 11:53:26   \n",
       "1         0.10          0.0                0.0     1   2017-01-01 12:10:28   \n",
       "2         0.15          0.0                0.0     1   2017-01-01 12:26:30   \n",
       "3         0.29          0.0                0.0     1   2017-01-01 12:30:27   \n",
       "4         0.80          0.0                0.0     1   2017-01-01 12:30:27   \n",
       "\n",
       "       value  \n",
       "0  low value  \n",
       "1  low value  \n",
       "2  low value  \n",
       "3  low value  \n",
       "4  low value  "
      ]
     },
     "execution_count": 21,
     "metadata": {},
     "output_type": "execute_result"
    }
   ],
   "source": [
    "df['value'] = np.where(df['sales_value'] > 10, 'high value', 'low value')\n",
    "df.head()"
   ]
  },
  {
   "cell_type": "markdown",
   "metadata": {},
   "source": [
    "As our conditions get more complex, it often becomes useful to create a separate function and use `apply`.  This approach is probably the most legible; however, see [this post]() for a much faster approach if you are working with significantly large data."
   ]
  },
  {
   "cell_type": "code",
   "execution_count": 22,
   "metadata": {},
   "outputs": [
    {
     "data": {
      "text/html": [
       "<div>\n",
       "<style scoped>\n",
       "    .dataframe tbody tr th:only-of-type {\n",
       "        vertical-align: middle;\n",
       "    }\n",
       "\n",
       "    .dataframe tbody tr th {\n",
       "        vertical-align: top;\n",
       "    }\n",
       "\n",
       "    .dataframe thead th {\n",
       "        text-align: right;\n",
       "    }\n",
       "</style>\n",
       "<table border=\"1\" class=\"dataframe\">\n",
       "  <thead>\n",
       "    <tr style=\"text-align: right;\">\n",
       "      <th></th>\n",
       "      <th>household_id</th>\n",
       "      <th>store_id</th>\n",
       "      <th>basket_id</th>\n",
       "      <th>product_id</th>\n",
       "      <th>quantity</th>\n",
       "      <th>sales_value</th>\n",
       "      <th>retail_disc</th>\n",
       "      <th>coupon_disc</th>\n",
       "      <th>coupon_match_disc</th>\n",
       "      <th>week</th>\n",
       "      <th>transaction_timestamp</th>\n",
       "      <th>value</th>\n",
       "      <th>purchase_flag</th>\n",
       "    </tr>\n",
       "  </thead>\n",
       "  <tbody>\n",
       "    <tr>\n",
       "      <th>0</th>\n",
       "      <td>900</td>\n",
       "      <td>330</td>\n",
       "      <td>31198570044</td>\n",
       "      <td>1095275</td>\n",
       "      <td>1</td>\n",
       "      <td>0.50</td>\n",
       "      <td>0.00</td>\n",
       "      <td>0.0</td>\n",
       "      <td>0.0</td>\n",
       "      <td>1</td>\n",
       "      <td>2017-01-01 11:53:26</td>\n",
       "      <td>low value</td>\n",
       "      <td>Small purchase</td>\n",
       "    </tr>\n",
       "    <tr>\n",
       "      <th>1</th>\n",
       "      <td>900</td>\n",
       "      <td>330</td>\n",
       "      <td>31198570047</td>\n",
       "      <td>9878513</td>\n",
       "      <td>1</td>\n",
       "      <td>0.99</td>\n",
       "      <td>0.10</td>\n",
       "      <td>0.0</td>\n",
       "      <td>0.0</td>\n",
       "      <td>1</td>\n",
       "      <td>2017-01-01 12:10:28</td>\n",
       "      <td>low value</td>\n",
       "      <td>Small purchase</td>\n",
       "    </tr>\n",
       "    <tr>\n",
       "      <th>2</th>\n",
       "      <td>1228</td>\n",
       "      <td>406</td>\n",
       "      <td>31198655051</td>\n",
       "      <td>1041453</td>\n",
       "      <td>1</td>\n",
       "      <td>1.43</td>\n",
       "      <td>0.15</td>\n",
       "      <td>0.0</td>\n",
       "      <td>0.0</td>\n",
       "      <td>1</td>\n",
       "      <td>2017-01-01 12:26:30</td>\n",
       "      <td>low value</td>\n",
       "      <td>Small purchase</td>\n",
       "    </tr>\n",
       "    <tr>\n",
       "      <th>3</th>\n",
       "      <td>906</td>\n",
       "      <td>319</td>\n",
       "      <td>31198705046</td>\n",
       "      <td>1020156</td>\n",
       "      <td>1</td>\n",
       "      <td>1.50</td>\n",
       "      <td>0.29</td>\n",
       "      <td>0.0</td>\n",
       "      <td>0.0</td>\n",
       "      <td>1</td>\n",
       "      <td>2017-01-01 12:30:27</td>\n",
       "      <td>low value</td>\n",
       "      <td>Small purchase</td>\n",
       "    </tr>\n",
       "    <tr>\n",
       "      <th>4</th>\n",
       "      <td>906</td>\n",
       "      <td>319</td>\n",
       "      <td>31198705046</td>\n",
       "      <td>1053875</td>\n",
       "      <td>2</td>\n",
       "      <td>2.78</td>\n",
       "      <td>0.80</td>\n",
       "      <td>0.0</td>\n",
       "      <td>0.0</td>\n",
       "      <td>1</td>\n",
       "      <td>2017-01-01 12:30:27</td>\n",
       "      <td>low value</td>\n",
       "      <td>Small purchase</td>\n",
       "    </tr>\n",
       "  </tbody>\n",
       "</table>\n",
       "</div>"
      ],
      "text/plain": [
       "   household_id  store_id    basket_id  product_id  quantity  sales_value  \\\n",
       "0           900       330  31198570044     1095275         1         0.50   \n",
       "1           900       330  31198570047     9878513         1         0.99   \n",
       "2          1228       406  31198655051     1041453         1         1.43   \n",
       "3           906       319  31198705046     1020156         1         1.50   \n",
       "4           906       319  31198705046     1053875         2         2.78   \n",
       "\n",
       "   retail_disc  coupon_disc  coupon_match_disc  week transaction_timestamp  \\\n",
       "0         0.00          0.0                0.0     1   2017-01-01 11:53:26   \n",
       "1         0.10          0.0                0.0     1   2017-01-01 12:10:28   \n",
       "2         0.15          0.0                0.0     1   2017-01-01 12:26:30   \n",
       "3         0.29          0.0                0.0     1   2017-01-01 12:30:27   \n",
       "4         0.80          0.0                0.0     1   2017-01-01 12:30:27   \n",
       "\n",
       "       value   purchase_flag  \n",
       "0  low value  Small purchase  \n",
       "1  low value  Small purchase  \n",
       "2  low value  Small purchase  \n",
       "3  low value  Small purchase  \n",
       "4  low value  Small purchase  "
      ]
     },
     "execution_count": 22,
     "metadata": {},
     "output_type": "execute_result"
    }
   ],
   "source": [
    "def flag(df):\n",
    "    if (df['quantity'] > 20) or (df['sales_value'] > 10):\n",
    "        return 'Large purchase'\n",
    "    elif (df['quantity'] > 10) or (df['sales_value'] > 5):\n",
    "        return 'Medium purchase'\n",
    "    elif (df['quantity'] > 0) or (df['sales_value'] > 0):\n",
    "        return 'Small purchase'\n",
    "    else:\n",
    "        return 'Alternative transaction'\n",
    "\n",
    "df['purchase_flag'] = df.apply(flag, axis = 1)\n",
    "df.head()"
   ]
  },
  {
   "cell_type": "code",
   "execution_count": 23,
   "metadata": {},
   "outputs": [
    {
     "data": {
      "text/plain": [
       "purchase_flag\n",
       "Alternative transaction       8820\n",
       "Large purchase               46730\n",
       "Medium purchase             128361\n",
       "Small purchase             1285396\n",
       "dtype: int64"
      ]
     },
     "execution_count": 23,
     "metadata": {},
     "output_type": "execute_result"
    }
   ],
   "source": [
    "df.groupby('purchase_flag').size()"
   ]
  },
  {
   "cell_type": "markdown",
   "metadata": {},
   "source": [
    "```{admonition} Video 🎥:\n",
    "Here is a more thorough introduction to the `apply` method; plus, you'll also be introduced to the `map` and `applymap` methods.\n",
    "\n",
    "<iframe width=\"560\" height=\"315\" src=\"https://www.youtube.com/embed/P_q0tkYqvSk\" title=\"YouTube video player\" frameborder=\"0\" allow=\"accelerometer; autoplay; clipboard-write; encrypted-media; gyroscope; picture-in-picture\" allowfullscreen></iframe>\n",
    "```"
   ]
  },
  {
   "cell_type": "markdown",
   "metadata": {},
   "source": [
    "### Knowledge check\n",
    "\n",
    "```{admonition} Tasks:\n",
    ":class: attention\n",
    "Fill in the blanks below to assign each transaction to a power rating of 1, 2, 3, or 4 based on the `sales_value` variable:\n",
    "\n",
    "   - power_rating = 1: if `sales_value` < 25th percentile\n",
    "   - power_rating = 2: if `sales_value` < 50th percentile\n",
    "   - power_rating = 3: if `sales_value` < 75th percentile\n",
    "   - power_rating = 4: if `sales_value` >= 75th percentile\n",
    "\n",
    "**Hint:** use the `.quantile(perc_value)`\n",
    "\n",
    "   ```python\n",
    "   low = df['sales_value'].quantile(____)\n",
    "   med = df['sales_value'].quantile(____) \n",
    "   hig = df['sales_value'].quantile(____)\n",
    "\n",
    "   def power_rater(df):\n",
    "      if (df['sales_value'] < _____):\n",
    "         return ___\n",
    "      elif (df['sales_value'] < _____):\n",
    "         return ___\n",
    "      elif (df['sales_value'] < _____):\n",
    "         return ___\n",
    "      else:\n",
    "         return ___\n",
    "\n",
    "   df['power_rating'] = df.apply(power_rater, axis = 1)\n",
    "```"
   ]
  },
  {
   "cell_type": "markdown",
   "metadata": {},
   "source": [
    "## Exercises\n",
    "\n",
    "```{admonition} Tasks:\n",
    ":class: attention\n",
    "Using the Complete Journey `transactions` data:\n",
    "\n",
    "1. Create a new column titled `total_disc` that is the sum of all discounts applied to each transaction.\n",
    "2. Create a new column `disc_rating` that classifies each transaction as:\n",
    "   - 'none': if `total_disc` == 0\n",
    "   - 'low': if `total_disc` < 25th percentile\n",
    "   - 'medium': if `total_disc` < 75th percentile\n",
    "   - 'high': if `total_disc` >= 75th percentile\n",
    "   - 'other': for any transaction that doesn't meet any of the above conditions\n",
    "3. How many transactions are in each of the above `disc_rating` categories?\n",
    "```"
   ]
  },
  {
   "cell_type": "markdown",
   "metadata": {},
   "source": [
    "## Computing environment"
   ]
  },
  {
   "cell_type": "code",
   "execution_count": 1,
   "metadata": {},
   "outputs": [
    {
     "name": "stdout",
     "output_type": "stream",
     "text": [
      "Python implementation: CPython\n",
      "Python version       : 3.9.12\n",
      "IPython version      : 8.2.0\n",
      "\n",
      "pandas            : 1.4.2\n",
      "jupyterlab        : 3.3.2\n",
      "completejourney_py: 0.0.3\n",
      "\n"
     ]
    }
   ],
   "source": [
    "%load_ext watermark\n",
    "%watermark -v -p pandas,jupyterlab,completejourney_py"
   ]
  }
 ],
 "metadata": {
  "kernelspec": {
   "display_name": "Python 3.9.12 ('base')",
   "language": "python",
   "name": "python3"
  },
  "language_info": {
   "codemirror_mode": {
    "name": "ipython",
    "version": 3
   },
   "file_extension": ".py",
   "mimetype": "text/x-python",
   "name": "python",
   "nbconvert_exporter": "python",
   "pygments_lexer": "ipython3",
   "version": "3.9.12"
  },
  "orig_nbformat": 4,
  "vscode": {
   "interpreter": {
    "hash": "40d3a090f54c6569ab1632332b64b2c03c39dcf918b08424e98f38b5ae0af88f"
   }
  }
 },
 "nbformat": 4,
 "nbformat_minor": 2
}
