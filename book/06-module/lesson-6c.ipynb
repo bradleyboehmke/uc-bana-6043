{
 "cells": [
  {
   "cell_type": "markdown",
   "metadata": {},
   "source": [
    "# Lesson 6C: Writing functions\n",
    "\n",
    "Functions are an essential part of any scripting language and as a data scientist, you’ll constantly need to write your own functions to solve problems that your data poses to you. Writing functions allows you to reduce your code, minimize errors, and make it more explicit in the actions being taken.  This lesson will get you started writing your own functions to improve your data analyses."
   ]
  },
  {
   "cell_type": "markdown",
   "metadata": {},
   "source": [
    "## Learning objectives\n",
    "\n",
    "By the end of this lesson you will be able to:\n",
    "\n",
    "* Explain when to write functions\n",
    "* Discuss the difference between functions and methods\n",
    "* Define your own functions that includes:\n",
    "   - Default arguments\n",
    "   - Type hints\n",
    "   - Exception handling\n",
    "   - Docstrings\n",
    "* Discuss how Python scopes for variables to use in functions\n",
    "* Apply `lambda` (anonymous) functions"
   ]
  },
  {
   "cell_type": "markdown",
   "metadata": {},
   "source": [
    "```{admonition} Video 🎥:\n",
    "First, check out this video for a simple introduction to writing functions. Then move on to the lesson that follows which will reiterate and build upon these basic concepts.\n",
    "\n",
    "<iframe id=\"kaltura_player\" src=\"https://cdnapisec.kaltura.com/p/1492301/sp/149230100/embedIframeJs/uiconf_id/49148882/partner_id/1492301?iframeembed=true&playerId=kaltura_player&entry_id=1_okqz4cvf&flashvars[streamerType]=auto&amp;flashvars[localizationCode]=en_US&amp;flashvars[forceMobileHTML5]=true&amp;flashvars[scrubber.sliderPreview]=false&amp;flashvars[Kaltura.addCrossoriginToIframe]=true&amp;&wid=1_hnoifbgw\" width=\"640\" height=\"610\" allowfullscreen webkitallowfullscreen mozAllowFullScreen allow=\"autoplay *; fullscreen *; encrypted-media *\" sandbox=\"allow-downloads allow-forms allow-same-origin allow-scripts allow-top-navigation allow-pointer-lock allow-popups allow-modals allow-orientation-lock allow-popups-to-escape-sandbox allow-presentation allow-top-navigation-by-user-activation\" frameborder=\"0\" title=\"BANA 6043 | Python Tutorial for Beginners 8: Functions\"></iframe>\n",
    "```"
   ]
  },
  {
   "cell_type": "markdown",
   "metadata": {},
   "source": [
    "## Prerequisites"
   ]
  },
  {
   "cell_type": "code",
   "execution_count": 19,
   "metadata": {},
   "outputs": [],
   "source": [
    "import numpy as np\n",
    "import pandas as pd\n",
    "from completejourney_py import get_data\n",
    "\n",
    "df = get_data()['transactions']"
   ]
  },
  {
   "cell_type": "markdown",
   "metadata": {},
   "source": [
    "## When to write functions\n",
    "\n",
    "You should consider writing a function whenever you’ve copied and pasted a block of code more than twice (i.e. you now have three copies of the same code). For example, take a look at this code. What does it do?"
   ]
  },
  {
   "cell_type": "code",
   "execution_count": 2,
   "metadata": {},
   "outputs": [],
   "source": [
    "# array containing 4 sets of 10 random numbers\n",
    "x = np.random.random_sample((4, 10))\n",
    "          \n",
    "x[0] = (x[0] - x[0].min()) / (x[0].max() - x[0].min())\n",
    "x[1] = (x[1] - x[1].min()) / (x[1].max() - x[1].min())\n",
    "x[2] = (x[2] - x[2].min()) / (x[1].max() - x[2].min())\n",
    "x[3] = (x[3] - x[3].min()) / (x[3].max() - x[3].min())"
   ]
  },
  {
   "cell_type": "markdown",
   "metadata": {},
   "source": [
    "You might be able to puzzle out that this rescales each array to have a range from 0 to 1. But did you spot the mistake? I made an error when copying-and-pasting the code for the third array: I forgot to change an `x[1]` to an `x[2]`. Writing a function reduces the chance of this error and makes it more explicit regarding our intentions since we can name our action (`rescale`) that we want to perform:"
   ]
  },
  {
   "cell_type": "code",
   "execution_count": 109,
   "metadata": {},
   "outputs": [
    {
     "data": {
      "text/plain": [
       "array([[0.99878136, 0.22078797, 1.        , 0.74842181, 0.76532081,\n",
       "        0.05646965, 0.15090518, 0.4111731 , 0.        , 0.82054945],\n",
       "       [0.29543511, 0.2541867 , 0.        , 0.01987078, 0.08243596,\n",
       "        0.83973584, 0.70558834, 1.        , 0.98742007, 0.06005261],\n",
       "       [0.03513029, 0.0024059 , 0.        , 0.65358644, 0.68623012,\n",
       "        1.        , 0.53136216, 0.16107139, 0.20945602, 0.48226856],\n",
       "       [0.        , 0.53126836, 1.        , 0.64544065, 0.65336937,\n",
       "        0.395594  , 0.10574265, 0.91031773, 0.38211728, 0.92959739]])"
      ]
     },
     "execution_count": 109,
     "metadata": {},
     "output_type": "execute_result"
    }
   ],
   "source": [
    "x = np.random.random_sample((4, 10))\n",
    "\n",
    "def rescale(array):\n",
    "    for index, vector in enumerate(array):\n",
    "        array[index] = (vector - vector.min()) / (vector.max() - vector.min())\n",
    "    \n",
    "    return(array)\n",
    "\n",
    "rescale(x)"
   ]
  },
  {
   "cell_type": "markdown",
   "metadata": {},
   "source": [
    "## Functions vs methods\n",
    "\n",
    "Functions and methods are very similar, and beginners to object oriented programming languages such as Python often refer to them synonymously. Although they are very similar, it is always good to distinguish between the two as it will help you explain code situations more explicitly.\n",
    "\n",
    "A method refers to a function which is part of a class. You access it with an instance or object of the class. A function doesn’t have this restriction: it just refers to a standalone function. This means that all methods are functions, but not all functions are methods. "
   ]
  },
  {
   "cell_type": "code",
   "execution_count": 110,
   "metadata": {},
   "outputs": [
    {
     "data": {
      "text/plain": [
       "array([1.32934676, 1.00864894, 2.        , 2.06731969, 2.18735626,\n",
       "       2.29179949, 1.49359833, 2.48256223, 1.57899337, 2.29246801])"
      ]
     },
     "execution_count": 110,
     "metadata": {},
     "output_type": "execute_result"
    }
   ],
   "source": [
    "# stand alone function\n",
    "sum(x)"
   ]
  },
  {
   "cell_type": "code",
   "execution_count": 113,
   "metadata": {},
   "outputs": [
    {
     "data": {
      "text/plain": [
       "array([1.32934676, 1.00864894, 2.        , 2.06731969, 2.18735626,\n",
       "       2.29179949, 1.49359833, 2.48256223, 1.57899337, 2.29246801])"
      ]
     },
     "execution_count": 113,
     "metadata": {},
     "output_type": "execute_result"
    }
   ],
   "source": [
    "# method \n",
    "x.sum(axis = 0)"
   ]
  },
  {
   "cell_type": "markdown",
   "metadata": {},
   "source": [
    "As illustrated above, there can be functions and methods that behave in a similar manner. However, often, methods have special parameters that allow them to behave uniquely to the object they are attached to. For example, the `sum()` method for the Numpy array allows you to get the overall sum, sum of each column, and sum of each row. This would take more effort to compute with the stand alone function."
   ]
  },
  {
   "cell_type": "code",
   "execution_count": 114,
   "metadata": {},
   "outputs": [
    {
     "data": {
      "text/plain": [
       "18.73209307994143"
      ]
     },
     "execution_count": 114,
     "metadata": {},
     "output_type": "execute_result"
    }
   ],
   "source": [
    "# overall sum\n",
    "x.sum()"
   ]
  },
  {
   "cell_type": "code",
   "execution_count": 115,
   "metadata": {},
   "outputs": [
    {
     "data": {
      "text/plain": [
       "array([1.32934676, 1.00864894, 2.        , 2.06731969, 2.18735626,\n",
       "       2.29179949, 1.49359833, 2.48256223, 1.57899337, 2.29246801])"
      ]
     },
     "execution_count": 115,
     "metadata": {},
     "output_type": "execute_result"
    }
   ],
   "source": [
    "# sum of each column\n",
    "x.sum(axis = 0)"
   ]
  },
  {
   "cell_type": "code",
   "execution_count": 116,
   "metadata": {},
   "outputs": [
    {
     "data": {
      "text/plain": [
       "array([5.17240933, 4.24472542, 3.76151089, 5.55344745])"
      ]
     },
     "execution_count": 116,
     "metadata": {},
     "output_type": "execute_result"
    }
   ],
   "source": [
    "# sum of each row\n",
    "x.sum(axis = 1)"
   ]
  },
  {
   "cell_type": "markdown",
   "metadata": {},
   "source": [
    "Nonetheless, being able to create stand alone functions is a critical task. And, if you delve into building your own object classes down the road, defining methods is a piece of cake if you know how to define stand alone functions."
   ]
  },
  {
   "cell_type": "markdown",
   "metadata": {},
   "source": [
    "## Defining functions\n",
    "\n",
    "There are four main steps to defining a function:\n",
    "\n",
    "1. Use the keyword `def` to declare the function and follow this up with the function name.\n",
    "2. Add parameters to the function: they should be within the parentheses of the function. End your line with a colon.\n",
    "3. Add statements that the functions should execute.\n",
    "4. End your function with a return statement if the function should output something. Without the return statement, your function will return an object `None`."
   ]
  },
  {
   "cell_type": "code",
   "execution_count": 16,
   "metadata": {},
   "outputs": [
    {
     "data": {
      "text/plain": [
       "'HELLO WORLD!'"
      ]
     },
     "execution_count": 16,
     "metadata": {},
     "output_type": "execute_result"
    }
   ],
   "source": [
    "def yell(text):\n",
    "    new_text = text.upper()\n",
    "    return new_text\n",
    "  \n",
    "yell('hello world!') "
   ]
  },
  {
   "cell_type": "markdown",
   "metadata": {},
   "source": [
    "Of course, your functions will get more complex as you go along: you can add `for` loops, flow control, and more to it to make it more finegrained. Let's build a function that finds the total sales for a store, for a given day. The parameters required for the function are the `data` frame being analyzed, the `store_id`, and the specific `week` for which we need the sales."
   ]
  },
  {
   "cell_type": "code",
   "execution_count": 22,
   "metadata": {},
   "outputs": [
    {
     "data": {
      "text/plain": [
       "395.6"
      ]
     },
     "execution_count": 22,
     "metadata": {},
     "output_type": "execute_result"
    }
   ],
   "source": [
    "def store_sales(data, store, week):\n",
    "    filt = (data['store_id'] == store) & (data['week'] == week)\n",
    "    total_sales = data['sales_value'][filt].sum()\n",
    "    return total_sales\n",
    "\n",
    "store_sales(data=df, store=309, week=48)"
   ]
  },
  {
   "cell_type": "markdown",
   "metadata": {},
   "source": [
    "### Knowledge check\n",
    "\n",
    "```{admonition} Tasks:\n",
    ":class: attention\n",
    "1. Define a function titled `ratio` that takes arguments `x` and `y` and returns their ratio, $\\frac{x}{y}$.\n",
    "2. Now add a third variable `digits` that allows you to round the output to a specified decimal.\n",
    "```"
   ]
  },
  {
   "cell_type": "markdown",
   "metadata": {},
   "source": [
    "```{admonition} Video 🎥:\n",
    "<iframe id=\"kaltura_player\" src=\"https://cdnapisec.kaltura.com/p/1492301/sp/149230100/embedIframeJs/uiconf_id/49148882/partner_id/1492301?iframeembed=true&playerId=kaltura_player&entry_id=1_ffvtyvlm&flashvars[streamerType]=auto&amp;flashvars[localizationCode]=en_US&amp;flashvars[leadWithHTML5]=true&amp;flashvars[sideBarContainer.plugin]=true&amp;flashvars[sideBarContainer.position]=left&amp;flashvars[sideBarContainer.clickToClose]=true&amp;flashvars[chapters.plugin]=true&amp;flashvars[chapters.layout]=vertical&amp;flashvars[chapters.thumbnailRotator]=false&amp;flashvars[streamSelector.plugin]=true&amp;flashvars[EmbedPlayer.SpinnerTarget]=videoHolder&amp;flashvars[dualScreen.plugin]=true&amp;flashvars[Kaltura.addCrossoriginToIframe]=true&amp;&wid=1_5pffk3pv\" width=\"640\" height=\"610\" allowfullscreen webkitallowfullscreen mozAllowFullScreen allow=\"autoplay *; fullscreen *; encrypted-media *\" sandbox=\"allow-downloads allow-forms allow-same-origin allow-scripts allow-top-navigation allow-pointer-lock allow-popups allow-modals allow-orientation-lock allow-popups-to-escape-sandbox allow-presentation allow-top-navigation-by-user-activation\" frameborder=\"0\" title=\"BANA 6043: Define Function Knowledge Check\"></iframe>\n",
    "```"
   ]
  },
  {
   "cell_type": "markdown",
   "metadata": {},
   "source": [
    "## Parameters vs arguments\n",
    "\n",
    "People often refer to function parameters and arguments synonymously but, technically, they represent two different things. Parameters are the names used when defining a function or a method, and into which arguments will be mapped. In other words, arguments are the things which are supplied to any function or method call, while the function or method code refers to the arguments by their parameter names.\n",
    "\n",
    "```{tip}\n",
    "Being specific about the term _'parameters'_ versus _'arguments'_ can be helpful when discussing specific details regarding a function or inputs, especially during debugging.\n",
    "```\n",
    "\n",
    "Python accepts a variety of parameter-argument calls. The following discusses some of the more common implementations you'll see."
   ]
  },
  {
   "cell_type": "markdown",
   "metadata": {},
   "source": [
    "### Keyword arguments\n",
    "\n",
    "Keyword arguments are simply named arguments in the function call. Consider our `store_sales()` function, we can specify parameter arguments in two different ways. The first is positional, in which we supply our arguments in the same position as the parameter. However, this is less explicit and if we happen to switch our `store` and `week` argument placement then we may get different results then anticipated."
   ]
  },
  {
   "cell_type": "code",
   "execution_count": 37,
   "metadata": {},
   "outputs": [
    {
     "data": {
      "text/plain": [
       "60.39"
      ]
     },
     "execution_count": 37,
     "metadata": {},
     "output_type": "execute_result"
    }
   ],
   "source": [
    "# implicitly computing store sales for store 46 during week 43\n",
    "store_sales(df, 46, 43) "
   ]
  },
  {
   "cell_type": "code",
   "execution_count": 38,
   "metadata": {},
   "outputs": [
    {
     "data": {
      "text/plain": [
       "0.0"
      ]
     },
     "execution_count": 38,
     "metadata": {},
     "output_type": "execute_result"
    }
   ],
   "source": [
    "# implicitly computing store sales for store 43 (does not exist) during week 46\n",
    "store_sales(df, 43, 46) "
   ]
  },
  {
   "cell_type": "markdown",
   "metadata": {},
   "source": [
    "Using keyword, rather than positional, arguments makes your function call more explicit and allows you to specify them in different orders.\n",
    "\n",
    "```{tip}\n",
    "Per the [Zen of Python](https://www.python.org/dev/peps/pep-0020/), *'explicit is better than implicit'*.\n",
    "```"
   ]
  },
  {
   "cell_type": "code",
   "execution_count": 39,
   "metadata": {},
   "outputs": [
    {
     "data": {
      "text/plain": [
       "60.39"
      ]
     },
     "execution_count": 39,
     "metadata": {},
     "output_type": "execute_result"
    }
   ],
   "source": [
    "# explicitly computing store sales for store 46 during week 43\n",
    "store_sales(data=df, week=43, store=46) "
   ]
  },
  {
   "cell_type": "markdown",
   "metadata": {},
   "source": [
    "### Default arguments\n",
    "\n",
    "Default arguments are those that take a default value if no argument value is passed during the function call. You can assign this default value by with the assignment operator `=`, just like in the below example. For example, if your analysis routinely analyzes transactions for all quantities but sometimes you only focus on sales for when quantity purchased meets some threshold, you could add a new parameter with a default value.\n",
    "\n",
    "```{note}\n",
    "Default arguments should be placed after parameters with no defaults assigned in the function call. \n",
    "```"
   ]
  },
  {
   "cell_type": "code",
   "execution_count": 41,
   "metadata": {},
   "outputs": [
    {
     "data": {
      "text/plain": [
       "395.6"
      ]
     },
     "execution_count": 41,
     "metadata": {},
     "output_type": "execute_result"
    }
   ],
   "source": [
    "def store_sales(data, store, week, qty_greater_than=0):\n",
    "    filt = (data['store_id'] == store) & (data['week'] == week) & (data['quantity'] > qty_greater_than)\n",
    "    total_sales = data['sales_value'][filt].sum()\n",
    "    return total_sales\n",
    "\n",
    "# you do not need to specify an input for qty_greater_than\n",
    "store_sales(data=df, store=309, week=48)"
   ]
  },
  {
   "cell_type": "code",
   "execution_count": 42,
   "metadata": {},
   "outputs": [
    {
     "data": {
      "text/plain": [
       "92.73"
      ]
     },
     "execution_count": 42,
     "metadata": {},
     "output_type": "execute_result"
    }
   ],
   "source": [
    "# but you can if you want to change it from the default\n",
    "store_sales(data=df, store=309, week=48, qty_greater_than=2)"
   ]
  },
  {
   "cell_type": "markdown",
   "metadata": {},
   "source": [
    "### &#42;args and &#42;&#42;kwargs\n",
    "\n",
    "&#42;args and &#42;&#42;kwargs allow you to pass a variable number of arguments to a function. This can be usefule when you do not know before hand how many arguments will be passed to your function by the user or if you want to allow users to pass arguments through to an embedded function. \n",
    "\n",
    "```{tip}\n",
    "Just an FYI that it is not necessary to write &#42;args or &#42;&#42;kwargs. Only the &#42; (asterisk) is necessary. You could have also written &#42;var and &#42;&#42;vars. Writing &#42;args and &#42;&#42;kwargs is just a convention established in the Python community.\n",
    "```\n",
    "\n",
    "&#42;args is used to send a non-keyworded variable length argument list to the function. When the function is called, Python collects the &#42;args values as a tuple, which can be used in a similar manner as any other tuple functionality (i.e. indexing, `for` looped) For example, we can let the user supply as many string inputs to the very useful `yell()` function by using &#42;args."
   ]
  },
  {
   "cell_type": "code",
   "execution_count": 43,
   "metadata": {},
   "outputs": [
    {
     "data": {
      "text/plain": [
       "'HELLO WORLD! I LOVE PYTHON!!'"
      ]
     },
     "execution_count": 43,
     "metadata": {},
     "output_type": "execute_result"
    }
   ],
   "source": [
    "def yell(*args):\n",
    "    new_text = ' '.join(args).upper()\n",
    "    return new_text\n",
    "  \n",
    "yell('hello world!', 'I', 'love', 'Python!!')"
   ]
  },
  {
   "cell_type": "markdown",
   "metadata": {},
   "source": [
    "The special syntax &#42;&#42;kwargs in function definitions in python is used to pass a keyworded, variable-length argument list. The reason is because the double star allows us to pass through keyword arguments (and any number of them). Python collects the &#42;&#42;kwargs into a new dictionary, which can be used for any normal dictionary functionality."
   ]
  },
  {
   "cell_type": "code",
   "execution_count": 44,
   "metadata": {},
   "outputs": [
    {
     "name": "stdout",
     "output_type": "stream",
     "text": [
      "{'student1': 'John', 'student2': 'Robert', 'student3': 'Sally'}\n"
     ]
    }
   ],
   "source": [
    "# **kwargs just creates a dictionary\n",
    "def students(**kwargs):\n",
    "    print(kwargs)\n",
    "    \n",
    "students(student1='John', student2='Robert', student3='Sally')"
   ]
  },
  {
   "cell_type": "code",
   "execution_count": 45,
   "metadata": {},
   "outputs": [
    {
     "name": "stdout",
     "output_type": "stream",
     "text": [
      "student1 = John\n",
      "student2 = Robert\n",
      "student3 = Sally\n"
     ]
    }
   ],
   "source": [
    "# we can use this dictionary however necessary\n",
    "def print_student_names(**kwargs):\n",
    "    for key, value in kwargs.items():\n",
    "        print(f'{key} = {value}')\n",
    "    \n",
    "print_student_names(student1='John', student2='Robert', student3='Sally') "
   ]
  },
  {
   "cell_type": "markdown",
   "metadata": {},
   "source": [
    "### Type hints\n",
    "\n",
    "Python 3.5 added a new library called typing that adds [***type hinting***](https://docs.python.org/3/library/typing.html) to Python. Type hinting is part of a larger functionality called Type Checking (see [this tutorial](https://realpython.com/python-type-checking/) for a comprehensive Type Checking guide). Type hinting provides a way to help users better understand what type of arguments a function takes and the expected output. \n",
    "\n",
    "For example, let's look at a simple function:"
   ]
  },
  {
   "cell_type": "code",
   "execution_count": 47,
   "metadata": {},
   "outputs": [
    {
     "data": {
      "text/plain": [
       "'Tom is 27 years old'"
      ]
     },
     "execution_count": 47,
     "metadata": {},
     "output_type": "execute_result"
    }
   ],
   "source": [
    "def some_function(name, age):\n",
    "    return f'{name} is {age} years old'\n",
    " \n",
    "some_function('Tom', 27)"
   ]
  },
  {
   "cell_type": "markdown",
   "metadata": {},
   "source": [
    "In the above function we simply expect the user to insert the proper type of arguments and to realize the output will be a string. Now, this isn't that challenging because its a small and simple function but as our functions get more complex it is not always easy to decipher what type of arguments should be passed and what the output will be.\n",
    "\n",
    "We can hint to the user this information with type hints by re-writing the function as below. Here, we are hinting that the `name` argument should be a string, `age` should be an integer, and the output will be a string (`-> str`)."
   ]
  },
  {
   "cell_type": "code",
   "execution_count": 48,
   "metadata": {},
   "outputs": [
    {
     "data": {
      "text/plain": [
       "'Tom is 27 years old'"
      ]
     },
     "execution_count": 48,
     "metadata": {},
     "output_type": "execute_result"
    }
   ],
   "source": [
    "def some_function(name: str, age: int) -> str:\n",
    "    return f'{name} is {age} years old'\n",
    " \n",
    "some_function('Tom', 27)"
   ]
  },
  {
   "cell_type": "markdown",
   "metadata": {},
   "source": [
    "Now, when you look at the function documentation, you can quickly see the type hints (we'll see additional ways to improve function documentation in the Docstrings section).\n"
   ]
  },
  {
   "cell_type": "code",
   "execution_count": 49,
   "metadata": {},
   "outputs": [
    {
     "name": "stdout",
     "output_type": "stream",
     "text": [
      "Help on function some_function in module __main__:\n",
      "\n",
      "some_function(name: str, age: int) -> str\n",
      "\n"
     ]
    }
   ],
   "source": [
    "help(some_function)"
   ]
  },
  {
   "cell_type": "markdown",
   "metadata": {},
   "source": [
    "Even better, most IDEs support type hints so that they can give you feedback as you are typing:\n",
    "\n",
    ":::{figure-md} type-hints\n",
    "<img src=\"../images/type_hints.png\" alt=\"Type hints\" width=\"65%\">\n",
    "\n",
    "Type hints often show up when you hover over the function in most IDEs.\n",
    ":::\n",
    "\n",
    "When declaring types, you can use any of the built-in Python data types. This includes, but is not limited to:\n",
    "\n",
    "* `int`, `float`, `str`, `bool`\n",
    "* `tuple`, `list`, `set`, `dict`, `array`\n",
    "* `frozenset`\n",
    "* `Optional`\n",
    "* `Iterable`, `Iterator`\n",
    "* and many more!\n",
    "\n",
    "You can also declare non-built-in data types such as Pandas and Numpy object types. For example, we can re-write our `store_sales()` function with type hints where we hint that `data` should be a `pd.DataFrame`.\n",
    "\n",
    "```{tip}\n",
    "Note that `pd.DataFrame` assumes that you imported the Pandas module with the `pd` alias.\n",
    "```"
   ]
  },
  {
   "cell_type": "code",
   "execution_count": 51,
   "metadata": {},
   "outputs": [
    {
     "data": {
      "text/plain": [
       "395.6"
      ]
     },
     "execution_count": 51,
     "metadata": {},
     "output_type": "execute_result"
    }
   ],
   "source": [
    "def store_sales(data: pd.DataFrame, store: int, week: int) -> float:\n",
    "    filt = (data['store_id'] == store) & (data['week'] == week)\n",
    "    total_sales = data['sales_value'][filt].sum()\n",
    "    return total_sales\n",
    "  \n",
    "store_sales(data=df, store=309, week=48)"
   ]
  },
  {
   "cell_type": "markdown",
   "metadata": {},
   "source": [
    "### Knowledge check\n",
    "\n",
    "```{admonition} Tasks:\n",
    ":class: attention\n",
    "Build on to your `ratio()` function by:\n",
    "\n",
    "1. Setting the `digits` parameter to default to 2.\n",
    "2. Add type hints that specify `x` and `y` to be numeric, `digits` to be `int` and the output returned to be `float`.\n",
    "```"
   ]
  },
  {
   "cell_type": "markdown",
   "metadata": {},
   "source": [
    "```{admonition} Video 🎥:\n",
    "<iframe id=\"kaltura_player\" src=\"https://cdnapisec.kaltura.com/p/1492301/sp/149230100/embedIframeJs/uiconf_id/49148882/partner_id/1492301?iframeembed=true&playerId=kaltura_player&entry_id=1_8swcugvy&flashvars[streamerType]=auto&amp;flashvars[localizationCode]=en_US&amp;flashvars[leadWithHTML5]=true&amp;flashvars[sideBarContainer.plugin]=true&amp;flashvars[sideBarContainer.position]=left&amp;flashvars[sideBarContainer.clickToClose]=true&amp;flashvars[chapters.plugin]=true&amp;flashvars[chapters.layout]=vertical&amp;flashvars[chapters.thumbnailRotator]=false&amp;flashvars[streamSelector.plugin]=true&amp;flashvars[EmbedPlayer.SpinnerTarget]=videoHolder&amp;flashvars[dualScreen.plugin]=true&amp;flashvars[Kaltura.addCrossoriginToIframe]=true&amp;&wid=1_di40jasm\" width=\"640\" height=\"610\" allowfullscreen webkitallowfullscreen mozAllowFullScreen allow=\"autoplay *; fullscreen *; encrypted-media *\" sandbox=\"allow-downloads allow-forms allow-same-origin allow-scripts allow-top-navigation allow-pointer-lock allow-popups allow-modals allow-orientation-lock allow-popups-to-escape-sandbox allow-presentation allow-top-navigation-by-user-activation\" frameborder=\"0\" title=\"BANA 6043: Function Arguments Knowledge Check\"></iframe>\n",
    "```"
   ]
  },
  {
   "cell_type": "markdown",
   "metadata": {},
   "source": [
    "## Docstrings\n",
    "\n",
    "Type hints are great for guiding users; however, they only provide small hints. Python docstrings are a much more robust way to document a Python function (docstrings can also be used to document modules, classes, and methods). Docstrings are used to provide users with descriptive information about the function, required inputs, expected outputs, example usage and more. Also, it is a common practice to generate online (html) documentation automatically from docstrings using tools such as Sphinx.\n",
    "\n",
    "```{tip}\n",
    "See the [Pandas API reference](https://pandas.pydata.org/pandas-docs/stable/reference/index.html) for the various Pandas functions/methods/class for example Sphinx documentation that is built from docstrings.\n",
    "```\n",
    "\n",
    "Docstrings typically consist of a multi-line character string description that follows the header line of a function definition. The following provides an example for a simple addition function. Note how the docstring provides a summary of what the function does, information regarding expected parameter inputs, what the returned output will be, a \"see also\" section that lets users know about related functions/methods (this can be skipped if not applicable), and some examples of implementing the function."
   ]
  },
  {
   "cell_type": "code",
   "execution_count": 52,
   "metadata": {},
   "outputs": [],
   "source": [
    "def store_sales(data: pd.DataFrame, store: int, week: int) -> float:\n",
    "    \"\"\"\n",
    "    Compute total store sales.\n",
    "    \n",
    "    This function computes the total sales for a given\n",
    "    store and week based on a user supplied DataFrame that\n",
    "    contains sales in a column named `sales_value`.\n",
    "    \n",
    "    Parameters\n",
    "    ----------\n",
    "    data : DataFrame\n",
    "        Pandas DataFrame\n",
    "    store : int\n",
    "        Integer value representing store number\n",
    "    week : int\n",
    "        Integer value representing week of year\n",
    "    \n",
    "    Returns\n",
    "    -------\n",
    "    float\n",
    "        A float object representing total store sales\n",
    "    \n",
    "    See Also\n",
    "    --------\n",
    "    store_visits : Computes total store visits\n",
    "    \n",
    "    Examples\n",
    "    --------\n",
    "    >>> store_sales(data=df, store=309, week=48)\n",
    "    395.6\n",
    "    >>> store_sales(data=df, store=46, week=43)\n",
    "    60.39\n",
    "    \"\"\"\n",
    "    filt = (data['store_id'] == store) & (data['week'] == week)\n",
    "    total_sales = data['sales_value'][filt].sum()\n",
    "    return total_sales"
   ]
  },
  {
   "cell_type": "markdown",
   "metadata": {},
   "source": [
    "```{tip}\n",
    "There are some typical Pythonic conventions used when writing docstrings. Rather than reiterate them here, we highly suggest using the [Pandas](https://pandas.pydata.org/pandas-docs/stable/development/contributing_docstring.html) and [Numpy](https://numpydoc.readthedocs.io/en/latest/format.html) docstring guide standards when writing your docstrings.\n",
    "```\n",
    "\n",
    "### Knowledge check\n",
    "\n",
    "```{admonition} Task:\n",
    ":class: attention\n",
    "Go back to the `ratio` function you created in the last knowledge check and add docstrings. Be sure to include a general description of what the function does, documentation on the parameters and return output, along with including examples.\n",
    "```"
   ]
  },
  {
   "cell_type": "markdown",
   "metadata": {},
   "source": [
    "```{admonition} Video 🎥:\n",
    "<iframe id=\"kaltura_player\" src=\"https://cdnapisec.kaltura.com/p/1492301/sp/149230100/embedIframeJs/uiconf_id/49148882/partner_id/1492301?iframeembed=true&playerId=kaltura_player&entry_id=1_4daw9140&flashvars[streamerType]=auto&amp;flashvars[localizationCode]=en_US&amp;flashvars[leadWithHTML5]=true&amp;flashvars[sideBarContainer.plugin]=true&amp;flashvars[sideBarContainer.position]=left&amp;flashvars[sideBarContainer.clickToClose]=true&amp;flashvars[chapters.plugin]=true&amp;flashvars[chapters.layout]=vertical&amp;flashvars[chapters.thumbnailRotator]=false&amp;flashvars[streamSelector.plugin]=true&amp;flashvars[EmbedPlayer.SpinnerTarget]=videoHolder&amp;flashvars[dualScreen.plugin]=true&amp;flashvars[Kaltura.addCrossoriginToIframe]=true&amp;&wid=1_4zh1iv0c\" width=\"640\" height=\"610\" allowfullscreen webkitallowfullscreen mozAllowFullScreen allow=\"autoplay *; fullscreen *; encrypted-media *\" sandbox=\"allow-downloads allow-forms allow-same-origin allow-scripts allow-top-navigation allow-pointer-lock allow-popups allow-modals allow-orientation-lock allow-popups-to-escape-sandbox allow-presentation allow-top-navigation-by-user-activation\" frameborder=\"0\" title=\"BANA 6043: Function Docstring Knowledge Check\"></iframe>\n",
    "```"
   ]
  },
  {
   "cell_type": "markdown",
   "metadata": {},
   "source": [
    "## Errors and exceptions\n",
    "\n",
    "For functions that will be used over and over again, and especially for those used by someone other than the creator of the function, it is good to include procedures to check for errors that may derail function execution. This may include ensuring the user supplies proper argument types, the computation can perform with the values supplied, or even that execution can be performed in a reasonable amount of time. \n",
    "\n",
    "This falls under the umbrella of exception handling and is actually far broader than what we can cover here. In this section, we'll demonstrate some of the basics.\n"
   ]
  },
  {
   "cell_type": "markdown",
   "metadata": {},
   "source": [
    "### Validating arguments\n",
    "\n",
    "A common problem is when the user supplies invalid argument types or values. Although we have seen how to use type hints and docstrings to inform users, we can also include useful exception calls for when users supply improper argument types and values. For example, the following will check if the arguments of the correct type by using `isinstance` and, if they are not, we `raise` an `Exception` and include an informative error."
   ]
  },
  {
   "cell_type": "code",
   "execution_count": 54,
   "metadata": {},
   "outputs": [
    {
     "ename": "Exception",
     "evalue": "`store` should be an integer",
     "output_type": "error",
     "traceback": [
      "\u001b[0;31m---------------------------------------------------------------------------\u001b[0m",
      "\u001b[0;31mException\u001b[0m                                 Traceback (most recent call last)",
      "Input \u001b[0;32mIn [54]\u001b[0m, in \u001b[0;36m<cell line: 12>\u001b[0;34m()\u001b[0m\n\u001b[1;32m      9\u001b[0m     total_sales \u001b[39m=\u001b[39m data[\u001b[39m'\u001b[39m\u001b[39msales_value\u001b[39m\u001b[39m'\u001b[39m][filt]\u001b[39m.\u001b[39msum()\n\u001b[1;32m     10\u001b[0m     \u001b[39mreturn\u001b[39;00m total_sales\n\u001b[0;32m---> 12\u001b[0m store_sales(data\u001b[39m=\u001b[39;49mdf, store\u001b[39m=\u001b[39;49m\u001b[39m'\u001b[39;49m\u001b[39m309\u001b[39;49m\u001b[39m'\u001b[39;49m, week\u001b[39m=\u001b[39;49m\u001b[39m48\u001b[39;49m)\n",
      "Input \u001b[0;32mIn [54]\u001b[0m, in \u001b[0;36mstore_sales\u001b[0;34m(data, store, week)\u001b[0m\n\u001b[1;32m      1\u001b[0m \u001b[39mdef\u001b[39;00m \u001b[39mstore_sales\u001b[39m(data: pd\u001b[39m.\u001b[39mDataFrame, store: \u001b[39mint\u001b[39m, week: \u001b[39mint\u001b[39m) \u001b[39m-\u001b[39m\u001b[39m>\u001b[39m \u001b[39mfloat\u001b[39m:\n\u001b[1;32m      2\u001b[0m      \u001b[39m# argument validation\u001b[39;00m\n\u001b[1;32m      3\u001b[0m     \u001b[39mif\u001b[39;00m \u001b[39mnot\u001b[39;00m \u001b[39misinstance\u001b[39m(data, pd\u001b[39m.\u001b[39mDataFrame): \u001b[39mraise\u001b[39;00m \u001b[39mException\u001b[39;00m(\u001b[39m'\u001b[39m\u001b[39m`data` should be a Pandas DataFrame\u001b[39m\u001b[39m'\u001b[39m)\n\u001b[0;32m----> 4\u001b[0m     \u001b[39mif\u001b[39;00m \u001b[39mnot\u001b[39;00m \u001b[39misinstance\u001b[39m(store, \u001b[39mint\u001b[39m): \u001b[39mraise\u001b[39;00m \u001b[39mException\u001b[39;00m(\u001b[39m'\u001b[39m\u001b[39m`store` should be an integer\u001b[39m\u001b[39m'\u001b[39m)\n\u001b[1;32m      5\u001b[0m     \u001b[39mif\u001b[39;00m \u001b[39mnot\u001b[39;00m \u001b[39misinstance\u001b[39m(week, \u001b[39mint\u001b[39m): \u001b[39mraise\u001b[39;00m \u001b[39mException\u001b[39;00m(\u001b[39m'\u001b[39m\u001b[39m`week` should be an integer\u001b[39m\u001b[39m'\u001b[39m)\n\u001b[1;32m      7\u001b[0m     \u001b[39m# computation\u001b[39;00m\n",
      "\u001b[0;31mException\u001b[0m: `store` should be an integer"
     ]
    }
   ],
   "source": [
    "def store_sales(data: pd.DataFrame, store: int, week: int) -> float:\n",
    "     # argument validation\n",
    "    if not isinstance(data, pd.DataFrame): raise Exception('`data` should be a Pandas DataFrame')\n",
    "    if not isinstance(store, int): raise Exception('`store` should be an integer')\n",
    "    if not isinstance(week, int): raise Exception('`week` should be an integer')\n",
    "  \n",
    "    # computation\n",
    "    filt = (data['store_id'] == store) & (data['week'] == week)\n",
    "    total_sales = data['sales_value'][filt].sum()\n",
    "    return total_sales\n",
    "  \n",
    "store_sales(data=df, store='309', week=48) "
   ]
  },
  {
   "cell_type": "markdown",
   "metadata": {},
   "source": [
    "Note that `Exception()` is used to create a generic exception object/output. Python has [many built-in exception types](https://docs.python.org/3/library/exceptions.html) that can be used to indicate a specific error has occured. For example, we could replace `Exception()` with `TypeError()` in the previous example to make it more specific that the error is due to an invalid argument type."
   ]
  },
  {
   "cell_type": "code",
   "execution_count": 56,
   "metadata": {},
   "outputs": [
    {
     "ename": "TypeError",
     "evalue": "`store` should be an integer",
     "output_type": "error",
     "traceback": [
      "\u001b[0;31m---------------------------------------------------------------------------\u001b[0m",
      "\u001b[0;31mTypeError\u001b[0m                                 Traceback (most recent call last)",
      "Input \u001b[0;32mIn [56]\u001b[0m, in \u001b[0;36m<cell line: 12>\u001b[0;34m()\u001b[0m\n\u001b[1;32m      9\u001b[0m     total_sales \u001b[39m=\u001b[39m data[\u001b[39m'\u001b[39m\u001b[39msales_value\u001b[39m\u001b[39m'\u001b[39m][filt]\u001b[39m.\u001b[39msum()\n\u001b[1;32m     10\u001b[0m     \u001b[39mreturn\u001b[39;00m total_sales\n\u001b[0;32m---> 12\u001b[0m store_sales(data\u001b[39m=\u001b[39;49mdf, store\u001b[39m=\u001b[39;49m\u001b[39m'\u001b[39;49m\u001b[39m309\u001b[39;49m\u001b[39m'\u001b[39;49m, week\u001b[39m=\u001b[39;49m\u001b[39m48\u001b[39;49m)\n",
      "Input \u001b[0;32mIn [56]\u001b[0m, in \u001b[0;36mstore_sales\u001b[0;34m(data, store, week)\u001b[0m\n\u001b[1;32m      1\u001b[0m \u001b[39mdef\u001b[39;00m \u001b[39mstore_sales\u001b[39m(data: pd\u001b[39m.\u001b[39mDataFrame, store: \u001b[39mint\u001b[39m, week: \u001b[39mint\u001b[39m) \u001b[39m-\u001b[39m\u001b[39m>\u001b[39m \u001b[39mfloat\u001b[39m:\n\u001b[1;32m      2\u001b[0m     \u001b[39m# argument validation\u001b[39;00m\n\u001b[1;32m      3\u001b[0m     \u001b[39mif\u001b[39;00m \u001b[39mnot\u001b[39;00m \u001b[39misinstance\u001b[39m(data, pd\u001b[39m.\u001b[39mDataFrame): \u001b[39mraise\u001b[39;00m \u001b[39mTypeError\u001b[39;00m(\u001b[39m'\u001b[39m\u001b[39m`data` should be a Pandas DataFrame\u001b[39m\u001b[39m'\u001b[39m)\n\u001b[0;32m----> 4\u001b[0m     \u001b[39mif\u001b[39;00m \u001b[39mnot\u001b[39;00m \u001b[39misinstance\u001b[39m(store, \u001b[39mint\u001b[39m): \u001b[39mraise\u001b[39;00m \u001b[39mTypeError\u001b[39;00m(\u001b[39m'\u001b[39m\u001b[39m`store` should be an integer\u001b[39m\u001b[39m'\u001b[39m)\n\u001b[1;32m      5\u001b[0m     \u001b[39mif\u001b[39;00m \u001b[39mnot\u001b[39;00m \u001b[39misinstance\u001b[39m(week, \u001b[39mint\u001b[39m): \u001b[39mraise\u001b[39;00m \u001b[39mTypeError\u001b[39;00m(\u001b[39m'\u001b[39m\u001b[39m`week` should be an integer\u001b[39m\u001b[39m'\u001b[39m)\n\u001b[1;32m      7\u001b[0m     \u001b[39m# computation\u001b[39;00m\n",
      "\u001b[0;31mTypeError\u001b[0m: `store` should be an integer"
     ]
    }
   ],
   "source": [
    "def store_sales(data: pd.DataFrame, store: int, week: int) -> float:\n",
    "    # argument validation\n",
    "    if not isinstance(data, pd.DataFrame): raise TypeError('`data` should be a Pandas DataFrame')\n",
    "    if not isinstance(store, int): raise TypeError('`store` should be an integer')\n",
    "    if not isinstance(week, int): raise TypeError('`week` should be an integer')\n",
    "  \n",
    "    # computation\n",
    "    filt = (data['store_id'] == store) & (data['week'] == week)\n",
    "    total_sales = data['sales_value'][filt].sum()\n",
    "    return total_sales\n",
    "  \n",
    "store_sales(data=df, store='309', week=48) "
   ]
  },
  {
   "cell_type": "markdown",
   "metadata": {},
   "source": [
    "We can expand this as much as necessary. For example, say we want to ensure users only use a store value that exists in our data. Currently, if the user supplies a store value that does not exist (i.e. 35), they simply get a return value of 0. "
   ]
  },
  {
   "cell_type": "code",
   "execution_count": 57,
   "metadata": {},
   "outputs": [
    {
     "data": {
      "text/plain": [
       "0.0"
      ]
     },
     "execution_count": 57,
     "metadata": {},
     "output_type": "execute_result"
    }
   ],
   "source": [
    "store_sales(data=df, store=35, week=48)"
   ]
  },
  {
   "cell_type": "markdown",
   "metadata": {},
   "source": [
    "We can add an `if` statement to check if the store number exists and supply an error message to the user if it does not:"
   ]
  },
  {
   "cell_type": "code",
   "execution_count": 67,
   "metadata": {},
   "outputs": [
    {
     "ename": "ValueError",
     "evalue": "`store` 35 does not exist in the supplied DataFrame",
     "output_type": "error",
     "traceback": [
      "\u001b[0;31m---------------------------------------------------------------------------\u001b[0m",
      "\u001b[0;31mValueError\u001b[0m                                Traceback (most recent call last)",
      "Input \u001b[0;32mIn [67]\u001b[0m, in \u001b[0;36m<cell line: 15>\u001b[0;34m()\u001b[0m\n\u001b[1;32m     12\u001b[0m     total_sales \u001b[39m=\u001b[39m data[\u001b[39m'\u001b[39m\u001b[39msales_value\u001b[39m\u001b[39m'\u001b[39m][filt]\u001b[39m.\u001b[39msum()\n\u001b[1;32m     13\u001b[0m     \u001b[39mreturn\u001b[39;00m total_sales\n\u001b[0;32m---> 15\u001b[0m store_sales(data\u001b[39m=\u001b[39;49mdf, store\u001b[39m=\u001b[39;49m\u001b[39m35\u001b[39;49m, week\u001b[39m=\u001b[39;49m\u001b[39m48\u001b[39;49m)\n",
      "Input \u001b[0;32mIn [67]\u001b[0m, in \u001b[0;36mstore_sales\u001b[0;34m(data, store, week)\u001b[0m\n\u001b[1;32m      5\u001b[0m \u001b[39mif\u001b[39;00m \u001b[39mnot\u001b[39;00m \u001b[39misinstance\u001b[39m(week, \u001b[39mint\u001b[39m): \u001b[39mraise\u001b[39;00m \u001b[39mTypeError\u001b[39;00m(\u001b[39m'\u001b[39m\u001b[39m`week` should be an integer\u001b[39m\u001b[39m'\u001b[39m)\n\u001b[1;32m      6\u001b[0m \u001b[39mif\u001b[39;00m store \u001b[39mnot\u001b[39;00m \u001b[39min\u001b[39;00m data\u001b[39m.\u001b[39mstore_id\u001b[39m.\u001b[39munique(): \n\u001b[0;32m----> 7\u001b[0m     \u001b[39mraise\u001b[39;00m \u001b[39mValueError\u001b[39;00m(\u001b[39mf\u001b[39m\u001b[39m'\u001b[39m\u001b[39m`store` \u001b[39m\u001b[39m{\u001b[39;00mstore\u001b[39m}\u001b[39;00m\u001b[39m does not exist in the supplied DataFrame\u001b[39m\u001b[39m'\u001b[39m)\n\u001b[1;32m     10\u001b[0m \u001b[39m# computation\u001b[39;00m\n\u001b[1;32m     11\u001b[0m filt \u001b[39m=\u001b[39m (data[\u001b[39m'\u001b[39m\u001b[39mstore_id\u001b[39m\u001b[39m'\u001b[39m] \u001b[39m==\u001b[39m store) \u001b[39m&\u001b[39m (data[\u001b[39m'\u001b[39m\u001b[39mweek\u001b[39m\u001b[39m'\u001b[39m] \u001b[39m==\u001b[39m week)\n",
      "\u001b[0;31mValueError\u001b[0m: `store` 35 does not exist in the supplied DataFrame"
     ]
    }
   ],
   "source": [
    "def store_sales(data: pd.DataFrame, store: int, week: int) -> float:\n",
    "    # argument validation\n",
    "    if not isinstance(data, pd.DataFrame): raise TypeError('`data` should be a Pandas DataFrame')\n",
    "    if not isinstance(store, int): raise TypeError('`store` should be an integer')\n",
    "    if not isinstance(week, int): raise TypeError('`week` should be an integer')\n",
    "    if store not in data.store_id.unique(): \n",
    "        raise ValueError(f'`store` {store} does not exist in the supplied DataFrame')\n",
    "  \n",
    "  \n",
    "    # computation\n",
    "    filt = (data['store_id'] == store) & (data['week'] == week)\n",
    "    total_sales = data['sales_value'][filt].sum()\n",
    "    return total_sales\n",
    "\n",
    "store_sales(data=df, store=35, week=48)"
   ]
  },
  {
   "cell_type": "markdown",
   "metadata": {},
   "source": [
    "### Assert statements\n",
    "\n",
    "Python’s `assert` statement is a debugging aid that tests a condition. If the condition is true, it does nothing and your program just continues to execute. But if the assert condition evaluates to false, it raises an `AssertionError` exception with an optional error message. This seems very similar to the example in the last section where we checked if the supplied store ID exists. However, the proper use of assertions is to inform users about unrecoverable errors in a program. They’re not intended to signal expected error conditions, like “store ID not found”, where a user can take corrective action or just try again.\n",
    "\n",
    "```{tip}\n",
    "Another way to look at it is to say that assertions are internal self-checks for your program. They work by declaring some conditions as impossible in your code. If one of these conditions doesn’t hold that means there’s a bug in the program.\n",
    "```\n",
    "\n",
    "For example, say you have a program that automatically applies a discount to product and you eventually write the following `apply_discount` function:"
   ]
  },
  {
   "cell_type": "code",
   "execution_count": 59,
   "metadata": {},
   "outputs": [],
   "source": [
    "def apply_discount(product, discount):\n",
    "    price = round(product['price'] * (1.0 - discount), 2)\n",
    "    assert 0 <= price <= product['price']\n",
    "    return price"
   ]
  },
  {
   "cell_type": "markdown",
   "metadata": {},
   "source": [
    "Notice the assert statement in there? It will guarantee that, no matter what, discounted prices cannot be lower than \\$0 and they cannot be higher than the original price of the product.\n",
    "\n",
    "Let’s make sure this actually works as intended. You can see that the second example throws an `AssertionError`"
   ]
  },
  {
   "cell_type": "code",
   "execution_count": 60,
   "metadata": {},
   "outputs": [
    {
     "data": {
      "text/plain": [
       "2.62"
      ]
     },
     "execution_count": 60,
     "metadata": {},
     "output_type": "execute_result"
    }
   ],
   "source": [
    "# 25% off 3.50 should equal 2.62\n",
    "milk = {'name': 'Chocolate Milk', 'price': 3.50}\n",
    "apply_discount(milk, 0.25)"
   ]
  },
  {
   "cell_type": "code",
   "execution_count": 61,
   "metadata": {},
   "outputs": [
    {
     "ename": "AssertionError",
     "evalue": "",
     "output_type": "error",
     "traceback": [
      "\u001b[0;31m---------------------------------------------------------------------------\u001b[0m",
      "\u001b[0;31mAssertionError\u001b[0m                            Traceback (most recent call last)",
      "Input \u001b[0;32mIn [61]\u001b[0m, in \u001b[0;36m<cell line: 2>\u001b[0;34m()\u001b[0m\n\u001b[1;32m      1\u001b[0m \u001b[39m# 200% discount is not allowed\u001b[39;00m\n\u001b[0;32m----> 2\u001b[0m apply_discount(milk, \u001b[39m2.00\u001b[39;49m)\n",
      "\u001b[1;32m/Users/b294776/Desktop/workspace/training/UC/uc-bana-6043/book/06-module/lesson-6c.ipynb Cell 57'\u001b[0m in \u001b[0;36mapply_discount\u001b[0;34m(product, discount)\u001b[0m\n\u001b[1;32m      <a href='vscode-notebook-cell:/Users/b294776/Desktop/workspace/training/UC/uc-bana-6043/book/06-module/lesson-6c.ipynb#ch0000063?line=0'>1</a>\u001b[0m \u001b[39mdef\u001b[39;00m \u001b[39mapply_discount\u001b[39m(product, discount):\n\u001b[1;32m      <a href='vscode-notebook-cell:/Users/b294776/Desktop/workspace/training/UC/uc-bana-6043/book/06-module/lesson-6c.ipynb#ch0000063?line=1'>2</a>\u001b[0m     price \u001b[39m=\u001b[39m \u001b[39mround\u001b[39m(product[\u001b[39m'\u001b[39m\u001b[39mprice\u001b[39m\u001b[39m'\u001b[39m] \u001b[39m*\u001b[39m (\u001b[39m1.0\u001b[39m \u001b[39m-\u001b[39m discount), \u001b[39m2\u001b[39m)\n\u001b[0;32m----> <a href='vscode-notebook-cell:/Users/b294776/Desktop/workspace/training/UC/uc-bana-6043/book/06-module/lesson-6c.ipynb#ch0000063?line=2'>3</a>\u001b[0m     \u001b[39massert\u001b[39;00m \u001b[39m0\u001b[39m \u001b[39m<\u001b[39m\u001b[39m=\u001b[39m price \u001b[39m<\u001b[39m\u001b[39m=\u001b[39m product[\u001b[39m'\u001b[39m\u001b[39mprice\u001b[39m\u001b[39m'\u001b[39m]\n\u001b[1;32m      <a href='vscode-notebook-cell:/Users/b294776/Desktop/workspace/training/UC/uc-bana-6043/book/06-module/lesson-6c.ipynb#ch0000063?line=3'>4</a>\u001b[0m     \u001b[39mreturn\u001b[39;00m price\n",
      "\u001b[0;31mAssertionError\u001b[0m: "
     ]
    }
   ],
   "source": [
    "# 200% discount is not allowed\n",
    "apply_discount(milk, 2.00)"
   ]
  },
  {
   "cell_type": "markdown",
   "metadata": {},
   "source": [
    "In the above example, we simply got an `AssertionError` but no message to help us understand what caused the error. The assert statement follows the syntax of `assert condition, message` so we can add an informative message at the end of our `assert` statement."
   ]
  },
  {
   "cell_type": "code",
   "execution_count": 62,
   "metadata": {},
   "outputs": [
    {
     "ename": "AssertionError",
     "evalue": "Invalid discount applied",
     "output_type": "error",
     "traceback": [
      "\u001b[0;31m---------------------------------------------------------------------------\u001b[0m",
      "\u001b[0;31mAssertionError\u001b[0m                            Traceback (most recent call last)",
      "Input \u001b[0;32mIn [62]\u001b[0m, in \u001b[0;36m<cell line: 6>\u001b[0;34m()\u001b[0m\n\u001b[1;32m      3\u001b[0m     \u001b[39massert\u001b[39;00m \u001b[39m0\u001b[39m \u001b[39m<\u001b[39m\u001b[39m=\u001b[39m price \u001b[39m<\u001b[39m\u001b[39m=\u001b[39m product[\u001b[39m'\u001b[39m\u001b[39mprice\u001b[39m\u001b[39m'\u001b[39m], \u001b[39m'\u001b[39m\u001b[39mInvalid discount applied\u001b[39m\u001b[39m'\u001b[39m\n\u001b[1;32m      4\u001b[0m     \u001b[39mreturn\u001b[39;00m price\n\u001b[0;32m----> 6\u001b[0m apply_discount(milk, \u001b[39m2.00\u001b[39;49m)\n",
      "Input \u001b[0;32mIn [62]\u001b[0m, in \u001b[0;36mapply_discount\u001b[0;34m(product, discount)\u001b[0m\n\u001b[1;32m      1\u001b[0m \u001b[39mdef\u001b[39;00m \u001b[39mapply_discount\u001b[39m(product, discount):\n\u001b[1;32m      2\u001b[0m     price \u001b[39m=\u001b[39m \u001b[39mround\u001b[39m(product[\u001b[39m'\u001b[39m\u001b[39mprice\u001b[39m\u001b[39m'\u001b[39m] \u001b[39m*\u001b[39m (\u001b[39m1.0\u001b[39m \u001b[39m-\u001b[39m discount), \u001b[39m2\u001b[39m)\n\u001b[0;32m----> 3\u001b[0m     \u001b[39massert\u001b[39;00m \u001b[39m0\u001b[39m \u001b[39m<\u001b[39m\u001b[39m=\u001b[39m price \u001b[39m<\u001b[39m\u001b[39m=\u001b[39m product[\u001b[39m'\u001b[39m\u001b[39mprice\u001b[39m\u001b[39m'\u001b[39m], \u001b[39m'\u001b[39m\u001b[39mInvalid discount applied\u001b[39m\u001b[39m'\u001b[39m\n\u001b[1;32m      4\u001b[0m     \u001b[39mreturn\u001b[39;00m price\n",
      "\u001b[0;31mAssertionError\u001b[0m: Invalid discount applied"
     ]
    }
   ],
   "source": [
    "def apply_discount(product, discount):\n",
    "    price = round(product['price'] * (1.0 - discount), 2)\n",
    "    assert 0 <= price <= product['price'], 'Invalid discount applied'\n",
    "    return price\n",
    "    \n",
    "apply_discount(milk, 2.00) "
   ]
  },
  {
   "cell_type": "markdown",
   "metadata": {},
   "source": [
    "### Try and except\n",
    "\n",
    "In the prior sections, we looked at ways to identify errors that may occur. The result of our exception handling is to signal an error occurred and stop the program. However, there are often times when we do not want to stop the program. For example, if the program has a database connection that should be closed after execution then we need our program to continue running even if an error occurs to ensure the connection is closed. \n",
    "\n",
    "The `try except` procedure allows us to try execute code. If it works, great! If not, rather than just throw an exception error, we define what the program should continue to do. For example, the following tries the `apply_discount()` function with a pre-defined discount value. If it throws and exception then we adjust the discount value (if discount is greater than 100% of product price we adjust it to the largest acceptable value, if its less than 0 we just set it to 0%)."
   ]
  },
  {
   "cell_type": "code",
   "execution_count": 63,
   "metadata": {},
   "outputs": [],
   "source": [
    "# this discount is created somewhere else in the program\n",
    "discount = 2\n",
    "\n",
    "# if discount causes an error adjust it\n",
    "try:\n",
    "    apply_discount(milk, discount)\n",
    "except Exception:\n",
    "    if discount > 1: discount = 0.99\n",
    "    if discount < 0: discount = 0\n",
    "    apply_discount(milk, discount)"
   ]
  },
  {
   "cell_type": "markdown",
   "metadata": {},
   "source": [
    "The `try except` procedure allows us to include as many `except` statements as necessary for different types of errors (think of them like `elif`s). For example, the following illustrates how we could have different types of code execution for a `TypeError`, a `ValueError`, and then the final `else` statement captures all other errors.\n",
    "\n",
    "```{warning}\n",
    "This procedure will run in order, consequently you want to have the most specific exception handlers first followed by more general exception handlers later on.\n",
    "```"
   ]
  },
  {
   "cell_type": "code",
   "execution_count": 69,
   "metadata": {},
   "outputs": [
    {
     "name": "stdout",
     "output_type": "stream",
     "text": [
      "do something specific for a `ValueError`\n"
     ]
    }
   ],
   "source": [
    "try:\n",
    "    store_sales(data=df, store=35, week=48)\n",
    "except TypeError:\n",
    "    print('do something specific for a `TypeError`')\n",
    "except ValueError:\n",
    "    print('do something specific for a `ValueError`')\n",
    "else:\n",
    "    print('do something specific for all other errors')"
   ]
  },
  {
   "cell_type": "markdown",
   "metadata": {},
   "source": [
    "Lastly, we may have a certain piece of code that we always want to ensure gets ran in a program. For example, we may need to ensure a database connection or file is closed before an error is thrown. The following illustrates how we can add a `finally` at the end of our `try except` procedure. This `finally` will ___always___ be ran. If the code in the `try` clause runs without error, the `finally` code chunk will run _after_ the `try` block. If an error occurse, the `finally` code chunk will run _before_ the relevant `except` code chunk."
   ]
  },
  {
   "cell_type": "code",
   "execution_count": 70,
   "metadata": {},
   "outputs": [
    {
     "name": "stdout",
     "output_type": "stream",
     "text": [
      "Code to close database connection\n"
     ]
    },
    {
     "ename": "ValueError",
     "evalue": "`store` 35 does not exist in the supplied DataFrame",
     "output_type": "error",
     "traceback": [
      "\u001b[0;31m---------------------------------------------------------------------------\u001b[0m",
      "\u001b[0;31mValueError\u001b[0m                                Traceback (most recent call last)",
      "Input \u001b[0;32mIn [70]\u001b[0m, in \u001b[0;36m<cell line: 1>\u001b[0;34m()\u001b[0m\n\u001b[1;32m      1\u001b[0m \u001b[39mtry\u001b[39;00m:\n\u001b[0;32m----> 2\u001b[0m     store_sales(data\u001b[39m=\u001b[39;49mdf, store\u001b[39m=\u001b[39;49m\u001b[39m35\u001b[39;49m, week\u001b[39m=\u001b[39;49m\u001b[39m48\u001b[39;49m)\n\u001b[1;32m      3\u001b[0m \u001b[39mexcept\u001b[39;00m \u001b[39mTypeError\u001b[39;00m:\n\u001b[1;32m      4\u001b[0m     \u001b[39mraise\u001b[39;00m\n",
      "\u001b[1;32m/Users/b294776/Desktop/workspace/training/UC/uc-bana-6043/book/06-module/lesson-6c.ipynb Cell 64'\u001b[0m in \u001b[0;36mstore_sales\u001b[0;34m(data, store, week)\u001b[0m\n\u001b[1;32m      <a href='vscode-notebook-cell:/Users/b294776/Desktop/workspace/training/UC/uc-bana-6043/book/06-module/lesson-6c.ipynb#ch0000070?line=4'>5</a>\u001b[0m \u001b[39mif\u001b[39;00m \u001b[39mnot\u001b[39;00m \u001b[39misinstance\u001b[39m(week, \u001b[39mint\u001b[39m): \u001b[39mraise\u001b[39;00m \u001b[39mTypeError\u001b[39;00m(\u001b[39m'\u001b[39m\u001b[39m`week` should be an integer\u001b[39m\u001b[39m'\u001b[39m)\n\u001b[1;32m      <a href='vscode-notebook-cell:/Users/b294776/Desktop/workspace/training/UC/uc-bana-6043/book/06-module/lesson-6c.ipynb#ch0000070?line=5'>6</a>\u001b[0m \u001b[39mif\u001b[39;00m store \u001b[39mnot\u001b[39;00m \u001b[39min\u001b[39;00m data\u001b[39m.\u001b[39mstore_id\u001b[39m.\u001b[39munique(): \n\u001b[0;32m----> <a href='vscode-notebook-cell:/Users/b294776/Desktop/workspace/training/UC/uc-bana-6043/book/06-module/lesson-6c.ipynb#ch0000070?line=6'>7</a>\u001b[0m     \u001b[39mraise\u001b[39;00m \u001b[39mValueError\u001b[39;00m(\u001b[39mf\u001b[39m\u001b[39m'\u001b[39m\u001b[39m`store` \u001b[39m\u001b[39m{\u001b[39;00mstore\u001b[39m}\u001b[39;00m\u001b[39m does not exist in the supplied DataFrame\u001b[39m\u001b[39m'\u001b[39m)\n\u001b[1;32m     <a href='vscode-notebook-cell:/Users/b294776/Desktop/workspace/training/UC/uc-bana-6043/book/06-module/lesson-6c.ipynb#ch0000070?line=9'>10</a>\u001b[0m \u001b[39m# computation\u001b[39;00m\n\u001b[1;32m     <a href='vscode-notebook-cell:/Users/b294776/Desktop/workspace/training/UC/uc-bana-6043/book/06-module/lesson-6c.ipynb#ch0000070?line=10'>11</a>\u001b[0m filt \u001b[39m=\u001b[39m (data[\u001b[39m'\u001b[39m\u001b[39mstore_id\u001b[39m\u001b[39m'\u001b[39m] \u001b[39m==\u001b[39m store) \u001b[39m&\u001b[39m (data[\u001b[39m'\u001b[39m\u001b[39mweek\u001b[39m\u001b[39m'\u001b[39m] \u001b[39m==\u001b[39m week)\n",
      "\u001b[0;31mValueError\u001b[0m: `store` 35 does not exist in the supplied DataFrame"
     ]
    }
   ],
   "source": [
    "try:\n",
    "    store_sales(data=df, store=35, week=48)\n",
    "except TypeError:\n",
    "    raise\n",
    "except ValueError:\n",
    "    raise\n",
    "finally:\n",
    "    print('Code to close database connection')"
   ]
  },
  {
   "cell_type": "markdown",
   "metadata": {},
   "source": [
    "### Knowledge check\n",
    "\n",
    "```{admonition} Tasks:\n",
    ":class: attention\n",
    "Going back to the `ratio` function:\n",
    "1. Add a procdure to validate that `x` and `y` inputs are numeric and `digits` is an integer.\n",
    "2. Add a try and except procedure where if a `TypeError` is thrown for `digits` because it is a float then the `digits` value is rounded to the nearest integer and applied.\n",
    "```"
   ]
  },
  {
   "cell_type": "markdown",
   "metadata": {},
   "source": [
    "```{admonition} Video 🎥:\n",
    "<iframe id=\"kaltura_player\" src=\"https://cdnapisec.kaltura.com/p/1492301/sp/149230100/embedIframeJs/uiconf_id/49148882/partner_id/1492301?iframeembed=true&playerId=kaltura_player&entry_id=1_611y9x07&flashvars[streamerType]=auto&amp;flashvars[localizationCode]=en_US&amp;flashvars[leadWithHTML5]=true&amp;flashvars[sideBarContainer.plugin]=true&amp;flashvars[sideBarContainer.position]=left&amp;flashvars[sideBarContainer.clickToClose]=true&amp;flashvars[chapters.plugin]=true&amp;flashvars[chapters.layout]=vertical&amp;flashvars[chapters.thumbnailRotator]=false&amp;flashvars[streamSelector.plugin]=true&amp;flashvars[EmbedPlayer.SpinnerTarget]=videoHolder&amp;flashvars[dualScreen.plugin]=true&amp;flashvars[Kaltura.addCrossoriginToIframe]=true&amp;&wid=1_ovogfxcj\" width=\"640\" height=\"610\" allowfullscreen webkitallowfullscreen mozAllowFullScreen allow=\"autoplay *; fullscreen *; encrypted-media *\" sandbox=\"allow-downloads allow-forms allow-same-origin allow-scripts allow-top-navigation allow-pointer-lock allow-popups allow-modals allow-orientation-lock allow-popups-to-escape-sandbox allow-presentation allow-top-navigation-by-user-activation\" frameborder=\"0\" title=\"BANA 6043: try-except Knowledge Check\"></iframe>\n",
    "```"
   ]
  },
  {
   "cell_type": "markdown",
   "metadata": {},
   "source": [
    "## Scoping\n",
    "\n",
    "Scoping refers to the set of rules a programming language uses to lookup the value to variables and/or symbols. The following illustrates the basic concept behind the lexical scoping rules that Python follows. In short, Python follows a nested environment structure and uses what is commonly referred to as the ___LEGB___ search rule:\n",
    "\n",
    "1. Search **l**ocal scope first,\n",
    "2. then the local scopes of **e**nclosing functions,\n",
    "3. then the **g**lobal scope,\n",
    "4. and finally the **b**uilt-in scope\n",
    "\n",
    "### Searching for variables\n",
    "\n",
    "What exactly does this mean?  A function has its own environment and when you assign an argument in the `def` header of the function, the function creates a separate environment that keeps that variable separate from any variable in the global environment. This is why you can have an `x` variable in the global environment that won't be confused with an `x` variable in your function:"
   ]
  },
  {
   "cell_type": "code",
   "execution_count": 71,
   "metadata": {},
   "outputs": [
    {
     "data": {
      "text/plain": [
       "51"
      ]
     },
     "execution_count": 71,
     "metadata": {},
     "output_type": "execute_result"
    }
   ],
   "source": [
    "x = 84\n",
    "\n",
    "def func(x):\n",
    "  return x + 1\n",
    "  \n",
    "func(x = 50)  "
   ]
  },
  {
   "cell_type": "markdown",
   "metadata": {},
   "source": [
    "However, the function environment is only active when called and all function variables are removed from memory after being called. Consequently, you can continue using `x` that is contained in the global environment."
   ]
  },
  {
   "cell_type": "code",
   "execution_count": 72,
   "metadata": {},
   "outputs": [
    {
     "data": {
      "text/plain": [
       "84"
      ]
     },
     "execution_count": 72,
     "metadata": {},
     "output_type": "execute_result"
    }
   ],
   "source": [
    "x"
   ]
  },
  {
   "cell_type": "markdown",
   "metadata": {},
   "source": [
    "However, if a variable does not exist within the function, Python will look one level up to see if the variable exists. In this case, since `y` is not supplied in the function header, Python will look in the next environment up (global environment in this case) for that variable:"
   ]
  },
  {
   "cell_type": "code",
   "execution_count": 74,
   "metadata": {},
   "outputs": [
    {
     "data": {
      "text/plain": [
       "'Brad Boehmke'"
      ]
     },
     "execution_count": 74,
     "metadata": {},
     "output_type": "execute_result"
    }
   ],
   "source": [
    "y = 'Boehmke'\n",
    "\n",
    "def func(x):\n",
    "  return x + ' ' + y\n",
    "  \n",
    "func(x = 'Brad') "
   ]
  },
  {
   "cell_type": "markdown",
   "metadata": {},
   "source": [
    "The same will happen if we have nested functions. Python will search in enclosing functions in a hierarchical fashion until it finds the necessary variables. In this convoluted procedure...\n",
    "\n",
    "* `y` is a global variable,\n",
    "* `x` & `sep` are local variables to the `my_name` function,\n",
    "* and `my_paste` has no local variables,\n",
    "* the `my_name` function gets `y` from the global environment,\n",
    "* and the `my_paste` function gets all its inputs from the `my_name` environment.\n",
    "\n",
    "```{warning}\n",
    "We do not recommend that you write functions like this. This is primarily only for explaining how Python searches for information, which can be helpful for debugging.\n",
    "```"
   ]
  },
  {
   "cell_type": "code",
   "execution_count": 80,
   "metadata": {},
   "outputs": [
    {
     "data": {
      "text/plain": [
       "'Brad Boehmke'"
      ]
     },
     "execution_count": 80,
     "metadata": {},
     "output_type": "execute_result"
    }
   ],
   "source": [
    "y = 'Boehmke'\n",
    "\n",
    "def my_name(sep):\n",
    "    x = 'Brad'\n",
    "    def my_paste():\n",
    "        return x + sep + y\n",
    "    return my_paste()\n",
    "  \n",
    "my_name(sep=' ')"
   ]
  },
  {
   "cell_type": "markdown",
   "metadata": {},
   "source": [
    "### Changing variables\n",
    "\n",
    "It is possible to change variable values that are outside of the active environment. This is rarely necessary, and is usually not good practice, but it is good to know about. For example, the following changes the global variable `y` by including the keyword-variable statement `global y` prior to making the assignment of the new value for `y`.\n",
    "\n",
    "```{tip}\n",
    "The same can be done with changing values in nested functions; however, you would use the keyword `nonlocal` to change the value of an enclosing function's local variable.\n",
    "```"
   ]
  },
  {
   "cell_type": "code",
   "execution_count": 81,
   "metadata": {},
   "outputs": [
    {
     "data": {
      "text/plain": [
       "'84.51'"
      ]
     },
     "execution_count": 81,
     "metadata": {},
     "output_type": "execute_result"
    }
   ],
   "source": [
    "y = 8451\n",
    "\n",
    "def convert(x):\n",
    "    x = str(x)\n",
    "    firstpart, secondpart = x[:len(x)//2], x[len(x)//2:]\n",
    "    global y\n",
    "    y = firstpart + '.' + secondpart\n",
    "    return y\n",
    "\n",
    "convert(8451) "
   ]
  },
  {
   "cell_type": "code",
   "execution_count": 82,
   "metadata": {},
   "outputs": [
    {
     "data": {
      "text/plain": [
       "'84.51'"
      ]
     },
     "execution_count": 82,
     "metadata": {},
     "output_type": "execute_result"
    }
   ],
   "source": [
    "y"
   ]
  },
  {
   "cell_type": "markdown",
   "metadata": {},
   "source": [
    "## Anonymous functions\n",
    "\n",
    "So far we have been discussing defined functions; however, Python allows you to generate _anonymous_ functions on the fly. These are often referred to as __lambdas__.  Lambdas allow for an alternative approach when creating short and simple functions that are only used once or twice. \n",
    "\n",
    "For example, the following two functions are equivalent:\n",
    "\n",
    "```python\n",
    "# defined function\n",
    "def func(x, y, z):\n",
    "    return x + y + z\n",
    "  \n",
    "# lambda function  \n",
    "lambda x, y, z: x + y + z  \n",
    "```\n",
    "\n",
    "Note how the `lambda`'s body is a single expression and not a block statement. This is a requirement, which typically restricts lambdas to very short, concise function calls. The best use case for lambda functions are for when you want a simple function to be anonymously embedded within a larger expressions. For example, say we wanted to loop over each item in a list and apply a simple square function, we could accomplish this by supplying a lambda function to the `map` function. `map` just iterates over each item in an object and applies a given function (you could accomplish the exact same with a list comprehension)."
   ]
  },
  {
   "cell_type": "code",
   "execution_count": 83,
   "metadata": {},
   "outputs": [
    {
     "data": {
      "text/plain": [
       "[2304, 36, 81, 441, 1]"
      ]
     },
     "execution_count": 83,
     "metadata": {},
     "output_type": "execute_result"
    }
   ],
   "source": [
    "nums = [48, 6, 9, 21, 1]\n",
    "\n",
    "list(map(lambda x: x ** 2, nums))"
   ]
  },
  {
   "cell_type": "markdown",
   "metadata": {},
   "source": [
    "Another good example is the following one you already lesson 6a where we apply a lambda function to assign 'high value' for each transaction where `sales_value` is greater than 10 and 'low value' for all other transactions."
   ]
  },
  {
   "cell_type": "code",
   "execution_count": 89,
   "metadata": {},
   "outputs": [
    {
     "data": {
      "text/plain": [
       "0          low value\n",
       "1          low value\n",
       "2          low value\n",
       "3          low value\n",
       "4          low value\n",
       "             ...    \n",
       "1469302    low value\n",
       "1469303    low value\n",
       "1469304    low value\n",
       "1469305    low value\n",
       "1469306    low value\n",
       "Name: sales_value, Length: 1469307, dtype: object"
      ]
     },
     "execution_count": 89,
     "metadata": {},
     "output_type": "execute_result"
    }
   ],
   "source": [
    "(\n",
    "    df['sales_value']\n",
    "    .apply(lambda x: 'high value' if x > 10 else 'low value')\n",
    ")"
   ]
  },
  {
   "cell_type": "markdown",
   "metadata": {},
   "source": [
    "Here is another example where we group by `basket_id` and then apply a lambda function to compute the average cost per item in each basket."
   ]
  },
  {
   "cell_type": "code",
   "execution_count": 90,
   "metadata": {},
   "outputs": [
    {
     "data": {
      "text/plain": [
       "basket_id\n",
       "31198437603    1.951207\n",
       "31198445400    1.250000\n",
       "31198445429    2.045000\n",
       "31198445465    1.680000\n",
       "31198452527    4.048333\n",
       "                 ...   \n",
       "41480008448    1.533810\n",
       "41480013048    1.206667\n",
       "41480018446    1.773210\n",
       "41481252623    1.285556\n",
       "41481282915    8.495000\n",
       "Length: 155848, dtype: float64"
      ]
     },
     "execution_count": 90,
     "metadata": {},
     "output_type": "execute_result"
    }
   ],
   "source": [
    "(\n",
    "    df[['basket_id', 'sales_value', 'quantity']]\n",
    "    .groupby('basket_id')\n",
    "    .apply(lambda x: (x['sales_value'] / x['quantity']).mean())\n",
    ")"
   ]
  },
  {
   "cell_type": "markdown",
   "metadata": {},
   "source": [
    "### Knowledge check\n",
    "\n",
    "```{admonition} Task:\n",
    ":class: attention\n",
    "Let's focus on the transaction timestamp for each transaction (`df['transaction_timestamp']`). Use the `.apply()` method along with a lambda function to assign each transaction to 'weekday' or 'weekend'. To do this check out the `.day_name()` method (i.e. `df['transaction_timestamp'][0].day_name()`)\n",
    "```"
   ]
  },
  {
   "cell_type": "markdown",
   "metadata": {},
   "source": [
    "## Exercises\n",
    "\n",
    "```{admonition} Tasks:\n",
    ":class: attention\n",
    "1. Load in the companies.csv data (in the data folder).\n",
    "2. Write a function `is_incorporated` that checks whether an input string, `name`, contains the substring \"inc\" or \"Inc\". Its definition should look like this:\n",
    "    ```python\n",
    "    def is_incorporated(name):\n",
    "        ...\n",
    "3. Add type hints and a docstring.\n",
    "4. Test this function to be sure it works. Try passing in some strings that contain the substring and some that don't. Test it on data from the companies DataFrame.\n",
    "5. Write a `for` loop to iterate through the elements in the Name column of the companies data, applying `is_incorporated` to each element and printing the result.\n",
    "5. Now rewrite the code for #4 using the `Series.apply` method -- apply the function to the Series and print the resulting Series.\n",
    "```"
   ]
  },
  {
   "cell_type": "markdown",
   "metadata": {},
   "source": [
    "## Computing environment"
   ]
  },
  {
   "cell_type": "code",
   "execution_count": null,
   "metadata": {},
   "outputs": [],
   "source": [
    "%load_ext watermark\n",
    "%watermark -v -p pandas,jupyterlab,completejourney_py"
   ]
  }
 ],
 "metadata": {
  "kernelspec": {
   "display_name": "Python 3 (ipykernel)",
   "language": "python",
   "name": "python3"
  },
  "language_info": {
   "codemirror_mode": {
    "name": "ipython",
    "version": 3
   },
   "file_extension": ".py",
   "mimetype": "text/x-python",
   "name": "python",
   "nbconvert_exporter": "python",
   "pygments_lexer": "ipython3",
   "version": "3.9.12"
  },
  "vscode": {
   "interpreter": {
    "hash": "40d3a090f54c6569ab1632332b64b2c03c39dcf918b08424e98f38b5ae0af88f"
   }
  }
 },
 "nbformat": 4,
 "nbformat_minor": 4
}
