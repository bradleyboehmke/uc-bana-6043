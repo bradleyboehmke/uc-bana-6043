{
 "cells": [
  {
   "cell_type": "markdown",
   "id": "78c568d7-5364-41dc-b3c8-8275ba0b392c",
   "metadata": {
    "slideshow": {
     "slide_type": "slide"
    },
    "tags": []
   },
   "source": [
    "# Lesson 7d: Model Evaluation & Selection\n",
    "\n",
    "The last few lessons gave you a good introduction to applying Scikit-learn models. This lesson is going to go deeper into the idea of assessing model performance. We'll discuss how to incoporate cross-validation procedures to give you a more robust assessment of model performance. We'll also look at how to incorporate different evaluation metrics for scoring your models. And finally, we will discuss the concept of hyperparameter tuning, the bias-variance tradeoff, and how to implement a tuning strategy to find a model the maximizes generalizability."
   ]
  },
  {
   "cell_type": "markdown",
   "id": "b62edfed-c4e6-4253-b75b-bfd1dce995a7",
   "metadata": {
    "slideshow": {
     "slide_type": "slide"
    },
    "tags": []
   },
   "source": [
    "## Learning objectives\n",
    "\n",
    "By the end of this lesson you will be able to:\n",
    "\n",
    "1. Perform cross-validation procedures for more robust model performance assessment.\n",
    "2. Apply different evaluation metrics for scoring your model.\n",
    "3. Execute hyperparameter tuning to find optimal model parameter settings."
   ]
  },
  {
   "cell_type": "markdown",
   "id": "afd20f1d-1e25-49c0-879f-47583150c8a4",
   "metadata": {
    "slideshow": {
     "slide_type": "slide"
    },
    "tags": []
   },
   "source": [
    "## Quick refresher\n",
    "\n",
    "But first, let's review a few things that we learned in the previous modules."
   ]
  },
  {
   "cell_type": "markdown",
   "id": "d54b81a7-1635-412d-b72a-c9262e41a975",
   "metadata": {
    "slideshow": {
     "slide_type": "slide"
    },
    "tags": []
   },
   "source": [
    "### Data prep\n",
    "\n",
    "In lesson 7b we discussed how we typically separate our features and target into distinct data objects and that we create a train-test split so we can measure model performance on data that our model was not trained on."
   ]
  },
  {
   "cell_type": "code",
   "execution_count": 1,
   "id": "10995d82-7d40-42dd-8118-d356c385ca86",
   "metadata": {},
   "outputs": [
    {
     "name": "stderr",
     "output_type": "stream",
     "text": [
      "/opt/anaconda3/lib/python3.9/site-packages/pandas/core/computation/expressions.py:21: UserWarning: Pandas requires version '2.8.4' or newer of 'numexpr' (version '2.8.1' currently installed).\n",
      "  from pandas.core.computation.check import NUMEXPR_INSTALLED\n",
      "/opt/anaconda3/lib/python3.9/site-packages/pandas/core/arrays/masked.py:60: UserWarning: Pandas requires version '1.3.6' or newer of 'bottleneck' (version '1.3.4' currently installed).\n",
      "  from pandas.core import (\n"
     ]
    }
   ],
   "source": [
    "# packages used\n",
    "import pandas as pd\n",
    "from sklearn.model_selection import train_test_split\n",
    "\n",
    "# import data\n",
    "adult_census = pd.read_csv('../data/adult-census.csv')\n",
    "\n",
    "# separate feature & target data\n",
    "target = adult_census['class']\n",
    "features = adult_census.drop(columns='class')\n",
    "\n",
    "# drop the duplicated column `\"education-num\"` as stated in the data exploration notebook\n",
    "features = features.drop(columns='education-num')\n",
    "\n",
    "# split into train & test sets\n",
    "X_train, X_test, y_train, y_test = train_test_split(features, target, random_state=123)"
   ]
  },
  {
   "cell_type": "markdown",
   "id": "6483b7ea-7a8e-4859-9cb9-d72c039c4af2",
   "metadata": {
    "slideshow": {
     "slide_type": "slide"
    },
    "tags": []
   },
   "source": [
    "### Feature engineering\n",
    "\n",
    "In lesson 7c we looked at how we can apply common feature engineering tasks to numeric and categorical features and how we can combine these tasks with `ColumnTransformer`."
   ]
  },
  {
   "cell_type": "code",
   "execution_count": 2,
   "id": "20c9f2dc-40da-4212-9cfd-23fef0feecfa",
   "metadata": {},
   "outputs": [],
   "source": [
    "# packages used\n",
    "from sklearn.compose import make_column_selector as selector\n",
    "from sklearn.preprocessing import StandardScaler\n",
    "from sklearn.preprocessing import OneHotEncoder\n",
    "from sklearn.compose import ColumnTransformer\n",
    "\n",
    "# create selector object based on data type\n",
    "numerical_columns_selector = selector(dtype_exclude=object)\n",
    "categorical_columns_selector = selector(dtype_include=object)\n",
    "\n",
    "# get columns of interest\n",
    "numerical_columns = numerical_columns_selector(features)\n",
    "categorical_columns = categorical_columns_selector(features)\n",
    "\n",
    "# preprocessors to handle numeric and categorical features\n",
    "numerical_preprocessor = StandardScaler()\n",
    "categorical_preprocessor = OneHotEncoder(handle_unknown=\"ignore\")\n",
    "\n",
    "# transformer to associate each of these preprocessors with their respective columns\n",
    "preprocessor = ColumnTransformer([\n",
    "    ('one-hot-encoder', categorical_preprocessor, categorical_columns),\n",
    "    ('standard_scaler', numerical_preprocessor, numerical_columns)\n",
    "])"
   ]
  },
  {
   "cell_type": "markdown",
   "id": "aacba690-d95b-4106-8f68-dda2d05b622e",
   "metadata": {
    "slideshow": {
     "slide_type": "slide"
    },
    "tags": []
   },
   "source": [
    "### Modeling\n",
    "\n",
    "And we also discussed how we can combine feature engineering steps with modeling steps using a pipeline object. "
   ]
  },
  {
   "cell_type": "code",
   "execution_count": 3,
   "id": "db2eea32-a2c7-4140-a59c-623e123ed11a",
   "metadata": {},
   "outputs": [
    {
     "data": {
      "text/plain": [
       "0.8503808041929408"
      ]
     },
     "execution_count": 3,
     "metadata": {},
     "output_type": "execute_result"
    }
   ],
   "source": [
    "# packages used\n",
    "from sklearn.linear_model import LogisticRegression\n",
    "from sklearn.pipeline import make_pipeline\n",
    "\n",
    "# Pipeline object to chain together modeling processes\n",
    "model = make_pipeline(preprocessor, LogisticRegression(max_iter=500))\n",
    "model\n",
    "\n",
    "# fit our model\n",
    "_ = model.fit(X_train, y_train)\n",
    "\n",
    "# score on test set\n",
    "model.score(X_test, y_test)"
   ]
  },
  {
   "cell_type": "markdown",
   "id": "85f3a4f0-caf0-480e-8439-d33fab9890b9",
   "metadata": {
    "slideshow": {
     "slide_type": "slide"
    },
    "tags": []
   },
   "source": [
    "## Resampling & cross-validation"
   ]
  },
  {
   "cell_type": "markdown",
   "id": "34582129-dd2f-481a-8813-fb80ed5f8090",
   "metadata": {
    "tags": []
   },
   "source": [
    "In lesson 7b we split our data into training and testing sets and we assessed the performance of our model on the test set. Unfortunately, there are a few pitfalls to this approach:"
   ]
  },
  {
   "cell_type": "markdown",
   "id": "f58d9d74-0e75-4c1f-86a9-ec27caf1ac2d",
   "metadata": {},
   "source": [
    "1. If our dataset is small, a single test set may not provide realistic expectations of our model's performance on unseen data.\n",
    "2. A single test set does not provide us any insight on variability of our model's performance.\n",
    "3. Using our test set to drive our model building process can bias our results via _data leakage_."
   ]
  },
  {
   "cell_type": "markdown",
   "id": "87726e49-4b41-4fc4-ab03-5c3efdfbbdb2",
   "metadata": {
    "slideshow": {
     "slide_type": "slide"
    },
    "tags": []
   },
   "source": [
    "Resampling methods provide an alternative approach by allowing us to repeatedly fit a model of interest to parts of the training data and test its performance on other parts of the training data.\n",
    "\n",
    ":::{figure-md} resampling\n",
    "<img src=\"../images/resampling.svg\" alt=\"Resampling\" width=\"90%\">\n",
    "\n",
    "Illustration of resampling.\n",
    ":::"
   ]
  },
  {
   "cell_type": "markdown",
   "id": "45ca69ec-1638-4261-9ec0-99708b354560",
   "metadata": {
    "slideshow": {
     "slide_type": "skip"
    },
    "tags": []
   },
   "source": [
    "```{note}\n",
    "This allows us to train and validate our model entirely on the training data and not touch the test data until we have selected a final \"optimal\" model.\n",
    "```"
   ]
  },
  {
   "cell_type": "markdown",
   "id": "e7724614-fef9-402b-bd34-6170d4ac244b",
   "metadata": {
    "slideshow": {
     "slide_type": "fragment"
    },
    "tags": []
   },
   "source": [
    "The two most commonly used resampling methods include ___k-fold cross-validation___ and ___bootstrap sampling___. This lesson focuses on using k-fold cross-validation."
   ]
  },
  {
   "cell_type": "markdown",
   "id": "f8b2af04-02e2-424d-b78c-ae4c6e06d2eb",
   "metadata": {
    "slideshow": {
     "slide_type": "slide"
    },
    "tags": []
   },
   "source": [
    "## K-fold cross-validation\n",
    "\n",
    "Cross-validation consists of repeating the procedure such that the training and testing sets are different each time. Generalization performance metrics are collected for each repetition and then aggregated. As a result we can get an estimate of the variability of the model’s generalization performance."
   ]
  },
  {
   "cell_type": "markdown",
   "id": "79bcf456-d4ff-4dd3-8ae1-7aff4e729946",
   "metadata": {
    "tags": []
   },
   "source": [
    "_k_-fold cross-validation (aka _k_-fold CV) is a resampling method that randomly divides the training data into _k_ groups (aka folds) of approximately equal size. \n",
    "\n",
    ":::{figure-md} kfold\n",
    "<img src=\"../images/cross_validation_diagram.png\" alt=\"kfold\" width=\"90%\">\n",
    "\n",
    "Illustration of k-fold sampling across a data sets index.\n",
    ":::"
   ]
  },
  {
   "cell_type": "markdown",
   "id": "40ffe44c-41d0-49f0-9adc-ffa933262b77",
   "metadata": {
    "slideshow": {
     "slide_type": "slide"
    },
    "tags": []
   },
   "source": [
    "The model is fit on $k-1$ folds and then the remaining fold is used to compute model performance.  This procedure is repeated _k_ times; each time, a different fold is treated as the validation set. \n",
    "\n",
    "This process results in _k_ estimates of the generalization error (say $\\epsilon_1, \\epsilon_2, \\dots, \\epsilon_k$). Thus, the _k_-fold CV estimate is computed by averaging the _k_ test errors, providing us with an approximation of the error we might expect on unseen data."
   ]
  },
  {
   "cell_type": "markdown",
   "id": "df80a7ee-686e-4561-8386-6d61f2c9a43f",
   "metadata": {},
   "source": [
    ":::{figure-md} kfold-2\n",
    "<img src=\"../images/cv.png\" alt=\"kfold cv\" width=\"95%\">\n",
    "\n",
    "Illustration of a 5-fold cross validation procedure.\n",
    ":::"
   ]
  },
  {
   "cell_type": "markdown",
   "id": "73f6b1cf-5ba0-4102-8ebb-b1dda1772bf1",
   "metadata": {
    "slideshow": {
     "slide_type": "slide"
    },
    "tags": []
   },
   "source": [
    "In scikit-learn, the function [`cross_validate`](https://scikit-learn.org/stable/modules/generated/sklearn.model_selection.cross_validate.html) allows us to perform cross-validation and you need to pass it the model, the data, and the target. Since there exists several cross-validation strategies, cross_validate takes a parameter `cv` which defines the splitting strategy."
   ]
  },
  {
   "cell_type": "markdown",
   "id": "29c3f7ee-49e1-4a3a-be18-7e760380a0d7",
   "metadata": {},
   "source": [
    "```{tip}\n",
    "In practice, one typically uses k=5 or k=10. There is no formal rule as to the size of k; however, as k gets larger, the difference between the estimated performance and the true performance to be seen on the test set will decrease.\n",
    "```"
   ]
  },
  {
   "cell_type": "code",
   "execution_count": 4,
   "id": "df17378a-c67f-4177-9ce0-42754c70a750",
   "metadata": {
    "slideshow": {
     "slide_type": "slide"
    },
    "tags": []
   },
   "outputs": [
    {
     "name": "stdout",
     "output_type": "stream",
     "text": [
      "CPU times: user 3.32 s, sys: 71.8 ms, total: 3.39 s\n",
      "Wall time: 3.48 s\n"
     ]
    },
    {
     "data": {
      "text/plain": [
       "{'fit_time': array([0.70706296, 0.63728094, 0.66682196, 0.62867785, 0.59832406]),\n",
       " 'score_time': array([0.02968478, 0.02665591, 0.02668214, 0.02673626, 0.02636075]),\n",
       " 'test_score': array([0.85191757, 0.84548185, 0.85790336, 0.85094185, 0.85571936])}"
      ]
     },
     "execution_count": 4,
     "metadata": {},
     "output_type": "execute_result"
    }
   ],
   "source": [
    "%%time\n",
    "from sklearn.model_selection import cross_validate\n",
    "\n",
    "cv_result = cross_validate(model, X_train, y_train, cv=5)\n",
    "cv_result"
   ]
  },
  {
   "cell_type": "markdown",
   "id": "2dc68f94-850f-492f-9308-bc1b34eb3fe6",
   "metadata": {},
   "source": [
    "The output of cross_validate is a Python dictionary, which by default contains three entries: \n",
    "\n",
    "- `fit_time`: the time to train the model on the training data for each fold, \n",
    "- `score_time`: the time to predict with the model on the testing data for each fold, and \n",
    "- `test_score`: the default score on the testing data for each fold."
   ]
  },
  {
   "cell_type": "code",
   "execution_count": 5,
   "id": "ae0bf5c2-e4ea-4140-8def-05b8dee7e77d",
   "metadata": {
    "slideshow": {
     "slide_type": "slide"
    },
    "tags": []
   },
   "outputs": [
    {
     "name": "stdout",
     "output_type": "stream",
     "text": [
      "The mean cross-validation accuracy is: 0.852 +/- 0.004\n"
     ]
    }
   ],
   "source": [
    "scores = cv_result[\"test_score\"]\n",
    "print(\"The mean cross-validation accuracy is: \"\n",
    "      f\"{scores.mean():.3f} +/- {scores.std():.3f}\")"
   ]
  },
  {
   "cell_type": "markdown",
   "id": "748d0fe6-c5e9-491f-b5da-9c775207fe5f",
   "metadata": {
    "slideshow": {
     "slide_type": "slide"
    },
    "tags": []
   },
   "source": [
    "### Knowledge check\n",
    "\n",
    "```{admonition} Question:\n",
    "Using `KNeighborsClassifier()`, run a 5 fold cross validation procedure and compare the accuracy and standard deviation to the `LogisticRegression` model we just ran. Which model has a better CV score?\n",
    "```"
   ]
  },
  {
   "cell_type": "markdown",
   "id": "53aef758-46e9-4f83-95f9-d33e64b4c0a6",
   "metadata": {
    "slideshow": {
     "slide_type": "slide"
    },
    "tags": []
   },
   "source": [
    "## Evaluation metrics\n",
    "\n",
    "Evaluation metrics allow us to measure the predictive accuracy of our model – the difference between the predicted value ($\\hat{y}_i$) and the actual value ($y_i$).\n",
    "\n",
    "We often refer to evaluation metrics as ___loss functions___: $f(y_{i} - \\hat{y}_i)$\n",
    "\n",
    "Scikit-Learn provides multiple ways to compute evaluation metrics and refers to this concept as [___scoring___](https://scikit-learn.org/stable/modules/model_evaluation.html). \n",
    "   1. Estimator scoring method\n",
    "   2. Individual scoring functions\n",
    "   3. Scoring parameters"
   ]
  },
  {
   "cell_type": "markdown",
   "id": "1189c888-7b3c-45c5-b669-908dfd9c6eac",
   "metadata": {
    "slideshow": {
     "slide_type": "slide"
    },
    "tags": []
   },
   "source": [
    "### Estimator scoring method\n",
    "\n",
    "Every estimator (regression/classification model) has a default scoring method. Most classifiers return the mean accuracy of the model on the supplied $X$ and $y$:"
   ]
  },
  {
   "cell_type": "code",
   "execution_count": 6,
   "id": "4c7b9e6c-9266-498f-b4a5-47c4486f3a81",
   "metadata": {
    "slideshow": {
     "slide_type": "fragment"
    },
    "tags": []
   },
   "outputs": [
    {
     "data": {
      "text/plain": [
       "0.9595782073813708"
      ]
     },
     "execution_count": 6,
     "metadata": {},
     "output_type": "execute_result"
    }
   ],
   "source": [
    "# toy data\n",
    "from sklearn.datasets import load_breast_cancer\n",
    "X_cancer, y_cancer = load_breast_cancer(return_X_y=True)\n",
    "\n",
    "# fit model\n",
    "clf = LogisticRegression(solver='liblinear').fit(X_cancer, y_cancer)\n",
    "\n",
    "# score\n",
    "clf.score(X_cancer, y_cancer)"
   ]
  },
  {
   "cell_type": "markdown",
   "id": "d861b4a4-b577-4f07-9b89-077b23d945c6",
   "metadata": {
    "slideshow": {
     "slide_type": "slide"
    },
    "tags": []
   },
   "source": [
    "While most regressors return the $R^2$ metric:"
   ]
  },
  {
   "cell_type": "code",
   "execution_count": 7,
   "id": "0f3b0e77-bcd5-4a46-8dc9-b18694bbfd76",
   "metadata": {},
   "outputs": [
    {
     "data": {
      "text/plain": [
       "0.5177494254132934"
      ]
     },
     "execution_count": 7,
     "metadata": {},
     "output_type": "execute_result"
    }
   ],
   "source": [
    "# toy data\n",
    "from sklearn.datasets import load_diabetes\n",
    "X_diabetes, y_diabetes = load_diabetes(return_X_y=True)\n",
    "\n",
    "# fit model\n",
    "from sklearn.linear_model import LinearRegression\n",
    "reg = LinearRegression().fit(X_diabetes, y_diabetes)\n",
    "\n",
    "# score\n",
    "reg.score(X_diabetes, y_diabetes)"
   ]
  },
  {
   "cell_type": "markdown",
   "id": "be387d90-b2c3-46ac-abbb-f05a52dfec4a",
   "metadata": {
    "slideshow": {
     "slide_type": "slide"
    },
    "tags": []
   },
   "source": [
    "### Individual scoring functions\n",
    "\n",
    "However, these default evaluation metrics are often not the metrics most suitable to the business problem.\n",
    "\n",
    "There are many loss functions to choose from; each with unique characteristics that can be beneficial for certain problems.\n",
    "   * Regression problems\n",
    "      - Mean squared error (MSE)\n",
    "      - Root mean squared error (RMSE)\n",
    "      - Mean absolute error (MAE)\n",
    "      - etc.\n",
    "   * Classification problems\n",
    "      - Area under the curve (AUC)\n",
    "      - Cross-entropy (aka Log loss)\n",
    "      - Precision\n",
    "      - etc."
   ]
  },
  {
   "cell_type": "markdown",
   "id": "927de46b-3dd7-4369-9bbc-86f1035cee12",
   "metadata": {
    "slideshow": {
     "slide_type": "slide"
    },
    "tags": []
   },
   "source": [
    "Scikit-Learn provides many [scoring functions](https://scikit-learn.org/stable/modules/classes.html#module-sklearn.metrics) to choose from."
   ]
  },
  {
   "cell_type": "code",
   "execution_count": 8,
   "id": "64c4fc90-6c32-42fd-9764-ccec767ce9e9",
   "metadata": {},
   "outputs": [],
   "source": [
    "from sklearn import metrics"
   ]
  },
  {
   "cell_type": "markdown",
   "id": "b2f081ff-ab5d-4d53-9dad-cb0ec81d5f1f",
   "metadata": {
    "slideshow": {
     "slide_type": "fragment"
    },
    "tags": []
   },
   "source": [
    "The functions take actual y values and predicted y values -- $f(y_{i} - \\hat{y}_i)$"
   ]
  },
  {
   "cell_type": "markdown",
   "id": "b27c5e12-5c3f-46d1-a5ca-0b9dba406d2e",
   "metadata": {
    "slideshow": {
     "slide_type": "slide"
    },
    "tags": []
   },
   "source": [
    "__Example regression metrics__:"
   ]
  },
  {
   "cell_type": "code",
   "execution_count": 9,
   "id": "9c411194-11f3-41fb-857f-f8bb37b8c1ef",
   "metadata": {},
   "outputs": [
    {
     "data": {
      "text/plain": [
       "2859.6903987680657"
      ]
     },
     "execution_count": 9,
     "metadata": {},
     "output_type": "execute_result"
    }
   ],
   "source": [
    "y_pred = reg.predict(X_diabetes)\n",
    "\n",
    "# Mean squared error\n",
    "metrics.mean_squared_error(y_diabetes, y_pred)"
   ]
  },
  {
   "cell_type": "code",
   "execution_count": 10,
   "id": "bf56419b-38f8-478c-84cb-c53c485f5e52",
   "metadata": {
    "slideshow": {
     "slide_type": "fragment"
    },
    "tags": []
   },
   "outputs": [
    {
     "data": {
      "text/plain": [
       "0.38786197940297423"
      ]
     },
     "execution_count": 10,
     "metadata": {},
     "output_type": "execute_result"
    }
   ],
   "source": [
    "# Mean absolute percentage error\n",
    "metrics.mean_absolute_percentage_error(y_diabetes, y_pred)"
   ]
  },
  {
   "cell_type": "markdown",
   "id": "54c43ac0-7ff6-48c1-b0e2-755aa4bcef8b",
   "metadata": {
    "slideshow": {
     "slide_type": "slide"
    },
    "tags": []
   },
   "source": [
    "__Example classification metrics__:"
   ]
  },
  {
   "cell_type": "code",
   "execution_count": 11,
   "id": "fb06aa74-86ca-4ed5-bdcf-c4c4e6febd9c",
   "metadata": {},
   "outputs": [
    {
     "data": {
      "text/plain": [
       "0.9543760900586651"
      ]
     },
     "execution_count": 11,
     "metadata": {},
     "output_type": "execute_result"
    }
   ],
   "source": [
    "y_pred = clf.predict(X_cancer)\n",
    "\n",
    "# Area under the curve\n",
    "metrics.roc_auc_score(y_cancer, y_pred)"
   ]
  },
  {
   "cell_type": "code",
   "execution_count": 12,
   "id": "cf33995d-cd43-4eeb-9f5b-1cfe00db18ac",
   "metadata": {
    "slideshow": {
     "slide_type": "fragment"
    },
    "tags": []
   },
   "outputs": [
    {
     "data": {
      "text/plain": [
       "0.968011126564673"
      ]
     },
     "execution_count": 12,
     "metadata": {},
     "output_type": "execute_result"
    }
   ],
   "source": [
    "# F1 score\n",
    "metrics.f1_score(y_cancer, y_pred)"
   ]
  },
  {
   "cell_type": "code",
   "execution_count": 13,
   "id": "5b7b6020-f504-46c4-80cc-77be716d7efb",
   "metadata": {
    "slideshow": {
     "slide_type": "fragment"
    },
    "tags": []
   },
   "outputs": [
    {
     "name": "stdout",
     "output_type": "stream",
     "text": [
      "              precision    recall  f1-score   support\n",
      "\n",
      "           0       0.96      0.93      0.95       212\n",
      "           1       0.96      0.97      0.97       357\n",
      "\n",
      "    accuracy                           0.96       569\n",
      "   macro avg       0.96      0.95      0.96       569\n",
      "weighted avg       0.96      0.96      0.96       569\n",
      "\n"
     ]
    }
   ],
   "source": [
    "# multiple metrics at once!\n",
    "print(metrics.classification_report(y_cancer, y_pred))"
   ]
  },
  {
   "cell_type": "markdown",
   "id": "f6a87065-d857-45c7-a964-26396686210f",
   "metadata": {
    "slideshow": {
     "slide_type": "slide"
    },
    "tags": []
   },
   "source": [
    "### Scoring parameters\n",
    "\n",
    "And since we prefer to use cross-validation procedures, scikit-learn has incorporated a `scoring` parameter.\n",
    "\n",
    "Most evaluation metrics have a predefined text string that can be supplied as a `scoring` argument. "
   ]
  },
  {
   "cell_type": "code",
   "execution_count": 14,
   "id": "b84fc547-1490-4d88-bc0d-681ae559c642",
   "metadata": {},
   "outputs": [
    {
     "data": {
      "text/plain": [
       "{'fit_time': array([0.61507392, 0.68755412, 0.71378303, 0.73287392, 0.7181592 ]),\n",
       " 'score_time': array([0.02862501, 0.03136301, 0.03537488, 0.03087187, 0.02654004]),\n",
       " 'test_score': array([0.90485391, 0.90327186, 0.9131704 , 0.90553135, 0.90816402])}"
      ]
     },
     "execution_count": 14,
     "metadata": {},
     "output_type": "execute_result"
    }
   ],
   "source": [
    "# say we wanted to use AUC as our loss function while using 5-fold validation\n",
    "cross_validate(model, X_train, y_train, cv=5, scoring='roc_auc')"
   ]
  },
  {
   "cell_type": "markdown",
   "id": "63e63212-f93f-43a5-bf64-e9992f338b57",
   "metadata": {
    "slideshow": {
     "slide_type": "slide"
    },
    "tags": []
   },
   "source": [
    "```{note}\n",
    "The unified scoring API in scikit-learn always <u>maximizes</u> the score, so metrics which need to be minimized are negated in order for the unified scoring API to work correctly. Consequently, some metrics such as `mean_squared_error()` will use a predefined text string starting with <b>neg_</b> (i.e. 'neg_mean_squared_error').\n",
    "```"
   ]
  },
  {
   "cell_type": "code",
   "execution_count": 15,
   "id": "4910e2fb-3713-4237-bb92-f4e126588cb5",
   "metadata": {
    "slideshow": {
     "slide_type": "fragment"
    },
    "tags": []
   },
   "outputs": [
    {
     "data": {
      "text/plain": [
       "{'fit_time': array([0.00095916, 0.00090814, 0.00083303, 0.00056291, 0.00078988]),\n",
       " 'score_time': array([0.00033283, 0.00048089, 0.00054502, 0.00026107, 0.00052619]),\n",
       " 'test_score': array([-52.72496667, -55.03492848, -56.90079956, -54.851539  ,\n",
       "        -53.94633383])}"
      ]
     },
     "execution_count": 15,
     "metadata": {},
     "output_type": "execute_result"
    }
   ],
   "source": [
    "# applying mean squared error in a regression k-fold cross validation procedure\n",
    "cross_validate(reg, X_diabetes, y_diabetes, cv=5, scoring='neg_root_mean_squared_error')"
   ]
  },
  {
   "cell_type": "markdown",
   "id": "4ee71ade-4873-44aa-bea9-8248f0ed9522",
   "metadata": {
    "slideshow": {
     "slide_type": "slide"
    },
    "tags": []
   },
   "source": [
    "You can even supply [more than one metric](https://scikit-learn.org/stable/modules/model_evaluation.html#using-multiple-metric-evaluation) or even [define your own custom metric](https://scikit-learn.org/stable/modules/model_evaluation.html#defining-your-scoring-strategy-from-metric-functions)."
   ]
  },
  {
   "cell_type": "code",
   "execution_count": 16,
   "id": "2cc09e79-9b3a-4c28-be5d-6f067b96b276",
   "metadata": {},
   "outputs": [
    {
     "data": {
      "text/plain": [
       "{'fit_time': array([0.66291881, 0.66096807, 0.64112377, 0.7204361 , 0.67471981]),\n",
       " 'score_time': array([0.0606432 , 0.05330205, 0.05095196, 0.06072688, 0.05553412]),\n",
       " 'test_accuracy': array([0.85191757, 0.84548185, 0.85790336, 0.85094185, 0.85571936]),\n",
       " 'test_roc_auc': array([0.90485391, 0.90327186, 0.9131704 , 0.90553135, 0.90816402])}"
      ]
     },
     "execution_count": 16,
     "metadata": {},
     "output_type": "execute_result"
    }
   ],
   "source": [
    "# example of supplying more than one metric\n",
    "metrics = ['accuracy', 'roc_auc']\n",
    "\n",
    "cross_validate(model, X_train, y_train, cv=5, scoring=metrics)"
   ]
  },
  {
   "cell_type": "markdown",
   "id": "01df0667-5220-4bd0-a3ca-1bf0429d825e",
   "metadata": {
    "slideshow": {
     "slide_type": "slide"
    },
    "tags": []
   },
   "source": [
    "### Knowledge check\n",
    "\n",
    "```{admonition} Questions:\n",
    ":class: attention\n",
    "Using the `KNeighborsClassifier()` from the previous <b>Knowledge check</b> exercise, perform a 5 fold cross validation and compute the accuracy <u><b>and</b></u> ROC AUC.\n",
    "```"
   ]
  },
  {
   "cell_type": "markdown",
   "id": "3c50870a-37fe-4f79-8fcc-36bea64e0438",
   "metadata": {
    "slideshow": {
     "slide_type": "slide"
    },
    "tags": []
   },
   "source": [
    "## Hyperparameter tuning\n",
    "\n",
    "Given two different models (blue line) to the same data (gray dots), which model do you prefer?\n",
    "\n",
    ":::{figure-md} bias-variance-comparison\n",
    "<img src=\"../images/bias-variance-comparison.png\" alt=\"bias-vs-variance\" width=\"95%\">\n",
    "\n",
    "Between model A and B, which do you think is better?\n",
    ":::"
   ]
  },
  {
   "cell_type": "markdown",
   "id": "c4f91c6b-a72f-4fc5-b3e5-5b15cbc02d58",
   "metadata": {
    "slideshow": {
     "slide_type": "fragment"
    },
    "tags": []
   },
   "source": [
    "The image above illustrates the fact that prediction errors can be decomposed into two main subcomponents we care about:\n",
    "\n",
    "- error due to “bias”\n",
    "- error due to “variance”"
   ]
  },
  {
   "cell_type": "markdown",
   "id": "f19fc0ec-b19a-41e1-b0bf-340e6c111707",
   "metadata": {
    "slideshow": {
     "slide_type": "slide"
    },
    "tags": []
   },
   "source": [
    "### Bias\n",
    "\n",
    "Error due to ___bias___ is the difference between the expected (or average) prediction of our model and the correct value which we are trying to predict.\n",
    "\n",
    "It measures how far off in general a model’s predictions are from the correct value, which provides a sense of how well a model can conform to the underlying structure of the data.\n",
    "\n",
    "High bias models (i.e. generalized linear models) are rarely affected by the noise introduced by new unseen data\n",
    "\n",
    ":::{figure-md} bias-models\n",
    "<img src=\"../images/modeling-process-bias-model-2.png\" alt=\"bias\" width=\"95%\">\n",
    "\n",
    "A biased polynomial model fit to a single data set does not capture the underlying non-linear, non-monotonic data structure (left). Models fit to 25 bootstrapped replicates of the data are underterred by the noise and generates similar, yet still biased, predictions (right).\n",
    ":::"
   ]
  },
  {
   "cell_type": "markdown",
   "id": "8de45ea1-8ec7-4e37-aedc-473801291dd9",
   "metadata": {
    "slideshow": {
     "slide_type": "slide"
    },
    "tags": []
   },
   "source": [
    "### Variance\n",
    "\n",
    "Error due to ___variance___ is the variability of a model prediction for a given data point.\n",
    "\n",
    "Many models (e.g., k-nearest neighbor, decision trees, gradient boosting machines) are very adaptable and offer extreme flexibility in the patterns that they can fit to. However, these models offer their own problems as they run the risk of overfitting to the training data. \n",
    "\n",
    "Although you may achieve very good performance on your training data, the model will not automatically generalize well to unseen data.\n",
    "\n",
    ":::{figure-md} variance-models\n",
    "<img src=\"../images/modeling-process-variance-model-2.png\" alt=\"variance\" width=\"95%\">\n",
    "\n",
    "A high variance k-nearest neighbor model fit to a single data set captures the underlying non-linear, non-monotonic data structure well but also overfits to individual data points (left). Models fit to 25 bootstrapped replicates of the data are deterred by the noise and generate highly variable predictions (right).\n",
    ":::"
   ]
  },
  {
   "cell_type": "markdown",
   "id": "611edcae-f158-4a5b-8fba-0f22cdf36f14",
   "metadata": {
    "slideshow": {
     "slide_type": "skip"
    },
    "tags": []
   },
   "source": [
    "```{note}\n",
    "Many high performing models (i.e. random forests, gradient boosting machines, deep learning) are very flexible in the patterns they can conform to due to the many hyperparameters they have. However, this also means they are prone to overfitting (aka can have high variance error).\n",
    "```"
   ]
  },
  {
   "cell_type": "markdown",
   "id": "9aa65ab5-793d-4c11-81a1-9fc8a55fad1a",
   "metadata": {
    "slideshow": {
     "slide_type": "slide"
    },
    "tags": []
   },
   "source": [
    "___Hyperparameters___ (aka tuning parameters) are the \"knobs to twiddle\" to control the complexity of machine learning algorithms and, therefore, the ___bias-variance trade-off___.\n",
    "\n",
    "Some models have very few hyperparameters. For example in a K-nearest neighbor (KNN) model ___K___ (the number of neighbors) is the primary hyperparameter.\n",
    "\n",
    ":::{figure-md} knn-tuned\n",
    "<img src=\"../images/modeling-process-knn-options-1.png\" alt=\"knn-tuned\" width=\"95%\">\n",
    "\n",
    "k-nearest neighbor model with differing values for k.\n",
    ":::\n"
   ]
  },
  {
   "cell_type": "markdown",
   "id": "b696a78b-9da0-4c1c-8b0e-9c937f6d43b2",
   "metadata": {
    "slideshow": {
     "slide_type": "slide"
    },
    "tags": []
   },
   "source": [
    "While other models such as gradient boosted machines (GBMs) and deep learning models can have many.\n",
    "\n",
    "___Hyperparameter tuning___ is the process of screening hyperparameter values (or combinations of hyperparameter values) to find a model that balances bias & variance so that the model generalizes well to unseen data."
   ]
  },
  {
   "cell_type": "code",
   "execution_count": 17,
   "id": "c00d09a2-b8b7-4826-b4d6-333633b80760",
   "metadata": {
    "slideshow": {
     "slide_type": "fragment"
    },
    "tags": []
   },
   "outputs": [
    {
     "name": "stdout",
     "output_type": "stream",
     "text": [
      "KNN model with 10 neighbors: AUC = 0.883\n",
      "CPU times: user 43.2 s, sys: 9.23 s, total: 52.5 s\n",
      "Wall time: 53 s\n"
     ]
    }
   ],
   "source": [
    "%%time\n",
    "import numpy as np\n",
    "from sklearn.neighbors import KNeighborsClassifier\n",
    "from sklearn.model_selection import cross_val_score\n",
    "\n",
    "# set hyperparameter in KNN model\n",
    "model = KNeighborsClassifier(n_neighbors=10)\n",
    "\n",
    "# create preprocessor & modeling pipeline\n",
    "pipeline = make_pipeline(preprocessor, model)\n",
    "\n",
    "# 5-fold cross validation using AUC error metric\n",
    "results = cross_val_score(pipeline, X_train, y_train, cv=5, scoring='roc_auc')\n",
    "\n",
    "print(f'KNN model with 10 neighbors: AUC = {np.mean(results):.3f}')"
   ]
  },
  {
   "cell_type": "markdown",
   "id": "52ebcec2-7826-4c32-b104-7174e00a506a",
   "metadata": {
    "slideshow": {
     "slide_type": "slide"
    },
    "tags": []
   },
   "source": [
    "But what if we wanted to assess and compare `n_neighbors` = 5, 10, 15, 20, ... ?\n",
    "\n",
    "### Full cartesian grid search\n",
    "\n",
    "For this we could use a ___full cartesian grid search___ using Scikit-Learn's `GridSearchCV()`:"
   ]
  },
  {
   "cell_type": "code",
   "execution_count": 18,
   "id": "47f5852c-0b6c-455b-9495-02c350fc11d9",
   "metadata": {
    "slideshow": {
     "slide_type": "fragment"
    },
    "tags": []
   },
   "outputs": [
    {
     "name": "stderr",
     "output_type": "stream",
     "text": [
      "/opt/anaconda3/lib/python3.9/site-packages/pandas/core/computation/expressions.py:21: UserWarning: Pandas requires version '2.8.4' or newer of 'numexpr' (version '2.8.1' currently installed).\n",
      "  from pandas.core.computation.check import NUMEXPR_INSTALLED\n",
      "/opt/anaconda3/lib/python3.9/site-packages/pandas/core/computation/expressions.py:21: UserWarning: Pandas requires version '2.8.4' or newer of 'numexpr' (version '2.8.1' currently installed).\n",
      "  from pandas.core.computation.check import NUMEXPR_INSTALLED\n",
      "/opt/anaconda3/lib/python3.9/site-packages/pandas/core/computation/expressions.py:21: UserWarning: Pandas requires version '2.8.4' or newer of 'numexpr' (version '2.8.1' currently installed).\n",
      "  from pandas.core.computation.check import NUMEXPR_INSTALLED\n",
      "/opt/anaconda3/lib/python3.9/site-packages/pandas/core/computation/expressions.py:21: UserWarning: Pandas requires version '2.8.4' or newer of 'numexpr' (version '2.8.1' currently installed).\n",
      "  from pandas.core.computation.check import NUMEXPR_INSTALLED\n",
      "/opt/anaconda3/lib/python3.9/site-packages/pandas/core/computation/expressions.py:21: UserWarning: Pandas requires version '2.8.4' or newer of 'numexpr' (version '2.8.1' currently installed).\n",
      "  from pandas.core.computation.check import NUMEXPR_INSTALLED\n",
      "/opt/anaconda3/lib/python3.9/site-packages/pandas/core/computation/expressions.py:21: UserWarning: Pandas requires version '2.8.4' or newer of 'numexpr' (version '2.8.1' currently installed).\n",
      "  from pandas.core.computation.check import NUMEXPR_INSTALLED\n",
      "/opt/anaconda3/lib/python3.9/site-packages/pandas/core/computation/expressions.py:21: UserWarning: Pandas requires version '2.8.4' or newer of 'numexpr' (version '2.8.1' currently installed).\n",
      "  from pandas.core.computation.check import NUMEXPR_INSTALLED\n",
      "/opt/anaconda3/lib/python3.9/site-packages/pandas/core/arrays/masked.py:60: UserWarning: Pandas requires version '1.3.6' or newer of 'bottleneck' (version '1.3.4' currently installed).\n",
      "  from pandas.core import (\n",
      "/opt/anaconda3/lib/python3.9/site-packages/pandas/core/arrays/masked.py:60: UserWarning: Pandas requires version '1.3.6' or newer of 'bottleneck' (version '1.3.4' currently installed).\n",
      "  from pandas.core import (\n",
      "/opt/anaconda3/lib/python3.9/site-packages/pandas/core/arrays/masked.py:60: UserWarning: Pandas requires version '1.3.6' or newer of 'bottleneck' (version '1.3.4' currently installed).\n",
      "  from pandas.core import (\n",
      "/opt/anaconda3/lib/python3.9/site-packages/pandas/core/arrays/masked.py:60: UserWarning: Pandas requires version '1.3.6' or newer of 'bottleneck' (version '1.3.4' currently installed).\n",
      "  from pandas.core import (\n",
      "/opt/anaconda3/lib/python3.9/site-packages/pandas/core/arrays/masked.py:60: UserWarning: Pandas requires version '1.3.6' or newer of 'bottleneck' (version '1.3.4' currently installed).\n",
      "  from pandas.core import (\n",
      "/opt/anaconda3/lib/python3.9/site-packages/pandas/core/arrays/masked.py:60: UserWarning: Pandas requires version '1.3.6' or newer of 'bottleneck' (version '1.3.4' currently installed).\n",
      "  from pandas.core import (\n",
      "/opt/anaconda3/lib/python3.9/site-packages/pandas/core/computation/expressions.py:21: UserWarning: Pandas requires version '2.8.4' or newer of 'numexpr' (version '2.8.1' currently installed).\n",
      "  from pandas.core.computation.check import NUMEXPR_INSTALLED\n",
      "/opt/anaconda3/lib/python3.9/site-packages/pandas/core/arrays/masked.py:60: UserWarning: Pandas requires version '1.3.6' or newer of 'bottleneck' (version '1.3.4' currently installed).\n",
      "  from pandas.core import (\n",
      "/opt/anaconda3/lib/python3.9/site-packages/pandas/core/computation/expressions.py:21: UserWarning: Pandas requires version '2.8.4' or newer of 'numexpr' (version '2.8.1' currently installed).\n",
      "  from pandas.core.computation.check import NUMEXPR_INSTALLED\n",
      "/opt/anaconda3/lib/python3.9/site-packages/pandas/core/arrays/masked.py:60: UserWarning: Pandas requires version '1.3.6' or newer of 'bottleneck' (version '1.3.4' currently installed).\n",
      "  from pandas.core import (\n",
      "/opt/anaconda3/lib/python3.9/site-packages/pandas/core/computation/expressions.py:21: UserWarning: Pandas requires version '2.8.4' or newer of 'numexpr' (version '2.8.1' currently installed).\n",
      "  from pandas.core.computation.check import NUMEXPR_INSTALLED\n",
      "/opt/anaconda3/lib/python3.9/site-packages/pandas/core/arrays/masked.py:60: UserWarning: Pandas requires version '1.3.6' or newer of 'bottleneck' (version '1.3.4' currently installed).\n",
      "  from pandas.core import (\n",
      "/opt/anaconda3/lib/python3.9/site-packages/pandas/core/computation/expressions.py:21: UserWarning: Pandas requires version '2.8.4' or newer of 'numexpr' (version '2.8.1' currently installed).\n",
      "  from pandas.core.computation.check import NUMEXPR_INSTALLED\n",
      "/opt/anaconda3/lib/python3.9/site-packages/pandas/core/computation/expressions.py:21: UserWarning: Pandas requires version '2.8.4' or newer of 'numexpr' (version '2.8.1' currently installed).\n",
      "  from pandas.core.computation.check import NUMEXPR_INSTALLED\n",
      "/opt/anaconda3/lib/python3.9/site-packages/pandas/core/arrays/masked.py:60: UserWarning: Pandas requires version '1.3.6' or newer of 'bottleneck' (version '1.3.4' currently installed).\n",
      "  from pandas.core import (\n",
      "/opt/anaconda3/lib/python3.9/site-packages/pandas/core/arrays/masked.py:60: UserWarning: Pandas requires version '1.3.6' or newer of 'bottleneck' (version '1.3.4' currently installed).\n",
      "  from pandas.core import (\n",
      "/opt/anaconda3/lib/python3.9/site-packages/pandas/core/arrays/masked.py:60: UserWarning: Pandas requires version '1.3.6' or newer of 'bottleneck' (version '1.3.4' currently installed).\n",
      "  from pandas.core import (\n"
     ]
    },
    {
     "name": "stdout",
     "output_type": "stream",
     "text": [
      "CPU times: user 625 ms, sys: 456 ms, total: 1.08 s\n",
      "Wall time: 5min 15s\n"
     ]
    },
    {
     "data": {
      "text/plain": [
       "0.8936630646924394"
      ]
     },
     "execution_count": 18,
     "metadata": {},
     "output_type": "execute_result"
    }
   ],
   "source": [
    "%%time\n",
    "from sklearn.model_selection import GridSearchCV\n",
    "from sklearn.pipeline import Pipeline\n",
    "\n",
    "# basic model object\n",
    "knn = KNeighborsClassifier()\n",
    "\n",
    "# Create grid of hyperparameter values\n",
    "hyper_grid = {'knn__n_neighbors': [5, 10, 15, 20]}\n",
    "\n",
    "# create preprocessor & modeling pipeline\n",
    "pipeline = Pipeline([('prep', preprocessor), ('knn', knn)])\n",
    "\n",
    "# Tune a knn model using grid search\n",
    "grid_search = GridSearchCV(pipeline, hyper_grid, cv=5, scoring='roc_auc', n_jobs=-1)\n",
    "results = grid_search.fit(X_train, y_train)\n",
    "\n",
    "# Best model's cross validated AUC\n",
    "abs(results.best_score_)"
   ]
  },
  {
   "cell_type": "markdown",
   "id": "991f78e0-8a3b-4e7c-8d3d-b491ce8e2704",
   "metadata": {
    "slideshow": {
     "slide_type": "slide"
    },
    "tags": []
   },
   "source": [
    "```{tip}\n",
    "We use `Pipeline` rather than `make_pipeline` in the above because it allows us to name the different steps in the pipeline. This allows us to assign hyperparameters to distinct steps within the pipeline.\n",
    "```"
   ]
  },
  {
   "cell_type": "code",
   "execution_count": 19,
   "id": "901e41c8-3879-4a7d-a857-9e76a9c027f3",
   "metadata": {},
   "outputs": [
    {
     "data": {
      "text/plain": [
       "{'knn__n_neighbors': 20}"
      ]
     },
     "execution_count": 19,
     "metadata": {},
     "output_type": "execute_result"
    }
   ],
   "source": [
    "results.best_params_"
   ]
  },
  {
   "cell_type": "markdown",
   "id": "c13b4426-e2e6-48cc-bfa9-68e3e0d350ce",
   "metadata": {
    "slideshow": {
     "slide_type": "slide"
    },
    "tags": []
   },
   "source": [
    "### Random search\n",
    "\n",
    "However, a cartesian grid-search approach has limitations. \n",
    "\n",
    "* It does not scale well when the number of parameters to tune is increasing.\n",
    "* It also forces regularity rather than aligning values assessed to distributions.\n",
    "\n",
    ":::{figure-md} random-search\n",
    "<img src=\"../images/random_search.png\" alt=\"random-search\" width=\"60%\">\n",
    "\n",
    "Random search compared to standard grid search.\n",
    ":::"
   ]
  },
  {
   "cell_type": "markdown",
   "id": "81759df6-c076-4f4e-a9ae-aa21fa8409a9",
   "metadata": {
    "slideshow": {
     "slide_type": "fragment"
    },
    "tags": []
   },
   "source": [
    "```{note}\n",
    "Random search based on hyperparameter distributions has proven to perform as well, if not better than, standard grid search. Learn more <a href=\"http://jmlr.csail.mit.edu/papers/volume13/bergstra12a/bergstra12a.pdf\">here</a>.\n",
    "```"
   ]
  },
  {
   "cell_type": "markdown",
   "id": "c01aaa36-aa18-4df5-a3e3-53f26bda987a",
   "metadata": {
    "slideshow": {
     "slide_type": "slide"
    },
    "tags": []
   },
   "source": [
    "For example, say we want to train a random forest classifier. Random forests are very flexible algorithms and can have _several_ hyperparameters. "
   ]
  },
  {
   "cell_type": "code",
   "execution_count": 20,
   "id": "8bb732f9-02d6-4ff3-a520-dd5a4e0d6fe9",
   "metadata": {
    "slideshow": {
     "slide_type": "fragment"
    },
    "tags": []
   },
   "outputs": [],
   "source": [
    "from sklearn.ensemble import RandomForestClassifier\n",
    "\n",
    "# basic model object\n",
    "rf = RandomForestClassifier(random_state=123)\n",
    "\n",
    "# create preprocessor & modeling pipeline\n",
    "pipeline = Pipeline([('prep', preprocessor), ('rf', rf)])"
   ]
  },
  {
   "cell_type": "markdown",
   "id": "e309ea66-0b43-458b-af83-e3cbb5c23145",
   "metadata": {
    "slideshow": {
     "slide_type": "slide"
    },
    "tags": []
   },
   "source": [
    "For this particular random forest algorithm we'll assess the following hyperparameters. Don't worry if you are not familiar with what these do.\n",
    "\n",
    "* `n_estimators`: number of trees in the forest,\n",
    "* `max_features`: number of features to consider when looking for the best split,\n",
    "* `max_depth`: maximum depth of each tree built,\n",
    "* `min_samples_leaf`: minimum number of samples required in a leaf node,\n",
    "* `max_samples`: number of samples to draw from our training data to train each tree."
   ]
  },
  {
   "cell_type": "markdown",
   "id": "42873c2c-0ca1-4778-99b9-5fbee7ca008e",
   "metadata": {
    "slideshow": {
     "slide_type": "fragment"
    },
    "tags": []
   },
   "source": [
    "A standard grid search would be very computationally intense.\n",
    "\n",
    "Instead, we'll use a random latin hypercube search using [`RandomizedSearchCV`](https://scikit-learn.org/stable/modules/generated/sklearn.model_selection.RandomizedSearchCV.html).\n",
    "\n",
    "To build our grid, we need to specify distributions for our hyperparameters."
   ]
  },
  {
   "cell_type": "markdown",
   "id": "012770ff-f71f-42b0-b2d1-2c7be30d7223",
   "metadata": {
    "slideshow": {
     "slide_type": "skip"
    },
    "tags": []
   },
   "source": [
    "```{tip}\n",
    "`scipy.stats.loguniform` can be used to generate floating numbers. To generate random values for integer-valued parameters (e.g. `min_samples_leaf`) we can adapt is as follows:\n",
    "```"
   ]
  },
  {
   "cell_type": "code",
   "execution_count": 21,
   "id": "64dbdb5b-8343-492e-8fc4-47e4afa2b087",
   "metadata": {
    "slideshow": {
     "slide_type": "skip"
    },
    "tags": []
   },
   "outputs": [],
   "source": [
    "from scipy.stats import loguniform\n",
    "\n",
    "\n",
    "class loguniform_int:\n",
    "    \"\"\"Integer valued version of the log-uniform distribution\"\"\"\n",
    "    def __init__(self, a, b):\n",
    "        self._distribution = loguniform(a, b)\n",
    "\n",
    "    def rvs(self, *args, **kwargs):\n",
    "        \"\"\"Random variable sample\"\"\"\n",
    "        return self._distribution.rvs(*args, **kwargs).astype(int)"
   ]
  },
  {
   "cell_type": "code",
   "execution_count": 22,
   "id": "eabb636b-f9b3-420b-b1de-d7e602bc2c37",
   "metadata": {
    "slideshow": {
     "slide_type": "slide"
    },
    "tags": []
   },
   "outputs": [],
   "source": [
    "# specify hyperparameter distributions to randomly sample from\n",
    "param_distributions = {\n",
    "    'rf__n_estimators': loguniform_int(50, 1000),\n",
    "    'rf__max_features': loguniform(.1, .5),\n",
    "    'rf__max_depth': loguniform_int(4, 20),\n",
    "    'rf__min_samples_leaf': loguniform_int(1, 100),\n",
    "    'rf__max_samples': loguniform(.5, 1),\n",
    "}"
   ]
  },
  {
   "cell_type": "markdown",
   "id": "735f7ef1-b091-4031-aeb9-d24d48ee2eaf",
   "metadata": {
    "slideshow": {
     "slide_type": "slide"
    },
    "tags": []
   },
   "source": [
    "Now, we can define the randomized search using the different distributions. \n",
    "\n",
    "Executing 10 iterations of 5-fold cross-validation for random parametrizations of this model on this dataset can take from 10 seconds to several minutes, depending on the speed of the host computer and the number of available processors."
   ]
  },
  {
   "cell_type": "code",
   "execution_count": 23,
   "id": "1f9599bb-70d7-4c0b-aaae-e78e9a9a582a",
   "metadata": {},
   "outputs": [
    {
     "name": "stdout",
     "output_type": "stream",
     "text": [
      "Fitting 5 folds for each of 10 candidates, totalling 50 fits\n",
      "CPU times: user 6.81 s, sys: 125 ms, total: 6.94 s\n",
      "Wall time: 1min 10s\n"
     ]
    }
   ],
   "source": [
    "%%time\n",
    "from sklearn.model_selection import RandomizedSearchCV\n",
    "\n",
    "# perform 10 random iterations\n",
    "random_search = RandomizedSearchCV(\n",
    "    pipeline,\n",
    "    param_distributions=param_distributions,\n",
    "    n_iter=10,\n",
    "    cv=5,\n",
    "    scoring='roc_auc',\n",
    "    verbose=1,\n",
    "    n_jobs=-1,\n",
    ")\n",
    "\n",
    "results = random_search.fit(X_train, y_train)"
   ]
  },
  {
   "cell_type": "code",
   "execution_count": 24,
   "id": "5d2a6782-045b-43f9-8d69-89db52ea1e6f",
   "metadata": {
    "slideshow": {
     "slide_type": "slide"
    },
    "tags": []
   },
   "outputs": [
    {
     "data": {
      "text/plain": [
       "0.9157554355085331"
      ]
     },
     "execution_count": 24,
     "metadata": {},
     "output_type": "execute_result"
    }
   ],
   "source": [
    "results.best_score_"
   ]
  },
  {
   "cell_type": "code",
   "execution_count": 25,
   "id": "a3985bf7-2fdc-4d4a-a929-dcc297a0ac6c",
   "metadata": {},
   "outputs": [
    {
     "data": {
      "text/plain": [
       "{'rf__max_depth': 16,\n",
       " 'rf__max_features': 0.12328814540746089,\n",
       " 'rf__max_samples': 0.5629418240531044,\n",
       " 'rf__min_samples_leaf': 2,\n",
       " 'rf__n_estimators': 81}"
      ]
     },
     "execution_count": 25,
     "metadata": {},
     "output_type": "execute_result"
    }
   ],
   "source": [
    "results.best_params_"
   ]
  },
  {
   "cell_type": "markdown",
   "id": "08d1777a-2aa3-41db-8060-098b6707a791",
   "metadata": {
    "slideshow": {
     "slide_type": "slide"
    },
    "tags": []
   },
   "source": [
    "## Exercises\n",
    "\n",
    "```{admonition} Questions:\n",
    ":class: attention\n",
    "Import the dataset blood_transfusion.csv:\n",
    "\n",
    "1. The column “Class” contains the target variable. Investigate this variable. Is this a regression or classification problem?\n",
    "2. Why is it relevant to add a preprocessing step to scale the data using a `StandardScaler` when working with a `KNeighborsClassifier`?\n",
    "3. Create a scikit-learn pipeline (using `sklearn.pipeline.make_pipeline`) where a `StandardScaler` will be used to scale the data followed by a `KNeighborsClassifier`. Use the default hyperparameters. Inspect the parameters of the created pipeline. What is the value of K, the number of neighbors considered when predicting with the k-nearest neighbors?\n",
    "4. Perform a 5-fold cross validation with the pipeline you created in #3. What is your average CV score?\n",
    "5. Now perform hyperparameter tuning to understand the effect of the parameter `n_neighbors` on the model score. Use the following values for the parameter range. Again, perform a 5-fold cross validation. Which hyperparameter value performed the best and what was the CV score?\n",
    "    ```python\n",
    "    param_range = [1, 2, 5, 10, 20, 50, 100, 200, 500]\n",
    "    \n",
    "```\n"
   ]
  },
  {
   "cell_type": "markdown",
   "id": "b58e57ea",
   "metadata": {},
   "source": [
    "## Computing environment"
   ]
  },
  {
   "cell_type": "code",
   "execution_count": 26,
   "id": "e4e0bd02-663b-4edf-8386-fa9fd2ddacd2",
   "metadata": {},
   "outputs": [
    {
     "name": "stdout",
     "output_type": "stream",
     "text": [
      "Python implementation: CPython\n",
      "Python version       : 3.9.12\n",
      "IPython version      : 8.4.0\n",
      "\n",
      "jupyterlab: 3.3.2\n",
      "pandas    : 2.2.1\n",
      "sklearn   : 1.0.2\n",
      "\n"
     ]
    }
   ],
   "source": [
    "%load_ext watermark\n",
    "%watermark -v -p jupyterlab,pandas,sklearn"
   ]
  }
 ],
 "metadata": {
  "kernelspec": {
   "display_name": "Python 3.9.12 ('base')",
   "language": "python",
   "name": "python3"
  },
  "language_info": {
   "codemirror_mode": {
    "name": "ipython",
    "version": 3
   },
   "file_extension": ".py",
   "mimetype": "text/x-python",
   "name": "python",
   "nbconvert_exporter": "python",
   "pygments_lexer": "ipython3",
   "version": "3.9.12"
  },
  "vscode": {
   "interpreter": {
    "hash": "40d3a090f54c6569ab1632332b64b2c03c39dcf918b08424e98f38b5ae0af88f"
   }
  }
 },
 "nbformat": 4,
 "nbformat_minor": 5
}
