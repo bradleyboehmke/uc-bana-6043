{
 "cells": [
  {
   "cell_type": "markdown",
   "metadata": {},
   "source": [
    "# Statistical Computing\n",
    "\n",
    "```{note}\n",
    "This repository contains additional resources for the UC BANA 6043 Statistical Computing course. The following is a truncated syllabus; for the full syllabus along with complete course content please visit the online course content in [Canvas](https://uc.instructure.com/).\n",
    "```\n",
    "\n",
    "Welcome to ___Statistical Computing with Python___! This course provides an intensive, hands-on introduction to statistical computing and data science with the Python programming language. You will gain foundational skills in managing data structures, performing data wrangling, computing and visualizing statistical relationships, managing various environments conducive for statistical analysis, and performing machine learning modeling. Most importantly, since this course only has time to introduce foundational skills, much emphasis is placed on giving you a mental model of Python's data science ecosystem so you know how, when, and where to continue advancing your statistical computing capabilities."
   ]
  },
  {
   "cell_type": "markdown",
   "metadata": {},
   "source": [
    "## Learning objectives\n",
    "\n",
    "Upon successfully completing this course, you will:\n",
    "\n",
    "* Have a mental model of the Python data science ecosystem: libraries, capabilities, vocabulary, and widely-available Python resources.\n",
    "* Have the ability to use Python within both interactive (Jupyter, REPL) and non-interactive (scripts) environments.\n",
    "* Be able to perform core data wrangling activities: importing data, reshaping data, transforming data, and exporting data.\n",
    "* Be able to compute descriptive statistics and visualize key patterns and relationships with your data.\n",
    "* Be exposed to modeling via scikit-learn and discuss the fundamentals of building models in Python.\n",
    "* Have the resources and understanding to continue advancing your statistical computing capabilities.\n",
    "\n",
    "```{note}\n",
    "This course assumes no prior knowledge of Python. Experience with programming concepts or another programming language will help, but is not required to understand the material.\n",
    "```"
   ]
  },
  {
   "cell_type": "markdown",
   "metadata": {},
   "source": [
    "## Material\n",
    "\n",
    "The bulk of the classroom material will be provided via this book, the recorded lectures, and class notes. In some cases there are additional recommended readings, all of which are readily available online."
   ]
  },
  {
   "cell_type": "markdown",
   "metadata": {},
   "source": []
  },
  {
   "cell_type": "markdown",
   "metadata": {},
   "source": [
    "## Class structure\n",
    "\n",
    "__Modules__: For this class each module is covered over the course of week. In the \"Overview\" section for each module you will find overall learning objectives, a short description of the learning content covered in that module, along with all tasks that are required of you for that module (i.e. quizzes, lab). Each module will have two primary lessons and associated quizzes along with a lab.\n",
    "\n",
    "__Lessons__: For each lesson you will read and work through the tutorial. Short videos will be sprinkled throughout the lesson to further discuss and reinforce lesson concepts. Each lesson will have various \"Your Turn\" exercises throughout, along with end-of-lesson exercises. I highly recommend you work through these exercises as they will prepare you for the quizzes, labs, and project work.\n",
    "\n",
    "__Quizzes__: There will be a short quiz associated with _each lesson_. These quizzes will be hosted in the course website on Canvas. Please check Canvas for due dates for these quizzes.\n",
    "\n",
    "__Labs__: There will be a lab associated with _each module_. For these labs students will be guided through a case study step-by-step. The aim is to provide a detailed view on how to manage a variety of complex real-world data; how to convert real problems into data wrangling and analysis problems; and to apply Python to address these problems and extract insights from the data. Submission of these labs will be done through the course website on Canvas. Please check Canvas for due dates for these labs.\n",
    "\n",
    "__Project__: TBD"
   ]
  },
  {
   "cell_type": "markdown",
   "metadata": {},
   "source": [
    "## Schedule\n",
    "\n",
    "```{note}\n",
    "See the [Canvas](https://uc.instructure.com/) course webpage for a detailed schedule with due dates for quizzes, labs, etc.\n",
    "```\n",
    "\n",
    "| Module        | Description                                                         |\n",
    "|:-------------:|:--------------------------------------------------------------------|\n",
    "| **1**         | **Introduction**                                                    |\n",
    "|               | Intro to statistical computing, Python, and this course             |\n",
    "|               | REPL, Jupyter notebooks, and IDEs                                   |\n",
    "| **2**         | **Python Fundamentals**                                             |\n",
    "|               | Python syntax, semantics, data types & structures                   |\n",
    "|               | Modules, packages, and a preview of Python's data science ecosystem |\n",
    "| **3**         | **Data Importing and Wrangling**                                    |\n",
    "|               | Importing data and understanding the basics of it                   |\n",
    "|               | Data tidying, cleaning, and manipulation                            |\n",
    "| **4**         | **Relational Data and Data Aggregations**                           |\n",
    "|               | Joining relational data                                             |\n",
    "|               | Data aggregation and statistical summaries                          |\n",
    "| **5**         | **Data Visualization & Exploration**                                |\n",
    "|               | Data visualization                                                  |\n",
    "|               | Exploratory data analysis                                           |\n",
    "| **6**         | **Creating Efficient Code in Python**                               |\n",
    "|               | Control statements & iteration                                      |\n",
    "|               | Writing functions                                                   |\n",
    "| **7**         | **Introduction to Applied Modeling**                                |\n",
    "|               | Correlation and covariate pattern discovery                         |\n",
    "|               | Introduction to machine learning                                    |"
   ]
  },
  {
   "cell_type": "markdown",
   "metadata": {},
   "source": [
    "## Conventions used in this book\n",
    "\n",
    "The following typographical conventions are used in this book:\n",
    "\n",
    "* ___strong italic___: indicates new terms,\n",
    "* __bold__: indicates package & file names,\n",
    "* `inline code`: monospaced highlighted text indicates functions or other commands that could be typed literally by the user,\n",
    "* code chunk: indicates commands or other text that could be typed literally by the user"
   ]
  },
  {
   "cell_type": "code",
   "execution_count": 1,
   "metadata": {},
   "outputs": [
    {
     "data": {
      "text/plain": [
       "3"
      ]
     },
     "execution_count": 1,
     "metadata": {},
     "output_type": "execute_result"
    }
   ],
   "source": [
    "1 + 2"
   ]
  },
  {
   "cell_type": "markdown",
   "metadata": {},
   "source": [
    "In addition to the general text used throughout, you will notice the following code chunks with images:\n",
    "\n",
    "```{tip}\n",
    "Signifies a tip or suggestion\n",
    "```\n",
    "\n",
    "```{note}\n",
    "Signifies a general note\n",
    "```\n",
    "\n",
    "```{warning}\n",
    "Signifies a warning or caution\n",
    "```"
   ]
  },
  {
   "cell_type": "markdown",
   "metadata": {},
   "source": [
    "## Feedback\n",
    "\n",
    "To report errors or bugs that you find in this course material please post an issue at https://github.com/bradleyboehmke/uc-bana-6043/issues. For all other communication be sure to use Canvas or the university email. \n",
    "\n",
    "```{note}\n",
    "When communicating with me via email, please always include **BANA6043** in the subject line.\n",
    "```"
   ]
  }
 ],
 "metadata": {
  "interpreter": {
   "hash": "dd57328fc24527ff229ae554f2945209e93a49430faac967c9f6f5bdbf5ee089"
  },
  "kernelspec": {
   "display_name": "Python 3.8.5 ('base')",
   "language": "python",
   "name": "python3"
  },
  "language_info": {
   "codemirror_mode": {
    "name": "ipython",
    "version": 3
   },
   "file_extension": ".py",
   "mimetype": "text/x-python",
   "name": "python",
   "nbconvert_exporter": "python",
   "pygments_lexer": "ipython3",
   "version": "3.8.5"
  },
  "orig_nbformat": 4
 },
 "nbformat": 4,
 "nbformat_minor": 2
}
