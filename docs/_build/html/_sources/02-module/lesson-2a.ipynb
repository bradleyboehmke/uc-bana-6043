{
 "cells": [
  {
   "cell_type": "markdown",
   "metadata": {
    "slideshow": {
     "slide_type": "slide"
    }
   },
   "source": [
    "# Lesson 2a: Packages, libraries & modules"
   ]
  },
  {
   "cell_type": "markdown",
   "metadata": {
    "slideshow": {
     "slide_type": "fragment"
    }
   },
   "source": [
    "> The Python source distribution has long maintained the philosophy of \"batteries included\" -- having a rich and versatile standard library which is immediately available, without making the user download separate packages. This gives the Python language a head start in many projects.\n",
    ">\n",
    "> \\- PEP 206\n",
    "\n",
    "One feature of Python that makes it useful for a wide range of tasks is the fact that it comes “batteries included” – that is, the Python standard library contains useful tools for a wide range of tasks. On top of this, there is a broad ecosystem of third-party tools and packages that offer more specialized functionality. \n",
    "\n",
    "## Learning objectives\n",
    "\n",
    "By the end of this lesson you'll be able to:\n",
    "\n",
    "- Explain the difference between the standard library and third-party libraries.\n",
    "- Use importing tools to install libraries.\n",
    "- Understand at a high-level what some commonly used third-party libraries provide.\n",
    "- Have a more complete picture of Python's data science packaging ecosystem.\n",
    "\n",
    "## Terminology\n",
    "\n",
    "```{admonition} Video 🎥:\n",
    "<iframe id=\"kaltura_player\" src=\"https://cdnapisec.kaltura.com/p/1492301/sp/149230100/embedIframeJs/uiconf_id/49148882/partner_id/1492301?iframeembed=true&playerId=kaltura_player&entry_id=1_vlzhdjdk&flashvars[streamerType]=auto&amp;flashvars[localizationCode]=en_US&amp;flashvars[leadWithHTML5]=true&amp;flashvars[sideBarContainer.plugin]=true&amp;flashvars[sideBarContainer.position]=left&amp;flashvars[sideBarContainer.clickToClose]=true&amp;flashvars[chapters.plugin]=true&amp;flashvars[chapters.layout]=vertical&amp;flashvars[chapters.thumbnailRotator]=false&amp;flashvars[streamSelector.plugin]=true&amp;flashvars[EmbedPlayer.SpinnerTarget]=videoHolder&amp;flashvars[dualScreen.plugin]=true&amp;flashvars[Kaltura.addCrossoriginToIframe]=true&amp;&wid=1_opn37vzt\" width=\"640\" height=\"610\" allowfullscreen webkitallowfullscreen mozAllowFullScreen allow=\"autoplay *; fullscreen *; encrypted-media *\" sandbox=\"allow-downloads allow-forms allow-same-origin allow-scripts allow-top-navigation allow-pointer-lock allow-popups allow-modals allow-orientation-lock allow-popups-to-escape-sandbox allow-presentation allow-top-navigation-by-user-activation\" frameborder=\"0\" title=\"BANA 6043: Intro to packages, libraries &amp; modules\"></iframe>\n",
    "```\n",
    "\n",
    "People often use the terms _\"package\"_, _\"library\"_, and _\"module\"_ synonymously. If you are familiar with the R programming language you've probably heard some of these terms before. Although there are some semantical differences between R and Python, here is how you can think of the two terms:\n",
    "\n",
    "A **package** generally refers to source code that is bundled up in a way that a package manager can host. [PyPI](https://pypi.org/) and [Anaconda](https://anaconda.org/anaconda/repo) are the two primary public package managers for Python. When you `pip install pkg` or `conda install pkg` you are installing the `pkg` package from PyPI or Anaconda, respectively, to your computer or the server you’re working on.\n",
    "\n",
    "A **library**: generally refers to a centralized location on an operating system where installed package source code resides and can be imported into a current session. When you use `pip list` or `conda list` you will see a list of installed packages, which we often refer to as _libraries_. \n",
    "\n",
    "```{note}\n",
    "Below is a list of packages installed in my environment. This will differ from what you get because you likely have not installed these packages yet. Also, again notice the `%` symbol before `pip list`; we call this a [magic command](https://ipython.readthedocs.io/en/stable/interactive/magics.html). If you were in a terminal you would just run `pip list` but in Jupyter, we can use `%` to tell Jupyter to run this as a terminal command but from the notebook cell.\n",
    "```"
   ]
  },
  {
   "cell_type": "code",
   "execution_count": 1,
   "metadata": {},
   "outputs": [
    {
     "name": "stdout",
     "output_type": "stream",
     "text": [
      "Package                       Version   Editable project location\n",
      "----------------------------- --------- ----------------------------------\n",
      "absl-py                       0.15.0\n",
      "alabaster                     0.7.12\n",
      "alembic                       1.4.1\n",
      "anyio                         3.3.0\n",
      "appdirs                       1.4.4\n",
      "appnope                       0.1.2\n",
      "argcomplete                   1.12.2\n",
      "argon2-cffi                   20.1.0\n",
      "arrow                         1.2.1\n",
      "astroid                       2.5.3\n",
      "astunparse                    1.6.3\n",
      "async-generator               1.10\n",
      "attrs                         21.2.0\n",
      "Babel                         2.9.1\n",
      "backcall                      0.2.0\n",
      "beautifulsoup4                4.10.0\n",
      "binaryornot                   0.4.4\n",
      "black                         21.12b0\n",
      "blackcellmagic                0.0.3\n",
      "bleach                        4.0.0\n",
      "blessings                     1.7\n",
      "bokeh                         2.4.2\n",
      "bpython                       0.21\n",
      "bs4                           0.0.1\n",
      "CacheControl                  0.12.6\n",
      "cachetools                    4.2.4\n",
      "cachy                         0.3.0\n",
      "certifi                       2020.12.5\n",
      "cffi                          1.14.6\n",
      "chardet                       4.0.0\n",
      "clang                         5.0\n",
      "cleo                          0.8.1\n",
      "click                         7.1.2\n",
      "clikit                        0.6.2\n",
      "cloudpickle                   2.0.0\n",
      "colorama                      0.4.4\n",
      "colorcet                      3.0.0\n",
      "commonmark                    0.9.1\n",
      "completejourney-py            0.0.3\n",
      "component-logger              1.10.3\n",
      "cookiecutter                  1.7.3\n",
      "crashtest                     0.3.1\n",
      "curtsies                      0.3.5\n",
      "cwcwidth                      0.1.4\n",
      "cycler                        0.10.0\n",
      "databricks-cli                0.16.2\n",
      "dateparser                    1.1.0\n",
      "debugpy                       1.4.1\n",
      "decorator                     5.0.7\n",
      "defusedxml                    0.7.1\n",
      "distlib                       0.3.1\n",
      "docker                        5.0.3\n",
      "docutils                      0.16\n",
      "effo-cookiecutter             0.2.0\n",
      "effo411                       0.1.3\n",
      "effodata                      2.3.1\n",
      "effosort                      0.0.0\n",
      "entrypoints                   0.3\n",
      "et-xmlfile                    1.1.0\n",
      "filelock                      3.0.12\n",
      "flake8                        3.9.1\n",
      "flake8-docstrings             1.6.0\n",
      "Flask                         2.0.2\n",
      "flatbuffers                   1.12\n",
      "gast                          0.4.0\n",
      "gitdb                         4.0.9\n",
      "GitPython                     3.1.24\n",
      "google-auth                   2.3.1\n",
      "google-auth-oauthlib          0.4.6\n",
      "google-pasta                  0.2.0\n",
      "greenlet                      1.0.0\n",
      "grpcio                        1.41.1\n",
      "gunicorn                      20.1.0\n",
      "h5py                          3.1.0\n",
      "html5lib                      1.1\n",
      "idna                          2.10\n",
      "imagesize                     1.3.0\n",
      "importlib-metadata            4.8.1\n",
      "ipykernel                     6.0.3\n",
      "ipython                       7.26.0\n",
      "ipython-genutils              0.2.0\n",
      "ipywidgets                    7.7.0\n",
      "iqplot                        0.2.4\n",
      "isort                         5.8.0\n",
      "itsdangerous                  2.0.1\n",
      "jedi                          0.18.0\n",
      "Jinja2                        3.0.1\n",
      "jinja2-time                   0.2.0\n",
      "joblib                        1.1.0\n",
      "json5                         0.9.6\n",
      "jsonschema                    3.2.0\n",
      "jupyter                       1.0.0\n",
      "jupyter-book                  0.12.3\n",
      "jupyter-cache                 0.4.3\n",
      "jupyter-client                6.1.12\n",
      "jupyter-console               6.4.2\n",
      "jupyter-core                  4.7.1\n",
      "jupyter-server                1.10.2\n",
      "jupyter-server-mathjax        0.2.5\n",
      "jupyter-sphinx                0.3.2\n",
      "jupyterlab                    3.1.4\n",
      "jupyterlab-pygments           0.1.2\n",
      "jupyterlab-server             2.6.2\n",
      "jupyterlab-spellchecker       0.7.2\n",
      "jupyterlab-widgets            1.1.0\n",
      "kayday                        1.3.3\n",
      "keras                         2.6.0\n",
      "Keras-Preprocessing           1.1.2\n",
      "keyring                       21.8.0\n",
      "kiwisolver                    1.3.2\n",
      "kpi-metrics                   1.3.2\n",
      "latexcodec                    2.0.1\n",
      "lazy-object-proxy             1.6.0\n",
      "linkify-it-py                 1.0.3\n",
      "lockfile                      0.12.2\n",
      "Mako                          1.1.5\n",
      "Markdown                      3.3.4\n",
      "markdown-it-py                1.1.0\n",
      "MarkupSafe                    2.0.1\n",
      "matplotlib                    3.4.3\n",
      "matplotlib-inline             0.1.2\n",
      "mccabe                        0.6.1\n",
      "mdit-py-plugins               0.2.8\n",
      "mistune                       0.8.4\n",
      "mlflow                        1.21.0\n",
      "msgpack                       1.0.2\n",
      "my-sorting                    0.0.0     /Users/b294776/Desktop/sphinx_demo\n",
      "mypy-extensions               0.4.3\n",
      "myst-nb                       0.13.2\n",
      "myst-parser                   0.15.2\n",
      "nbclassic                     0.3.1\n",
      "nbclient                      0.5.3\n",
      "nbconvert                     6.1.0\n",
      "nbdime                        3.1.1\n",
      "nbformat                      5.1.3\n",
      "nest-asyncio                  1.5.1\n",
      "notebook                      6.4.2\n",
      "numpy                         1.19.5\n",
      "oauthlib                      3.1.1\n",
      "openpyxl                      3.0.9\n",
      "opt-einsum                    3.3.0\n",
      "packaging                     20.9\n",
      "pandas                        1.2.4\n",
      "pandocfilters                 1.4.3\n",
      "param                         1.12.1\n",
      "parso                         0.8.2\n",
      "pastel                        0.2.1\n",
      "pathspec                      0.9.0\n",
      "pexpect                       4.8.0\n",
      "pickleshare                   0.7.5\n",
      "Pillow                        8.4.0\n",
      "pip                           22.0.4\n",
      "pipx                          0.16.1.0\n",
      "pkginfo                       1.7.0\n",
      "platformdirs                  2.5.2\n",
      "pluggy                        0.13.1\n",
      "poetry                        1.1.6\n",
      "poetry-core                   1.0.3\n",
      "poyo                          0.5.0\n",
      "prometheus-client             0.11.0\n",
      "prometheus-flask-exporter     0.18.5\n",
      "prompt-toolkit                3.0.18\n",
      "protobuf                      3.19.0\n",
      "ptyprocess                    0.7.0\n",
      "py                            1.10.0\n",
      "py4j                          0.10.9.2\n",
      "pyarrow                       4.0.0\n",
      "pyasn1                        0.4.8\n",
      "pyasn1-modules                0.2.8\n",
      "pybtex                        0.24.0\n",
      "pybtex-docutils               1.0.1\n",
      "pycodestyle                   2.7.0\n",
      "pycparser                     2.20\n",
      "pyct                          0.4.8\n",
      "pydata-sphinx-theme           0.7.2\n",
      "pydocstyle                    6.0.0\n",
      "pyflakes                      2.3.1\n",
      "Pygments                      2.8.1\n",
      "pylev                         1.3.0\n",
      "pylint                        2.7.4\n",
      "pyluach                       1.3.0\n",
      "pyparsing                     2.4.7\n",
      "pyrsistent                    0.18.0\n",
      "pyspark                       3.2.0\n",
      "python-dateutil               2.8.1\n",
      "python-editor                 1.0.4\n",
      "python-slugify                5.0.2\n",
      "pytz                          2021.1\n",
      "pyxdg                         0.27\n",
      "PyYAML                        6.0\n",
      "pyzmq                         22.2.1\n",
      "qtconsole                     5.3.0\n",
      "QtPy                          2.0.1\n",
      "querystring-parser            1.2.4\n",
      "regex                         2021.11.2\n",
      "requests                      2.25.1\n",
      "requests-oauthlib             1.3.0\n",
      "requests-toolbelt             0.9.1\n",
      "requests-unixsocket           0.2.0\n",
      "rich                          10.13.0\n",
      "rsa                           4.7.2\n",
      "scikit-learn                  1.0.1\n",
      "scipy                         1.7.1\n",
      "Send2Trash                    1.8.0\n",
      "setuptools                    49.2.1\n",
      "shellingham                   1.4.0\n",
      "six                           1.15.0\n",
      "smmap                         5.0.0\n",
      "sniffio                       1.2.0\n",
      "snowballstemmer               2.1.0\n",
      "soupsieve                     2.3\n",
      "Sphinx                        4.5.0\n",
      "sphinx-book-theme             0.1.10\n",
      "sphinx-comments               0.0.3\n",
      "sphinx-copybutton             0.5.0\n",
      "sphinx-external-toc           0.2.4\n",
      "sphinx-jupyterbook-latex      0.4.6\n",
      "sphinx-multitoc-numbering     0.1.3\n",
      "sphinx-panels                 0.6.0\n",
      "sphinx-thebe                  0.1.1\n",
      "sphinx-togglebutton           0.3.1\n",
      "sphinxcontrib-applehelp       1.0.2\n",
      "sphinxcontrib-bibtex          2.4.2\n",
      "sphinxcontrib-devhelp         1.0.2\n",
      "sphinxcontrib-htmlhelp        2.0.0\n",
      "sphinxcontrib-jsmath          1.0.1\n",
      "sphinxcontrib-qthelp          1.0.3\n",
      "sphinxcontrib-serializinghtml 1.1.5\n",
      "SQLAlchemy                    1.4.26\n",
      "sqlparse                      0.4.2\n",
      "tabulate                      0.8.9\n",
      "tensorboard                   2.7.0\n",
      "tensorboard-data-server       0.6.1\n",
      "tensorboard-plugin-wit        1.8.0\n",
      "tensorflow                    2.6.0\n",
      "tensorflow-estimator          2.6.0\n",
      "termcolor                     1.1.0\n",
      "terminado                     0.10.1\n",
      "testpath                      0.5.0\n",
      "text-unidecode                1.3\n",
      "threadpoolctl                 3.0.0\n",
      "thrift                        0.13.0\n",
      "toml                          0.10.2\n",
      "tomli                         1.2.3\n",
      "tomlkit                       0.7.0\n",
      "tornado                       6.1\n",
      "tox                           3.23.0\n",
      "traitlets                     5.0.5\n",
      "typing_extensions             4.2.0\n",
      "tzlocal                       2.1\n",
      "uc-micro-py                   1.0.1\n",
      "urllib3                       1.26.4\n",
      "userpath                      1.4.2\n",
      "virtualenv                    20.4.3\n",
      "watermark                     2.3.0\n",
      "wcwidth                       0.2.5\n",
      "webencodings                  0.5.1\n",
      "websocket-client              1.1.1\n",
      "Werkzeug                      2.0.2\n",
      "wheel                         0.37.0\n",
      "widgetsnbextension            3.6.0\n",
      "wrapt                         1.12.1\n",
      "xarray                        2022.3.0\n",
      "xlrd                          2.0.1\n",
      "zipp                          3.6.0\n",
      "Note: you may need to restart the kernel to use updated packages.\n"
     ]
    }
   ],
   "source": [
    "%pip list"
   ]
  },
  {
   "cell_type": "markdown",
   "metadata": {},
   "source": [
    "When you run `sys.path` you will get the path to the library where your installed packages are stored. Again, your paths will differ but just realize that these are the locations that Python will search for a library when you run `import some_package`."
   ]
  },
  {
   "cell_type": "code",
   "execution_count": 2,
   "metadata": {},
   "outputs": [
    {
     "data": {
      "text/plain": [
       "['/Users/b294776/Desktop/Workspace/Training/UC/uc-bana-6043/book/02-module',\n",
       " '/usr/local/bin/python3.7',\n",
       " '/Users/b294776/.pyenv/versions/3.9.4/lib/python39.zip',\n",
       " '/Users/b294776/.pyenv/versions/3.9.4/lib/python3.9',\n",
       " '/Users/b294776/.pyenv/versions/3.9.4/lib/python3.9/lib-dynload',\n",
       " '',\n",
       " '/Users/b294776/.pyenv/versions/3.9.4/lib/python3.9/site-packages',\n",
       " '/Users/b294776/Desktop/sphinx_demo',\n",
       " '/Users/b294776/.pyenv/versions/3.9.4/lib/python3.9/site-packages/IPython/extensions',\n",
       " '/Users/b294776/.ipython',\n",
       " '/Users/b294776/.local/lib/python3.9/site-packages']"
      ]
     },
     "execution_count": 2,
     "metadata": {},
     "output_type": "execute_result"
    }
   ],
   "source": [
    "import sys\n",
    "\n",
    "sys.path"
   ]
  },
  {
   "cell_type": "markdown",
   "metadata": {},
   "source": [
    "A **module** is the broard term used for any code you are importing from outside your current script/notebook. This may include libraries installed on your computer or it may also include stand alone .py files that you created to hold support functions for your current analysis and you want to import them into your current notebook.\n",
    "\n",
    "For example, I have a simple hello.py file that I included in my current directory with the following function:\n",
    "\n",
    "```python\n",
    "def hello_world(name):\n",
    "    print(f\"Hello {name}\")\n",
    "```\n",
    "\n",
    "Don't worry about the details of the code. The point I want to make is I can import this module and use the `hello_world()` function I created with the following:"
   ]
  },
  {
   "cell_type": "code",
   "execution_count": 3,
   "metadata": {},
   "outputs": [
    {
     "name": "stdout",
     "output_type": "stream",
     "text": [
      "Hello Brad\n"
     ]
    }
   ],
   "source": [
    "from hello import hello_world\n",
    "\n",
    "hello_world('Brad')"
   ]
  },
  {
   "cell_type": "markdown",
   "metadata": {
    "slideshow": {
     "slide_type": "slide"
    }
   },
   "source": [
    "## Importing\n",
    "\n",
    "In the code above you saw the `import` statement. The `import` statement allows us to import code from another module. There are a few ways to use the statement, which we will mention briefly here, from most recommended to least recommended.\n",
    "\n",
    "```{admonition} Video 🎥:\n",
    "<iframe id=\"kaltura_player\" src=\"https://cdnapisec.kaltura.com/p/1492301/sp/149230100/embedIframeJs/uiconf_id/49148882/partner_id/1492301?iframeembed=true&playerId=kaltura_player&entry_id=1_4jvxqyt4&flashvars[streamerType]=auto&amp;flashvars[localizationCode]=en_US&amp;flashvars[leadWithHTML5]=true&amp;flashvars[sideBarContainer.plugin]=true&amp;flashvars[sideBarContainer.position]=left&amp;flashvars[sideBarContainer.clickToClose]=true&amp;flashvars[chapters.plugin]=true&amp;flashvars[chapters.layout]=vertical&amp;flashvars[chapters.thumbnailRotator]=false&amp;flashvars[streamSelector.plugin]=true&amp;flashvars[EmbedPlayer.SpinnerTarget]=videoHolder&amp;flashvars[dualScreen.plugin]=true&amp;flashvars[Kaltura.addCrossoriginToIframe]=true&amp;&wid=1_rnmuyjss\" width=\"640\" height=\"610\" allowfullscreen webkitallowfullscreen mozAllowFullScreen allow=\"autoplay *; fullscreen *; encrypted-media *\" sandbox=\"allow-downloads allow-forms allow-same-origin allow-scripts allow-top-navigation allow-pointer-lock allow-popups allow-modals allow-orientation-lock allow-popups-to-escape-sandbox allow-presentation allow-top-navigation-by-user-activation\" frameborder=\"0\" title=\"BANA 6043: Importing modules\"></iframe>\n",
    "```\n",
    "\n",
    "### Explicit module import\n",
    "\n",
    "Explicit import of a module preserves the module’s content in a namespace. The namespace is then used to refer to its contents with a dot (\".\") between them. \n",
    "\n",
    "```{note}\n",
    "Everything in Python is an object, so if we want to access the methods and attributes available inside an object, we use dot syntax. This is no different when we import a module. Python treats the module as an object and we can access anything in that module via dot syntax.\n",
    "```\n",
    "\n",
    "For example, here we’ll import the built-in `math` module and compute the cosine of pi:"
   ]
  },
  {
   "cell_type": "code",
   "execution_count": 4,
   "metadata": {},
   "outputs": [
    {
     "data": {
      "text/plain": [
       "-1.0"
      ]
     },
     "execution_count": 4,
     "metadata": {},
     "output_type": "execute_result"
    }
   ],
   "source": [
    "import math\n",
    "\n",
    "x = math.cos(math.pi)\n",
    "x"
   ]
  },
  {
   "cell_type": "markdown",
   "metadata": {},
   "source": [
    "### Explicit module import by alias\n",
    "\n",
    "For longer module names, it’s not convenient to use the full module name each time you access some element. For this reason, we’ll commonly use the `import ... as ...` pattern to create a shorter _alias_ for the namespace. For example, the NumPy (Numerical Python) package, a popular third-party package useful for data science, is by convention imported under the alias `np`:"
   ]
  },
  {
   "cell_type": "code",
   "execution_count": 5,
   "metadata": {},
   "outputs": [
    {
     "data": {
      "text/plain": [
       "-1.0"
      ]
     },
     "execution_count": 5,
     "metadata": {},
     "output_type": "execute_result"
    }
   ],
   "source": [
    "import numpy as np\n",
    "\n",
    "x = np.cos(np.pi)\n",
    "x"
   ]
  },
  {
   "cell_type": "markdown",
   "metadata": {},
   "source": [
    "### Explicit import of module contents\n",
    "\n",
    "Sometimes rather than importing the module namespace, you would just like to import a few particular items from the module. This can be done with the `from ... import ...` pattern. For example, we can import just the `cos` function and the `pi` constant from the math module:"
   ]
  },
  {
   "cell_type": "code",
   "execution_count": 6,
   "metadata": {},
   "outputs": [
    {
     "data": {
      "text/plain": [
       "-1.0"
      ]
     },
     "execution_count": 6,
     "metadata": {},
     "output_type": "execute_result"
    }
   ],
   "source": [
    "from math import cos, pi\n",
    "\n",
    "x = cos(pi)\n",
    "x"
   ]
  },
  {
   "cell_type": "markdown",
   "metadata": {},
   "source": [
    "###  Implicit import of module contents\n",
    "\n",
    "Finally, it is sometimes useful to import the entirety of the module contents into the local namespace. This can be done with the `from ... import *` pattern:"
   ]
  },
  {
   "cell_type": "code",
   "execution_count": 7,
   "metadata": {},
   "outputs": [
    {
     "data": {
      "text/plain": [
       "1.0"
      ]
     },
     "execution_count": 7,
     "metadata": {},
     "output_type": "execute_result"
    }
   ],
   "source": [
    "from math import *\n",
    "\n",
    "x = sin(pi) ** 2 + cos(pi) ** 2\n",
    "x"
   ]
  },
  {
   "cell_type": "markdown",
   "metadata": {},
   "source": [
    "```{warning}\n",
    "This pattern should be used sparingly, if at all. The problem is that such imports can sometimes overwrite function names that you do not intend to overwrite, and the implicitness of the statement makes it difficult to determine what has changed.\n",
    "```"
   ]
  },
  {
   "cell_type": "markdown",
   "metadata": {},
   "source": [
    "For example, Python has a built-in sum function that can be used for various operations:"
   ]
  },
  {
   "cell_type": "code",
   "execution_count": 8,
   "metadata": {},
   "outputs": [
    {
     "data": {
      "text/plain": [
       "9"
      ]
     },
     "execution_count": 8,
     "metadata": {},
     "output_type": "execute_result"
    }
   ],
   "source": [
    "sum(range(5), -1)"
   ]
  },
  {
   "cell_type": "markdown",
   "metadata": {},
   "source": [
    "Now observe what happens if we make the exact same function call after importing `*` (everything) from `numpy`:"
   ]
  },
  {
   "cell_type": "code",
   "execution_count": 9,
   "metadata": {},
   "outputs": [
    {
     "data": {
      "text/plain": [
       "10"
      ]
     },
     "execution_count": 9,
     "metadata": {},
     "output_type": "execute_result"
    }
   ],
   "source": [
    "from numpy import *\n",
    "\n",
    "sum(range(5), -1)"
   ]
  },
  {
   "cell_type": "markdown",
   "metadata": {},
   "source": [
    "The result is off by one! The reason for this is that the `import *` statement replaces the built-in `sum` function with the `numpy.sum` function, which has a different call signature. \n",
    "\n",
    "```{tip}\n",
    "Implicit module importing is generally frowned upon and in this class I expect you to use one of the three explicit importing approaches\n",
    "```"
   ]
  },
  {
   "cell_type": "markdown",
   "metadata": {},
   "source": [
    "## Standard library\n",
    "\n",
    "```{admonition} Video 🎥:\n",
    "<iframe id=\"kaltura_player\" src=\"https://cdnapisec.kaltura.com/p/1492301/sp/149230100/embedIframeJs/uiconf_id/49148882/partner_id/1492301?iframeembed=true&playerId=kaltura_player&entry_id=1_9vp5r22f&flashvars[streamerType]=auto&amp;flashvars[localizationCode]=en_US&amp;flashvars[leadWithHTML5]=true&amp;flashvars[sideBarContainer.plugin]=true&amp;flashvars[sideBarContainer.position]=left&amp;flashvars[sideBarContainer.clickToClose]=true&amp;flashvars[chapters.plugin]=true&amp;flashvars[chapters.layout]=vertical&amp;flashvars[chapters.thumbnailRotator]=false&amp;flashvars[streamSelector.plugin]=true&amp;flashvars[EmbedPlayer.SpinnerTarget]=videoHolder&amp;flashvars[dualScreen.plugin]=true&amp;flashvars[Kaltura.addCrossoriginToIframe]=true&amp;&wid=1_vk5b1ub2\" width=\"640\" height=\"610\" allowfullscreen webkitallowfullscreen mozAllowFullScreen allow=\"autoplay *; fullscreen *; encrypted-media *\" sandbox=\"allow-downloads allow-forms allow-same-origin allow-scripts allow-top-navigation allow-pointer-lock allow-popups allow-modals allow-orientation-lock allow-popups-to-escape-sandbox allow-presentation allow-top-navigation-by-user-activation\" frameborder=\"0\" title=\"BANA 6043: Python's standard library\"></iframe>\n",
    "```\n",
    "\n",
    "In the above code we've seen a few different libraries installed (`math` and `numpy`). These libraries represent two of the many readily available libraries at your disposal. However, we refer to the `math` library is part of the **standard library** and the `numpy` library is considered a **third party library**.\n",
    "\n"
   ]
  },
  {
   "cell_type": "markdown",
   "metadata": {
    "slideshow": {
     "slide_type": "fragment"
    }
   },
   "source": [
    "So far we've seen several data types that Python offers out-of-the-box.\n",
    "However, to keep things organized, some Python functionality is stored in standalone *packages*, or libraries of code.\n",
    "The word \"module\" is generally synonymous with package; you will hear both in discussions of Python."
   ]
  },
  {
   "cell_type": "markdown",
   "metadata": {},
   "source": [
    "Some packages, like `math`, are bundled with every Python install; downloading Python guarantees you'll have these packages.\n",
    "Collectively, this group of packages is known as the *standard library*.\n",
    "\n",
    "Python’s standard library contains many useful built-in modules, which you can read about fully in [Python’s documentation](https://docs.python.org/3/library/). Any of these can be imported with the `import` statement, and then explored using the help function seen in the previous module. Here is an extremely incomplete list of some of the modules you might wish to explore and learn about:\n",
    "\n",
    "- `os` and `sys`: Tools for interfacing with the operating system, including navigating file directory structures and executing shell commands\n",
    "- `math` and `cmath`: Mathematical functions and operations on real and complex numbers\n",
    "- `itertools`: Tools for constructing and interacting with iterators and generators\n",
    "- `functools`: Tools that assist with functional programming\n",
    "- `random`: Tools for generating pseudorandom numbers\n",
    "- `pickle`: Tools for object persistence: saving objects to and loading objects from disk\n",
    "- `json` and `csv`: Tools for reading JSON-formatted and CSV-formatted files.\n",
    "- `urllib`: Tools for doing HTTP and other web requests.\n",
    "\n",
    "You can find information on these, and many more, in the Python standard library documentation: https://docs.python.org/3/library/."
   ]
  },
  {
   "cell_type": "markdown",
   "metadata": {
    "slideshow": {
     "slide_type": "slide"
    }
   },
   "source": [
    "For example, functionality related to the operating system -- such as creating files and folders -- is stored in a package called `os`.\n",
    "To use the tools in `os`, we *import* the package."
   ]
  },
  {
   "cell_type": "code",
   "execution_count": 10,
   "metadata": {
    "slideshow": {
     "slide_type": "fragment"
    }
   },
   "outputs": [],
   "source": [
    "import os"
   ]
  },
  {
   "cell_type": "markdown",
   "metadata": {
    "slideshow": {
     "slide_type": "fragment"
    }
   },
   "source": [
    "Once we import it, we gain access to everything inside. With Jupyter's autocomplete, we can type `os.` and hit tab to see a list of available functions. In this example I use `os.getcwd()` to print out the current working directory I am in."
   ]
  },
  {
   "cell_type": "code",
   "execution_count": 11,
   "metadata": {
    "slideshow": {
     "slide_type": "fragment"
    },
    "tags": [
     "ci-skip"
    ]
   },
   "outputs": [
    {
     "data": {
      "text/plain": [
       "'/Users/b294776/Desktop/Workspace/Training/UC/uc-bana-6043/book/02-module'"
      ]
     },
     "execution_count": 11,
     "metadata": {},
     "output_type": "execute_result"
    }
   ],
   "source": [
    "# Move your cursor to the end of the below line and press tab.\n",
    "os.getcwd()"
   ]
  },
  {
   "cell_type": "markdown",
   "metadata": {},
   "source": [
    "### Knowledge check\n",
    "\n",
    "```{admonition} Questions:\n",
    ":class: attention\n",
    "1. Go to the standard library documentation and read about the `random` library.\n",
    "2. Identify the function that will allow you to generate random integers.\n",
    "3. Import this function from the `random` package.\n",
    "4. Generate a random integer between the values 0-10.\n",
    "```"
   ]
  },
  {
   "cell_type": "markdown",
   "metadata": {
    "slideshow": {
     "slide_type": "slide"
    }
   },
   "source": [
    "## Third-party modules\n",
    "\n",
    "```{admonition} Video 🎥:\n",
    "<iframe id=\"kaltura_player\" src=\"https://cdnapisec.kaltura.com/p/1492301/sp/149230100/embedIframeJs/uiconf_id/49148882/partner_id/1492301?iframeembed=true&playerId=kaltura_player&entry_id=1_3tf6mbd5&flashvars[streamerType]=auto&amp;flashvars[localizationCode]=en_US&amp;flashvars[leadWithHTML5]=true&amp;flashvars[sideBarContainer.plugin]=true&amp;flashvars[sideBarContainer.position]=left&amp;flashvars[sideBarContainer.clickToClose]=true&amp;flashvars[chapters.plugin]=true&amp;flashvars[chapters.layout]=vertical&amp;flashvars[chapters.thumbnailRotator]=false&amp;flashvars[streamSelector.plugin]=true&amp;flashvars[EmbedPlayer.SpinnerTarget]=videoHolder&amp;flashvars[dualScreen.plugin]=true&amp;flashvars[Kaltura.addCrossoriginToIframe]=true&amp;&wid=1_6x4t5ecb\" width=\"640\" height=\"610\" allowfullscreen webkitallowfullscreen mozAllowFullScreen allow=\"autoplay *; fullscreen *; encrypted-media *\" sandbox=\"allow-downloads allow-forms allow-same-origin allow-scripts allow-top-navigation allow-pointer-lock allow-popups allow-modals allow-orientation-lock allow-popups-to-escape-sandbox allow-presentation allow-top-navigation-by-user-activation\" frameborder=\"0\" title=\"BANA 6043: 3rd party packages\"></iframe>\n",
    "```\n",
    "\n",
    "One of the things that makes Python useful, especially within the world of data science, is its ecosystem of third-party modules. These can be imported just as the built-in modules, but first the modules must be installed on your system. As previously mentioned, [Python Package Index](https://pypi.org/) (PyPI for short) and [Anaconda](https://anaconda.org/anaconda/repo) are the two primary public package managers for Python.  To install packages from these locations we just use the following:\n",
    "\n",
    "```bash\n",
    "# install from PyPI\n",
    "pip install pkg_name\n",
    "\n",
    "# install from Anaconda\n",
    "conda install pkg_name\n",
    "```\n",
    "\n",
    "```{note}\n",
    "There are currently (May 1, 2022) about 370,000 packages available through the Python Package Index, PyPI. Usually, you can ask Google about what you are trying to do, and there is often a third party module to help you do it. The most useful (for scientific computing) and thoroughly tested packages and modules are available using `conda`. Others can be installed using `pip`.\n",
    "```"
   ]
  },
  {
   "cell_type": "markdown",
   "metadata": {},
   "source": [
    "We will extensively use the Numpy, SciPy, Pandas, and Bokeh packages, among others, in this class, and I’m sure you will also use them beyond. Let's look at some examples of these third party packages to give you a flavor of what they do. Don't worry, we'll go into some of these more thoroughly in later lessons!"
   ]
  },
  {
   "cell_type": "markdown",
   "metadata": {},
   "source": [
    "### NumPy\n",
    "\n",
    "[NumPy](https://numpy.org/) provides an efficient way to store and manipulate multi-dimensional dense arrays in Python. The important features of NumPy are:\n",
    "\n",
    "* It provides an ndarray structure, which allows efficient storage and manipulation of vectors, matrices, and higher-dimensional datasets.\n",
    "* It provides a readable and efficient syntax for operating on this data, from simple element-wise arithmetic to more complicated linear algebraic operations.\n",
    "\n",
    "```{}\n",
    "Although the package is officially spelled \"NumPy\" you will commonly see it referred to as Numpy and numpy across the Python ecosystem (and even within this course).\n",
    "```\n",
    "\n",
    "In the simplest case, NumPy arrays look a lot like Python lists. For example, here is an array containing the range of numbers 1 to 9:"
   ]
  },
  {
   "cell_type": "code",
   "execution_count": 12,
   "metadata": {},
   "outputs": [
    {
     "data": {
      "text/plain": [
       "array([1, 2, 3, 4, 5, 6, 7, 8, 9])"
      ]
     },
     "execution_count": 12,
     "metadata": {},
     "output_type": "execute_result"
    }
   ],
   "source": [
    "import numpy as np\n",
    "\n",
    "x = np.arange(1, 10)\n",
    "x"
   ]
  },
  {
   "cell_type": "markdown",
   "metadata": {},
   "source": [
    "```{tip}\n",
    "Standard convention is to import numpy as the **np** alias.\n",
    "```"
   ]
  },
  {
   "cell_type": "markdown",
   "metadata": {},
   "source": [
    "NumPy’s arrays offer both efficient storage of data, as well as efficient element-wise operations on the data. For example, to square each element of the array, we can apply the “**” operator to the array directly:"
   ]
  },
  {
   "cell_type": "code",
   "execution_count": 13,
   "metadata": {},
   "outputs": [
    {
     "data": {
      "text/plain": [
       "array([ 1,  4,  9, 16, 25, 36, 49, 64, 81])"
      ]
     },
     "execution_count": 13,
     "metadata": {},
     "output_type": "execute_result"
    }
   ],
   "source": [
    "x ** 2\n"
   ]
  },
  {
   "cell_type": "markdown",
   "metadata": {},
   "source": [
    "This element-wise operation capability (commonly referred to as __vectorization__) is extremely useful but is not available in base Python. In base Python, if you had a list of these same numbers you would have to loop through each element in the list and compute the square of each number:"
   ]
  },
  {
   "cell_type": "code",
   "execution_count": 14,
   "metadata": {},
   "outputs": [
    {
     "ename": "TypeError",
     "evalue": "unsupported operand type(s) for ** or pow(): 'list' and 'int'",
     "output_type": "error",
     "traceback": [
      "\u001b[0;31m---------------------------------------------------------------------------\u001b[0m",
      "\u001b[0;31mTypeError\u001b[0m                                 Traceback (most recent call last)",
      "\u001b[0;32m/var/folders/8f/c06lv6q17tjbyjv2nkt0_s4s1sh0tg/T/ipykernel_98656/3655381730.py\u001b[0m in \u001b[0;36m<module>\u001b[0;34m\u001b[0m\n\u001b[1;32m      2\u001b[0m \u001b[0;34m\u001b[0m\u001b[0m\n\u001b[1;32m      3\u001b[0m \u001b[0;31m# not supported\u001b[0m\u001b[0;34m\u001b[0m\u001b[0;34m\u001b[0m\u001b[0;34m\u001b[0m\u001b[0m\n\u001b[0;32m----> 4\u001b[0;31m \u001b[0mx_list\u001b[0m \u001b[0;34m**\u001b[0m \u001b[0;36m2\u001b[0m\u001b[0;34m\u001b[0m\u001b[0;34m\u001b[0m\u001b[0m\n\u001b[0m",
      "\u001b[0;31mTypeError\u001b[0m: unsupported operand type(s) for ** or pow(): 'list' and 'int'"
     ]
    }
   ],
   "source": [
    "x_list = [1, 2, 3, 4, 5, 6, 7, 8, 9]\n",
    "\n",
    "# not supported\n",
    "x_list ** 2"
   ]
  },
  {
   "cell_type": "markdown",
   "metadata": {},
   "source": [
    "We would need to use a non-vectorized approach that iterates through each element and computes the square. The below illustrates the much more verbose non-vectorized approach that produces the same result:\n",
    "\n",
    "```{note}\n",
    "Don't worry about the syntax, you will learn about this in a later lesson. Just note how the above approach with Numpy is far more convenient!\n",
    "```"
   ]
  },
  {
   "cell_type": "code",
   "execution_count": 15,
   "metadata": {},
   "outputs": [
    {
     "data": {
      "text/plain": [
       "[1, 4, 9, 16, 25, 36, 49, 64, 81]"
      ]
     },
     "execution_count": 15,
     "metadata": {},
     "output_type": "execute_result"
    }
   ],
   "source": [
    "x_squared = [val ** 2 for val in x_list]\n",
    "x_squared"
   ]
  },
  {
   "cell_type": "markdown",
   "metadata": {},
   "source": [
    "Numpy also provides a host of other vectorized arithmetic capabilities. For example, we can compute the mean of a list with the following:"
   ]
  },
  {
   "cell_type": "code",
   "execution_count": 16,
   "metadata": {},
   "outputs": [
    {
     "data": {
      "text/plain": [
       "5.5"
      ]
     },
     "execution_count": 16,
     "metadata": {},
     "output_type": "execute_result"
    }
   ],
   "source": [
    "np.mean([1, 2, 3, 4, 5, 6, 7, 8, 9, 10])"
   ]
  },
  {
   "cell_type": "markdown",
   "metadata": {},
   "source": [
    "Unlike Python lists (which are limited to one dimension), NumPy arrays can be multi-dimensional. For example, here we will reshape our `x` array into a 3x3 matrix:"
   ]
  },
  {
   "cell_type": "code",
   "execution_count": 17,
   "metadata": {},
   "outputs": [
    {
     "data": {
      "text/plain": [
       "array([[1, 2, 3],\n",
       "       [4, 5, 6],\n",
       "       [7, 8, 9]])"
      ]
     },
     "execution_count": 17,
     "metadata": {},
     "output_type": "execute_result"
    }
   ],
   "source": [
    "m = x.reshape((3, 3))\n",
    "m"
   ]
  },
  {
   "cell_type": "markdown",
   "metadata": {},
   "source": [
    "A two-dimensional array is one representation of a matrix, and NumPy knows how to efficiently do typical matrix operations. For example, you can compute the transpose using `.T`:"
   ]
  },
  {
   "cell_type": "code",
   "execution_count": 18,
   "metadata": {},
   "outputs": [
    {
     "data": {
      "text/plain": [
       "array([[1, 4, 7],\n",
       "       [2, 5, 8],\n",
       "       [3, 6, 9]])"
      ]
     },
     "execution_count": 18,
     "metadata": {},
     "output_type": "execute_result"
    }
   ],
   "source": [
    "m.T"
   ]
  },
  {
   "cell_type": "markdown",
   "metadata": {},
   "source": [
    "or a matrix-vector product using `np.dot`:"
   ]
  },
  {
   "cell_type": "code",
   "execution_count": 19,
   "metadata": {},
   "outputs": [
    {
     "data": {
      "text/plain": [
       "array([ 38,  92, 146])"
      ]
     },
     "execution_count": 19,
     "metadata": {},
     "output_type": "execute_result"
    }
   ],
   "source": [
    "np.dot(m, [5, 6, 7])"
   ]
  },
  {
   "cell_type": "markdown",
   "metadata": {},
   "source": [
    "and even more sophisticated operations like eigenvalue decomposition:"
   ]
  },
  {
   "cell_type": "code",
   "execution_count": 20,
   "metadata": {},
   "outputs": [
    {
     "data": {
      "text/plain": [
       "array([ 1.61168440e+01, -1.11684397e+00, -1.30367773e-15])"
      ]
     },
     "execution_count": 20,
     "metadata": {},
     "output_type": "execute_result"
    }
   ],
   "source": [
    "np.linalg.eigvals(m)"
   ]
  },
  {
   "cell_type": "markdown",
   "metadata": {},
   "source": [
    "```{note}\n",
    "Such linear algebraic manipulation underpins much of modern data analysis, particularly when it comes to the fields of machine learning and data mining.\n",
    "```"
   ]
  },
  {
   "cell_type": "markdown",
   "metadata": {},
   "source": [
    "### Pandas\n",
    "\n",
    "[Pandas](https://pandas.pydata.org/) is a much newer package than Numpy, and is in fact built on top of it. What Pandas provides is a labeled interface to multi-dimensional data, in the form of a DataFrame object that will feel very familiar to users of R and related languages. DataFrames in Pandas look something like the following.\n",
    "\n",
    "```{tip}\n",
    "It is a common convention to import Pandas with the **pd** alias.\n",
    "```"
   ]
  },
  {
   "cell_type": "code",
   "execution_count": 21,
   "metadata": {},
   "outputs": [],
   "source": [
    "import pandas as pd\n",
    "\n",
    "df = pd.DataFrame({'label': ['A', 'B', 'C', 'A', 'B', 'C'],\n",
    "                   'value': [1, 2, 3, 4, 5, 6]})"
   ]
  },
  {
   "cell_type": "markdown",
   "metadata": {},
   "source": [
    "```{note}\n",
    "In practice, rarely do we create a DataFrame in this manner; most of the time we are importing data from a tabular file (i.e. CSV) into a DataFrame. However, this is only for the purpose of providing some simple examples\n",
    "```"
   ]
  },
  {
   "cell_type": "markdown",
   "metadata": {},
   "source": [
    "The Pandas interface allows you to do things like select columns by name:"
   ]
  },
  {
   "cell_type": "code",
   "execution_count": 22,
   "metadata": {},
   "outputs": [
    {
     "data": {
      "text/plain": [
       "0    A\n",
       "1    B\n",
       "2    C\n",
       "3    A\n",
       "4    B\n",
       "5    C\n",
       "Name: label, dtype: object"
      ]
     },
     "execution_count": 22,
     "metadata": {},
     "output_type": "execute_result"
    }
   ],
   "source": [
    "df['label']"
   ]
  },
  {
   "cell_type": "markdown",
   "metadata": {},
   "source": [
    "Apply string operations across string entries:"
   ]
  },
  {
   "cell_type": "code",
   "execution_count": 23,
   "metadata": {},
   "outputs": [
    {
     "data": {
      "text/plain": [
       "0    a\n",
       "1    b\n",
       "2    c\n",
       "3    a\n",
       "4    b\n",
       "5    c\n",
       "Name: label, dtype: object"
      ]
     },
     "execution_count": 23,
     "metadata": {},
     "output_type": "execute_result"
    }
   ],
   "source": [
    "df['label'].str.lower()"
   ]
  },
  {
   "cell_type": "markdown",
   "metadata": {},
   "source": [
    "Compute statistical aggregations for numerical columns:\n"
   ]
  },
  {
   "cell_type": "code",
   "execution_count": 24,
   "metadata": {},
   "outputs": [
    {
     "data": {
      "text/plain": [
       "21"
      ]
     },
     "execution_count": 24,
     "metadata": {},
     "output_type": "execute_result"
    }
   ],
   "source": [
    "df['value'].sum()"
   ]
  },
  {
   "cell_type": "markdown",
   "metadata": {},
   "source": [
    "And, perhaps most importantly, do efficient database-style joins and groupings:"
   ]
  },
  {
   "cell_type": "code",
   "execution_count": 25,
   "metadata": {},
   "outputs": [
    {
     "data": {
      "text/html": [
       "<div>\n",
       "<style scoped>\n",
       "    .dataframe tbody tr th:only-of-type {\n",
       "        vertical-align: middle;\n",
       "    }\n",
       "\n",
       "    .dataframe tbody tr th {\n",
       "        vertical-align: top;\n",
       "    }\n",
       "\n",
       "    .dataframe thead th {\n",
       "        text-align: right;\n",
       "    }\n",
       "</style>\n",
       "<table border=\"1\" class=\"dataframe\">\n",
       "  <thead>\n",
       "    <tr style=\"text-align: right;\">\n",
       "      <th></th>\n",
       "      <th>value</th>\n",
       "    </tr>\n",
       "    <tr>\n",
       "      <th>label</th>\n",
       "      <th></th>\n",
       "    </tr>\n",
       "  </thead>\n",
       "  <tbody>\n",
       "    <tr>\n",
       "      <th>A</th>\n",
       "      <td>5</td>\n",
       "    </tr>\n",
       "    <tr>\n",
       "      <th>B</th>\n",
       "      <td>7</td>\n",
       "    </tr>\n",
       "    <tr>\n",
       "      <th>C</th>\n",
       "      <td>9</td>\n",
       "    </tr>\n",
       "  </tbody>\n",
       "</table>\n",
       "</div>"
      ],
      "text/plain": [
       "       value\n",
       "label       \n",
       "A          5\n",
       "B          7\n",
       "C          9"
      ]
     },
     "execution_count": 25,
     "metadata": {},
     "output_type": "execute_result"
    }
   ],
   "source": [
    "df.groupby('label').sum()\n"
   ]
  },
  {
   "cell_type": "markdown",
   "metadata": {},
   "source": [
    "Here in one line we have computed the sum of all objects sharing the same label, something that is much more verbose (and much less efficient) using tools provided in Numpy and core Python. \n",
    "\n",
    "```{note}\n",
    "In future lessons we will go much deeper into Pandas and you'll also see a large dependency on using Pandas as we start exploring other parts of the statistical computing ecosystem (i.e. visualization, machine learning).\n",
    "```"
   ]
  },
  {
   "cell_type": "markdown",
   "metadata": {},
   "source": [
    "### Matplotlib\n",
    "\n",
    "Matplotlib is currently the most popular scientific visualization packages in Python. Even proponents admit that its interface is sometimes overly verbose, but it is a powerful library for creating a large range of plots.\n",
    "\n",
    "```{tip}\n",
    "It is a common convention to import Matplotlib with the **plt** alias.\n",
    "```"
   ]
  },
  {
   "cell_type": "code",
   "execution_count": 26,
   "metadata": {},
   "outputs": [],
   "source": [
    "import matplotlib.pyplot as plt\n",
    "\n",
    "plt.style.use('ggplot')  # make graphs in the style of R's ggplot"
   ]
  },
  {
   "cell_type": "markdown",
   "metadata": {},
   "source": [
    "Now let’s create some data and plot the results:"
   ]
  },
  {
   "cell_type": "code",
   "execution_count": 27,
   "metadata": {},
   "outputs": [
    {
     "data": {
      "image/png": "[encoded data removed]",
      "text/plain": [
       "<Figure size 432x288 with 1 Axes>"
      ]
     },
     "metadata": {},
     "output_type": "display_data"
    }
   ],
   "source": [
    "x = np.linspace(0, 10)  # range of values from 0 to 10\n",
    "y = np.sin(x)           # sine of these values\n",
    "plt.plot(x, y);         # plot as a line"
   ]
  },
  {
   "cell_type": "markdown",
   "metadata": {},
   "source": [
    "This is the simplest example of a Matplotlib plot; for ideas on the wide range of plot types available, see [Matplotlib’s online gallery](https://matplotlib.org/gallery.html). \n",
    "\n",
    "```{note}\n",
    "Although you'll be exposed to some Matplotlib throughout this course, we will tend to focus on other third-party visualization packages that are simpler to use.\n",
    "```"
   ]
  },
  {
   "cell_type": "markdown",
   "metadata": {},
   "source": [
    "### SciPy\n",
    "\n",
    "**[SciPy](https://scipy.org/)** is a collection of scientific functionality that is built on Numpy. The package began as a set of Python wrappers to well-known Fortran libraries for numerical computing, and has grown from there. The package is arranged as a set of submodules, each implementing some class of numerical algorithms. Here is an incomplete sample of some of the more important ones for data science:\n",
    "\n",
    "- scipy.fftpack: Fast Fourier transforms\n",
    "- scipy.integrate: Numerical integration\n",
    "- scipy.interpolate: Numerical interpolation\n",
    "- scipy.linalg: Linear algebra routines\n",
    "- scipy.optimize: Numerical optimization of functions\n",
    "- scipy.sparse: Sparse matrix storage and linear algebra\n",
    "- scipy.stats: Statistical analysis routines\n",
    "\n",
    "For example, let’s take a look at interpolating a smooth curve between some data"
   ]
  },
  {
   "cell_type": "code",
   "execution_count": 28,
   "metadata": {},
   "outputs": [
    {
     "data": {
      "image/png": "[encoded data removed]",
      "text/plain": [
       "<Figure size 432x288 with 1 Axes>"
      ]
     },
     "metadata": {},
     "output_type": "display_data"
    }
   ],
   "source": [
    "from scipy import interpolate\n",
    "\n",
    "# choose eight points between 0 and 10\n",
    "x = np.linspace(0, 10, 8)\n",
    "y = np.sin(x)\n",
    "\n",
    "# create a cubic interpolation function\n",
    "func = interpolate.interp1d(x, y, kind='cubic')\n",
    "\n",
    "# interpolate on a grid of 1,000 points\n",
    "x_interp = np.linspace(0, 10, 1000)\n",
    "y_interp = func(x_interp)\n",
    "\n",
    "# plot the results\n",
    "plt.figure()  # new figure\n",
    "plt.plot(x, y, 'o')\n",
    "plt.plot(x_interp, y_interp);"
   ]
  },
  {
   "cell_type": "markdown",
   "metadata": {},
   "source": [
    "What we see is a smooth interpolation between the points."
   ]
  },
  {
   "cell_type": "markdown",
   "metadata": {},
   "source": [
    "### Other Data Science Packages\n",
    "\n",
    "Built on top of these tools are a host of other data science packages, including general tools like [Scikit-Learn](http://scikit-learn.org/) for machine learning, [Scikit-Image](http://scikit-image.org/) for image analysis, [Seaborn](https://seaborn.pydata.org/) for statistical visualization, and [Statsmodels](http://statsmodels.sourceforge.net/) for statistical modeling; as well as more domain-specific packages like [AstroPy](http://astropy.org/) for astronomy and astrophysics, [NiPy](http://nipy.org/) for neuro-imaging, and many, many more.\n",
    "\n",
    "No matter what type of scientific, numerical, or statistical problem you are facing, it’s likely there is a Python package out there that can help you solve it."
   ]
  },
  {
   "cell_type": "markdown",
   "metadata": {},
   "source": [
    "## Exercises\n",
    "\n",
    "```{admonition} Tasks:\n",
    ":class: attention\n",
    "1. Spend some time familiarizing yourself with the [Pandas documentation](https://pandas.pydata.org/).\n",
    "2. Watch the Pandas in 10 minutes video on the [Getting Started](https://pandas.pydata.org/getting_started.html) page.\n",
    "3. Read [A landscape diagram for Python data](https://community.ibm.com/community/user/datascience/blogs/paco-nathan/2019/03/12/a-landscape-diagram-for-python-data)\n",
    "4. Read [20 Python Libraries Every Data Scientist Needs to Know](https://builtin.com/data-science/python-libraries-data-science)\n",
    "```"
   ]
  },
  {
   "cell_type": "markdown",
   "metadata": {},
   "source": [
    "## Computing environment"
   ]
  },
  {
   "cell_type": "code",
   "execution_count": 29,
   "metadata": {},
   "outputs": [
    {
     "name": "stdout",
     "output_type": "stream",
     "text": [
      "Python implementation: CPython\n",
      "Python version       : 3.9.4\n",
      "IPython version      : 7.26.0\n",
      "\n",
      "jupyterlab: 3.1.4\n",
      "numpy     : 1.19.5\n",
      "pandas    : 1.2.4\n",
      "matplotlib: 3.4.3\n",
      "scipy     : 1.7.1\n",
      "\n"
     ]
    }
   ],
   "source": [
    "%load_ext watermark\n",
    "%watermark -v -p jupyterlab,numpy,pandas,matplotlib,scipy"
   ]
  },
  {
   "cell_type": "code",
   "execution_count": null,
   "metadata": {},
   "outputs": [],
   "source": []
  }
 ],
 "metadata": {
  "kernelspec": {
   "display_name": "Python 3.9.12 ('base')",
   "language": "python",
   "name": "python3"
  },
  "language_info": {
   "codemirror_mode": {
    "name": "ipython",
    "version": 3
   },
   "file_extension": ".py",
   "mimetype": "text/x-python",
   "name": "python",
   "nbconvert_exporter": "python",
   "pygments_lexer": "ipython3",
   "version": "3.9.12"
  },
  "rise": {
   "autolaunch": true,
   "transition": "none"
  },
  "vscode": {
   "interpreter": {
    "hash": "40d3a090f54c6569ab1632332b64b2c03c39dcf918b08424e98f38b5ae0af88f"
   }
  }
 },
 "nbformat": 4,
 "nbformat_minor": 4
}
