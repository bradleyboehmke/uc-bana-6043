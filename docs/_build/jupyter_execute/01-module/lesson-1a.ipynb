{
 "cells": [
  {
   "cell_type": "markdown",
   "metadata": {},
   "source": [
    "# Lesson 1a: Introduction to JupyterLab\n",
    "\n",
    "<hr/>\n",
    "\n",
    "In this lesson we will introduce the Python interpreter along with JupyterLab and notebooks."
   ]
  },
  {
   "cell_type": "markdown",
   "metadata": {},
   "source": [
    "## Learning objectives\n",
    "\n",
    "By the end of this lesson you will be able to:\n",
    "\n",
    "- Open and execute code in the JupyterLab console.\n",
    "- Execute a simple .py file from the terminal and console within JupyterLab.\n",
    "- Explain the benefits of a Jupyter notebook and create code and markdown cells.\n",
    "  "
   ]
  },
  {
   "cell_type": "markdown",
   "metadata": {},
   "source": [
    "## The Python interpreter\n",
    "\n",
    "Before diving into the Python interpreter, I pause here to remind you that this class is not meant to teach Python syntax (though you will learn plenty of that!). The things you learn here are meant to help you understand, and ultimately do, statistical computing more generally. Think of it this way: this class is meant to help you unleash the power of your computer on your statistical problems. Python is just the language of instruction. That said, let's start talking about how Python works.\n",
    "\n",
    "Python is an **interpreted language**, which means that each line of code you write is translated, or *interpreted*, into a set of instructions that your machine can understand by the **Python interpreter**. This stands in contrast to **compiled languages**.  For these languages (the dominant ones being Fortran, C, and C++), your entire code is translated into machine language before you ever run it. When you execute your program, it is already in machine language.\n",
    "\n",
    "So, whenever you want your Python code to run, you give it to the Python interpreter.\n",
    "\n",
    "There are many ways to launch the Python interpreter. One way is to type\n",
    "\n",
    "    python\n",
    "    \n",
    "on the command line of a terminal. This launches the vanilla Python interpreter. We will never really use this in this class. Rather, we will have a *greatly* enhanced Python experience, either using **IPython**, a feature-rich, enhanced interactive Python available through JupyterLab's console, or using a **notebook**, also launchable in JupyterLab."
   ]
  },
  {
   "cell_type": "markdown",
   "metadata": {},
   "source": [
    "## Hello, world. and the print() function\n",
    "\n",
    "Traditionally, the first program anyone writes when learning a new language is called \"`Hello, world.`\" In this program, the words \"`Hello, world.`\" are printed on the screen.  The original `Hello, world.` was likely written by Brian Kernighan, one of the inventors of Unix, and the author of the classic and authoritative [book](http://www.amazon.com/The-Programming-Language-Brian-Kernighan/dp/0131103628) on the C programming language. In his original, the printed text was \"`hello, world`\" (no period or capital `H`), but people use lots of variants.\n",
    "\n",
    "We will first write and run this little program using a JupyterLab console. After launching JupyterLab, you probably already have the Launcher in your JupyterLab window. If you do not, you can expand the `Files` tab at the left of your JupyterLab window (if it is not already expanded) by clicking on that tab, or alternatively hit `ctrl+b` (or `cmd+b` on macOS). At the top of the `Files` tab is a `+` sign, which gives you a Jupyter Launcher.\n",
    "\n",
    "In the Jupyter Launcher, click the `Python 3` icon under `Console`. This will launch a console, which has a large white space above a prompt that says `In []:`. You can enter Python code in this prompt, and it will be executed.\n",
    "\n",
    ":::{figure-md} IPython-console\n",
    "<img src=\"../images/ipyconsole.png\" alt=\"IPython console\" width=\"90%\">\n",
    "\n",
    "Launch the IPython console.\n",
    ":::\n",
    "\n",
    "To print `Hello, world.`, enter the code below. To execute the code, hit `shift+enter`."
   ]
  },
  {
   "cell_type": "code",
   "execution_count": 1,
   "metadata": {},
   "outputs": [
    {
     "name": "stdout",
     "output_type": "stream",
     "text": [
      "Hello, world.\n"
     ]
    }
   ],
   "source": [
    "print('Hello, world.')"
   ]
  },
  {
   "cell_type": "markdown",
   "metadata": {},
   "source": [
    "Hooray!  We just printed `Hello, world.` to the screen. To do this, we used Python's built-in `print()` function.  The `print()` function takes as an **argument** a **string**. It then prints that string to the screen. We will learn more about function syntax later, but we can already see the rough syntax with the `print()` function."
   ]
  },
  {
   "cell_type": "markdown",
   "metadata": {},
   "source": [
    "```{admonition} Video 🎥:\n",
    "<iframe width=\"560\" height=\"315\" src=\"https://www.youtube.com/embed/l4gO_8LbnGI?si=XAf8XWs-Qe-31wPo\" title=\"YouTube video player\" frameborder=\"0\" allow=\"accelerometer; autoplay; clipboard-write; encrypted-media; gyroscope; picture-in-picture; web-share\" allowfullscreen></iframe>\n",
    "```"
   ]
  },
  {
   "cell_type": "markdown",
   "metadata": {},
   "source": [
    "## .py files\n",
    "\n",
    "Now let's use our new knowledge of the `print()` function to have our computer say a bit more than just `Hello, world.` Type these lines in at the prompt, hitting `enter` each time you need a new line. After you've typed them all in, hit `shift+enter` to run them."
   ]
  },
  {
   "cell_type": "code",
   "execution_count": 2,
   "metadata": {},
   "outputs": [
    {
     "name": "stdout",
     "output_type": "stream",
     "text": [
      "Beautiful is better than ugly.\n",
      "Explicit is better than implicit.\n",
      "Simple is better than complex.\n",
      "Complex is better than complicated.\n"
     ]
    }
   ],
   "source": [
    "# The first few lines from The Zen of Python by Tim Peters\n",
    "print('Beautiful is better than ugly.')\n",
    "print('Explicit is better than implicit.')\n",
    "print('Simple is better than complex.')\n",
    "print('Complex is better than complicated.')"
   ]
  },
  {
   "cell_type": "markdown",
   "metadata": {},
   "source": [
    "Note that the first line is preceded with a `#` sign, and the Python interpreter ignored it. The `#` sign denotes a **comment**, which is ignored by the interpreter, *but very very important for the human!*\n",
    "\n",
    "While the console prompt was nice entering all of this, an alternative option is to store them in a file, and then have the Python interpreter run the lines in the file. This is how you typically store Python code, and the suffix of such files is `.py`.\n",
    "\n",
    "So, let's create a `.py` file. To do this, use the JupyterLab Launcher to launch a Python file. \n",
    "\n",
    ":::{figure-md} python-file\n",
    "<img src=\"../images/ipy-py-file.png\" alt=\"IPython Python file\" width=\"90%\">\n",
    "\n",
    "Create a Python file.\n",
    ":::\n",
    "\n",
    "Once it is launched, you can right click on the tab of the text editor window to change the name. We will call this file `zen.py`. Within this file, enter the four lines of code  you previously entered in the console prompt. Be sure to save it; it should look as below:\n",
    "\n",
    ":::{figure-md} zen-file\n",
    "<img src=\"../images/zen-file.png\" alt=\"Zen.py file\" width=\"90%\">\n",
    "\n",
    "Example zen.py file.\n",
    ":::\n",
    "\n",
    "To run the code in this file, you can invoke the Python interpreter at the command line, followed by the file name. I.e., enter\n",
    "\n",
    "    python zen.py\n",
    "   \n",
    "at the command line. Note that when you run code this way, the interpreter exits after completion of running the code, and you do not get a prompt.\n",
    "\n",
    "To run the code in this file using the Jupyter console, you can use the `%run` **magic function**."
   ]
  },
  {
   "cell_type": "code",
   "execution_count": 3,
   "metadata": {},
   "outputs": [
    {
     "name": "stdout",
     "output_type": "stream",
     "text": [
      "Beautiful is better than ugly.\n",
      "Explicit is better than implicit.\n",
      "Simple is better than complex.\n",
      "Complex is better than complicated.\n"
     ]
    }
   ],
   "source": [
    "%run zen.py"
   ]
  },
  {
   "cell_type": "markdown",
   "metadata": {},
   "source": [
    "```{note}\n",
    "While some Python programmers execute all of their Python code in this \"scripting\" fashion, those doing data analysis or scientific computing largely make use of Jupyter notebooks. For the majority of this class you will be using Jupyter notebooks but later on you will be exposed to some scripting activities as it is an important skill to have.\n",
    "```\n",
    "\n",
    "To shut down the console, you can click on the `Running` tab at the left of the JupyterLab window and click on `SHUTDOWN` next to the console."
   ]
  },
  {
   "cell_type": "markdown",
   "metadata": {},
   "source": [
    "```{admonition} Video 🎥:\n",
    "<iframe width=\"560\" height=\"315\" src=\"https://www.youtube.com/embed/Ob2fR5gO7pc?si=8O2QdZOorm6wcwos\" title=\"YouTube video player\" frameborder=\"0\" allow=\"accelerometer; autoplay; clipboard-write; encrypted-media; gyroscope; picture-in-picture; web-share\" allowfullscreen></iframe>\n",
    "```"
   ]
  },
  {
   "cell_type": "markdown",
   "metadata": {},
   "source": [
    "## Jupyter\n",
    "\n",
    "At this point, we have introduced JupyterLab, its text editor, and the IPython console, as well as the Python interpreter itself. You might be asking...."
   ]
  },
  {
   "cell_type": "markdown",
   "metadata": {},
   "source": [
    "### What is Jupyter?\n",
    "\n",
    "From the [Project Jupyter website](http://jupyter.org):\n",
    ">Project Jupyter is an open source project was born out of the IPython Project in 2014 as it evolved to support interactive data science and scientific computing across all programming languages.\n",
    "\n",
    "So, Jupyter is an extension of IPython that pushes interactive computing further. It is language agnostic as its name suggests.  The name \"Jupyter\" is a combination of [Julia](http://julialang.org/) (a new language for scientific computing), [Python](http://python.org/) (which you know and love), and [R](https://www.r-project.org) (another dominant tool for statistical computation).  However, you can run over 40 different languages in a JupyterLab, not just Julia, Python, and R.\n",
    "\n",
    "Central to Jupyter/JupyterLab are **Jupyter notebooks**. In fact, the document you are reading right now was generated from a Jupyter notebook. We will use Jupyter notebooks extensively in this class, along with `.py` files and the console."
   ]
  },
  {
   "cell_type": "markdown",
   "metadata": {},
   "source": [
    "## Why Jupyter notebooks?\n",
    "\n",
    "When writing code you will reuse or productionize, you will usually develop fully tested modules using `.py` files. You can always import those modules when you are using a Jupyter notebook (more on modules and importing them later in the class). Consequently, a Jupyter notebook is often not optimal for an application where you are building reusable code or scripts or productionizing code. However, Jupyter notebooks are **very** useful in the following applications.\n",
    "\n",
    "1. *Exploratory data analysis.* Jupyter notebooks are great for trying things out with code, or exploring a data set. This is an important part of the research process. The layout of Jupyter notebooks is great for organizing thoughts as you synthesize them.\n",
    "2. *Developing visualizations.* This is really just a special case of (1), but is worth mentioning separately because Jupyter notebooks are especially useful when interactively visualizing data. Using the Jupyter notebook, you can write down what you hope to accomplish in each step of processing and then graphically show the results with plots as you go through the analysis. We will do this later in the class.\n",
    "3. *Sharing your thinking in your analysis.* Because you can combine nicely formatted text and executable code, Jupyter notebooks are great for sharing how you go about doing your calculations with collaborators and with readers of your publications.\n",
    "4. *Pedagogy.* All of the content in this class, including this lesson, was developed using Jupyter notebooks! You will find lots of educational content online that is developed and hosted directly in Jupyter notebooks.\n",
    "\n",
    "Now that we know what Jupyter notebooks are and what the motivation is for using them, let's start!"
   ]
  },
  {
   "cell_type": "markdown",
   "metadata": {},
   "source": [
    "### Launching a Jupyter notebook\n",
    "\n",
    "To launch a Jupyter notebook, click on the `Notebook` icon of the JupyterLab launcher. If you want to open an existing notebook, right click on it in the `Files` tab of the JupyterLab window and open it."
   ]
  },
  {
   "cell_type": "markdown",
   "metadata": {},
   "source": [
    "### Modes\n",
    "\n",
    "At this point you are presented with a notebook with an empty cell.\n",
    "\n",
    ":::{figure-md} first-notebook\n",
    "<img src=\"../images/initial-notebook.png\" alt=\"First notebook\" width=\"90%\">\n",
    "\n",
    "Initial view of an empty Jupyter notebook.\n",
    ":::\n",
    "\n",
    "A notebook consists of two modes - **command mode** and **edit mode**. Command mode is for creating and manipulating cells while edit mode is for changing what is inside of a single cell. You will know what mode you are in because when you are in edit mode, the cell you are in will be blue. For both modes there are many keyboard shortcuts that you will learn over time.\n",
    "\n",
    "```{tip}\n",
    "If you are in command mode you can use the keyboard shortcut `enter` to move into a cell and go into edit mode.\n",
    "\n",
    "If you are inside a cell and in edit mode you can jump out of the cell into command mode with the `esc` keyboard shortcut.\n",
    "```"
   ]
  },
  {
   "cell_type": "markdown",
   "metadata": {},
   "source": [
    "### Cells\n",
    "\n",
    "A Jupyter notebook consists of **cells**.  The two main types of cells you will use are **code cells** and **markdown cells**, and we will go into their properties in depth momentarily.  First, an overview.\n",
    "\n",
    "A code cell contains actual code that you want to run.  You can specify a cell as a code cell using the \"Code\" pulldown menu in the toolbar of your Jupyter notebook.  Otherwise, you can can hit `y` while a cell is selected and you are in command mode to specify that it is a code cell.  Note that you will have to hit enter after doing this to start editing it.\n",
    "\n",
    ":::{figure-md} change-cell-type\n",
    "<img src=\"../images/cell-type.png\" alt=\"Changing cell type\" width=\"90%\">\n",
    "\n",
    "Change a cell type.\n",
    ":::\n",
    "\n",
    "If you want to execute the code in a code cell, hit `Enter` while holding down the `Shift` key (denoted `Shift + Enter`).  Note that code cells are executed in the order you shift-enter them. That is to say, the ordering of the cells for which you hit `Shift + Enter` is the order in which the code is executed. If you did not explicitly execute a cell early in the document, its results are not known to the Python interpreter. **This is a very important point and is often a source of confusion and frustration for students.**\n",
    "\n",
    "Markdown cells contain text. The text is written in **markdown**, a lightweight markup language. You can read about its syntax [here](http://daringfireball.net/projects/markdown/syntax). Note that you can also insert HTML into markdown cells, and this will be rendered properly. As you are typing the contents of these cells, the results appear as text. Hitting `Shift + Enter` renders the text in the formatting you specify.\n",
    "\n",
    "You can specify a cell as being a markdown cell in the Jupyter toolbar, or by hitting `m` while a cell is selected and you are in command mode.  Again, you have to hit enter after using the quick keys to bring the cell into edit mode.\n",
    "\n",
    "In general, when you want to add a new cell, you can click the `+` icon on the notebook toolbar. The shortcut to insert a cell below your current location is `b` and to insert a cell above is `a`. Alternatively, you  can execute a cell and automatically add a new one below it by hitting `Alt + Enter`."
   ]
  },
  {
   "cell_type": "markdown",
   "metadata": {},
   "source": [
    "## Code cells\n",
    "\n",
    "Below is an example of a code cell printing `hello, world.` Notice that the output of the print statement appears in the same cell, though separate from the code block."
   ]
  },
  {
   "cell_type": "code",
   "execution_count": 4,
   "metadata": {},
   "outputs": [
    {
     "name": "stdout",
     "output_type": "stream",
     "text": [
      "hello, world.\n"
     ]
    }
   ],
   "source": [
    "# Say hello to the world.\n",
    "print('hello, world.')"
   ]
  },
  {
   "cell_type": "markdown",
   "metadata": {},
   "source": [
    "If you evaluate a Python expression that returns a value, that value is displayed as output of the code cell. This only happens, however, for the last line of the code cell."
   ]
  },
  {
   "cell_type": "code",
   "execution_count": 5,
   "metadata": {},
   "outputs": [
    {
     "data": {
      "text/plain": [
       "11"
      ]
     },
     "execution_count": 5,
     "metadata": {},
     "output_type": "execute_result"
    }
   ],
   "source": [
    "# Would show 9 if this were the last line, but it is not, so shows nothing\n",
    "4 + 5\n",
    "\n",
    "# I hope we see 11.\n",
    "5 + 6"
   ]
  },
  {
   "cell_type": "markdown",
   "metadata": {},
   "source": [
    "Note, however, if the last line does not return a value, such as if we assigned value to a variable, there is no visible output from the code cell."
   ]
  },
  {
   "cell_type": "code",
   "execution_count": 6,
   "metadata": {},
   "outputs": [],
   "source": [
    "# Variable assignment, so no visible output.\n",
    "a = 5 + 6"
   ]
  },
  {
   "cell_type": "code",
   "execution_count": 7,
   "metadata": {},
   "outputs": [
    {
     "data": {
      "text/plain": [
       "11"
      ]
     },
     "execution_count": 7,
     "metadata": {},
     "output_type": "execute_result"
    }
   ],
   "source": [
    "# However, now if we ask for a, its value will be displayed\n",
    "a"
   ]
  },
  {
   "cell_type": "markdown",
   "metadata": {},
   "source": [
    "### Display of graphics\n",
    "\n",
    "When we learn about plotting with [Seaborn](https://seaborn.pydata.org/), [Bokeh](https://bokeh.pydata.org/) and [HoloViews](https://holoviews.org/) later in this class, you will learn about displaying graphics in Jupyter notebooks."
   ]
  },
  {
   "cell_type": "markdown",
   "metadata": {},
   "source": [
    "### Quick keys\n",
    "\n",
    "There are some keyboard shortcuts that are convenient to use in JupyterLab. We already encountered several of them. Importantly, pressing `Esc` brings you into command mode in which you are not editing the contents of a single cell, but are doing things like adding cells. And pressing `Enter` will take you into a selected cell to edit that particular cell. Below are some useful quick keys. If two keys are separated by a + sign, they are pressed simultaneously, and if they are separated by a - sign, they are pressed in succession.\n",
    "\n",
    "```{list-table} Jupyter notebook keyboard shortcuts\n",
    ":header-rows: 1\n",
    ":name: jupyter-quick-keys\n",
    "\n",
    "* - Quick keys\n",
    "  - Mode\n",
    "  - Action\n",
    "* - `m`\n",
    "  - command\n",
    "  - switch cell to Markdown cell\n",
    "* - `y`\n",
    "  - command\n",
    "  - switch cell to code cell\n",
    "* - `a`\n",
    "  - command\n",
    "  - insert cell above\n",
    "* - `b`\n",
    "  - command\n",
    "  - insert cell below\n",
    "* - `d - d`\n",
    "  - command\n",
    "  - delete cell\n",
    "* - `0 - 0`\n",
    "  - command\n",
    "  - restart kernel\n",
    "* - `i - i`\n",
    "  - command\n",
    "  - interupt kernel\n",
    "* - `shift + enter`\n",
    "  - edit\n",
    "  - execute cell and insert a cell below\n",
    "* - `Cmd\\|Alt + Enter`\n",
    "  - edit\n",
    "  - execute cell\n",
    "```\n",
    "\n",
    "There are many others (and they are shown in the pulldown menus within JupyterLab), but these are the ones I seem to encounter most often."
   ]
  },
  {
   "cell_type": "markdown",
   "metadata": {},
   "source": [
    "```{admonition} Video 🎥:\n",
    "<iframe width=\"560\" height=\"315\" src=\"https://www.youtube.com/embed/CeRoQ9DFmZI?si=JnmbUfucc-Ig6yaC\" title=\"YouTube video player\" frameborder=\"0\" allow=\"accelerometer; autoplay; clipboard-write; encrypted-media; gyroscope; picture-in-picture; web-share\" allowfullscreen></iframe>\n",
    "```"
   ]
  },
  {
   "cell_type": "markdown",
   "metadata": {},
   "source": [
    "## Exercises\n",
    "\n",
    "```{admonition} Questions:\n",
    ":class: attention\n",
    "1. Check out the various reference docs located under Help in the Jupyter Lab toolbar.\n",
    "1. Create or open a notebook in Jupyter.\n",
    "2. Create a new markdown cell. Write your name in it and execute the cell.\n",
    "3. Read about the Markdown syntax in the Markdown reference doc (Jupyer Lab toolbar >> Help) and create a new markdown cell that includes:\n",
    "   - a second-level header\n",
    "   - an unordered list\n",
    "   - an ordered list\n",
    "   - a hyperlink\n",
    "   - an image\n",
    "4. Create a new code cell. Write x = 5 and run it.\n",
    "```"
   ]
  },
  {
   "cell_type": "markdown",
   "metadata": {},
   "source": [
    "## Additional video\n",
    "\n",
    "```{admonition} Video 🎥:\n",
    "Here's a webinar that provides a nice discussion of Jupyter Lab and Notebooks. It is not necessary to watch this but may help to kickstart your abilities with Jupyter!\n",
    "\n",
    "<iframe width=\"560\" height=\"315\" src=\"https://www.youtube.com/embed/5pf0_bpNbkw\" title=\"YouTube video player\" frameborder=\"0\" allow=\"accelerometer; autoplay; clipboard-write; encrypted-media; gyroscope; picture-in-picture\" allowfullscreen></iframe>\n",
    "```"
   ]
  },
  {
   "cell_type": "markdown",
   "metadata": {},
   "source": [
    "## Computing environment"
   ]
  },
  {
   "cell_type": "markdown",
   "metadata": {},
   "source": [
    "At the end of every lesson, and indeed at the end (or beginning) of any notebook you make, we should include information about the computing environment including the version numbers of all packages we use. The [watermark package](https://github.com/rasbt/watermark) is quite useful for this. The watermark package is an **[IPython magic extension](https://ipython.readthedocs.io/en/stable/config/extensions/index.html)**. These extensions allow convenient functionality within IPython or Jupyter notebooks. In general, to use magic functions, you precede them with a `%` sign or a `%%` in a cell. We use the built-in `%load_ext` magic function to load watermark, and then we use `%watermark` to invoke it.\n",
    "\n",
    "We use the `-v` flag to ask watermark to give us the Python and IPython verison numbers and the `-p` flag to give us version numbers on specified packages we've used. We can also use a `-m` flag to give information about the machine running the notebook, and you should do that, but I will not do that for the class to avoid clutter."
   ]
  },
  {
   "cell_type": "code",
   "execution_count": 8,
   "metadata": {},
   "outputs": [
    {
     "name": "stdout",
     "output_type": "stream",
     "text": [
      "Python implementation: CPython\n",
      "Python version       : 3.9.12\n",
      "IPython version      : 8.4.0\n",
      "\n",
      "jupyterlab: 3.3.2\n",
      "\n"
     ]
    }
   ],
   "source": [
    "%load_ext watermark\n",
    "%watermark -v -p jupyterlab"
   ]
  }
 ],
 "metadata": {
  "anaconda-cloud": {},
  "kernelspec": {
   "display_name": "Python 3 (ipykernel)",
   "language": "python",
   "name": "python3"
  },
  "language_info": {
   "codemirror_mode": {
    "name": "ipython",
    "version": 3
   },
   "file_extension": ".py",
   "mimetype": "text/x-python",
   "name": "python",
   "nbconvert_exporter": "python",
   "pygments_lexer": "ipython3",
   "version": "3.9.12"
  },
  "vscode": {
   "interpreter": {
    "hash": "40d3a090f54c6569ab1632332b64b2c03c39dcf918b08424e98f38b5ae0af88f"
   }
  }
 },
 "nbformat": 4,
 "nbformat_minor": 4
}