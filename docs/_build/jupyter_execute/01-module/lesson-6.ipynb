{
 "cells": [
  {
   "cell_type": "markdown",
   "metadata": {},
   "source": [
    "# Lesson 6: Data structures\n",
    "\n",
    "<hr/>"
   ]
  },
  {
   "cell_type": "markdown",
   "metadata": {},
   "source": [
    "So far we've worked with single values: numbers, strings, and booleans. But Python also supports more complex data types, sometimes called ***data structures***.\n",
    "\n",
    "There are three very common built-in data structures that we are going to learn about in this lesson: **lists**, **tuples**, and **dictionaries**.\n",
    "\n",
    "## Learning objectives\n",
    "\n",
    "By the end of this lesson you will be able to:\n",
    "\n",
    "* Explain the difference between lists, tuples, and dictionaries and when to use each.\n",
    "* Create and manage these data structures along with how to apply operators on them."
   ]
  },
  {
   "cell_type": "markdown",
   "metadata": {},
   "source": [
    "## Lists\n",
    "\n",
    "Lists and tuples allow us to store multiple things (“elements”) in a single object. The elements are considered ordered, which just means the elements remain in the same position as when created unless they are manually re-ordered. Let's start with lists. \n",
    "\n",
    "### Creation\n",
    "\n",
    "Lists are represented using brackets (`[]`)."
   ]
  },
  {
   "cell_type": "code",
   "execution_count": 1,
   "metadata": {},
   "outputs": [
    {
     "data": {
      "text/plain": [
       "[1, 2, 3]"
      ]
     },
     "execution_count": 1,
     "metadata": {},
     "output_type": "execute_result"
    }
   ],
   "source": [
    "# A list of integers\n",
    "numbers = [1, 2, 3]\n",
    "numbers"
   ]
  },
  {
   "cell_type": "code",
   "execution_count": 2,
   "metadata": {},
   "outputs": [
    {
     "data": {
      "text/plain": [
       "list"
      ]
     },
     "execution_count": 2,
     "metadata": {},
     "output_type": "execute_result"
    }
   ],
   "source": [
    "type(numbers)"
   ]
  },
  {
   "cell_type": "code",
   "execution_count": 3,
   "metadata": {},
   "outputs": [
    {
     "data": {
      "text/plain": [
       "['abc', 'def']"
      ]
     },
     "execution_count": 3,
     "metadata": {},
     "output_type": "execute_result"
    }
   ],
   "source": [
    "# A list of strings\n",
    "strings = ['abc', 'def']\n",
    "strings"
   ]
  },
  {
   "cell_type": "markdown",
   "metadata": {},
   "source": [
    "Lists are highly flexible. They can contain heterogeneous data (i.e. strings, booleans, and numbers can all be in the same list) and lists can even contain other lists!"
   ]
  },
  {
   "cell_type": "code",
   "execution_count": 4,
   "metadata": {},
   "outputs": [
    {
     "data": {
      "text/plain": [
       "[1, 2, 3, [4, 5]]"
      ]
     },
     "execution_count": 4,
     "metadata": {},
     "output_type": "execute_result"
    }
   ],
   "source": [
    "# Lists containing heterogeneous data\n",
    "combo = ['a', 'b', 3, 4]\n",
    "combo_2 = [True, 'True', 1, 1.0]\n",
    "\n",
    "# Note that the last element of the list is another list!\n",
    "nested_list = [1, 2, 3, [4, 5]]\n",
    "nested_list"
   ]
  },
  {
   "cell_type": "markdown",
   "metadata": {},
   "source": [
    "We can also create a list by type conversion with `list()`. For example, we can convert a string into a list of characters."
   ]
  },
  {
   "cell_type": "code",
   "execution_count": 5,
   "metadata": {},
   "outputs": [
    {
     "data": {
      "text/plain": [
       "['A', ' ', 's', 't', 'r', 'i', 'n', 'g', '.']"
      ]
     },
     "execution_count": 5,
     "metadata": {},
     "output_type": "execute_result"
    }
   ],
   "source": [
    "my_str = 'A string.'\n",
    "list(my_str)"
   ]
  },
  {
   "cell_type": "markdown",
   "metadata": {},
   "source": [
    "### Indexing\n",
    "\n",
    "Individual elements of a list can be accessed by specifying a location in brackets. This is called **indexing**. So, say we want to get the first item from a list:\n"
   ]
  },
  {
   "cell_type": "code",
   "execution_count": 6,
   "metadata": {},
   "outputs": [
    {
     "data": {
      "text/plain": [
       "'b'"
      ]
     },
     "execution_count": 6,
     "metadata": {},
     "output_type": "execute_result"
    }
   ],
   "source": [
    "letters = ['a', 'b', 'c']\n",
    "letters[1]"
   ]
  },
  {
   "cell_type": "markdown",
   "metadata": {},
   "source": [
    "Wait a minute! Shouldn’t letters[1] give the first item in the list? It seems to give the second. This is because indexing in Python starts at zero. \n",
    "\n",
    "```{warning}\n",
    "Python uses zero-based indexing, so the first element is element 0! (Historical note: [Why Python uses zero-based indexing](http://python-history.blogspot.com/2013/10/why-python-uses-0-based-indexing.html).)"
   ]
  },
  {
   "cell_type": "code",
   "execution_count": 7,
   "metadata": {},
   "outputs": [
    {
     "data": {
      "text/plain": [
       "'a'"
      ]
     },
     "execution_count": 7,
     "metadata": {},
     "output_type": "execute_result"
    }
   ],
   "source": [
    "letters[0]"
   ]
  },
  {
   "cell_type": "code",
   "execution_count": 8,
   "metadata": {},
   "outputs": [
    {
     "data": {
      "text/plain": [
       "'c'"
      ]
     },
     "execution_count": 8,
     "metadata": {},
     "output_type": "execute_result"
    }
   ],
   "source": [
    "letters[2]"
   ]
  },
  {
   "cell_type": "markdown",
   "metadata": {},
   "source": [
    "Specifying an invalid location will raise an error."
   ]
  },
  {
   "cell_type": "code",
   "execution_count": 9,
   "metadata": {},
   "outputs": [
    {
     "ename": "IndexError",
     "evalue": "list index out of range",
     "output_type": "error",
     "traceback": [
      "\u001b[0;31m---------------------------------------------------------------------------\u001b[0m",
      "\u001b[0;31mIndexError\u001b[0m                                Traceback (most recent call last)",
      "\u001b[0;32m/var/folders/8f/c06lv6q17tjbyjv2nkt0_s4s1sh0tg/T/ipykernel_33791/3225148631.py\u001b[0m in \u001b[0;36m<module>\u001b[0;34m\u001b[0m\n\u001b[0;32m----> 1\u001b[0;31m \u001b[0mletters\u001b[0m\u001b[0;34m[\u001b[0m\u001b[0;36m4\u001b[0m\u001b[0;34m]\u001b[0m\u001b[0;34m\u001b[0m\u001b[0;34m\u001b[0m\u001b[0m\n\u001b[0m",
      "\u001b[0;31mIndexError\u001b[0m: list index out of range"
     ]
    }
   ],
   "source": [
    "letters[4]"
   ]
  },
  {
   "cell_type": "markdown",
   "metadata": {},
   "source": [
    "```{note}\n",
    "Most programming languages are zero indexed, so a list with 3 elements has valid locations [0, 1, 2]. But this means that there is no element #3 in a 3-element list! Trying to access it will cause an out-of-range error. This is a common mistake for those new to programming (and sometimes it bites the veterans too).\n",
    "```"
   ]
  },
  {
   "cell_type": "markdown",
   "metadata": {},
   "source": [
    "### Slicing\n",
    "\n",
    "Now, what if we want to pull out multiple _sequential_ items in a list? We call this **slicing**? We can use colons (`:`) for that."
   ]
  },
  {
   "cell_type": "code",
   "execution_count": 19,
   "metadata": {},
   "outputs": [
    {
     "data": {
      "text/plain": [
       "['b', 'r', 'a']"
      ]
     },
     "execution_count": 19,
     "metadata": {},
     "output_type": "execute_result"
    }
   ],
   "source": [
    "letters_in_my_name = list('brad boehmke')\n",
    "\n",
    "# first 3 elements\n",
    "letters_in_my_name[0:3]"
   ]
  },
  {
   "cell_type": "markdown",
   "metadata": {},
   "source": [
    "We got elements 0 through 2 even though we stated `0:3`. When using the colon indexing, `my_list[i:j]`, we get items `i` through `j-1`.\n",
    "\n",
    "```{note}\n",
    "The slice range is inclusive of the first index and exclusive of the last. If the slice’s final index is larger than the length of the sequence, the slice ends at the last element.\n",
    "```\n",
    "\n",
    "We can even get away with not specifying the first or last number if we wish to get all elements up to, or all elements starting with, a certain element."
   ]
  },
  {
   "cell_type": "code",
   "execution_count": 20,
   "metadata": {},
   "outputs": [
    {
     "data": {
      "text/plain": [
       "['b', 'r', 'a']"
      ]
     },
     "execution_count": 20,
     "metadata": {},
     "output_type": "execute_result"
    }
   ],
   "source": [
    "# all elements up to element 3\n",
    "letters_in_my_name[0:3]"
   ]
  },
  {
   "cell_type": "code",
   "execution_count": 21,
   "metadata": {},
   "outputs": [
    {
     "data": {
      "text/plain": [
       "['a', 'd', ' ', 'b', 'o', 'e', 'h', 'm', 'k', 'e']"
      ]
     },
     "execution_count": 21,
     "metadata": {},
     "output_type": "execute_result"
    }
   ],
   "source": [
    "# all elements starting with element 3\n",
    "letters_in_my_name[2:]"
   ]
  },
  {
   "cell_type": "markdown",
   "metadata": {},
   "source": [
    "One last thing to note is that we can specify a **stride**. The stride comes after a second colon. For example, if we only wanted to get every other element"
   ]
  },
  {
   "cell_type": "code",
   "execution_count": 22,
   "metadata": {},
   "outputs": [
    {
     "data": {
      "text/plain": [
       "['b', 'a', ' ', 'o', 'h', 'k']"
      ]
     },
     "execution_count": 22,
     "metadata": {},
     "output_type": "execute_result"
    }
   ],
   "source": [
    "# stride of 2 will get every other element\n",
    "letters_in_my_name[::2]"
   ]
  },
  {
   "cell_type": "markdown",
   "metadata": {},
   "source": [
    "So, in general, the indexing scheme is:\n",
    "\n",
    "`my_list[start:end:stride]`\n",
    "\n",
    "* If there are no colons, a single element is returned.\n",
    "* If there are any colons, we are slicing the list, and a list is returned.\n",
    "* If there is one colon, `stride` is assumed to be 1.\n",
    "* If `start` is not specified, it is assumed to be zero.\n",
    "* If `end` is not specified, the interpreted assumed you want the entire list.\n",
    "* If `stride` is not specified, it is assumed to be 1.\n",
    "\n",
    "```{note}\n",
    "There are a lot of options here and I don't expect you to remember them after first glance. Just realize that slicing is extremely flexible!\n",
    "```"
   ]
  },
  {
   "cell_type": "markdown",
   "metadata": {},
   "source": [
    "### Operators\n",
    "\n",
    "Operators on lists behave much like operators on strings. The `+` operator on lists means list concatenation."
   ]
  },
  {
   "cell_type": "code",
   "execution_count": 11,
   "metadata": {},
   "outputs": [
    {
     "data": {
      "text/plain": [
       "[1, 2, 3, 4, 5, 6]"
      ]
     },
     "execution_count": 11,
     "metadata": {},
     "output_type": "execute_result"
    }
   ],
   "source": [
    "[1, 2, 3] + [4, 5, 6]"
   ]
  },
  {
   "cell_type": "markdown",
   "metadata": {},
   "source": [
    "The `*` operator on lists means list replication and concatenation."
   ]
  },
  {
   "cell_type": "code",
   "execution_count": 12,
   "metadata": {},
   "outputs": [
    {
     "data": {
      "text/plain": [
       "[1, 2, 3, 1, 2, 3, 1, 2, 3]"
      ]
     },
     "execution_count": 12,
     "metadata": {},
     "output_type": "execute_result"
    }
   ],
   "source": [
    "[1, 2, 3] * 3"
   ]
  },
  {
   "cell_type": "markdown",
   "metadata": {},
   "source": [
    "Membership operators are used to determine if an item is in a list. The two membership operators are:\n",
    "\n",
    "| English | Operator |\n",
    "| ------- | -------- |\n",
    "| is a member of | `in` |\n",
    "| is not a member of | `not in` |"
   ]
  },
  {
   "cell_type": "markdown",
   "metadata": {},
   "source": [
    "The result of the operator is `True` or `False`. Let’s look at letters again:"
   ]
  },
  {
   "cell_type": "code",
   "execution_count": 13,
   "metadata": {},
   "outputs": [
    {
     "data": {
      "text/plain": [
       "True"
      ]
     },
     "execution_count": 13,
     "metadata": {},
     "output_type": "execute_result"
    }
   ],
   "source": [
    "'a' in letters"
   ]
  },
  {
   "cell_type": "code",
   "execution_count": 14,
   "metadata": {},
   "outputs": [
    {
     "data": {
      "text/plain": [
       "False"
      ]
     },
     "execution_count": 14,
     "metadata": {},
     "output_type": "execute_result"
    }
   ],
   "source": [
    "'z' in letters"
   ]
  },
  {
   "cell_type": "markdown",
   "metadata": {},
   "source": [
    "```{note}\n",
    "Membership operators are case sensitive!\n",
    "```"
   ]
  },
  {
   "cell_type": "code",
   "execution_count": 15,
   "metadata": {},
   "outputs": [
    {
     "data": {
      "text/plain": [
       "True"
      ]
     },
     "execution_count": 15,
     "metadata": {},
     "output_type": "execute_result"
    }
   ],
   "source": [
    "'A' not in letters"
   ]
  },
  {
   "cell_type": "markdown",
   "metadata": {},
   "source": [
    "These membership operators offer a great convenience for conditionals."
   ]
  },
  {
   "cell_type": "code",
   "execution_count": 16,
   "metadata": {},
   "outputs": [
    {
     "name": "stdout",
     "output_type": "stream",
     "text": [
      "My first initial is in the list!\n"
     ]
    }
   ],
   "source": [
    "first_inital = 'b'\n",
    "\n",
    "if first_inital in letters:\n",
    "    print('My first initial is in the list!')\n",
    "else:\n",
    "    print('Aw shucks!')"
   ]
  },
  {
   "cell_type": "markdown",
   "metadata": {},
   "source": [
    "\n",
    "### Mutability\n",
    "\n",
    "Lists are **mutable**. This means we can change their values without creating a new list. (You cannot change the data type or identity.) Let’s see this by example."
   ]
  },
  {
   "cell_type": "code",
   "execution_count": 23,
   "metadata": {},
   "outputs": [
    {
     "data": {
      "text/plain": [
       "[1, 2, 3, 'four', 5, 6, 7, 8, 9, 10]"
      ]
     },
     "execution_count": 23,
     "metadata": {},
     "output_type": "execute_result"
    }
   ],
   "source": [
    "my_list = [1, 2, 3, 4, 5, 6, 7, 8, 9, 10]\n",
    "my_list[3] = 'four'\n",
    "\n",
    "my_list"
   ]
  },
  {
   "cell_type": "markdown",
   "metadata": {},
   "source": [
    "The other data types we have encountered so far, `int`egers, `float`s, and `str`ings, are immutable. You cannot change their values without reassigning them. To see this, we’ll use the `id()` function, which tells us where in memory that the variable is stored. (Note: this identity is unique to the Python interpreter, and should not be considered an actual physical address in memory.)"
   ]
  },
  {
   "cell_type": "code",
   "execution_count": 24,
   "metadata": {},
   "outputs": [
    {
     "name": "stdout",
     "output_type": "stream",
     "text": [
      "4379617104\n",
      "4379616688\n"
     ]
    }
   ],
   "source": [
    "a = 8451\n",
    "print(id(a))\n",
    "\n",
    "a = 8452\n",
    "print(id(a))"
   ]
  },
  {
   "cell_type": "markdown",
   "metadata": {},
   "source": [
    "So, we see that the identity of `a`, an integer, changed when we tried to change its value. So, we didn’t actually change its value; we made a new variable. With lists, though, this is not the case."
   ]
  },
  {
   "cell_type": "code",
   "execution_count": 25,
   "metadata": {},
   "outputs": [
    {
     "name": "stdout",
     "output_type": "stream",
     "text": [
      "4392275904\n",
      "4392275904\n"
     ]
    }
   ],
   "source": [
    "print(id(my_list))\n",
    "\n",
    "my_list[0] = 'zero'\n",
    "print(id(my_list))"
   ]
  },
  {
   "cell_type": "markdown",
   "metadata": {},
   "source": [
    "```{tip}\n",
    "It is still the same list! This is very important to consider when we do assignments.\n",
    "```"
   ]
  },
  {
   "cell_type": "markdown",
   "metadata": {},
   "source": [
    "### Knowledge check\n",
    "\n",
    "```{admonition} Questions\n",
    ":class: attention\n",
    "Given the following list `l = [10, [3, 4], [5, [100, 200, [\"BANA\"]], 23, 11], 1, 7]`\n",
    "\n",
    "1. Use indexing to grab the word “BANA”.\n",
    "2. Change the value of \"BANA\" to \"BANA 6043\".\n",
    "3. Use slicing to get the last 4 elements.\n",
    "```"
   ]
  },
  {
   "cell_type": "markdown",
   "metadata": {},
   "source": [
    "## Tuples\n",
    "\n",
    "A **tuple** is just like a list, except it is immutable (basically a read-only list). \n",
    "\n",
    "```{note}\n",
    "What I just said there is explosive, as described in this [blog post](http://www.asmeurer.com/blog/posts/tuples/). Tuples do have many other capabilities beyond what you would expect from just being “a read-only list,” but for us just beginning now, we can think of it that way.\n",
    "```\n",
    "\n",
    "### Creation\n",
    "\n",
    "A tuple is created just like a list, except we use parentheses `()` instead of brackets. The only watch-out is that a tuple with a single item needs to include a comma after the item."
   ]
  },
  {
   "cell_type": "code",
   "execution_count": 28,
   "metadata": {},
   "outputs": [
    {
     "data": {
      "text/plain": [
       "tuple"
      ]
     },
     "execution_count": 28,
     "metadata": {},
     "output_type": "execute_result"
    }
   ],
   "source": [
    "my_tuple = ('a', 'b', 'c')\n",
    "type(my_tuple)"
   ]
  },
  {
   "cell_type": "code",
   "execution_count": 29,
   "metadata": {},
   "outputs": [
    {
     "data": {
      "text/plain": [
       "(tuple, int)"
      ]
     },
     "execution_count": 29,
     "metadata": {},
     "output_type": "execute_result"
    }
   ],
   "source": [
    "a_tuple = (0,)   # Create a single element tuple\n",
    "not_a_tuple = (0) # This is just the number 0 (normal use of parantheses)\n",
    "\n",
    "type(a_tuple), type(not_a_tuple)"
   ]
  },
  {
   "cell_type": "markdown",
   "metadata": {},
   "source": [
    "We can also create a tuple by doing a type conversion. We can convert our list to a tuple."
   ]
  },
  {
   "cell_type": "code",
   "execution_count": 31,
   "metadata": {},
   "outputs": [
    {
     "data": {
      "text/plain": [
       "('b', 'r', 'a', 'd', ' ', 'b', 'o', 'e', 'h', 'm', 'k', 'e')"
      ]
     },
     "execution_count": 31,
     "metadata": {},
     "output_type": "execute_result"
    }
   ],
   "source": [
    "name_as_string = 'brad boehmke'\n",
    "name_as_list = list(name_as_string)\n",
    "name_as_tuple = tuple(name_as_list)\n",
    "\n",
    "name_as_tuple"
   ]
  },
  {
   "cell_type": "markdown",
   "metadata": {},
   "source": [
    "### Indexing & slicing\n",
    "\n",
    "Similar to lists, we can index and slice using `[]` notation and specifying the elements of interest. The only difference is when slicing, we get a tuple in return rather than a list."
   ]
  },
  {
   "cell_type": "code",
   "execution_count": 33,
   "metadata": {},
   "outputs": [
    {
     "data": {
      "text/plain": [
       "'e'"
      ]
     },
     "execution_count": 33,
     "metadata": {},
     "output_type": "execute_result"
    }
   ],
   "source": [
    "# Last letter\n",
    "name_as_tuple[-1]"
   ]
  },
  {
   "cell_type": "code",
   "execution_count": 32,
   "metadata": {},
   "outputs": [
    {
     "data": {
      "text/plain": [
       "('b', 'r', 'a')"
      ]
     },
     "execution_count": 32,
     "metadata": {},
     "output_type": "execute_result"
    }
   ],
   "source": [
    "name_as_tuple[0:3]"
   ]
  },
  {
   "cell_type": "markdown",
   "metadata": {},
   "source": [
    "### Operators\n",
    "\n",
    "\n",
    "As with lists we can concatenate tuples with the `+` operator."
   ]
  },
  {
   "cell_type": "code",
   "execution_count": 34,
   "metadata": {},
   "outputs": [
    {
     "data": {
      "text/plain": [
       "(1, 2, 3, 4)"
      ]
     },
     "execution_count": 34,
     "metadata": {},
     "output_type": "execute_result"
    }
   ],
   "source": [
    "(1, 2, 3) + (4, )"
   ]
  },
  {
   "cell_type": "markdown",
   "metadata": {},
   "source": [
    "Membership operators work the same as with lists."
   ]
  },
  {
   "cell_type": "code",
   "execution_count": 35,
   "metadata": {},
   "outputs": [
    {
     "data": {
      "text/plain": [
       "False"
      ]
     },
     "execution_count": 35,
     "metadata": {},
     "output_type": "execute_result"
    }
   ],
   "source": [
    "'z' in name_as_tuple"
   ]
  },
  {
   "cell_type": "markdown",
   "metadata": {},
   "source": [
    "\n",
    "\n",
    "### Mutability\n",
    "\n",
    "As we stated at the beginning of this section, tuples are immutable. This means once we've created a tuple we can not change the existing elements inside it."
   ]
  },
  {
   "cell_type": "code",
   "execution_count": 36,
   "metadata": {},
   "outputs": [
    {
     "ename": "TypeError",
     "evalue": "'tuple' object does not support item assignment",
     "output_type": "error",
     "traceback": [
      "\u001b[0;31m---------------------------------------------------------------------------\u001b[0m",
      "\u001b[0;31mTypeError\u001b[0m                                 Traceback (most recent call last)",
      "\u001b[0;32m/var/folders/8f/c06lv6q17tjbyjv2nkt0_s4s1sh0tg/T/ipykernel_17097/197687315.py\u001b[0m in \u001b[0;36m<module>\u001b[0;34m\u001b[0m\n\u001b[0;32m----> 1\u001b[0;31m \u001b[0mname_as_tuple\u001b[0m\u001b[0;34m[\u001b[0m\u001b[0;36m0\u001b[0m\u001b[0;34m]\u001b[0m \u001b[0;34m=\u001b[0m \u001b[0;34m'B'\u001b[0m\u001b[0;34m\u001b[0m\u001b[0;34m\u001b[0m\u001b[0m\n\u001b[0m",
      "\u001b[0;31mTypeError\u001b[0m: 'tuple' object does not support item assignment"
     ]
    }
   ],
   "source": [
    "name_as_tuple[0] = 'B'"
   ]
  },
  {
   "cell_type": "markdown",
   "metadata": {},
   "source": [
    "### Tuple unpacking\n",
    "\n",
    "Tuples allow for a special assignment process. We call this _tuple unpacking_ and it allows us to assign individual items from a tuple to their own variable.\n",
    "\n",
    "```{note}\n",
    "This is useful when we want to return more than one value from a function and further using the values as stored in different variables. We will make use of this later in this class.\n",
    "```"
   ]
  },
  {
   "cell_type": "code",
   "execution_count": 37,
   "metadata": {},
   "outputs": [],
   "source": [
    "my_name = ('Brad', 'Boehmke')\n",
    "first, last = my_name"
   ]
  },
  {
   "cell_type": "code",
   "execution_count": 38,
   "metadata": {},
   "outputs": [
    {
     "data": {
      "text/plain": [
       "'Brad'"
      ]
     },
     "execution_count": 38,
     "metadata": {},
     "output_type": "execute_result"
    }
   ],
   "source": [
    "first"
   ]
  },
  {
   "cell_type": "code",
   "execution_count": 39,
   "metadata": {},
   "outputs": [
    {
     "data": {
      "text/plain": [
       "'Boehmke'"
      ]
     },
     "execution_count": 39,
     "metadata": {},
     "output_type": "execute_result"
    }
   ],
   "source": [
    "last"
   ]
  },
  {
   "cell_type": "markdown",
   "metadata": {},
   "source": [
    "### Knowledge check\n",
    "\n",
    "```{admonition} Questions\n",
    ":class: attention\n",
    "Given the following tuple `schooling = ('UC', 'BANA', '6043')`\n",
    "\n",
    "1. Use indexing to grab the word “BANA”.\n",
    "2. Change the value of \"BANA\" to \"Business Analytics\". What happens?\n",
    "3. Unpack the `schooling` tuple into three variables: `university`, `program`, `class`.\n",
    "```"
   ]
  },
  {
   "cell_type": "markdown",
   "metadata": {},
   "source": [
    "## Dictionaries\n",
    "\n",
    "Dictionaries are collections of _key-value pairs_. Think of a real dictionary -- you look up a word (a key), to find its definition (a value). Any given key can have only one value.\n",
    "\n",
    "This concept has many names depending on language: map, associative array, dictionary, and more.\n",
    "\n",
    "### Creation\n",
    "\n",
    "In Python, dictionaries are represented with curly braces `{}`. Colons separate a key from its value, and (like lists and tuples) commas delimit elements."
   ]
  },
  {
   "cell_type": "code",
   "execution_count": 40,
   "metadata": {},
   "outputs": [
    {
     "data": {
      "text/plain": [
       "{'first_name': 'Brad',\n",
       " 'last_name': 'Boehmke',\n",
       " 'alma_mater': 'NDSU',\n",
       " 'employer': '84.51˚',\n",
       " 'zip_code': 45385}"
      ]
     },
     "execution_count": 40,
     "metadata": {},
     "output_type": "execute_result"
    }
   ],
   "source": [
    "brad = {'first_name': 'Brad',\n",
    "        'last_name': 'Boehmke',\n",
    "        'alma_mater': 'NDSU',\n",
    "        'employer': '84.51˚',\n",
    "        'zip_code': 45385}\n",
    "brad"
   ]
  },
  {
   "cell_type": "markdown",
   "metadata": {},
   "source": [
    "Dictionaries, like lists, are very flexible. Keys are generally strings (though some other types are allowed), and values can be anything -- including lists or other dictionaries!"
   ]
  },
  {
   "cell_type": "code",
   "execution_count": 52,
   "metadata": {},
   "outputs": [
    {
     "data": {
      "text/plain": [
       "{'brad': {'first_name': 'Brad',\n",
       "  'last_name': 'Boehmke',\n",
       "  'alma_mater': 'NDSU',\n",
       "  'employer': '84.51˚',\n",
       "  'zip_code': 45385,\n",
       "  'number': '800-867-5309'},\n",
       " 'ethan': {'first_name': 'Ethan',\n",
       "  'last_name': 'Swan',\n",
       "  'alma_mater': 'Notre Dame',\n",
       "  'employer': '84.51˚',\n",
       "  'zip_code': 45208}}"
      ]
     },
     "execution_count": 52,
     "metadata": {},
     "output_type": "execute_result"
    }
   ],
   "source": [
    "ethan = {\n",
    "    'first_name': 'Ethan',\n",
    "    'last_name': 'Swan',\n",
    "    'alma_mater': 'Notre Dame',\n",
    "    'employer': '84.51˚',\n",
    "    'zip_code': 45208\n",
    "    }\n",
    "\n",
    "# A dictionary of dictionaries!\n",
    "instructors = {'brad': brad, 'ethan': ethan}\n",
    "instructors"
   ]
  },
  {
   "cell_type": "markdown",
   "metadata": {},
   "source": [
    "### Indexing\n",
    "\n",
    "Similar to lists and tuples, we can index using brackets. However, rather than indexing with an element number we index by passing the key in the brackets (`my_dict['key']`)."
   ]
  },
  {
   "cell_type": "code",
   "execution_count": 42,
   "metadata": {},
   "outputs": [
    {
     "data": {
      "text/plain": [
       "'84.51˚'"
      ]
     },
     "execution_count": 42,
     "metadata": {},
     "output_type": "execute_result"
    }
   ],
   "source": [
    "brad['employer']"
   ]
  },
  {
   "cell_type": "markdown",
   "metadata": {},
   "source": [
    "You’ll get a `KeyError` if you try to access a non-existent key:"
   ]
  },
  {
   "cell_type": "code",
   "execution_count": 45,
   "metadata": {},
   "outputs": [
    {
     "ename": "KeyError",
     "evalue": "'undergrad'",
     "output_type": "error",
     "traceback": [
      "\u001b[0;31m---------------------------------------------------------------------------\u001b[0m",
      "\u001b[0;31mKeyError\u001b[0m                                  Traceback (most recent call last)",
      "\u001b[0;32m/var/folders/8f/c06lv6q17tjbyjv2nkt0_s4s1sh0tg/T/ipykernel_17097/1301033579.py\u001b[0m in \u001b[0;36m<module>\u001b[0;34m\u001b[0m\n\u001b[0;32m----> 1\u001b[0;31m \u001b[0mbrad\u001b[0m\u001b[0;34m[\u001b[0m\u001b[0;34m'undergrad'\u001b[0m\u001b[0;34m]\u001b[0m\u001b[0;34m\u001b[0m\u001b[0;34m\u001b[0m\u001b[0m\n\u001b[0m",
      "\u001b[0;31mKeyError\u001b[0m: 'undergrad'"
     ]
    }
   ],
   "source": [
    "brad['undergrad']"
   ]
  },
  {
   "cell_type": "markdown",
   "metadata": {},
   "source": [
    "Although not necessarily indexing, we can also use the `keys()` and `values()` methods to extract the keys-values information.\n",
    "\n",
    "```{note}\n",
    "Don't worry about the what type of object these outputs are, just realize that we can extract them in this manner.\n",
    "```"
   ]
  },
  {
   "cell_type": "code",
   "execution_count": 48,
   "metadata": {},
   "outputs": [
    {
     "data": {
      "text/plain": [
       "dict_keys(['first_name', 'last_name', 'alma_mater', 'employer', 'zip_code'])"
      ]
     },
     "execution_count": 48,
     "metadata": {},
     "output_type": "execute_result"
    }
   ],
   "source": [
    "brad.keys()"
   ]
  },
  {
   "cell_type": "code",
   "execution_count": 49,
   "metadata": {},
   "outputs": [
    {
     "data": {
      "text/plain": [
       "dict_values(['Brad', 'Boehmke', 'NDSU', '84.51˚', 45385])"
      ]
     },
     "execution_count": 49,
     "metadata": {},
     "output_type": "execute_result"
    }
   ],
   "source": [
    "brad.values()"
   ]
  },
  {
   "cell_type": "markdown",
   "metadata": {},
   "source": [
    "### Operators\n",
    "\n",
    "Dictionaries do not support concatenation operators like lists and tuples..."
   ]
  },
  {
   "cell_type": "code",
   "execution_count": 46,
   "metadata": {},
   "outputs": [
    {
     "ename": "TypeError",
     "evalue": "unsupported operand type(s) for +: 'dict' and 'dict'",
     "output_type": "error",
     "traceback": [
      "\u001b[0;31m---------------------------------------------------------------------------\u001b[0m",
      "\u001b[0;31mTypeError\u001b[0m                                 Traceback (most recent call last)",
      "\u001b[0;32m/var/folders/8f/c06lv6q17tjbyjv2nkt0_s4s1sh0tg/T/ipykernel_17097/553179493.py\u001b[0m in \u001b[0;36m<module>\u001b[0;34m\u001b[0m\n\u001b[0;32m----> 1\u001b[0;31m \u001b[0mbrad\u001b[0m \u001b[0;34m+\u001b[0m \u001b[0;34m{\u001b[0m\u001b[0;34m'number'\u001b[0m\u001b[0;34m:\u001b[0m \u001b[0;34m'800-867-5309'\u001b[0m\u001b[0;34m}\u001b[0m\u001b[0;34m\u001b[0m\u001b[0;34m\u001b[0m\u001b[0m\n\u001b[0m",
      "\u001b[0;31mTypeError\u001b[0m: unsupported operand type(s) for +: 'dict' and 'dict'"
     ]
    }
   ],
   "source": [
    "brad + {'number': '800-867-5309'} # not my number so don't actually call it!"
   ]
  },
  {
   "cell_type": "markdown",
   "metadata": {},
   "source": [
    "But they do support membership operators; however, keep in mind that membership operators are focusing on the `key`s, not the values."
   ]
  },
  {
   "cell_type": "code",
   "execution_count": 47,
   "metadata": {},
   "outputs": [
    {
     "data": {
      "text/plain": [
       "True"
      ]
     },
     "execution_count": 47,
     "metadata": {},
     "output_type": "execute_result"
    }
   ],
   "source": [
    "'zip_code' in brad"
   ]
  },
  {
   "cell_type": "markdown",
   "metadata": {},
   "source": [
    "### Mutability\n",
    "\n",
    "Dictionaries are mutable. This means that they can be changed in place. For example, if we want to add an element to a dictionary, we use simple syntax."
   ]
  },
  {
   "cell_type": "code",
   "execution_count": 50,
   "metadata": {},
   "outputs": [
    {
     "data": {
      "text/plain": [
       "{'first_name': 'Brad',\n",
       " 'last_name': 'Boehmke',\n",
       " 'alma_mater': 'NDSU',\n",
       " 'employer': '84.51˚',\n",
       " 'zip_code': 45385,\n",
       " 'number': '800-867-5309'}"
      ]
     },
     "execution_count": 50,
     "metadata": {},
     "output_type": "execute_result"
    }
   ],
   "source": [
    "brad['first_name'] = 'Bradley'   # Change an existing value\n",
    "brad['number'] = '800-867-5309'  # Add a new key-value pair\n",
    "brad"
   ]
  },
  {
   "cell_type": "markdown",
   "metadata": {},
   "source": [
    "### Knowledge check\n",
    "\n",
    "```{admonition} Questions:\n",
    ":class: attention\n",
    "Imagine you need a way to quickly determine a company's CEO given the company name. You could use a dictionary such that ceos['company_name'] = 'CEO name'. \n",
    "1. Create a dictionary `ceos` with two company CEOs:\n",
    "   - Apple: Tim Cook\n",
    "   - Microsoft: Satya Nadella\n",
    "2. Now add Bob Iger as the CEO of Disney.\n",
    "3. Now you realize that Bob Iger is no longer the CEO of Disney; rather, it is Bob Chapek. Update the Disney CEO to reflect this change.\n",
    "```"
   ]
  },
  {
   "cell_type": "markdown",
   "metadata": {},
   "source": [
    "## Quick Review\n",
    "\n",
    "| English name | Type | Type category | Description | Example |\n",
    "| ------------ | ---- | ------------- | ----------- | ------- |\n",
    "| list         | `list` | Sequence type | a collection of objects - mutable & ordered | `['Brad', 2022, ['another', 'list']]` |\n",
    "| tuple        | `tuple` | Sequence type | a collection of objects - immutable & ordered | `('Brad', 2022, ['embedded', 'list'])` |\n",
    "| dictionary   | `dict` | Mapping type | mapping of key-value pairs - mutable & ordered | `{'name': 'BANA', 'code': 6043, 'credits': 2}` |"
   ]
  },
  {
   "cell_type": "markdown",
   "metadata": {},
   "source": [
    "## Exercises\n",
    "\n",
    "```{admonition} Questions:\n",
    ":class: attention\n",
    "Imagine you need a way to quickly determine a company's CEO given the company name. You could use a dictionary such that ceos['company_name'] = 'CEO name'. \n",
    "1. Create a string that contains your name. Convert this string to a list. Check if the letter 'p' is in this list.\n",
    "2. Why does the following cell return an error?\n",
    "   ```python\n",
    "   t = (1, 2, 3, 4, 5)\n",
    "   t[-1] = 6\n",
    "   \n",
    "3. Given this nest dictionary grab the word “BANA”\n",
    "   ```python\n",
    "   d = {\n",
    "       \"a_list\": [1, 2, 3,],\n",
    "        \"a_dict\": {\"first\": [\"this\", \"is\", \"inception\"], \n",
    "                   \"second\": [1, 2, 3, \"BANA\"]}\n",
    "   }\n",
    "    \n",
    "```"
   ]
  }
 ],
 "metadata": {
  "interpreter": {
   "hash": "1ee38ef4a5a9feb55287fd749643f13d043cb0a7addaab2a9c224cbe137c0062"
  },
  "kernelspec": {
   "display_name": "Python 3.8.6 64-bit",
   "language": "python",
   "name": "python3"
  },
  "language_info": {
   "codemirror_mode": {
    "name": "ipython",
    "version": 3
   },
   "file_extension": ".py",
   "mimetype": "text/x-python",
   "name": "python",
   "nbconvert_exporter": "python",
   "pygments_lexer": "ipython3",
   "version": "3.9.4"
  }
 },
 "nbformat": 4,
 "nbformat_minor": 2
}