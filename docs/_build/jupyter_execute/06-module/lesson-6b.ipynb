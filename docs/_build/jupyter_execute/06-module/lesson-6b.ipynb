{
 "cells": [
  {
   "cell_type": "markdown",
   "metadata": {},
   "source": [
    "# Lesson 6b: Iteration statement\n",
    "\n",
    "Often, we need to execute repetitive code statements a particular number of times. Or, we may even need to execute code for an undetermined number of times until a certain condition no longer holds. There are multiple ways we can achieve this and in this lesson we will cover several of the more common approaches to perform iteration."
   ]
  },
  {
   "cell_type": "markdown",
   "metadata": {},
   "source": [
    "## Learning objectives\n",
    "\n",
    "By the end of this lesson you will be able to:\n",
    "\n",
    "* Apply `for` and `while` loops to execute repetitive code statements.\n",
    "* Incorporate `break` and `continue` to control looping statements.\n",
    "* Explain what a list comprehension is and implement variations of them.\n",
    "* Discuss the concept of iterables."
   ]
  },
  {
   "cell_type": "markdown",
   "metadata": {},
   "source": [
    "## Prerequisites"
   ]
  },
  {
   "cell_type": "code",
   "execution_count": 1,
   "metadata": {},
   "outputs": [],
   "source": [
    "import glob\n",
    "import os\n",
    "import random\n",
    "import pandas as pd"
   ]
  },
  {
   "cell_type": "markdown",
   "metadata": {},
   "source": [
    "## `for` loop\n",
    "\n",
    "The `for` loop is used to execute repetitive code statements for a particular number of times. The general syntax is provided below where `i` is the counter and as `i` assumes each sequential value the code in the body will be performed for that ith value.\n",
    "\n",
    "```python\n",
    "# syntax of for loop\n",
    "for i in sequence:\n",
    "    <do stuff here with i>\n",
    "```\n",
    "\n",
    "There are three main components of a `for` loop to consider:\n",
    "\n",
    "1. __Sequence__: The sequence represents each element in a list or tuple, each key-value pair in a dictionary, or each column in a DataFrame.\n",
    "2. __Body__: apply some function(s) to the object we are iterating over.\n",
    "3. __Output__: You must specify what to do with the result.  This may include printing out a result or modifying the object in place.\n",
    "\n",
    "For example, say we want to iterate N times, we can perform a for loop using the `range()` function:"
   ]
  },
  {
   "cell_type": "code",
   "execution_count": 2,
   "metadata": {},
   "outputs": [
    {
     "name": "stdout",
     "output_type": "stream",
     "text": [
      "0\n",
      "1\n",
      "2\n",
      "3\n",
      "4\n",
      "5\n",
      "6\n",
      "7\n",
      "8\n",
      "9\n"
     ]
    }
   ],
   "source": [
    "for number in range(10):\n",
    "    print(number)"
   ]
  },
  {
   "cell_type": "markdown",
   "metadata": {},
   "source": [
    "We can add multiple lines to our `for` loop; we just need to ensure that each line follows the same indentation patter:"
   ]
  },
  {
   "cell_type": "code",
   "execution_count": 3,
   "metadata": {},
   "outputs": [
    {
     "name": "stdout",
     "output_type": "stream",
     "text": [
      "0 squared = 0\n",
      "1 squared = 1\n",
      "2 squared = 4\n",
      "3 squared = 9\n",
      "4 squared = 16\n",
      "5 squared = 25\n",
      "6 squared = 36\n",
      "7 squared = 49\n",
      "8 squared = 64\n",
      "9 squared = 81\n"
     ]
    }
   ],
   "source": [
    "for number in range(10):\n",
    "    squared = number * number\n",
    "    print(f'{number} squared = {squared}')"
   ]
  },
  {
   "cell_type": "markdown",
   "metadata": {},
   "source": [
    "Rather than just print out some result, we can also assign the computation to an object. For example, say we wanted to assign the squared result in the previous `for` loop to a dictionary where the key is the original number and the value is the squared value."
   ]
  },
  {
   "cell_type": "code",
   "execution_count": 4,
   "metadata": {},
   "outputs": [
    {
     "data": {
      "text/plain": [
       "{0: 0, 1: 1, 2: 4, 3: 9, 4: 16, 5: 25, 6: 36, 7: 49, 8: 64, 9: 81}"
      ]
     },
     "execution_count": 4,
     "metadata": {},
     "output_type": "execute_result"
    }
   ],
   "source": [
    "squared_values = {}\n",
    "\n",
    "for number in range(10):\n",
    "    squared = number * number\n",
    "    squared_values[number] = squared\n",
    "\n",
    "squared_values"
   ]
  },
  {
   "cell_type": "markdown",
   "metadata": {},
   "source": [
    "### Knowledge check\n",
    "\n",
    "We can see all data sets that we have in the “data/monthly_data” folder with `glob.glob`:"
   ]
  },
  {
   "cell_type": "code",
   "execution_count": 5,
   "metadata": {},
   "outputs": [
    {
     "data": {
      "text/plain": [
       "['../data/monthly_data/Month-08.csv',\n",
       " '../data/monthly_data/Month-09.csv',\n",
       " '../data/monthly_data/Month-01.csv',\n",
       " '../data/monthly_data/Month-02.csv',\n",
       " '../data/monthly_data/Month-03.csv',\n",
       " '../data/monthly_data/Month-07.csv',\n",
       " '../data/monthly_data/Month-06.csv',\n",
       " '../data/monthly_data/Month-10.csv',\n",
       " '../data/monthly_data/Month-04.csv',\n",
       " '../data/monthly_data/Month-05.csv',\n",
       " '../data/monthly_data/Month-11.csv']"
      ]
     },
     "execution_count": 5,
     "metadata": {},
     "output_type": "execute_result"
    }
   ],
   "source": [
    "monthly_data_files = glob.glob(\"../data/monthly_data/*\")\n",
    "monthly_data_files"
   ]
  },
  {
   "cell_type": "markdown",
   "metadata": {},
   "source": [
    "If you wanted to get just the file name from the string path we can use `os.path.basename`:"
   ]
  },
  {
   "cell_type": "code",
   "execution_count": 6,
   "metadata": {},
   "outputs": [
    {
     "data": {
      "text/plain": [
       "'Month-08.csv'"
      ]
     },
     "execution_count": 6,
     "metadata": {},
     "output_type": "execute_result"
    }
   ],
   "source": [
    "file_name = os.path.basename(monthly_data_files[0])\n",
    "file_name"
   ]
  },
  {
   "cell_type": "markdown",
   "metadata": {},
   "source": [
    "And if we wanted to just get the name minus the file extension we can apply some simple string indexing to remove the last four characters (`.csv`):"
   ]
  },
  {
   "cell_type": "code",
   "execution_count": 7,
   "metadata": {},
   "outputs": [
    {
     "data": {
      "text/plain": [
       "'Month-08'"
      ]
     },
     "execution_count": 7,
     "metadata": {},
     "output_type": "execute_result"
    }
   ],
   "source": [
    "file_name[:-4]"
   ]
  },
  {
   "cell_type": "markdown",
   "metadata": {},
   "source": [
    "```{admonition} Tasks:\n",
    ":class: attention\n",
    "Use this knowledge to:\n",
    "\n",
    "1. Create an empty dictionary called `monthly_data`.\n",
    "2. Loop over `monthly_data_files` and assign the file name as the dictionary key and assign the file path as the value.\n",
    "3. Loop over `monthly_data_files` and assign the file name as the dictionary key, import the data with `pd.read_csv()` and assign the imported DataFrame as the value in the dictionary.\n",
    "```"
   ]
  },
  {
   "cell_type": "markdown",
   "metadata": {},
   "source": [
    "## Controlling sequences\n",
    "\n",
    "There are two ways to control the progression of a loop:\n",
    "\n",
    "* `continue`: terminates the current iteration and advances to the next.\n",
    "* `break`: exits the entire for loop.\n",
    "\n",
    "Both are used in conjunction with if statements. For example, this for loop will iterate for each element in `year`; however, when it gets to the element that equals the year of `covid` (2020) it will `break` out and end the for loop process."
   ]
  },
  {
   "cell_type": "code",
   "execution_count": 8,
   "metadata": {},
   "outputs": [
    {
     "data": {
      "text/plain": [
       "[2018, 2019, 2020, 2021, 2022]"
      ]
     },
     "execution_count": 8,
     "metadata": {},
     "output_type": "execute_result"
    }
   ],
   "source": [
    "# range will produce numbers starting at 2018 and up to but not include 2023\n",
    "years = range(2018, 2023)\n",
    "list(years)"
   ]
  },
  {
   "cell_type": "code",
   "execution_count": 9,
   "metadata": {},
   "outputs": [
    {
     "name": "stdout",
     "output_type": "stream",
     "text": [
      "2018\n",
      "2019\n"
     ]
    }
   ],
   "source": [
    "covid = 2020\n",
    "\n",
    "for year in years:\n",
    "    if year == covid: break\n",
    "    print(year)"
   ]
  },
  {
   "cell_type": "markdown",
   "metadata": {},
   "source": [
    "The `continue` argument is useful when we want to skip the current iteration of a loop without terminating it. On encountering `continue`, the Python parser skips further evaluation and starts the next iteration of the loop. In this example, the for loop will iterate for each element in year; however, when it gets to the element that equals covid it will skip the rest of the code execution simply jump to the next iteration."
   ]
  },
  {
   "cell_type": "code",
   "execution_count": 10,
   "metadata": {},
   "outputs": [
    {
     "name": "stdout",
     "output_type": "stream",
     "text": [
      "2018\n",
      "2019\n",
      "2021\n",
      "2022\n"
     ]
    }
   ],
   "source": [
    "for year in years:\n",
    "    if year == covid: continue\n",
    "    print(year)"
   ]
  },
  {
   "cell_type": "markdown",
   "metadata": {},
   "source": [
    "### Knowledge check\n",
    "\n",
    "```{admonition} Tasks:\n",
    ":class: attention\n",
    "Modify the following for `loop` with a `continue` or `break` statement to:\n",
    "\n",
    "1. only import Month-01 through Month-07\n",
    "2. only import Month-08 through Month-10\n",
    "\n",
    "```python\n",
    "monthly_data_files = glob.glob(\"../data/monthly_data/*\")\n",
    "monthly_data = {}\n",
    "\n",
    "for file in monthly_data_files:\n",
    "    file_name = os.path.basename(file)[:-4]\n",
    "    monthly_data[file_name] = pd.read_csv(file)\n",
    "\n",
    "```"
   ]
  },
  {
   "cell_type": "markdown",
   "metadata": {},
   "source": [
    "## List comprehensions\n",
    "\n",
    "List comprehensions offer a shorthand syntax for `for` loops and are very common in the Python community. Although a little odd at first, the way to think of list comprehensions is as a backward `for` loop where we state the expression first, and then the sequence.  \n",
    "\n",
    "```python\n",
    "# syntax of for loop\n",
    "for i in sequence:\n",
    "    expression\n",
    "  \n",
    "# syntax for a list comprehension\n",
    "[expression for i in sequence]\n",
    "```\n",
    "\n",
    "Often, we'll see a pattern like the following where we:\n",
    "\n",
    "1. create an empty object (list in this example)\n",
    "2. loop over an object and perform some computation\n",
    "3. save the result to the empty object"
   ]
  },
  {
   "cell_type": "code",
   "execution_count": 11,
   "metadata": {},
   "outputs": [
    {
     "data": {
      "text/plain": [
       "[0, 1, 4, 9, 16]"
      ]
     },
     "execution_count": 11,
     "metadata": {},
     "output_type": "execute_result"
    }
   ],
   "source": [
    "squared_values = []\n",
    "for number in range(5):\n",
    "    squared = number * number\n",
    "    squared_values.append(squared)\n",
    "\n",
    "squared_values"
   ]
  },
  {
   "cell_type": "markdown",
   "metadata": {},
   "source": [
    "A list comprehension allows us to condense this pattern to a single line:"
   ]
  },
  {
   "cell_type": "code",
   "execution_count": 12,
   "metadata": {},
   "outputs": [
    {
     "data": {
      "text/plain": [
       "[0, 1, 4, 9, 16]"
      ]
     },
     "execution_count": 12,
     "metadata": {},
     "output_type": "execute_result"
    }
   ],
   "source": [
    "squared_values = [number * number for number in range(5)]\n",
    "squared_values"
   ]
  },
  {
   "cell_type": "markdown",
   "metadata": {},
   "source": [
    "List comprehensions even allow us to add conditional statements. For example, here we use a conditional statement to skip even numbers:"
   ]
  },
  {
   "cell_type": "code",
   "execution_count": 13,
   "metadata": {},
   "outputs": [
    {
     "data": {
      "text/plain": [
       "[1, 9, 25, 49, 81]"
      ]
     },
     "execution_count": 13,
     "metadata": {},
     "output_type": "execute_result"
    }
   ],
   "source": [
    "squared_odd_values = [number * number for number in range(10) if number % 2 != 0]\n",
    "squared_odd_values"
   ]
  },
  {
   "cell_type": "markdown",
   "metadata": {},
   "source": [
    "For more complex conditional statements, or if the list comprehension gets a bit long, we can use multiple lines to make it easier to digest:"
   ]
  },
  {
   "cell_type": "code",
   "execution_count": 14,
   "metadata": {},
   "outputs": [
    {
     "data": {
      "text/plain": [
       "[1, 9, 49, 81]"
      ]
     },
     "execution_count": 14,
     "metadata": {},
     "output_type": "execute_result"
    }
   ],
   "source": [
    "squared_certain_values = [\n",
    "    number * number for number in range(10) \n",
    "    if number % 2 != 0 and number != 5\n",
    "    ]\n",
    "\n",
    "squared_certain_values"
   ]
  },
  {
   "cell_type": "markdown",
   "metadata": {},
   "source": [
    "There are other forms of comprehensions as well. For example, we can perform a dictionary comprehension where we follow the same patter; however, we use dict brackets (`{`) instead of list brackets (`[`):"
   ]
  },
  {
   "cell_type": "code",
   "execution_count": 15,
   "metadata": {},
   "outputs": [
    {
     "data": {
      "text/plain": [
       "{0: 0, 1: 1, 2: 4, 3: 9, 4: 16, 5: 25, 6: 36, 7: 49, 8: 64, 9: 81}"
      ]
     },
     "execution_count": 15,
     "metadata": {},
     "output_type": "execute_result"
    }
   ],
   "source": [
    "squared_values_dict = {number: number*number for number in range(10)}\n",
    "squared_values_dict"
   ]
  },
  {
   "cell_type": "markdown",
   "metadata": {},
   "source": [
    "### Knowledge check\n",
    "\n",
    "```{admonition} Tasks:\n",
    ":class: attention\n",
    "Re-write the following `for` loop using a dictionary comprehension:\n",
    "\n",
    "```python\n",
    "monthly_data_files = glob.glob(\"../data/monthly_data/*\")\n",
    "monthly_data = {}\n",
    "\n",
    "for file in monthly_data_files:\n",
    "    file_name = os.path.basename(file)[:-4]\n",
    "    monthly_data[file_name] = pd.read_csv(file)\n",
    "\n",
    "```"
   ]
  },
  {
   "cell_type": "markdown",
   "metadata": {},
   "source": [
    "## `while` loop\n",
    "\n",
    "We may not always know how many iterations we need to make. Rather, we simply want to perform some task while a particular condition exists. This is the job of a `while` loop. A `while` loop follows the same logic as a `for` loop, except, rather than specify a sequence we want to specify a condition that will determine how many iterations.\n",
    "\n",
    "```python\n",
    "# syntax of for loop\n",
    "while condition_holds:\n",
    "    <do stuff here with i>\n",
    "```\n",
    "\n",
    "For example, the probability of flipping 10 coins and getting all heads or tails is $(\\frac{1}{2})^{10} = 0.0009765625$ (1 in 1024 tries). Let's implement this and see how many times it'll take to accomplish this feat.\n",
    "\n",
    "The following `while` statement will check if the number of unique values for 10 flips are 1, which implies that we flipped all heads or tails. If it is not equal to 1 then we repeat the process of flipping 10 coins and incrementing the number of tries. When our condition statement `ten_of_a_kind == True` then our while loop will stop."
   ]
  },
  {
   "cell_type": "code",
   "execution_count": 16,
   "metadata": {},
   "outputs": [
    {
     "name": "stdout",
     "output_type": "stream",
     "text": [
      "After 857 flips: ['heads', 'heads', 'heads', 'heads', 'heads', 'heads', 'heads', 'heads', 'heads', 'heads', 'heads']\n"
     ]
    }
   ],
   "source": [
    "# create a coin\n",
    "coin = ['heads', 'tails']\n",
    "\n",
    "# we'll use this to track how many tries it takes to get 10 heads or 10 tails\n",
    "n_tries = 0\n",
    "\n",
    "# signals if we got 10 heads or 10 tails\n",
    "ten_of_a_kind = False\n",
    "\n",
    "while not ten_of_a_kind:\n",
    "    # flip coin 10 times\n",
    "    ten_coin_flips = [random.choice(coin) for flip in range(11)]\n",
    "    \n",
    "    # check if there\n",
    "    ten_of_a_kind = len(set(ten_coin_flips)) == 1\n",
    "\n",
    "    # add iteration to counter\n",
    "    n_tries += 1\n",
    "\n",
    "\n",
    "print(f'After {n_tries} flips: {ten_coin_flips}')"
   ]
  },
  {
   "cell_type": "markdown",
   "metadata": {},
   "source": [
    "### Knowledge check\n",
    "\n",
    "```{admonition} Tasks:\n",
    ":class: attention\n",
    "An elementary example of a random walk is the random walk on the integer number line, $Z$, which starts at 0 and at each step moves +1 or −1 with equal probability.\n",
    "\n",
    "Fill in the incomplete code chunk below to perform a random walk starting at value 0, with each step either adding or subtracting 1. Have your random walk stop if the value it exceeds 100 or if the number of steps taken exceeds 10,000.\n",
    "\n",
    "```python\n",
    "value = 0\n",
    "n_tries = 0\n",
    "exceeds_100 = False\n",
    "\n",
    "while not exceeds_100 or _______:\n",
    "    # randomly add or subtract 1\n",
    "    random_value = random.choice([-1, 1])\n",
    "    value += _____\n",
    "\n",
    "    # check if value exceeds 100\n",
    "    exceeds_100 = ______\n",
    "\n",
    "    # add iteration to counter\n",
    "    n_tries += _____\n",
    "\n",
    "  \n",
    "print(f'The final value was {value} after {n_tries} iterations.')\n",
    "\n",
    "```"
   ]
  },
  {
   "cell_type": "markdown",
   "metadata": {},
   "source": [
    "## Iterables\n",
    "\n",
    "Python strongly leverages the concept of _iterable objects_. An object is considered _iterable_ if it is either a physically stored sequence, or an object that produces one result at a time in the context of an interation tool like a `for` loop. Up to this point, our example looping structures have primarily iterated over a DataFrame or a list.\n",
    "\n",
    "When our `for` loop iterates over a DataFrame, underneath the hood it is first accessing the iterable object, and then iterating over each item. As the following illustrates, the default iterable components of a DataFrame are the columns:"
   ]
  },
  {
   "cell_type": "code",
   "execution_count": 17,
   "metadata": {},
   "outputs": [
    {
     "name": "stdout",
     "output_type": "stream",
     "text": [
      "col1\n",
      "col2\n",
      "col3\n"
     ]
    }
   ],
   "source": [
    "df = pd.DataFrame({'col1': [1, 2, 3], 'col2': [3, 4, 5], 'col3': [6, 6, 6]})\n",
    "\n",
    "I = df.__iter__() # access iterable object\n",
    "print(next(I))    # first iteration\n",
    "print(next(I))    # second iteration\n",
    "print(next(I))    # third iteration"
   ]
  },
  {
   "cell_type": "markdown",
   "metadata": {},
   "source": [
    "When our `for` loop iterates over a list, the same procedure unfolds. Note that when no more items are available to iterate over, a `StopIteration` is thrown which signals to our `for` loop that no more itertions should be performed. "
   ]
  },
  {
   "cell_type": "code",
   "execution_count": 18,
   "metadata": {},
   "outputs": [
    {
     "name": "stdout",
     "output_type": "stream",
     "text": [
      "Robert\n",
      "Sandy\n",
      "John\n",
      "Patrick\n"
     ]
    },
    {
     "ename": "StopIteration",
     "evalue": "",
     "output_type": "error",
     "traceback": [
      "\u001b[0;31m---------------------------------------------------------------------------\u001b[0m",
      "\u001b[0;31mStopIteration\u001b[0m                             Traceback (most recent call last)",
      "Input \u001b[0;32mIn [18]\u001b[0m, in \u001b[0;36m<cell line: 8>\u001b[0;34m()\u001b[0m\n\u001b[1;32m      6\u001b[0m \u001b[38;5;28mprint\u001b[39m(\u001b[38;5;28mnext\u001b[39m(I))       \u001b[38;5;66;03m# third iteration\u001b[39;00m\n\u001b[1;32m      7\u001b[0m \u001b[38;5;28mprint\u001b[39m(\u001b[38;5;28mnext\u001b[39m(I))       \u001b[38;5;66;03m# fourth iteration\u001b[39;00m\n\u001b[0;32m----> 8\u001b[0m \u001b[38;5;28mprint\u001b[39m(\u001b[38;5;28;43mnext\u001b[39;49m\u001b[43m(\u001b[49m\u001b[43mI\u001b[49m\u001b[43m)\u001b[49m)\n",
      "\u001b[0;31mStopIteration\u001b[0m: "
     ]
    }
   ],
   "source": [
    "names = ['Robert', 'Sandy', 'John', 'Patrick']\n",
    "\n",
    "I = names.__iter__() # access iterable object\n",
    "print(next(I))       # first iteration\n",
    "print(next(I))       # second iteration\n",
    "print(next(I))       # third iteration\n",
    "print(next(I))       # fourth iteration\n",
    "print(next(I))       # no more items"
   ]
  },
  {
   "cell_type": "markdown",
   "metadata": {},
   "source": [
    "Dictionaries and tuples are also iterable objects. Iterating over dictionary automatically returns one key at a time, which allows us to have the key and index for that key at the same time:"
   ]
  },
  {
   "cell_type": "code",
   "execution_count": 68,
   "metadata": {},
   "outputs": [
    {
     "name": "stdout",
     "output_type": "stream",
     "text": [
      "a\n",
      "b\n",
      "c\n"
     ]
    }
   ],
   "source": [
    "D = {'a':1, 'b':2, 'c':3}\n",
    "\n",
    "I = D.__iter__()  # access iterable object\n",
    "print(next(I))    # first iteration\n",
    "print(next(I))    # second iteration\n",
    "print(next(I))    # third iteration"
   ]
  },
  {
   "cell_type": "code",
   "execution_count": 69,
   "metadata": {},
   "outputs": [
    {
     "name": "stdout",
     "output_type": "stream",
     "text": [
      "a 1\n",
      "b 2\n",
      "c 3\n"
     ]
    }
   ],
   "source": [
    "for key in D:\n",
    "    print(key, D[key])"
   ]
  },
  {
   "cell_type": "markdown",
   "metadata": {},
   "source": [
    "Although using these iterables in a for loop is quite common, you will often see two other approaches which include the iterables `range()` and `enumerate()`. range is often used to generate indexes in a for loop but you can use it anywhere you need a series of integers. However, range is an iterable that generates items on demand:"
   ]
  },
  {
   "cell_type": "code",
   "execution_count": 70,
   "metadata": {},
   "outputs": [
    {
     "name": "stdout",
     "output_type": "stream",
     "text": [
      "0\n",
      "1\n",
      "2\n"
     ]
    }
   ],
   "source": [
    "values = range(5)\n",
    "\n",
    "I = values.__iter__()\n",
    "print(next(I))\n",
    "print(next(I))\n",
    "print(next(I))"
   ]
  },
  {
   "cell_type": "markdown",
   "metadata": {},
   "source": [
    "So if you wanted to iterate over each column in our DataFrame, an alternative is to use range. In this example, range produces the numeric index for each column so we simply use that value to index for the column within the for loop:"
   ]
  },
  {
   "cell_type": "code",
   "execution_count": 72,
   "metadata": {},
   "outputs": [
    {
     "data": {
      "text/plain": [
       "[3, 3, 1]"
      ]
     },
     "execution_count": 72,
     "metadata": {},
     "output_type": "execute_result"
    }
   ],
   "source": [
    "unique_values = []\n",
    "for col in range(len(df.columns)):\n",
    "  value = df.iloc[:, col].nunique()\n",
    "  unique_values.append(value)\n",
    "  \n",
    "unique_values"
   ]
  },
  {
   "cell_type": "markdown",
   "metadata": {},
   "source": [
    "Another common iterator you will see is `enumerate`. Actually, the `enumerate` function returns a **generator object**, which also supports this iterator concept. The benefit of `enumerate` is that it returns a (index, value) tuple each time through the loop:"
   ]
  },
  {
   "cell_type": "code",
   "execution_count": 73,
   "metadata": {},
   "outputs": [
    {
     "name": "stdout",
     "output_type": "stream",
     "text": [
      "(0, 'col1')\n",
      "(1, 'col2')\n",
      "(2, 'col3')\n"
     ]
    }
   ],
   "source": [
    "E = enumerate(df) # access iterable object\n",
    "print(next(E))    # first iteration\n",
    "print(next(E))    # second iteration\n",
    "print(next(E))    # third iteration"
   ]
  },
  {
   "cell_type": "markdown",
   "metadata": {},
   "source": [
    "The `for` loop steps through these tuples automatically and allows us to unpack their values with tuple assignment in the header of the `for` loop. In the following example, we unpack the tuples into the variables `index` and `col` and we can now use both of these values however necessary in a for loop."
   ]
  },
  {
   "cell_type": "code",
   "execution_count": 74,
   "metadata": {},
   "outputs": [
    {
     "name": "stdout",
     "output_type": "stream",
     "text": [
      "0 - col1\n",
      "1 - col2\n",
      "2 - col3\n"
     ]
    }
   ],
   "source": [
    "for index, col in enumerate(df):\n",
    "    print(f'{index} - {col}')"
   ]
  },
  {
   "cell_type": "markdown",
   "metadata": {},
   "source": [
    "```{note}\n",
    "There are additional iterable objects that can be used in looping structures (i.e. zip, map); however, the ones discussed here are the most common you will come across and likely use.\n",
    "```"
   ]
  },
  {
   "cell_type": "markdown",
   "metadata": {},
   "source": [
    "## Exercises\n",
    "\n",
    "```{admonition} Questions:\n",
    ":class: attention\n",
    "1. For the following list of names, write a list comprehension that creates a list of only words that start with a capital letter (hint: `str.isupper()`). Which names are included in the result?\n",
    "   \n",
    "    ```python\n",
    "    names = ['Steve Irwin', 'koala', 'kangaroo', 'Australia', 'Sydney', 'desert']\n",
    "\n",
    "2. The Fibonacci Sequence is a series of numbers where the next number is found by adding up the two numbers before it. The first two numbers are 0 and 1. For example, 0, 1, 1, 2, 3, 5, 8, 13, 21. The next number in this series above is 13+21 = 34. Use a `for` loop to produce the first 25 numbers in the Fibanacci Sequence (0, 1, 1, 2, 3, 5, 8, 13, 21...)\n",
    "\n",
    "3. Create a `for` loop that sums the numbers from 0 through 100; however, skip the numbers in the following list:\n",
    "\n",
    "    ```python\n",
    "    skip_these_numbers = [8, 29, 43, 68, 98]\n",
    "\n",
    "```"
   ]
  },
  {
   "cell_type": "markdown",
   "metadata": {},
   "source": [
    "## Computing environment"
   ]
  },
  {
   "cell_type": "code",
   "execution_count": 1,
   "metadata": {},
   "outputs": [
    {
     "name": "stdout",
     "output_type": "stream",
     "text": [
      "Python implementation: CPython\n",
      "Python version       : 3.9.12\n",
      "IPython version      : 8.2.0\n",
      "\n",
      "pandas            : 1.4.2\n",
      "jupyterlab        : 3.3.2\n",
      "completejourney_py: 0.0.3\n",
      "\n"
     ]
    }
   ],
   "source": [
    "%load_ext watermark\n",
    "%watermark -v -p pandas,jupyterlab"
   ]
  }
 ],
 "metadata": {
  "kernelspec": {
   "display_name": "Python 3.9.12 ('base')",
   "language": "python",
   "name": "python3"
  },
  "language_info": {
   "codemirror_mode": {
    "name": "ipython",
    "version": 3
   },
   "file_extension": ".py",
   "mimetype": "text/x-python",
   "name": "python",
   "nbconvert_exporter": "python",
   "pygments_lexer": "ipython3",
   "version": "3.9.12"
  },
  "vscode": {
   "interpreter": {
    "hash": "40d3a090f54c6569ab1632332b64b2c03c39dcf918b08424e98f38b5ae0af88f"
   }
  }
 },
 "nbformat": 4,
 "nbformat_minor": 2
}