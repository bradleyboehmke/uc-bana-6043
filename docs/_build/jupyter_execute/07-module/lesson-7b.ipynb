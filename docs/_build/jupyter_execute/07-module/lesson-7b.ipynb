{
 "cells": [
  {
   "cell_type": "markdown",
   "id": "ecbf9fcb-cd85-41ba-b24b-4ec0b3818293",
   "metadata": {
    "slideshow": {
     "slide_type": "slide"
    },
    "tags": []
   },
   "source": [
    "# Lesson 7b: First model with scikit-learn\n",
    "\n",
    "In this module, we present how to build predictive models on tabular datasets, with only numerical features.\n",
    "\n",
    "In particular we will highlight:\n",
    "\n",
    "* the scikit-learn API: `.fit(X, y)`/`.predict(X)`/`.score(X, y)`;\n",
    "* how to evaluate the generalization performance of a model with a train-test\n",
    "  split."
   ]
  },
  {
   "cell_type": "markdown",
   "id": "b16847ba-b980-4bd7-bf77-b8c635b20b10",
   "metadata": {
    "slideshow": {
     "slide_type": "slide"
    },
    "tags": []
   },
   "source": [
    "## Learning objectives\n",
    "\n",
    "By the end of this lesson you will be able to:\n",
    "\n",
    "* Explain and implement the `.fit()`, `.predict()`, and `.score()` methods provided by the scikit-learn API.\n",
    "* Evaluate the generalization performance of a model with a train-test\n",
    "  split."
   ]
  },
  {
   "cell_type": "markdown",
   "id": "a6fbebbe-a5e4-4616-b70f-897376bc8f8e",
   "metadata": {
    "slideshow": {
     "slide_type": "slide"
    },
    "tags": []
   },
   "source": [
    "## Data\n",
    "\n",
    "We will use the same dataset \"adult_census\" described in the previous\n",
    "lesson. For more details about the dataset see <http://www.openml.org/d/1590>."
   ]
  },
  {
   "cell_type": "code",
   "execution_count": 1,
   "id": "b7d5d794-7240-4e76-874d-f4f83ab8476b",
   "metadata": {},
   "outputs": [],
   "source": [
    "import pandas as pd\n",
    "\n",
    "adult_census = pd.read_csv(\"../data/adult-census.csv\")"
   ]
  },
  {
   "cell_type": "markdown",
   "id": "5cf478ca-cb9b-4a20-8f50-6b591eb972cc",
   "metadata": {
    "slideshow": {
     "slide_type": "slide"
    },
    "tags": []
   },
   "source": [
    "## Separating features from target\n",
    "\n",
    "Scikit-learn prefers our features ($X$) apart from our target ($y$). Consequently, it's quite common to create separate data objects to hold our feature and target data.\n",
    "\n",
    "```{note}\n",
    "Numerical data is the most natural type of data used in machine learning and can (often)  be directly fed into predictive models. Consequently, for this lesson we will use a subset of the original data with only the numerical columns.\n",
    "```\n",
    "\n",
    "Here, we create a `target` data object that contains our target variable (`class`) data and a `features` data object that contains all our numeric feature data."
   ]
  },
  {
   "cell_type": "code",
   "execution_count": 2,
   "id": "d5bc74af-6a9e-44f5-a7f6-b71c50a2b620",
   "metadata": {
    "slideshow": {
     "slide_type": "fragment"
    },
    "tags": []
   },
   "outputs": [],
   "source": [
    "import numpy as np\n",
    "\n",
    "# create column names of interest\n",
    "target_col = \"class\"\n",
    "feature_col = adult_census.drop(columns=target_col).select_dtypes(np.number).columns.values"
   ]
  },
  {
   "cell_type": "code",
   "execution_count": 3,
   "id": "3a2e0692-05e9-40b5-9821-f710e3138535",
   "metadata": {
    "slideshow": {
     "slide_type": "slide"
    },
    "tags": []
   },
   "outputs": [
    {
     "data": {
      "text/plain": [
       "0         <=50K\n",
       "1         <=50K\n",
       "2          >50K\n",
       "3          >50K\n",
       "4         <=50K\n",
       "          ...  \n",
       "48837     <=50K\n",
       "48838      >50K\n",
       "48839     <=50K\n",
       "48840     <=50K\n",
       "48841      >50K\n",
       "Name: class, Length: 48842, dtype: object"
      ]
     },
     "execution_count": 3,
     "metadata": {},
     "output_type": "execute_result"
    }
   ],
   "source": [
    "target = adult_census[target_col]\n",
    "target"
   ]
  },
  {
   "cell_type": "code",
   "execution_count": 4,
   "id": "ac2a9461-b480-4e3b-9d1d-25adb9644a11",
   "metadata": {},
   "outputs": [
    {
     "data": {
      "text/html": [
       "<div>\n",
       "<style scoped>\n",
       "    .dataframe tbody tr th:only-of-type {\n",
       "        vertical-align: middle;\n",
       "    }\n",
       "\n",
       "    .dataframe tbody tr th {\n",
       "        vertical-align: top;\n",
       "    }\n",
       "\n",
       "    .dataframe thead th {\n",
       "        text-align: right;\n",
       "    }\n",
       "</style>\n",
       "<table border=\"1\" class=\"dataframe\">\n",
       "  <thead>\n",
       "    <tr style=\"text-align: right;\">\n",
       "      <th></th>\n",
       "      <th>age</th>\n",
       "      <th>education-num</th>\n",
       "      <th>capital-gain</th>\n",
       "      <th>capital-loss</th>\n",
       "      <th>hours-per-week</th>\n",
       "    </tr>\n",
       "  </thead>\n",
       "  <tbody>\n",
       "    <tr>\n",
       "      <th>0</th>\n",
       "      <td>25</td>\n",
       "      <td>7</td>\n",
       "      <td>0</td>\n",
       "      <td>0</td>\n",
       "      <td>40</td>\n",
       "    </tr>\n",
       "    <tr>\n",
       "      <th>1</th>\n",
       "      <td>38</td>\n",
       "      <td>9</td>\n",
       "      <td>0</td>\n",
       "      <td>0</td>\n",
       "      <td>50</td>\n",
       "    </tr>\n",
       "    <tr>\n",
       "      <th>2</th>\n",
       "      <td>28</td>\n",
       "      <td>12</td>\n",
       "      <td>0</td>\n",
       "      <td>0</td>\n",
       "      <td>40</td>\n",
       "    </tr>\n",
       "    <tr>\n",
       "      <th>3</th>\n",
       "      <td>44</td>\n",
       "      <td>10</td>\n",
       "      <td>7688</td>\n",
       "      <td>0</td>\n",
       "      <td>40</td>\n",
       "    </tr>\n",
       "    <tr>\n",
       "      <th>4</th>\n",
       "      <td>18</td>\n",
       "      <td>10</td>\n",
       "      <td>0</td>\n",
       "      <td>0</td>\n",
       "      <td>30</td>\n",
       "    </tr>\n",
       "    <tr>\n",
       "      <th>...</th>\n",
       "      <td>...</td>\n",
       "      <td>...</td>\n",
       "      <td>...</td>\n",
       "      <td>...</td>\n",
       "      <td>...</td>\n",
       "    </tr>\n",
       "    <tr>\n",
       "      <th>48837</th>\n",
       "      <td>27</td>\n",
       "      <td>12</td>\n",
       "      <td>0</td>\n",
       "      <td>0</td>\n",
       "      <td>38</td>\n",
       "    </tr>\n",
       "    <tr>\n",
       "      <th>48838</th>\n",
       "      <td>40</td>\n",
       "      <td>9</td>\n",
       "      <td>0</td>\n",
       "      <td>0</td>\n",
       "      <td>40</td>\n",
       "    </tr>\n",
       "    <tr>\n",
       "      <th>48839</th>\n",
       "      <td>58</td>\n",
       "      <td>9</td>\n",
       "      <td>0</td>\n",
       "      <td>0</td>\n",
       "      <td>40</td>\n",
       "    </tr>\n",
       "    <tr>\n",
       "      <th>48840</th>\n",
       "      <td>22</td>\n",
       "      <td>9</td>\n",
       "      <td>0</td>\n",
       "      <td>0</td>\n",
       "      <td>20</td>\n",
       "    </tr>\n",
       "    <tr>\n",
       "      <th>48841</th>\n",
       "      <td>52</td>\n",
       "      <td>9</td>\n",
       "      <td>15024</td>\n",
       "      <td>0</td>\n",
       "      <td>40</td>\n",
       "    </tr>\n",
       "  </tbody>\n",
       "</table>\n",
       "<p>48842 rows × 5 columns</p>\n",
       "</div>"
      ],
      "text/plain": [
       "       age  education-num  capital-gain  capital-loss  hours-per-week\n",
       "0       25              7             0             0              40\n",
       "1       38              9             0             0              50\n",
       "2       28             12             0             0              40\n",
       "3       44             10          7688             0              40\n",
       "4       18             10             0             0              30\n",
       "...    ...            ...           ...           ...             ...\n",
       "48837   27             12             0             0              38\n",
       "48838   40              9             0             0              40\n",
       "48839   58              9             0             0              40\n",
       "48840   22              9             0             0              20\n",
       "48841   52              9         15024             0              40\n",
       "\n",
       "[48842 rows x 5 columns]"
      ]
     },
     "execution_count": 4,
     "metadata": {},
     "output_type": "execute_result"
    }
   ],
   "source": [
    "features = adult_census[feature_col]\n",
    "features"
   ]
  },
  {
   "cell_type": "code",
   "execution_count": 5,
   "id": "ef443bc4-9dfb-4ecb-a61b-79ca2abf5f46",
   "metadata": {
    "slideshow": {
     "slide_type": "skip"
    },
    "tags": []
   },
   "outputs": [
    {
     "name": "stdout",
     "output_type": "stream",
     "text": [
      "The dataset contains 48842 samples and 5 features\n"
     ]
    }
   ],
   "source": [
    "print(\n",
    "    f\"The dataset contains {features.shape[0]} samples and \"\n",
    "    f\"{features.shape[1]} features\"\n",
    ")"
   ]
  },
  {
   "cell_type": "markdown",
   "id": "576a46c7-fe30-475f-a772-6ff043910847",
   "metadata": {
    "slideshow": {
     "slide_type": "slide"
    },
    "tags": []
   },
   "source": [
    "### Knowledge check\n",
    "\n",
    "```{admonition} Questions:\n",
    ":class: attention    \n",
    "1. What type of object is the target data set?\n",
    "2. What type of object is the feature data set?\n",
    "```"
   ]
  },
  {
   "cell_type": "markdown",
   "id": "44ed09b5-0a37-40bd-a4ba-5e18d337f3e4",
   "metadata": {
    "slideshow": {
     "slide_type": "slide"
    },
    "tags": []
   },
   "source": [
    "## Fit a model\n",
    "\n",
    "We will build a classification model using the \"K-nearest neighbors\"\n",
    "strategy. To predict the target of a new sample, a k-nearest neighbors takes\n",
    "into account its `k` closest samples in the training set and predicts the\n",
    "majority target of these samples.\n",
    "\n",
    "```{note}\n",
    "We use a K-nearest neighbors here. However, be aware that it is seldom useful\n",
    "in practice. We use it because it is an intuitive algorithm. In future lessons, we will introduce alternative algorithms.\n",
    "```\n",
    "\n",
    "The `.fit` method is called to train the model from the input (features) and target data."
   ]
  },
  {
   "cell_type": "code",
   "execution_count": 6,
   "id": "43f64570-8607-47dd-807b-9d4db67be554",
   "metadata": {
    "slideshow": {
     "slide_type": "fragment"
    },
    "tags": []
   },
   "outputs": [],
   "source": [
    "# to display nice model diagram\n",
    "from sklearn import set_config\n",
    "set_config(display='diagram')"
   ]
  },
  {
   "cell_type": "code",
   "execution_count": 7,
   "id": "fbd15beb-5573-455d-9288-bf7f91685fd9",
   "metadata": {},
   "outputs": [
    {
     "data": {
      "text/html": [
       "<style>#sk-97dc7bcc-c538-4b26-89e6-43d12c47ef69 {color: black;background-color: white;}#sk-97dc7bcc-c538-4b26-89e6-43d12c47ef69 pre{padding: 0;}#sk-97dc7bcc-c538-4b26-89e6-43d12c47ef69 div.sk-toggleable {background-color: white;}#sk-97dc7bcc-c538-4b26-89e6-43d12c47ef69 label.sk-toggleable__label {cursor: pointer;display: block;width: 100%;margin-bottom: 0;padding: 0.3em;box-sizing: border-box;text-align: center;}#sk-97dc7bcc-c538-4b26-89e6-43d12c47ef69 label.sk-toggleable__label-arrow:before {content: \"▸\";float: left;margin-right: 0.25em;color: #696969;}#sk-97dc7bcc-c538-4b26-89e6-43d12c47ef69 label.sk-toggleable__label-arrow:hover:before {color: black;}#sk-97dc7bcc-c538-4b26-89e6-43d12c47ef69 div.sk-estimator:hover label.sk-toggleable__label-arrow:before {color: black;}#sk-97dc7bcc-c538-4b26-89e6-43d12c47ef69 div.sk-toggleable__content {max-height: 0;max-width: 0;overflow: hidden;text-align: left;background-color: #f0f8ff;}#sk-97dc7bcc-c538-4b26-89e6-43d12c47ef69 div.sk-toggleable__content pre {margin: 0.2em;color: black;border-radius: 0.25em;background-color: #f0f8ff;}#sk-97dc7bcc-c538-4b26-89e6-43d12c47ef69 input.sk-toggleable__control:checked~div.sk-toggleable__content {max-height: 200px;max-width: 100%;overflow: auto;}#sk-97dc7bcc-c538-4b26-89e6-43d12c47ef69 input.sk-toggleable__control:checked~label.sk-toggleable__label-arrow:before {content: \"▾\";}#sk-97dc7bcc-c538-4b26-89e6-43d12c47ef69 div.sk-estimator input.sk-toggleable__control:checked~label.sk-toggleable__label {background-color: #d4ebff;}#sk-97dc7bcc-c538-4b26-89e6-43d12c47ef69 div.sk-label input.sk-toggleable__control:checked~label.sk-toggleable__label {background-color: #d4ebff;}#sk-97dc7bcc-c538-4b26-89e6-43d12c47ef69 input.sk-hidden--visually {border: 0;clip: rect(1px 1px 1px 1px);clip: rect(1px, 1px, 1px, 1px);height: 1px;margin: -1px;overflow: hidden;padding: 0;position: absolute;width: 1px;}#sk-97dc7bcc-c538-4b26-89e6-43d12c47ef69 div.sk-estimator {font-family: monospace;background-color: #f0f8ff;border: 1px dotted black;border-radius: 0.25em;box-sizing: border-box;margin-bottom: 0.5em;}#sk-97dc7bcc-c538-4b26-89e6-43d12c47ef69 div.sk-estimator:hover {background-color: #d4ebff;}#sk-97dc7bcc-c538-4b26-89e6-43d12c47ef69 div.sk-parallel-item::after {content: \"\";width: 100%;border-bottom: 1px solid gray;flex-grow: 1;}#sk-97dc7bcc-c538-4b26-89e6-43d12c47ef69 div.sk-label:hover label.sk-toggleable__label {background-color: #d4ebff;}#sk-97dc7bcc-c538-4b26-89e6-43d12c47ef69 div.sk-serial::before {content: \"\";position: absolute;border-left: 1px solid gray;box-sizing: border-box;top: 2em;bottom: 0;left: 50%;}#sk-97dc7bcc-c538-4b26-89e6-43d12c47ef69 div.sk-serial {display: flex;flex-direction: column;align-items: center;background-color: white;padding-right: 0.2em;padding-left: 0.2em;}#sk-97dc7bcc-c538-4b26-89e6-43d12c47ef69 div.sk-item {z-index: 1;}#sk-97dc7bcc-c538-4b26-89e6-43d12c47ef69 div.sk-parallel {display: flex;align-items: stretch;justify-content: center;background-color: white;}#sk-97dc7bcc-c538-4b26-89e6-43d12c47ef69 div.sk-parallel::before {content: \"\";position: absolute;border-left: 1px solid gray;box-sizing: border-box;top: 2em;bottom: 0;left: 50%;}#sk-97dc7bcc-c538-4b26-89e6-43d12c47ef69 div.sk-parallel-item {display: flex;flex-direction: column;position: relative;background-color: white;}#sk-97dc7bcc-c538-4b26-89e6-43d12c47ef69 div.sk-parallel-item:first-child::after {align-self: flex-end;width: 50%;}#sk-97dc7bcc-c538-4b26-89e6-43d12c47ef69 div.sk-parallel-item:last-child::after {align-self: flex-start;width: 50%;}#sk-97dc7bcc-c538-4b26-89e6-43d12c47ef69 div.sk-parallel-item:only-child::after {width: 0;}#sk-97dc7bcc-c538-4b26-89e6-43d12c47ef69 div.sk-dashed-wrapped {border: 1px dashed gray;margin: 0 0.4em 0.5em 0.4em;box-sizing: border-box;padding-bottom: 0.4em;background-color: white;position: relative;}#sk-97dc7bcc-c538-4b26-89e6-43d12c47ef69 div.sk-label label {font-family: monospace;font-weight: bold;background-color: white;display: inline-block;line-height: 1.2em;}#sk-97dc7bcc-c538-4b26-89e6-43d12c47ef69 div.sk-label-container {position: relative;z-index: 2;text-align: center;}#sk-97dc7bcc-c538-4b26-89e6-43d12c47ef69 div.sk-container {/* jupyter's `normalize.less` sets `[hidden] { display: none; }` but bootstrap.min.css set `[hidden] { display: none !important; }` so we also need the `!important` here to be able to override the default hidden behavior on the sphinx rendered scikit-learn.org. See: https://github.com/scikit-learn/scikit-learn/issues/21755 */display: inline-block !important;position: relative;}#sk-97dc7bcc-c538-4b26-89e6-43d12c47ef69 div.sk-text-repr-fallback {display: none;}</style><div id=\"sk-97dc7bcc-c538-4b26-89e6-43d12c47ef69\" class=\"sk-top-container\"><div class=\"sk-text-repr-fallback\"><pre>KNeighborsClassifier()</pre><b>Please rerun this cell to show the HTML repr or trust the notebook.</b></div><div class=\"sk-container\" hidden><div class=\"sk-item\"><div class=\"sk-estimator sk-toggleable\"><input class=\"sk-toggleable__control sk-hidden--visually\" id=\"e969970a-58a0-4fbe-b89e-025cebf48c94\" type=\"checkbox\" checked><label for=\"e969970a-58a0-4fbe-b89e-025cebf48c94\" class=\"sk-toggleable__label sk-toggleable__label-arrow\">KNeighborsClassifier</label><div class=\"sk-toggleable__content\"><pre>KNeighborsClassifier()</pre></div></div></div></div></div>"
      ],
      "text/plain": [
       "KNeighborsClassifier()"
      ]
     },
     "execution_count": 7,
     "metadata": {},
     "output_type": "execute_result"
    }
   ],
   "source": [
    "from sklearn.neighbors import KNeighborsClassifier\n",
    "\n",
    "# 1. define the algorithm\n",
    "model = KNeighborsClassifier()\n",
    "\n",
    "# 2. fit the model\n",
    "model.fit(features, target)"
   ]
  },
  {
   "cell_type": "markdown",
   "id": "ef9d8fc4-9bda-4fc2-8f47-17dc3c48fd56",
   "metadata": {
    "slideshow": {
     "slide_type": "slide"
    },
    "tags": []
   },
   "source": [
    "Learning can be represented as follows:\n",
    "\n",
    ":::{figure-md} fit-method\n",
    "<img src=\"../images/api_diagram-predictor.fit.svg\" alt=\"fit method\" width=\"70%\">\n",
    "\n",
    "`.fit` method representation.\n",
    ":::\n",
    "\n",
    "The method `fit` is based on two important elements: (i) **learning algorithm**\n",
    "and (ii) **model state**. The model state can be used later to either predict (for classifiers and regressors) or transform data (for transformers)."
   ]
  },
  {
   "cell_type": "markdown",
   "id": "f9a022bb-27d3-4740-8a7b-f93e2d87ba93",
   "metadata": {},
   "source": [
    "```{note}\n",
    "Here and later, we use the name `data` and `target` to be explicit. In\n",
    "scikit-learn documentation, `data` is commonly named `X` and `target` is\n",
    "commonly called`y`.\n",
    "```"
   ]
  },
  {
   "cell_type": "markdown",
   "id": "2072be72-ee1b-43b3-9de8-87601e20a6ce",
   "metadata": {
    "slideshow": {
     "slide_type": "slide"
    },
    "tags": []
   },
   "source": [
    "## Make predictions\n",
    "\n",
    "Let's use our model to make some predictions using the same dataset. To predict, a model uses a **prediction function** that will use the input data together with the model states.\n"
   ]
  },
  {
   "cell_type": "code",
   "execution_count": 8,
   "id": "91c65c5a-0dd9-4ac3-a1b4-915f9b477b4a",
   "metadata": {},
   "outputs": [],
   "source": [
    "target_predicted = model.predict(features)"
   ]
  },
  {
   "cell_type": "markdown",
   "id": "dbb62f9e",
   "metadata": {},
   "source": [
    "We can illustrate the prediction mechanism as follows:\n",
    "\n",
    ":::{figure-md} predict-method\n",
    "<img src=\"../images/api_diagram-predictor.predict.svg\" alt=\"predict method\" width=\"80%\">\n",
    "\n",
    "`.predict` method representation.\n",
    ":::\n",
    "\n",
    "To predict, a model uses a prediction method that will use the input data together with the model states. As for the learning algorithm and the model states, the prediction function is specific for each type of model.\n",
    "\n",
    "Let’s now have a look at the computed predictions. For the sake of simplicity, we will look at the five first predicted targets."
   ]
  },
  {
   "cell_type": "code",
   "execution_count": 9,
   "id": "07f603b1",
   "metadata": {},
   "outputs": [
    {
     "data": {
      "text/plain": [
       "array([' <=50K', ' <=50K', ' <=50K', ' >50K', ' <=50K'], dtype=object)"
      ]
     },
     "execution_count": 9,
     "metadata": {},
     "output_type": "execute_result"
    }
   ],
   "source": [
    "target_predicted[:5]"
   ]
  },
  {
   "cell_type": "markdown",
   "id": "bb503eff-ed37-43c4-85e2-ca627b370e24",
   "metadata": {
    "slideshow": {
     "slide_type": "slide"
    },
    "tags": []
   },
   "source": [
    "...and we can even check if the predictions agree with the real targets:"
   ]
  },
  {
   "cell_type": "code",
   "execution_count": 10,
   "id": "2cb0488b-b174-4c01-9fd3-c381de028255",
   "metadata": {},
   "outputs": [
    {
     "data": {
      "text/plain": [
       "0     True\n",
       "1     True\n",
       "2    False\n",
       "3     True\n",
       "4     True\n",
       "Name: class, dtype: bool"
      ]
     },
     "execution_count": 10,
     "metadata": {},
     "output_type": "execute_result"
    }
   ],
   "source": [
    "# accuracy of first 5 predictions\n",
    "target[:5] == target_predicted[:5]"
   ]
  },
  {
   "cell_type": "markdown",
   "id": "07b52345-7803-4548-bfc9-f96b11463297",
   "metadata": {},
   "source": [
    "```{note}\n",
    "Here, we see that our model makes a mistake when predicting the third observation.\n",
    "```"
   ]
  },
  {
   "cell_type": "markdown",
   "id": "56d00cfb-b280-4ae2-8ba2-fd01c9d3e729",
   "metadata": {
    "slideshow": {
     "slide_type": "slide"
    },
    "tags": []
   },
   "source": [
    "To get a better assessment, we can compute the average accuracy rate."
   ]
  },
  {
   "cell_type": "code",
   "execution_count": 11,
   "id": "880dfdb8-492d-45ae-a117-1a154f75e7eb",
   "metadata": {},
   "outputs": [
    {
     "data": {
      "text/plain": [
       "0.8479791982310306"
      ]
     },
     "execution_count": 11,
     "metadata": {},
     "output_type": "execute_result"
    }
   ],
   "source": [
    "(target == target_predicted).mean()"
   ]
  },
  {
   "cell_type": "markdown",
   "id": "323143d2",
   "metadata": {},
   "source": [
    "This result means that the model makes a correct prediction for approximately 85 samples out of 100. Note that we used the same data to train and evaluate our model. Can this evaluation be trusted or is it too good to be true?"
   ]
  },
  {
   "cell_type": "markdown",
   "id": "642852e2-a665-45c0-bb9d-7093c18f3564",
   "metadata": {
    "slideshow": {
     "slide_type": "slide"
    },
    "tags": []
   },
   "source": [
    "## Train-test data split\n",
    "\n",
    "When building a machine learning model, it is important to evaluate the\n",
    "trained model on data that was not used to fit it, as **generalization** is\n",
    "our primary concern -- meaning we want a rule that generalizes to new data.\n",
    "\n",
    "Correct evaluation is easily done by leaving out a subset of the data when\n",
    "training the model and using it afterwards for model evaluation.\n",
    "\n",
    "The data used to fit a model is called <b><em>training data</em></b> while the data used to\n",
    "assess a model is called <b><em>testing data</em></b>."
   ]
  },
  {
   "cell_type": "markdown",
   "id": "abf3ba92-89ab-4140-9e92-2fc5560e8fa5",
   "metadata": {
    "slideshow": {
     "slide_type": "slide"
    },
    "tags": []
   },
   "source": [
    "Scikit-learn provides the helper function `sklearn.model_selection.train_test_split` which is used to automatically split the dataset into two subsets."
   ]
  },
  {
   "cell_type": "code",
   "execution_count": 12,
   "id": "2b1d046b-d298-4495-b66d-ce096a438c2b",
   "metadata": {},
   "outputs": [],
   "source": [
    "from sklearn.model_selection import train_test_split\n",
    "\n",
    "X_train, X_test, y_train, y_test = train_test_split(\n",
    "    features, \n",
    "    target, \n",
    "    random_state=123, \n",
    "    test_size=0.25,\n",
    "    stratify=target\n",
    ")"
   ]
  },
  {
   "cell_type": "markdown",
   "id": "6d94c391-0265-4f25-91ac-2d22b95e83e2",
   "metadata": {
    "slideshow": {
     "slide_type": "fragment"
    },
    "tags": []
   },
   "source": [
    "```{note}\n",
    "In scikit-learn setting the `random_state` parameter allows to get\n",
    "deterministic results when we use a random number generator. In the\n",
    "`train_test_split` case the randomness comes from shuffling the data, which\n",
    "decides how the dataset is split into a train and a test set).\n",
    "    \n",
    "And as your target becomes more imbalanced it is important to use the `stratify` parameter.\n",
    "```"
   ]
  },
  {
   "cell_type": "markdown",
   "id": "ae299fe5-ebef-4000-a8c0-29aec3147311",
   "metadata": {
    "slideshow": {
     "slide_type": "slide"
    },
    "tags": []
   },
   "source": [
    "### Knowledge check\n",
    "\n",
    "```{admonition} Questions:\n",
    ":class: attention\n",
    "1. How many observations are in your train and test data sets?\n",
    "2. What is the proportion of response values in your `y_train` and `y_test`? \n",
    "```"
   ]
  },
  {
   "cell_type": "markdown",
   "id": "0abf73e1-7212-4b66-99ce-ac6819d7935e",
   "metadata": {
    "slideshow": {
     "slide_type": "slide"
    },
    "tags": []
   },
   "source": [
    "Instead of computing the prediction and manually computing the average\n",
    "success rate, we can use the method `score`. When dealing with classifiers\n",
    "this method returns their performance metric.\n",
    "\n",
    "We can illustrate the score mechanism as follows:\n",
    "\n",
    ":::{figure-md} score-method\n",
    "<img src=\"../images/api_diagram-predictor.score.svg\" alt=\"score method\" width=\"90%\">\n",
    "\n",
    "`.score` method representation.\n",
    ":::\n",
    "\n",
    "The `.score` method is very similar to the `.predict` method; however, it adds one additional step to compare the predictions made to the actual values and then return an accuracy score. Note how below, we use the test data in the `.score` method so that we are scoring our accuracy based on test data (data not used to train our model)."
   ]
  },
  {
   "cell_type": "code",
   "execution_count": 13,
   "id": "afbf4632-2a5a-497d-ab32-9950c7ba84dd",
   "metadata": {
    "slideshow": {
     "slide_type": "fragment"
    },
    "tags": []
   },
   "outputs": [
    {
     "name": "stdout",
     "output_type": "stream",
     "text": [
      "The test accuracy using KNeighborsClassifier is 82.59%\n"
     ]
    }
   ],
   "source": [
    "# 1. define the algorithm\n",
    "model = KNeighborsClassifier()\n",
    "\n",
    "# 2. fit the model\n",
    "model.fit(X_train, y_train)\n",
    "\n",
    "# 3. score our model on test data\n",
    "accuracy = model.score(X_test, y_test)\n",
    "\n",
    "print(f'The test accuracy using {model.__class__.__name__} is {round(accuracy, 4) * 100}%')"
   ]
  },
  {
   "cell_type": "markdown",
   "id": "9070e86f-803c-449a-922a-b9b290f7e820",
   "metadata": {
    "slideshow": {
     "slide_type": "slide"
    },
    "tags": []
   },
   "source": [
    "```{note}\n",
    "If we compare with the accuracy obtained by wrongly evaluating the model\n",
    "on the training set, we find that this evaluation was indeed optimistic\n",
    "compared to the score obtained on a held-out test set.\n",
    "\n",
    "This illustrates the importance of always testing the generalization performance of\n",
    "predictive models on a different set than the one used to train these models.\n",
    "```"
   ]
  },
  {
   "cell_type": "markdown",
   "id": "76dd4527-19e4-441e-8d31-54319fee200b",
   "metadata": {
    "slideshow": {
     "slide_type": "slide"
    },
    "tags": []
   },
   "source": [
    "## Exercises\n",
    "\n",
    "```{admonition} Questions:\n",
    ":class: attention\n",
    "Scikit-learn provides a logistic regression algorithm, which is another type of algorithm for making binary classification predictions. This algorithm is available at `sklearn.linear_model.LogisticRegression`\n",
    "    \n",
    "Fill in the blanks below to import the `LogisticRegression` module, define the algorithm, fit the model, and score on the test data.\n",
    "\n",
    "    ```python\n",
    "    # 1. import the LogisticRegression module\n",
    "    from sklearn.linear_model import __________\n",
    "\n",
    "    # 2. define the algorithm\n",
    "    model = __________\n",
    "\n",
    "    # 3. fit the model\n",
    "    model.fit(______, ______)\n",
    "\n",
    "    # 4. score our model on test data\n",
    "    model.score(______, ______)\n",
    "\n",
    "How does this models performance compare to the `KNeighborsClassifier` results?\n",
    "```"
   ]
  },
  {
   "cell_type": "markdown",
   "id": "d9548d30",
   "metadata": {},
   "source": [
    "## Computing environment"
   ]
  },
  {
   "cell_type": "code",
   "execution_count": 14,
   "id": "3f3d79a7",
   "metadata": {},
   "outputs": [
    {
     "name": "stdout",
     "output_type": "stream",
     "text": [
      "Python implementation: CPython\n",
      "Python version       : 3.9.12\n",
      "IPython version      : 8.2.0\n",
      "\n",
      "jupyterlab: 3.3.2\n",
      "pandas    : 1.4.2\n",
      "numpy     : 1.21.5\n",
      "sklearn   : 1.0.2\n",
      "\n"
     ]
    }
   ],
   "source": [
    "%load_ext watermark\n",
    "%watermark -v -p jupyterlab,pandas,numpy,sklearn"
   ]
  }
 ],
 "metadata": {
  "kernelspec": {
   "display_name": "Python 3.9.12 ('base')",
   "language": "python",
   "name": "python3"
  },
  "language_info": {
   "codemirror_mode": {
    "name": "ipython",
    "version": 3
   },
   "file_extension": ".py",
   "mimetype": "text/x-python",
   "name": "python",
   "nbconvert_exporter": "python",
   "pygments_lexer": "ipython3",
   "version": "3.9.12"
  },
  "vscode": {
   "interpreter": {
    "hash": "40d3a090f54c6569ab1632332b64b2c03c39dcf918b08424e98f38b5ae0af88f"
   }
  }
 },
 "nbformat": 4,
 "nbformat_minor": 5
}