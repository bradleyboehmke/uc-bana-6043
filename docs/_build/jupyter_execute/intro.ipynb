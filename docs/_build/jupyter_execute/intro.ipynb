{
 "cells": [
  {
   "cell_type": "markdown",
   "metadata": {},
   "source": [
    "# Statistical Computing\n",
    "\n",
    "```{note}\n",
    "This repository contains additional resources for the UC BANA 6043 Statistical Computing course. The following is a truncated syllabus; for the full syllabus along with complete course content please visit the online course content in [Canvas](https://uc.instructure.com/).\n",
    "```\n",
    "\n",
    "Welcome to ___Statistical Computing with Python___! This course provides an intensive, hands-on introduction to statistical computing and data science with the Python programming language. You will gain foundational skills in managing data structures, performing data wrangling, computing and visualizing statistical relationships, managing various environments conducive for statistical analysis, and performing machine learning modeling. Most importantly, since this course only has time to introduce foundational skills, much emphasis is placed on giving you a mental model of Python's data science ecosystem so you know how, when, and where to continue advancing your statistical computing capabilities."
   ]
  },
  {
   "cell_type": "markdown",
   "metadata": {
    "tags": [
     "hide-input"
    ]
   },
   "source": [
    "%%html\n",
    "<iframe id=\"kaltura_player\" src=\"https://cdnapisec.kaltura.com/p/1492301/sp/149230100/embedIframeJs/uiconf_id/49148882/partner_id/1492301?iframeembed=true&playerId=kaltura_player&entry_id=1_3p3p8n6m&flashvars[streamerType]=auto&amp;flashvars[localizationCode]=en_US&amp;flashvars[leadWithHTML5]=true&amp;flashvars[sideBarContainer.plugin]=true&amp;flashvars[sideBarContainer.position]=left&amp;flashvars[sideBarContainer.clickToClose]=true&amp;flashvars[chapters.plugin]=true&amp;flashvars[chapters.layout]=vertical&amp;flashvars[chapters.thumbnailRotator]=false&amp;flashvars[streamSelector.plugin]=true&amp;flashvars[EmbedPlayer.SpinnerTarget]=videoHolder&amp;flashvars[dualScreen.plugin]=true&amp;flashvars[Kaltura.addCrossoriginToIframe]=true&amp;&wid=1_xtjqlsi2\" width=\"768\" height=\"738\" allowfullscreen webkitallowfullscreen mozAllowFullScreen allow=\"autoplay *; fullscreen *; encrypted-media *\" sandbox=\"allow-forms allow-same-origin allow-scripts allow-top-navigation allow-pointer-lock allow-popups allow-modals allow-orientation-lock allow-popups-to-escape-sandbox allow-presentation allow-top-navigation-by-user-activation\" frameborder=\"0\" title=\"Intro to Statistical Computing\"></iframe>"
   ]
  },
  {
   "cell_type": "markdown",
   "metadata": {},
   "source": [
    "## Learning objectives\n",
    "\n",
    "Upon successfully completing this course, you will:\n",
    "\n",
    "* Have a mental model of the Python data science ecosystem: libraries, capabilities, vocabulary, and widely-available Python resources.\n",
    "* Have the ability to use Python within both interactive (Jupyter, REPL) and non-interactive (scripts) environments.\n",
    "* Be able to perform core data wrangling activities: importing data, reshaping data, transforming data, and exporting data.\n",
    "* Be able to compute descriptive statistics and visualize key patterns and relationships with your data.\n",
    "* Be exposed to modeling via scikit-learn and discuss the fundamentals of building models in Python.\n",
    "* Have the resources and understanding to continue advancing your statistical computing capabilities.\n",
    "\n",
    "```{note}\n",
    "This course assumes no prior knowledge of Python. Experience with programming concepts or another programming language will help, but is not required to understand the material.\n",
    "```"
   ]
  },
  {
   "cell_type": "markdown",
   "metadata": {},
   "source": [
    "## Material\n",
    "\n",
    "The bulk of the classroom material will be provided via this book, the recorded lectures, and class notes. In some cases there are additional recommended readings, all of which are readily available online."
   ]
  },
  {
   "cell_type": "markdown",
   "metadata": {},
   "source": [
    "## Class structure\n",
    "\n",
    "__Modules__: For this class each module is covered over the course of week. In the \"Overview\" section for each module you will find overall learning objectives, a short description of the learning content covered in that module, along with all tasks that are required of you for that module (i.e. quizzes, lab). Each module will have two or more primary lessons and associated quizzes along with a lab.\n",
    "\n",
    "__Lessons__: For each lesson you will read and work through the tutorial. Short videos will be sprinkled throughout the lesson to further discuss and reinforce lesson concepts. Each lesson will have various \"Your Turn\" exercises throughout, along with end-of-lesson exercises. I highly recommend you work through these exercises as they will prepare you for the quizzes, labs, and project work.\n",
    "\n",
    "__Quizzes__: There will be a short quiz associated with _each lesson_. These quizzes will be hosted in the course website on Canvas. Please check Canvas for due dates for these quizzes.\n",
    "\n",
    "__Labs__: There will be a lab associated with _each module_. For these labs students will be guided through a case study step-by-step. The aim is to provide a detailed view on how to manage a variety of complex real-world data; how to convert real problems into data wrangling and analysis problems; and to apply Python to address these problems and extract insights from the data. Submission of these labs will be done through the course website on Canvas. Please check Canvas for due dates for these labs.\n",
    "\n",
    "__Project__: The final project is designed for you to put to work the tools and knowledge that you gain throughout this course. This provides you with multiple benefits. \n",
    "   - It will provide you with more experience using data science tools on real life data sets.\n",
    "   - It helps you become a self-directed learner. As a data scientist, a large part of your job is to self-direct your learning and interests to find unique and creative ways to find insights in data.\n",
    "   - It starts to build your data science portfolio. Establishing a data science portfolio is a great way to show potential employers your ability to work with data."
   ]
  },
  {
   "cell_type": "markdown",
   "metadata": {},
   "source": [
    "## Schedule\n",
    "\n",
    "```{note}\n",
    "See the [Canvas](https://uc.instructure.com/) course webpage for a detailed schedule with due dates for quizzes, labs, etc.\n",
    "```\n",
    "\n",
    "| Module        | Description                                                         |\n",
    "|:-------------:|:--------------------------------------------------------------------|\n",
    "| **1**         | **Starting with the Basics**                                        |\n",
    "|               | Introduction to JupyterLab and the notebook environment             |\n",
    "|               | Python fundamentals                                                 |\n",
    "| **2**         | **Python Data Science Ecosystem & DataFrames**                      |\n",
    "|               | Modules, packages, and a preview of Python's data science ecosystem |\n",
    "|               | Importing data and working with DataFrames                          |\n",
    "| **3**         | **Data Wrangling Part 1**                                           |\n",
    "|               | Subsetting and manipulating data                                    |\n",
    "|               | Computing summary statistics at different levels                    |\n",
    "| **4**         | **Data Wrangling Part 2**                                           |\n",
    "|               | Tidying and joining data                                            |\n",
    "|               | Handling text data                                                  |\n",
    "| **5**         | **Data Visualization**                                              |\n",
    "|               | Higher and lower level plotting APIs                                |\n",
    "|               | Interactive visualizations                                          |\n",
    "| **6**         | **Creating Efficient Code in Python**                               |\n",
    "|               | Control statements & iteration                                      |\n",
    "|               | Writing functions                                                   |\n",
    "| **7**         | **Intro to Machine Learning with Scikit-Learn**                     |\n",
    "|               | Basics of the Scikit-learn API                                      |\n",
    "|               | Feature engineering and model evaluation/selection                  |"
   ]
  },
  {
   "cell_type": "markdown",
   "metadata": {},
   "source": [
    "## Conventions used in this book\n",
    "\n",
    "The following typographical conventions are used in this book:\n",
    "\n",
    "* ___strong italic___: indicates new terms,\n",
    "* __bold__: indicates package & file names,\n",
    "* `inline code`: monospaced highlighted text indicates functions or other commands that could be typed literally by the user,\n",
    "* code chunk: indicates commands or other text that could be typed literally by the user"
   ]
  },
  {
   "cell_type": "code",
   "execution_count": 1,
   "metadata": {},
   "outputs": [
    {
     "data": {
      "text/plain": [
       "3"
      ]
     },
     "execution_count": 1,
     "metadata": {},
     "output_type": "execute_result"
    }
   ],
   "source": [
    "1 + 2"
   ]
  },
  {
   "cell_type": "markdown",
   "metadata": {},
   "source": [
    "In addition to the general text used throughout, you will notice the following cells:\n",
    "\n",
    "```{tip}\n",
    "Signifies a tip or suggestion\n",
    "```\n",
    "\n",
    "```{note}\n",
    "Signifies a general note\n",
    "```\n",
    "\n",
    "```{warning}\n",
    "Signifies a warning or caution\n",
    "```\n",
    "\n",
    "```{admonition} Questions:\n",
    ":class: attention\n",
    "Knowledge check exercises to gauge your learning progress.\n",
    "```\n",
    "\n",
    "```{admonition} Video 🎥:\n",
    "A short video on the topic is available to watch.\n",
    "```"
   ]
  },
  {
   "cell_type": "markdown",
   "metadata": {},
   "source": [
    "## Feedback\n",
    "\n",
    "To report errors or bugs that you find in this course material please post an issue at https://github.com/bradleyboehmke/uc-bana-6043/issues. For all other communication be sure to use Canvas or the university email. \n",
    "\n",
    "```{note}\n",
    "When communicating with me via email, please always include **BANA6043** in the subject line.\n",
    "```"
   ]
  },
  {
   "cell_type": "markdown",
   "metadata": {},
   "source": [
    "## Acknowledgements\n",
    "\n",
    "This course and its materials are influenced, or leverage, resources by the following:\n",
    "\n",
    "* Ethan Swan, [Python for Data Science](https://ethanswan.com/courses/pages/python-for-ds-course)\n",
    "* Justin Bois, [Caltech Intro to Programming for the Biological Sciences Bootcamp](https://github.com/justinbois/bootcamp)\n",
    "* Tomas Beuzen, [Python Programming for Data Science](https://www.tomasbeuzen.com/python-programming-for-data-science/README.html)\n",
    "* Inria, [About Machine learning in Python with scikit-learn MOOC](https://github.com/INRIA/scikit-learn-mooc)\n",
    "* Corey Schafer, [Various Python playlists](https://www.youtube.com/c/Coreyms/playlists)\n",
    "* Kevin Markham, [Data School](https://www.youtube.com/c/dataschool/featured)"
   ]
  }
 ],
 "metadata": {
  "kernelspec": {
   "display_name": "Python 3.9.12 ('base')",
   "language": "python",
   "name": "python3"
  },
  "language_info": {
   "codemirror_mode": {
    "name": "ipython",
    "version": 3
   },
   "file_extension": ".py",
   "mimetype": "text/x-python",
   "name": "python",
   "nbconvert_exporter": "python",
   "pygments_lexer": "ipython3",
   "version": "3.9.12"
  },
  "vscode": {
   "interpreter": {
    "hash": "40d3a090f54c6569ab1632332b64b2c03c39dcf918b08424e98f38b5ae0af88f"
   }
  }
 },
 "nbformat": 4,
 "nbformat_minor": 4
}