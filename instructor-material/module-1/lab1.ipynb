{
 "cells": [
  {
   "cell_type": "markdown",
   "id": "5741b861-66c3-4f8c-befa-fa73f690e74d",
   "metadata": {},
   "source": [
    "# Module 1 Lab\n",
    "\n",
    "**Objective**: Use knowledge from this weeks lessons to start performing simple vector analysis. Lets get started!"
   ]
  },
  {
   "cell_type": "markdown",
   "id": "61aaeab4-50bb-4fda-9ea1-64235187a1e4",
   "metadata": {},
   "source": [
    "## Preparing your session\n",
    "\n",
    "1. Create a new directory on your computer for this course.\n",
    "2. Launch a Jupyter Lab session\n",
    "3. Create a new Jupyter notebook for this lab and save it as `bana6040_lab1_bcboehmke.ipynb` where \"bcboehmke\" is your first and middle initial followed by your last name.\n",
    "4. For each question you should create a second-level heading (i.e. `## Question 1`) followed by one or more code chunks used to answer the question."
   ]
  },
  {
   "cell_type": "markdown",
   "id": "201f8257-820e-4ea3-8e0d-884b622a87f4",
   "metadata": {},
   "source": [
    "## Question 1: BMI\n",
    "\n",
    "Given the equation for calculating Body Mass Index (BMI) is:\n",
    "\n",
    "$$BMI = \\frac{\\text{weight in pounds} \\times 703}{\\text{height in inches}^2}$$\n",
    "\n",
    "Say an individual weighs 150 lbs and is 68 inches tall. What is their BMI?"
   ]
  },
  {
   "cell_type": "markdown",
   "id": "a4e65002-ea7e-4026-ba14-4a627b85a254",
   "metadata": {},
   "source": [
    "```python\n",
    "wt = ___\n",
    "ht = ___\n",
    "bmi = ______\n",
    "```"
   ]
  },
  {
   "cell_type": "markdown",
   "id": "32fc121a-be2d-46d7-afde-b3a183de53e7",
   "metadata": {
    "tags": []
   },
   "source": [
    "## Question 2: Math Library\n",
    "\n",
    "1. Import the `math` library. \n",
    "2. Find a function within the `math` library that will compute the square root of $14 \\times 0.51$\n",
    "3. Find a function with the `math` library that will compute $3.25^{2.784}$. Now compute this with a simple math operator provided by standard Python. "
   ]
  },
  {
   "cell_type": "markdown",
   "id": "29eeabe8-7dbe-4ee7-9c04-0d788e99fa58",
   "metadata": {},
   "source": [
    "## Question 3: Cost of Pizza\n",
    "\n",
    "Say you have a 12” diameter pizza. And given the area of a circle is $A = \\pi (\\text{diameter}/2)^2$, compute the area of the pizza and assign that value to the variable `area`. Now say the cost of the pizza was \\$8. Compute the cost per square inch of this pizza. **Hint**: the `math` library contains a `pi` object to use as $\\pi$."
   ]
  },
  {
   "cell_type": "markdown",
   "id": "7d25a71c-d6c2-4180-a888-7788de586430",
   "metadata": {},
   "source": [
    "Now say you have the option to buy the above pizza or a 15\" pizza that costs $12. Which is a better deal?"
   ]
  },
  {
   "cell_type": "markdown",
   "id": "b48e6534-d575-475e-a304-184663af07d5",
   "metadata": {},
   "source": [
    "## Question 4: Conditional Statements and Snakes\n",
    "\n",
    "Given the variable `language` which contains a string, use `if/elif/else` to write a program that:\n",
    "\n",
    "* returns “I love snakes!” if `language` is `\"python\"` (any kind of capitalization)\n",
    "* returns “Are you a pirate?” if `language` is `\"R\"` (any kind of capitalization)\n",
    "* returns “What is language?” if `language` is anything else."
   ]
  },
  {
   "cell_type": "markdown",
   "id": "d62a1a41-4e24-4285-ba0d-8c4efbbdd062",
   "metadata": {},
   "source": [
    "## Question 5: Analyzing a Vector of Weights\n",
    "\n",
    "1. Create a list called weight containing the weight (in kg) of 10 children: 69, 62, 57, 59, 59, 64, 56, 66, 67, 66.\n",
    "2. Try and convert these weights to pounds using (1kg = 2.20462lbs). If you try `weight * 2.20462` what results?\n",
    "3. Import the `numpy` library and use the alias `np`.\n",
    "4. Now convert `weight` to an array with `np.array()`.\n",
    "5. Now try and convert the array of weights to pounds using `weight * 2.20462` what results?\n",
    "6. Use numpy functions to compute the mean and standard deviation of the weights in pounds.\n",
    "7. How many children weigh more than the average?"
   ]
  },
  {
   "cell_type": "markdown",
   "id": "363daf70-8086-4d2e-a5db-ede9fe601171",
   "metadata": {},
   "source": [
    "## Question 6: Back to BMI\n",
    "\n",
    "Say we have the following height (in inches) for our 10 children: 62, 58, 61, 61, 59, 64, 63, 61, 60, 62. Use the weights from the last execise and these height values to compute the BMI for each child. What is the average BMI across all the children?"
   ]
  },
  {
   "cell_type": "markdown",
   "id": "4c00aacb-7132-40b7-acb9-22498036c16b",
   "metadata": {},
   "source": [
    "## Question 7: Nested Dictionary\n",
    "\n",
    "Given this nest dictionary, extract the element containing the word “BANA”"
   ]
  },
  {
   "cell_type": "code",
   "execution_count": 1,
   "id": "862445b9-a222-494d-9470-3771111da489",
   "metadata": {},
   "outputs": [],
   "source": [
    "d = {\n",
    "    \"a_list\": [1, 2, 3,],\n",
    "     \"a_dict\": {\"first\": [\"this\", \"is\", \"inception\"], \n",
    "                \"second\": [1, 2, 3, \"BANA\"]}\n",
    "}"
   ]
  },
  {
   "cell_type": "markdown",
   "id": "70dc2170-e9c7-4f7b-ae09-ee2465988d57",
   "metadata": {},
   "source": [
    "## Question 8: Sorting Arrays\n",
    "\n",
    "Lets create 20 random integers where the values are randomly created from the value range of 50-100. We'll say these random integers represent the weight of 20 children. We'll use `numpy` to generate these numbers. Be sure to use `seed(123)` so we get the same results."
   ]
  },
  {
   "cell_type": "code",
   "execution_count": 2,
   "id": "9add4092-fba0-453c-a968-1e7c0006c15e",
   "metadata": {},
   "outputs": [],
   "source": [
    "# random generating functions\n",
    "from numpy.random import seed\n",
    "from numpy.random import randint\n",
    "\n",
    "# seed random number generator\n",
    "seed(123)\n",
    "\n",
    "# generate 20 random numbers between 50-100\n",
    "weights = randint(low=50, high=100, size=20)"
   ]
  },
  {
   "cell_type": "markdown",
   "id": "fc43dadf-634a-45b0-af38-2a8f6c1959f2",
   "metadata": {},
   "source": [
    "Identify the weights of the three children that have the lightest weight values. Hint: figure out how to sort these values in ascending order and index the first three values."
   ]
  },
  {
   "cell_type": "markdown",
   "id": "81c57cd3-fb48-429f-8bb1-59a04c8e82b6",
   "metadata": {},
   "source": [
    "## Question 9: The Zen of Python\n",
    "\n",
    "Run the following code. Read and embrace this mantra throughout this class and your Python code-writing lives!\n",
    "\n",
    "```python\n",
    "import this\n",
    "```"
   ]
  }
 ],
 "metadata": {
  "kernelspec": {
   "display_name": "Python 3 (ipykernel)",
   "language": "python",
   "name": "python3"
  },
  "language_info": {
   "codemirror_mode": {
    "name": "ipython",
    "version": 3
   },
   "file_extension": ".py",
   "mimetype": "text/x-python",
   "name": "python",
   "nbconvert_exporter": "python",
   "pygments_lexer": "ipython3",
   "version": "3.9.12"
  }
 },
 "nbformat": 4,
 "nbformat_minor": 5
}
