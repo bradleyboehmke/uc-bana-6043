{
 "cells": [
  {
   "cell_type": "markdown",
   "metadata": {},
   "source": [
    "## Part 1: HTML Bio\n",
    "\n",
    "INTRODUCE YOURSELF! Using a Jupyter notebook with Markdown, create an HTML report that provides me with background information about you. Here is an [old example introduction to me](https://rpubs.com/bradleyboehmke/datawrangling_week1_homework) that you can base your outline on (disregard the homework problems at the bottom). You do not need to follow this outline exactly; however, this provides the fundamental output I am looking for. I do expect you to include an image so I know who you are! Be sure to use headings appropriately and feel free to incorporate features such as italics, bold font, lists, and HTML links. If you want to get saucy, show me you can write an equation, create a table, or embed a video; however, these are not required.\n",
    "\n",
    "### What to include\n",
    "\n",
    "The basics that I want you to include in your report are:\n",
    "\n",
    "* Which one is you? (include a picture)\n",
    "* A synopsis of who you are\n",
    "* Academic Background\n",
    "* Professional Background\n",
    "* Experience with Python\n",
    "* Experience with other analytic software\n",
    "\n",
    "### Markdown references:\n",
    "\n",
    "* [Jupyter Notebook docs](https://jupyter-notebook.readthedocs.io/en/stable/examples/Notebook/Working%20With%20Markdown%20Cells.html)\n",
    "* [Markdown docs](https://daringfireball.net/projects/markdown/)\n",
    "\n",
    "### Submission\n",
    "\n",
    "With your bio complete you will need to export the report as an HTML output (File >> Download as >> HTML) and you will upload the HTML file in the lab quiz."
   ]
  },
  {
   "cell_type": "markdown",
   "metadata": {},
   "source": [
    "# Part 2: Importing data\n",
    "\n",
    "1. Import the blood_transfusion.csv file (provided via Canvas). \n",
    "\n",
    "   * Import the Pandas library with the alias `pd`.\n",
    "   * What are the dimensions of this data (number of rows and columns)?\n",
    "   * What are the data types of each column?\n",
    "   * Are there any missing values?\n",
    "   * Check out the first 10 rows? What are the `Class` values for the first 10 observations?\n",
    "   * Check out the last 10 rows? What are the `Class` values for the last 10 observations?\n",
    "   * Index for the 100th row and just the `Monetary` column. What is the value?\n",
    "   * Index for just the `Monetary` column. What is the mean of this vector?\n",
    "\n",
    "2. Go to this University of Dayton webpage http://academic.udayton.edu/kissock/http/Weather/citylistUS.htm, scroll down to Ohio and import the Cincinnati (OHCINCIN.txt) file. Tip: Modify this code to import:\n",
    "\n",
    "      ```python\n",
    "      url = \"http://enter_url_here.html\"\n",
    "      weather = pd.read_csv(url, delimiter=\"\\s+\", header=None)\n",
    "      weather.columns = ['Month', 'Day', 'Year', 'Avg_temp']\n",
    "      ```\n",
    "\n",
    "   * What are the dimensions of this data (number of rows and columns)?\n",
    "   * Are there any missing values in this data?\n",
    "   * Index for the 365th row. What is the date of this observation and what was the average temperature?\n",
    "   * Use indexing to get the first 31 days in our data frame and the `Avg_temp` column. Is the output a Series or a DataFrame. Now use the `.describe()` method on this output to compute various summary statistics such as min, max, mean, median, etc.\n",
    "\n",
    "3. Import the PDI__Police_Data_Initiative__Crime_Incidents.csv data (provided via Canvas). Data is taken from the [City of Cincinnati Open Data Portal website](https://data.cincinnati-oh.gov/safety/PDI-Police-Data-Initiative-Crime-Incidents/k59e-2pvf) (https://data.cincinnati-oh.gov/safety/PDI-Police-Data-Initiative-Crime-Incidents/k59e-2pvf), which you may need to read to place context in your answers.\n",
    "\n",
    "   * What are the dimensions of this data (number of rows and columns)?\n",
    "   * Are there any missing values in this data? If so, how many missing values are in each column? Which column has the most missing values?\n",
    "   * Index for the `DATE_REPORTED` column and apply the `.describe()` method to it. Which date has the most observations in this data set?\n",
    "   * Index for the 100th observation in this data set. What was the date of this crime? What was the offense?"
   ]
  }
 ],
 "metadata": {
  "kernelspec": {
   "display_name": "Python 3 (ipykernel)",
   "language": "python",
   "name": "python3"
  },
  "language_info": {
   "codemirror_mode": {
    "name": "ipython",
    "version": 3
   },
   "file_extension": ".py",
   "mimetype": "text/x-python",
   "name": "python",
   "nbconvert_exporter": "python",
   "pygments_lexer": "ipython3",
   "version": "3.9.12"
  },
  "vscode": {
   "interpreter": {
    "hash": "40d3a090f54c6569ab1632332b64b2c03c39dcf918b08424e98f38b5ae0af88f"
   }
  }
 },
 "nbformat": 4,
 "nbformat_minor": 4
}
