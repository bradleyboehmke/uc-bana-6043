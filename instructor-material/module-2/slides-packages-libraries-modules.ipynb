{
 "cells": [
  {
   "cell_type": "markdown",
   "metadata": {
    "slideshow": {
     "slide_type": "slide"
    }
   },
   "source": [
    "# Packages, Libraries & Modules"
   ]
  },
  {
   "cell_type": "markdown",
   "metadata": {},
   "source": [
    "<img src=\"../images/python-3rd-party-libraries.webp\" width=\"80%\" height=\"80%\">"
   ]
  },
  {
   "cell_type": "markdown",
   "metadata": {
    "slideshow": {
     "slide_type": "slide"
    },
    "tags": []
   },
   "source": [
    "## Terminology\n",
    "\n",
    "People often use the terms _\"package\"_, _\"library\"_, and _\"module\"_ synonymously."
   ]
  },
  {
   "cell_type": "markdown",
   "metadata": {
    "slideshow": {
     "slide_type": "fragment"
    },
    "tags": []
   },
   "source": [
    "A **package** generally refers to source code that is bundled up in a way that a package manager can host. \n",
    "   * [PyPI](https://pypi.org/)\n",
    "   * [Anaconda](https://anaconda.org/anaconda/repo)\n",
    "   \n",
    "When you `pip install pkg` or `conda install pkg` you are installing the `pkg` package from PyPI or Anaconda, respectively, to your computer or the server you’re working on."
   ]
  },
  {
   "cell_type": "markdown",
   "metadata": {
    "slideshow": {
     "slide_type": "fragment"
    },
    "tags": []
   },
   "source": [
    "A **library** generally refers to a centralized location on an operating system where installed package source code resides and can be imported into a current session. "
   ]
  },
  {
   "cell_type": "markdown",
   "metadata": {
    "slideshow": {
     "slide_type": "slide"
    },
    "tags": []
   },
   "source": [
    "We can always see the full list of packages installed on our operating system with `pip list` or `conda list`:"
   ]
  },
  {
   "cell_type": "code",
   "execution_count": null,
   "metadata": {},
   "outputs": [],
   "source": [
    "%pip list"
   ]
  },
  {
   "cell_type": "markdown",
   "metadata": {
    "slideshow": {
     "slide_type": "fragment"
    },
    "tags": []
   },
   "source": [
    "A **module** is the broard term used for any code you are importing from outside your current script/notebook. \n",
    "\n",
    "This may include libraries installed on your computer or it may also include stand alone .py files that you created to hold support functions for your current analysis and you want to import them into your current notebook."
   ]
  },
  {
   "cell_type": "markdown",
   "metadata": {
    "slideshow": {
     "slide_type": "slide"
    }
   },
   "source": [
    "## Importing libraries / modules"
   ]
  },
  {
   "cell_type": "markdown",
   "metadata": {
    "tags": []
   },
   "source": [
    "To use a library / module we need to first `import` it into our Python session so we have access to its functionality."
   ]
  },
  {
   "cell_type": "markdown",
   "metadata": {
    "slideshow": {
     "slide_type": "fragment"
    },
    "tags": []
   },
   "source": [
    "For example, functionality related to the operating system -- such as creating files and folders -- is stored in a package called `os`.\n",
    "\n",
    "To use the tools in `os`, we `import` the library."
   ]
  },
  {
   "cell_type": "code",
   "execution_count": 1,
   "metadata": {
    "tags": []
   },
   "outputs": [],
   "source": [
    "import os"
   ]
  },
  {
   "cell_type": "markdown",
   "metadata": {
    "slideshow": {
     "slide_type": "fragment"
    }
   },
   "source": [
    "Once we import it, we gain access to everything inside.\n",
    "With Jupyter's autocomplete, we can view what's available."
   ]
  },
  {
   "cell_type": "code",
   "execution_count": null,
   "metadata": {
    "tags": [
     "ci-skip"
    ]
   },
   "outputs": [],
   "source": [
    "# Move your cursor the end of the below line and press tab.\n",
    "os."
   ]
  },
  {
   "cell_type": "markdown",
   "metadata": {
    "slideshow": {
     "slide_type": "slide"
    },
    "tags": []
   },
   "source": [
    "## Importing options\n",
    "\n",
    "There are a few ways to use the `import` statement:"
   ]
  },
  {
   "cell_type": "code",
   "execution_count": 3,
   "metadata": {
    "slideshow": {
     "slide_type": "fragment"
    },
    "tags": []
   },
   "outputs": [
    {
     "data": {
      "text/plain": [
       "-1.0"
      ]
     },
     "execution_count": 3,
     "metadata": {},
     "output_type": "execute_result"
    }
   ],
   "source": [
    "# Preserving module namespace\n",
    "import numpy\n",
    "\n",
    "numpy.cos(numpy.pi)"
   ]
  },
  {
   "cell_type": "code",
   "execution_count": 4,
   "metadata": {
    "slideshow": {
     "slide_type": "fragment"
    },
    "tags": []
   },
   "outputs": [
    {
     "data": {
      "text/plain": [
       "-1.0"
      ]
     },
     "execution_count": 4,
     "metadata": {},
     "output_type": "execute_result"
    }
   ],
   "source": [
    "# Explicit module import by alias\n",
    "import numpy as np\n",
    "\n",
    "np.cos(np.pi)"
   ]
  },
  {
   "cell_type": "code",
   "execution_count": 7,
   "metadata": {
    "slideshow": {
     "slide_type": "fragment"
    },
    "tags": []
   },
   "outputs": [
    {
     "data": {
      "text/plain": [
       "-1.0"
      ]
     },
     "execution_count": 7,
     "metadata": {},
     "output_type": "execute_result"
    }
   ],
   "source": [
    "# Explicitly import module functions\n",
    "from numpy import cos, pi\n",
    "\n",
    "cos(pi)"
   ]
  },
  {
   "cell_type": "markdown",
   "metadata": {
    "slideshow": {
     "slide_type": "slide"
    },
    "tags": []
   },
   "source": [
    "<div class=\"admonition warning alert alert-danger\">\n",
    " <b><p class=\"first admonition-title\" style=\"font-weight: bold\">Caution!</p></b>\n",
    " <p>There is another option but we do not use it. Implicit module importing is generally frowned upon and in this class I expect you to use one of the three previous explicit importing approaches.</p>\n",
    "</div>\n",
    "\n",
    "```python\n",
    "# Don't do this!!!\n",
    "from numpy import *\n",
    "```"
   ]
  },
  {
   "cell_type": "markdown",
   "metadata": {
    "slideshow": {
     "slide_type": "slide"
    },
    "tags": []
   },
   "source": [
    "## Standard library\n",
    "\n",
    "> The Python source distribution has long maintained the philosophy of \"batteries included\" -- having a rich and versatile standard library which is immediately available, without making the user download separate packages. This gives the Python language a head start in many projects.\n",
    ">\n",
    "> \\- PEP 206"
   ]
  },
  {
   "cell_type": "markdown",
   "metadata": {
    "slideshow": {
     "slide_type": "slide"
    }
   },
   "source": [
    "Some packages, like `os`, are bundled with every Python install; downloading Python guarantees you'll have these packages.\n",
    "Collectively, this group of packages is known as the *standard library*."
   ]
  },
  {
   "cell_type": "markdown",
   "metadata": {},
   "source": [
    "<img src=\"../images/python-3rd-party-libraries.webp\" width=\"60%\" height=\"60%\">"
   ]
  },
  {
   "cell_type": "markdown",
   "metadata": {
    "slideshow": {
     "slide_type": "slide"
    },
    "tags": []
   },
   "source": [
    "Python’s standard library contains many useful built-in modules, which you can read about fully in [Python’s documentation](https://docs.python.org/3/library/). Any of these can be imported with the `import` statement, and then explored using the help function seen in the previous module. Here is an extremely incomplete list of some of the modules you might wish to explore and learn about:\n",
    "\n",
    "- `os` and `sys`: Tools for interfacing with the operating system, including navigating file directory structures and executing shell commands\n",
    "- `math` and `cmath`: Mathematical functions and operations on real and complex numbers\n",
    "- `itertools`: Tools for constructing and interacting with iterators and generators\n",
    "- `functools`: Tools that assist with functional programming\n",
    "- `random`: Tools for generating pseudorandom numbers\n",
    "- `pickle`: Tools for object persistence: saving objects to and loading objects from disk\n",
    "- `json` and `csv`: Tools for reading JSON-formatted and CSV-formatted files.\n",
    "- `urllib`: Tools for doing HTTP and other web requests.\n",
    "\n",
    "You can find information on these, and many more, in the Python standard library documentation: https://docs.python.org/3/library/."
   ]
  },
  {
   "cell_type": "markdown",
   "metadata": {
    "slideshow": {
     "slide_type": "slide"
    },
    "tags": []
   },
   "source": [
    "## Knowledge check\n",
    "\n",
    "The `random` library provides tools for generating pseudorandom numbers. If we wanted to generate a random integer between the values 0-10 as asked in the knowledge check we could do so with the following:"
   ]
  },
  {
   "cell_type": "code",
   "execution_count": 9,
   "metadata": {},
   "outputs": [
    {
     "data": {
      "text/plain": [
       "9"
      ]
     },
     "execution_count": 9,
     "metadata": {},
     "output_type": "execute_result"
    }
   ],
   "source": [
    "from random import randint\n",
    "\n",
    "randint(0, 10)"
   ]
  },
  {
   "cell_type": "markdown",
   "metadata": {
    "slideshow": {
     "slide_type": "slide"
    }
   },
   "source": [
    "## Third party packages\n",
    "\n",
    "Other packages must be downloaded separately, either because\n",
    "- they aren't sufficiently popular to merit inclusion in the standard library\n",
    "- *or* they change too quickly for the maintainers of Python to keep up\n",
    "\n",
    "<img src=\"../images/python-3rd-party-libraries.webp\" width=\"60%\" height=\"60%\">"
   ]
  },
  {
   "cell_type": "markdown",
   "metadata": {
    "slideshow": {
     "slide_type": "slide"
    }
   },
   "source": [
    "Third-party packages unlock a huge range of functionality that isn't available in native Python; much of Python's data science capabilities come from a handful of packages outside the standard library:"
   ]
  },
  {
   "cell_type": "markdown",
   "metadata": {
    "slideshow": {
     "slide_type": "fragment"
    }
   },
   "source": [
    "- pandas\n",
    "- numpy (numerical computing)\n",
    "- scikit-learn (modeling)\n",
    "- scipy (scientific computing)\n",
    "- matplotlib (graphing)"
   ]
  },
  {
   "cell_type": "markdown",
   "metadata": {
    "slideshow": {
     "slide_type": "slide"
    },
    "tags": []
   },
   "source": [
    "## Jake Vanderplas' Python Data Science Ecosystem\n",
    "\n",
    "In 2017, Jake Vanderplas (Python author, developer, and advocate) spoke at PyCon (the biggest Python conference) about the Python data science ecosystem.\n",
    "\n",
    "Notably, the diagram is arranged to show that higher-level libraries are built upon lower-level libraries -- a common development approach in open ecoystems.\n",
    "\n",
    "<center><img src=\"../images/jakevdp_ecosystem.jpg\" style=\"height:400px;\"/></center>"
   ]
  },
  {
   "cell_type": "markdown",
   "metadata": {
    "slideshow": {
     "slide_type": "slide"
    },
    "tags": []
   },
   "source": [
    "## Paco Nathan's Python Data Science Landscape\n",
    "\n",
    "More recently, Paco Nathan (data science researcher and frequent conference speaker) wrote a blog post in which he illustrated the current Python data science landscape.\n",
    "\n",
    "<center><img src=\"../images/paco_nathan_ecosystem.png\" style=\"height:500px;\"/></center>"
   ]
  },
  {
   "cell_type": "markdown",
   "metadata": {
    "slideshow": {
     "slide_type": "slide"
    },
    "tags": []
   },
   "source": [
    "## How To Keep Up\n",
    "\n",
    "Following the developments in such a full space can be daunting, but we recommend a few things:\n",
    "\n",
    "- **Subscribe to newsletters**. The [O'Reilly Data Newsletter](https://www.oreilly.com/data/newsletter.html) and [Python Weekly](https://www.pythonweekly.com) are reliably excellent.\n",
    "- **Listen to podcasts**. [Talk Python to Me](https://talkpython.fm) and [Python Bytes](https://pythonbytes.fm) are both good. While neither is data science-specific, they cover a wide range of topics and ideas.\n",
    "- **Google**! We've discovered many good packages by searching for something specific. For example, many services offer a Python package so you can interact with them programmatically. I use the [Todoist API](https://github.com/Doist/todoist-python) to automatically update my todo-list on a regular cadence."
   ]
  }
 ],
 "metadata": {
  "kernelspec": {
   "display_name": "Python 3 (ipykernel)",
   "language": "python",
   "name": "python3"
  },
  "language_info": {
   "codemirror_mode": {
    "name": "ipython",
    "version": 3
   },
   "file_extension": ".py",
   "mimetype": "text/x-python",
   "name": "python",
   "nbconvert_exporter": "python",
   "pygments_lexer": "ipython3",
   "version": "3.9.12"
  },
  "rise": {
   "autolaunch": true,
   "transition": "none"
  }
 },
 "nbformat": 4,
 "nbformat_minor": 4
}
