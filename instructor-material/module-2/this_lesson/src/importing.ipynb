{
 "cells": [
  {
   "cell_type": "code",
   "execution_count": 1,
   "id": "65383f8e-67c1-4c50-8c54-b714ca76cb4d",
   "metadata": {},
   "outputs": [],
   "source": [
    "import pandas as pd"
   ]
  },
  {
   "cell_type": "code",
   "execution_count": 3,
   "id": "cc7c3d85-e7df-43a3-a4aa-74c5ca1b0d4e",
   "metadata": {},
   "outputs": [],
   "source": [
    "planes = pd.read_csv(\"../data/planes.csv\")"
   ]
  },
  {
   "cell_type": "code",
   "execution_count": null,
   "id": "977a6e30-6ad0-4fb9-ae0a-b3107d2987dc",
   "metadata": {},
   "outputs": [],
   "source": []
  }
 ],
 "metadata": {
  "kernelspec": {
   "display_name": "Python 3 (ipykernel)",
   "language": "python",
   "name": "python3"
  },
  "language_info": {
   "codemirror_mode": {
    "name": "ipython",
    "version": 3
   },
   "file_extension": ".py",
   "mimetype": "text/x-python",
   "name": "python",
   "nbconvert_exporter": "python",
   "pygments_lexer": "ipython3",
   "version": "3.9.12"
  }
 },
 "nbformat": 4,
 "nbformat_minor": 5
}
