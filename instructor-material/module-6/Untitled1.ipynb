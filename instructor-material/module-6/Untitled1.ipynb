{
 "cells": [
  {
   "cell_type": "markdown",
   "id": "01248cb1-4985-48ea-b423-45c97c9ccb69",
   "metadata": {},
   "source": [
    "## Review\n",
    "\n",
    "```python\n",
    "# syntax of for loop\n",
    "while condition_holds:\n",
    "    <do stuff here with i>\n",
    "```"
   ]
  },
  {
   "cell_type": "code",
   "execution_count": 1,
   "id": "d6ce4222-6b95-441c-88c0-eb92f756f0fe",
   "metadata": {},
   "outputs": [
    {
     "name": "stdout",
     "output_type": "stream",
     "text": [
      "x = 1\n",
      "x = 2\n",
      "x = 3\n",
      "x = 4\n",
      "x = 5\n",
      "x = 6\n",
      "x = 7\n",
      "x = 8\n",
      "x = 9\n"
     ]
    }
   ],
   "source": [
    "x = 1\n",
    "\n",
    "while x < 10:\n",
    "    print(f'x = {x}')\n",
    "    x += 1"
   ]
  },
  {
   "cell_type": "markdown",
   "id": "aa60955a-d5ea-4da7-80a7-a14d759303da",
   "metadata": {},
   "source": [
    "## Knowledge check\n",
    "\n",
    "An elementary example of a random walk is the random walk on the integer number line, 𝑍, which starts at 0 and at each step moves +1 or −1 with equal probability.\n",
    "\n",
    "Fill in the incomplete code chunk below to perform a random walk starting at value 0, with each step either adding or subtracting 1. \n",
    "\n",
    "**Have your random walk stop if the value it exceeds 100 or if the number of steps taken exceeds 10,000.**"
   ]
  },
  {
   "cell_type": "code",
   "execution_count": 2,
   "id": "fef1ff9a-195c-4b3c-b079-83bfd946db06",
   "metadata": {},
   "outputs": [],
   "source": [
    "import random"
   ]
  },
  {
   "cell_type": "code",
   "execution_count": 10,
   "id": "d2bf2970-4ca0-4a4b-bd6a-8afe1c1251b5",
   "metadata": {},
   "outputs": [
    {
     "name": "stdout",
     "output_type": "stream",
     "text": [
      "The final value was -70 after 10000 iterations.\n"
     ]
    }
   ],
   "source": [
    "value = 0\n",
    "n_tries = 0\n",
    "\n",
    "while value < 100 and n_tries < 10000:\n",
    "    # randomly add or subtract 1\n",
    "    random_value = random.choice([-1, 1])\n",
    "    value += random_value\n",
    "\n",
    "    # add iteration to counter\n",
    "    n_tries += 1\n",
    "\n",
    "  \n",
    "print(f'The final value was {value} after {n_tries} iterations.')"
   ]
  },
  {
   "cell_type": "code",
   "execution_count": null,
   "id": "feccfb74-3ece-4430-96fc-9c9066d1f7be",
   "metadata": {},
   "outputs": [],
   "source": []
  }
 ],
 "metadata": {
  "kernelspec": {
   "display_name": "Python 3 (ipykernel)",
   "language": "python",
   "name": "python3"
  },
  "language_info": {
   "codemirror_mode": {
    "name": "ipython",
    "version": 3
   },
   "file_extension": ".py",
   "mimetype": "text/x-python",
   "name": "python",
   "nbconvert_exporter": "python",
   "pygments_lexer": "ipython3",
   "version": "3.9.12"
  }
 },
 "nbformat": 4,
 "nbformat_minor": 5
}
