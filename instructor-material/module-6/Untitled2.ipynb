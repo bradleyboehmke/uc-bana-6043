{
 "cells": [
  {
   "cell_type": "markdown",
   "id": "e9724f62-3c4e-47c9-8480-37236b57e66d",
   "metadata": {},
   "source": [
    "## Knowledge check\n",
    "\n",
    "Going back to the `ratio` function:\n",
    "\n",
    "1. Add a procdure to validate that x and y inputs are numeric and digits is an integer.\n",
    "2. Add a try and except procedure where if a TypeError is thrown for digits because it is a float then the digits value is rounded to the nearest integer and applied."
   ]
  },
  {
   "cell_type": "code",
   "execution_count": 16,
   "id": "39a28043-92a1-4e23-867b-88f571e188fd",
   "metadata": {},
   "outputs": [],
   "source": [
    "from typing import Union"
   ]
  },
  {
   "cell_type": "code",
   "execution_count": 36,
   "id": "7a51a2d7-78e1-404e-9d58-036ace6f5156",
   "metadata": {},
   "outputs": [],
   "source": [
    "def ratio(x: Union[float, int], y: Union[float, int], digits: int = 2) -> float:\n",
    "    \"\"\"Compute the ratio of two values.\n",
    "    \n",
    "    Parameters\n",
    "    ----------\n",
    "    x : float or int\n",
    "        Numeric value to be used as the numerator.\n",
    "    y : float or int\n",
    "        Numeric value to be used as he denominator.\n",
    "    digits: int\n",
    "        Decimal digits to roun the result to. Defaults\n",
    "        to 2 decimals.\n",
    "        \n",
    "    Returns\n",
    "    -------\n",
    "    float\n",
    "        Numeric value representing the ratio of x and y.\n",
    "        \n",
    "    Examples\n",
    "    --------\n",
    "    >>> ratio(1, 3)\n",
    "    0.33\n",
    "    \"\"\"\n",
    "    # validate arguments\n",
    "    if not isinstance(x, (float, int)):\n",
    "        raise Exception('`x` should be a numeric value')\n",
    "    if not isinstance(y, (float, int)):\n",
    "        raise Exception('`y` should be a numeric value')\n",
    "    \n",
    "    # execute ratio procedure\n",
    "    try:\n",
    "        result = round(x / y, digits)\n",
    "    except TypeError:\n",
    "        if isinstance(digits, float):\n",
    "            digits = int(digits)\n",
    "            result = round(x / y, digits)\n",
    "        else:\n",
    "            raise Exception('`digits` should be a numeric value')\n",
    "\n",
    "    return result"
   ]
  },
  {
   "cell_type": "code",
   "execution_count": 40,
   "id": "eec86bb4-e1f9-4bdc-af2f-85f770343dc5",
   "metadata": {},
   "outputs": [
    {
     "ename": "Exception",
     "evalue": "`digits` should be a numeric value",
     "output_type": "error",
     "traceback": [
      "\u001b[0;31m---------------------------------------------------------------------------\u001b[0m",
      "\u001b[0;31mTypeError\u001b[0m                                 Traceback (most recent call last)",
      "Input \u001b[0;32mIn [36]\u001b[0m, in \u001b[0;36mratio\u001b[0;34m(x, y, digits)\u001b[0m\n\u001b[1;32m     31\u001b[0m \u001b[38;5;28;01mtry\u001b[39;00m:\n\u001b[0;32m---> 32\u001b[0m     result \u001b[38;5;241m=\u001b[39m \u001b[38;5;28;43mround\u001b[39;49m\u001b[43m(\u001b[49m\u001b[43mx\u001b[49m\u001b[43m \u001b[49m\u001b[38;5;241;43m/\u001b[39;49m\u001b[43m \u001b[49m\u001b[43my\u001b[49m\u001b[43m,\u001b[49m\u001b[43m \u001b[49m\u001b[43mdigits\u001b[49m\u001b[43m)\u001b[49m\n\u001b[1;32m     33\u001b[0m \u001b[38;5;28;01mexcept\u001b[39;00m \u001b[38;5;167;01mTypeError\u001b[39;00m:\n",
      "\u001b[0;31mTypeError\u001b[0m: 'str' object cannot be interpreted as an integer",
      "\nDuring handling of the above exception, another exception occurred:\n",
      "\u001b[0;31mException\u001b[0m                                 Traceback (most recent call last)",
      "Input \u001b[0;32mIn [40]\u001b[0m, in \u001b[0;36m<cell line: 1>\u001b[0;34m()\u001b[0m\n\u001b[0;32m----> 1\u001b[0m \u001b[43mratio\u001b[49m\u001b[43m(\u001b[49m\u001b[38;5;241;43m1\u001b[39;49m\u001b[43m,\u001b[49m\u001b[43m \u001b[49m\u001b[38;5;241;43m3\u001b[39;49m\u001b[43m,\u001b[49m\u001b[43m \u001b[49m\u001b[43mdigits\u001b[49m\u001b[38;5;241;43m=\u001b[39;49m\u001b[38;5;124;43m'\u001b[39;49m\u001b[38;5;124;43ma\u001b[39;49m\u001b[38;5;124;43m'\u001b[39;49m\u001b[43m)\u001b[49m\n",
      "Input \u001b[0;32mIn [36]\u001b[0m, in \u001b[0;36mratio\u001b[0;34m(x, y, digits)\u001b[0m\n\u001b[1;32m     36\u001b[0m         result \u001b[38;5;241m=\u001b[39m \u001b[38;5;28mround\u001b[39m(x \u001b[38;5;241m/\u001b[39m y, digits)\n\u001b[1;32m     37\u001b[0m     \u001b[38;5;28;01melse\u001b[39;00m:\n\u001b[0;32m---> 38\u001b[0m         \u001b[38;5;28;01mraise\u001b[39;00m \u001b[38;5;167;01mException\u001b[39;00m(\u001b[38;5;124m'\u001b[39m\u001b[38;5;124m`digits` should be a numeric value\u001b[39m\u001b[38;5;124m'\u001b[39m)\n\u001b[1;32m     40\u001b[0m \u001b[38;5;28;01mreturn\u001b[39;00m result\n",
      "\u001b[0;31mException\u001b[0m: `digits` should be a numeric value"
     ]
    }
   ],
   "source": [
    "ratio(1, 3, digits='a')"
   ]
  },
  {
   "cell_type": "code",
   "execution_count": 22,
   "id": "2d05739b-03bd-4293-9ab0-0365ef2fbe6e",
   "metadata": {},
   "outputs": [
    {
     "data": {
      "text/plain": [
       "\u001b[0;31mSignature:\u001b[0m \u001b[0mratio\u001b[0m\u001b[0;34m(\u001b[0m\u001b[0mx\u001b[0m\u001b[0;34m:\u001b[0m \u001b[0mUnion\u001b[0m\u001b[0;34m[\u001b[0m\u001b[0mfloat\u001b[0m\u001b[0;34m,\u001b[0m \u001b[0mint\u001b[0m\u001b[0;34m]\u001b[0m\u001b[0;34m,\u001b[0m \u001b[0my\u001b[0m\u001b[0;34m:\u001b[0m \u001b[0mUnion\u001b[0m\u001b[0;34m[\u001b[0m\u001b[0mfloat\u001b[0m\u001b[0;34m,\u001b[0m \u001b[0mint\u001b[0m\u001b[0;34m]\u001b[0m\u001b[0;34m,\u001b[0m \u001b[0mdigits\u001b[0m\u001b[0;34m:\u001b[0m \u001b[0mint\u001b[0m \u001b[0;34m=\u001b[0m \u001b[0;36m2\u001b[0m\u001b[0;34m)\u001b[0m \u001b[0;34m->\u001b[0m \u001b[0mfloat\u001b[0m\u001b[0;34m\u001b[0m\u001b[0;34m\u001b[0m\u001b[0m\n",
       "\u001b[0;31mDocstring:\u001b[0m\n",
       "Compute the ratio of two values.\n",
       "\n",
       "Parameters\n",
       "----------\n",
       "x : float or int\n",
       "    Numeric value to be used as the numerator.\n",
       "y : float or int\n",
       "    Numeric value to be used as he denominator.\n",
       "digits: int\n",
       "    Decimal digits to roun the result to. Defaults\n",
       "    to 2 decimals.\n",
       "    \n",
       "Returns\n",
       "-------\n",
       "float\n",
       "    Numeric value representing the ratio of x and y.\n",
       "    \n",
       "Examples\n",
       "--------\n",
       ">>> ratio(1, 3)\n",
       "0.33\n",
       "\u001b[0;31mFile:\u001b[0m      /var/folders/8f/c06lv6q17tjbyjv2nkt0_s4s1sh0tg/T/ipykernel_32583/2148960421.py\n",
       "\u001b[0;31mType:\u001b[0m      function\n"
      ]
     },
     "metadata": {},
     "output_type": "display_data"
    }
   ],
   "source": [
    "?ratio"
   ]
  },
  {
   "cell_type": "code",
   "execution_count": null,
   "id": "66c70769-4618-47f5-b78c-612d81fbf3b4",
   "metadata": {},
   "outputs": [],
   "source": []
  }
 ],
 "metadata": {
  "kernelspec": {
   "display_name": "Python 3 (ipykernel)",
   "language": "python",
   "name": "python3"
  },
  "language_info": {
   "codemirror_mode": {
    "name": "ipython",
    "version": 3
   },
   "file_extension": ".py",
   "mimetype": "text/x-python",
   "name": "python",
   "nbconvert_exporter": "python",
   "pygments_lexer": "ipython3",
   "version": "3.9.12"
  }
 },
 "nbformat": 4,
 "nbformat_minor": 5
}
